{
 "cells": [
  {
   "cell_type": "code",
   "execution_count": 1,
   "metadata": {},
   "outputs": [],
   "source": [
    "#Import Tweet Dataset\n",
    "import pandas as pd\n",
    "ruok_f = 'RUOK_Combined_Location.csv'\n",
    "ruok=pd.read_csv(ruok_f)"
   ]
  },
  {
   "cell_type": "code",
   "execution_count": 2,
   "metadata": {},
   "outputs": [
    {
     "name": "stdout",
     "output_type": "stream",
     "text": [
      "(24798, 28)\n",
      "Index(['query', 'query_type', 'id', 'created_at', 'user_screen_name', 'source',\n",
      "       'lang', 'retweet_count', 'favorite_count', 'in_reply_to_screen_name',\n",
      "       'place', 'coordinates', 'user.time_zone', 'full_text', 'hashtags',\n",
      "       'user_mentions', 'in_reply_to_status_id', 'place_type', 'place_name',\n",
      "       'place_full_name', 'country_code', 'country', 'contained_within',\n",
      "       'coordinate_box', 'x_coor', 'y_coor', 'reply_count', 'level'],\n",
      "      dtype='object')\n"
     ]
    }
   ],
   "source": [
    "#check the size of the tweet dataset\n",
    "print(ruok.shape)\n",
    "#check the column name of the tweet dataset\n",
    "print(ruok.columns)"
   ]
  },
  {
   "cell_type": "code",
   "execution_count": 3,
   "metadata": {},
   "outputs": [
    {
     "data": {
      "text/plain": [
       "0    RT @ruokday: #RUOKDay2019 is Thursday 12 Septe...\n",
       "1    RT @ruokday: #RUOKDay2019 is September 12. \\xe...\n",
       "2    RT @ruokday: #RUOKDay2019 is September 12. \\xe...\n",
       "Name: full_text, dtype: object"
      ]
     },
     "execution_count": 3,
     "metadata": {},
     "output_type": "execute_result"
    }
   ],
   "source": [
    "ruok['full_text'].head(3)"
   ]
  },
  {
   "cell_type": "markdown",
   "metadata": {},
   "source": [
    "# Data Pre-processing"
   ]
  },
  {
   "cell_type": "markdown",
   "metadata": {},
   "source": [
    "1. Remove Twitter handlers & URL\n",
    "2. Remove punctuations\n",
    "3. Tokenisation\n",
    "4. Remove Stopwords\n",
    "5. Stemming"
   ]
  },
  {
   "cell_type": "code",
   "execution_count": 4,
   "metadata": {},
   "outputs": [
    {
     "name": "stderr",
     "output_type": "stream",
     "text": [
      "[nltk_data] Downloading package wordnet to\n",
      "[nltk_data]     C:\\Users\\Vincent\\AppData\\Roaming\\nltk_data...\n",
      "[nltk_data]   Package wordnet is already up-to-date!\n"
     ]
    }
   ],
   "source": [
    "import numpy as np\n",
    "import re\n",
    "import string\n",
    "import nltk \n",
    "nltk.download('wordnet')\n",
    "import warnings\n",
    "warnings.filterwarnings(\"ignore\")"
   ]
  },
  {
   "cell_type": "code",
   "execution_count": 5,
   "metadata": {},
   "outputs": [],
   "source": [
    "#remove Twitter Handles (@user)\n",
    "def remove_pattern(input_txt, pattern):\n",
    "    r = re.findall(pattern, input_txt)\n",
    "    for i in r:\n",
    "        input_txt = re.sub(i, '', input_txt)\n",
    "        \n",
    "    return input_txt  "
   ]
  },
  {
   "cell_type": "code",
   "execution_count": 6,
   "metadata": {},
   "outputs": [
    {
     "data": {
      "text/plain": [
       "0    RT : #RUOKDay2019 is Thursday 12 September. Re...\n",
       "1    RT : #RUOKDay2019 is September 12. \\xe2\\x9d\\xa...\n",
       "2    RT : #RUOKDay2019 is September 12. \\xe2\\x9d\\xa...\n",
       "Name: tidy_tweet, dtype: object"
      ]
     },
     "execution_count": 6,
     "metadata": {},
     "output_type": "execute_result"
    }
   ],
   "source": [
    "ruok['tidy_tweet'] = np.vectorize(remove_pattern)(ruok['full_text'], \"@[\\w]*\")\n",
    "ruok['tidy_tweet'].head(3)"
   ]
  },
  {
   "cell_type": "code",
   "execution_count": 7,
   "metadata": {},
   "outputs": [],
   "source": [
    "#remove url\n",
    "def remove_url(tweet):\n",
    "    \n",
    "    # remove URL\n",
    "    tweet = re.sub(r\"http\\S+\", \"\", tweet)\n",
    "    \n",
    "    return tweet"
   ]
  },
  {
   "cell_type": "code",
   "execution_count": 8,
   "metadata": {},
   "outputs": [],
   "source": [
    "ruok['tidy_tweet'] = ruok['tidy_tweet'].apply(remove_url)"
   ]
  },
  {
   "cell_type": "code",
   "execution_count": 9,
   "metadata": {},
   "outputs": [
    {
     "name": "stdout",
     "output_type": "stream",
     "text": [
      "!\"#$%&'()*+,-./:;<=>?@[\\]^_`{|}~\n"
     ]
    }
   ],
   "source": [
    "print(string.punctuation)\n",
    "#remove punctuations\n",
    "def remove_punct(text):\n",
    "    text  = \"\".join([char for char in text if char not in string.punctuation])\n",
    "    text = re.sub('[0-9]+', '', text)\n",
    "    return text"
   ]
  },
  {
   "cell_type": "code",
   "execution_count": 10,
   "metadata": {},
   "outputs": [],
   "source": [
    "ruok['tidy_tweet'] = ruok['tidy_tweet'].apply(lambda x: remove_punct(x))"
   ]
  },
  {
   "cell_type": "code",
   "execution_count": 11,
   "metadata": {},
   "outputs": [
    {
     "data": {
      "text/plain": [
       "0    RT  RUOKDay is Thursday  September Retweet thi...\n",
       "1    RT  RUOKDay is September  xexdxaxefxbxf this t...\n",
       "2    RT  RUOKDay is September  xexdxaxefxbxf this t...\n",
       "Name: tidy_tweet, dtype: object"
      ]
     },
     "execution_count": 11,
     "metadata": {},
     "output_type": "execute_result"
    }
   ],
   "source": [
    "ruok['tidy_tweet'].head(3)"
   ]
  },
  {
   "cell_type": "code",
   "execution_count": 12,
   "metadata": {},
   "outputs": [],
   "source": [
    "#tokenisation\n",
    "def tokenization(text):\n",
    "    text = re.split('\\W+', text)\n",
    "    return text"
   ]
  },
  {
   "cell_type": "code",
   "execution_count": 13,
   "metadata": {},
   "outputs": [
    {
     "data": {
      "text/plain": [
       "0    [rt, ruokday, is, thursday, september, retweet...\n",
       "1    [rt, ruokday, is, september, xexdxaxefxbxf, th...\n",
       "2    [rt, ruokday, is, september, xexdxaxefxbxf, th...\n",
       "Name: Tweet_tokenized, dtype: object"
      ]
     },
     "execution_count": 13,
     "metadata": {},
     "output_type": "execute_result"
    }
   ],
   "source": [
    "ruok['Tweet_tokenized'] = ruok['tidy_tweet'].apply(lambda x: tokenization(x.lower()))\n",
    "ruok['Tweet_tokenized'].head(3)"
   ]
  },
  {
   "cell_type": "code",
   "execution_count": 14,
   "metadata": {
    "scrolled": true
   },
   "outputs": [
    {
     "name": "stderr",
     "output_type": "stream",
     "text": [
      "[nltk_data] Downloading package stopwords to\n",
      "[nltk_data]     C:\\Users\\Vincent\\AppData\\Roaming\\nltk_data...\n",
      "[nltk_data]   Package stopwords is already up-to-date!\n"
     ]
    }
   ],
   "source": [
    "#remove stop words\n",
    "nltk.download('stopwords')\n",
    "stopword = nltk.corpus.stopwords.words('english')\n",
    "stopword.extend(['xe2','x80','xa6','b','b\\'rt','xf0','x9f','n','thi','x91','x99','wa','ha','x89','x9d','x8f','his.w',\n",
    "               'nhttp','x98','x8e','xb8','x92','xa4','x8c','xa8','x94','x9c','xa5','see','xa7','v\\'','x86','xb6','...',\n",
    "               'x90','xb7','x8d','x87','xec','x83','xa9','xb0','x89http','TRUE','x8b','x85','x88','x82','x96','x94a',\n",
    "               'x9a','xb5','x9e','xbf','xaf','xeb','xac','xed','xbc','xad','x98lover','x99m','x93','xc2','x8a','x97',\n",
    "               'xa2','x95','xb9','xbd','x81','xa1','x99re','x99re','xba','x9cthi','x99ve','xa3','x99all','xc3','xb3',\n",
    "               'x9cthe','x99ll','xaa','x9clover','x9cyou','x98new','x9c16','xef','x99t','xa0','spotify','https','x99s',\n",
    "               'nthis','htt','nhttps','co','hi','xaq','rt','also','us','go','sp','let','put','get','got','x84','ncheck',\n",
    "               'xbb','x9c','x94','x9','th','gladysb','xexdxaxefxbxf','httxexxa',\"ruoxexxa\",\n",
    "               '5v9mup3qzt','x9care','xgdvgco','x8fthis'])\n",
    "def remove_stopwords(text):\n",
    "    text = [word for word in text if word not in stopword]\n",
    "    return text"
   ]
  },
  {
   "cell_type": "code",
   "execution_count": 15,
   "metadata": {},
   "outputs": [
    {
     "data": {
      "text/plain": [
       "0    [ruokday, thursday, september, retweet, tweet,...\n",
       "1    [ruokday, september, tweet, reminder, day, inf...\n",
       "2    [ruokday, september, tweet, reminder, day, inf...\n",
       "Name: Tweet_nonstop, dtype: object"
      ]
     },
     "execution_count": 15,
     "metadata": {},
     "output_type": "execute_result"
    }
   ],
   "source": [
    "ruok['Tweet_nonstop'] = ruok['Tweet_tokenized'].apply(lambda x: remove_stopwords(x))\n",
    "ruok['Tweet_nonstop'].head(3)"
   ]
  },
  {
   "cell_type": "code",
   "execution_count": 16,
   "metadata": {},
   "outputs": [],
   "source": [
    "#stemming\n",
    "ps = nltk.PorterStemmer()\n",
    "def stemming(text):\n",
    "    text = [ps.stem(word) for word in text]\n",
    "    return text"
   ]
  },
  {
   "cell_type": "code",
   "execution_count": 17,
   "metadata": {},
   "outputs": [
    {
     "data": {
      "text/plain": [
       "0    [ruokday, thursday, septemb, retweet, tweet, r...\n",
       "1    [ruokday, septemb, tweet, remind, day, info, h...\n",
       "2    [ruokday, septemb, tweet, remind, day, info, h...\n",
       "Name: Tweet_stem, dtype: object"
      ]
     },
     "execution_count": 17,
     "metadata": {},
     "output_type": "execute_result"
    }
   ],
   "source": [
    "ruok['Tweet_stem'] = ruok['Tweet_nonstop'].apply(lambda x: stemming(x))\n",
    "ruok['Tweet_stem'].head(3)"
   ]
  },
  {
   "cell_type": "markdown",
   "metadata": {},
   "source": [
    "# Vader Sentiment"
   ]
  },
  {
   "cell_type": "code",
   "execution_count": 18,
   "metadata": {},
   "outputs": [],
   "source": [
    "#convert stemmed tweets to strings\n",
    "def list_to_string(text):\n",
    "    text = ' '.join(text)\n",
    "    return text"
   ]
  },
  {
   "cell_type": "code",
   "execution_count": 19,
   "metadata": {},
   "outputs": [
    {
     "data": {
      "text/html": [
       "<div>\n",
       "<style scoped>\n",
       "    .dataframe tbody tr th:only-of-type {\n",
       "        vertical-align: middle;\n",
       "    }\n",
       "\n",
       "    .dataframe tbody tr th {\n",
       "        vertical-align: top;\n",
       "    }\n",
       "\n",
       "    .dataframe thead th {\n",
       "        text-align: right;\n",
       "    }\n",
       "</style>\n",
       "<table border=\"1\" class=\"dataframe\">\n",
       "  <thead>\n",
       "    <tr style=\"text-align: right;\">\n",
       "      <th></th>\n",
       "      <th>Tweet_stem</th>\n",
       "      <th>Tweet_string</th>\n",
       "    </tr>\n",
       "  </thead>\n",
       "  <tbody>\n",
       "    <tr>\n",
       "      <th>0</th>\n",
       "      <td>[ruokday, thursday, septemb, retweet, tweet, r...</td>\n",
       "      <td>ruokday thursday septemb retweet tweet remind ...</td>\n",
       "    </tr>\n",
       "    <tr>\n",
       "      <th>1</th>\n",
       "      <td>[ruokday, septemb, tweet, remind, day, info, h...</td>\n",
       "      <td>ruokday septemb tweet remind day info help lea...</td>\n",
       "    </tr>\n",
       "    <tr>\n",
       "      <th>2</th>\n",
       "      <td>[ruokday, septemb, tweet, remind, day, info, h...</td>\n",
       "      <td>ruokday septemb tweet remind day info help lea...</td>\n",
       "    </tr>\n",
       "  </tbody>\n",
       "</table>\n",
       "</div>"
      ],
      "text/plain": [
       "                                          Tweet_stem  \\\n",
       "0  [ruokday, thursday, septemb, retweet, tweet, r...   \n",
       "1  [ruokday, septemb, tweet, remind, day, info, h...   \n",
       "2  [ruokday, septemb, tweet, remind, day, info, h...   \n",
       "\n",
       "                                        Tweet_string  \n",
       "0  ruokday thursday septemb retweet tweet remind ...  \n",
       "1  ruokday septemb tweet remind day info help lea...  \n",
       "2  ruokday septemb tweet remind day info help lea...  "
      ]
     },
     "execution_count": 19,
     "metadata": {},
     "output_type": "execute_result"
    }
   ],
   "source": [
    "ruok['Tweet_string'] = ruok['Tweet_stem'].apply(lambda x: list_to_string(x))\n",
    "ruok[['Tweet_stem','Tweet_string']].head(3)"
   ]
  },
  {
   "cell_type": "code",
   "execution_count": 20,
   "metadata": {},
   "outputs": [
    {
     "name": "stderr",
     "output_type": "stream",
     "text": [
      "[nltk_data] Downloading package vader_lexicon to\n",
      "[nltk_data]     C:\\Users\\Vincent\\AppData\\Roaming\\nltk_data...\n",
      "[nltk_data]   Package vader_lexicon is already up-to-date!\n"
     ]
    },
    {
     "data": {
      "text/plain": [
       "True"
      ]
     },
     "execution_count": 20,
     "metadata": {},
     "output_type": "execute_result"
    }
   ],
   "source": [
    "from nltk.sentiment.vader import SentimentIntensityAnalyzer\n",
    "import nltk\n",
    "nltk.download('vader_lexicon')"
   ]
  },
  {
   "cell_type": "code",
   "execution_count": 21,
   "metadata": {},
   "outputs": [],
   "source": [
    "#Vader sentiment analysis\n",
    "analyzer = SentimentIntensityAnalyzer()\n",
    "#Compound score between -1 (most negative) and 1 (most positive)\n",
    "ruok['sentiment_compound_polarity']=ruok.Tweet_string.apply(lambda x:analyzer.polarity_scores(x)['compound'])\n",
    "ruok['sentiment_neutral']=ruok.Tweet_string.apply(lambda x:analyzer.polarity_scores(x)['neu'])\n",
    "ruok['sentiment_negative']=ruok.Tweet_string.apply(lambda x:analyzer.polarity_scores(x)['neg'])\n",
    "ruok['sentiment_pos']=ruok.Tweet_string.apply(lambda x:analyzer.polarity_scores(x)['pos'])\n",
    "ruok['sentiment_type']=''\n",
    "#mark the sentiment type for each tweet\n",
    "ruok.loc[ruok.sentiment_compound_polarity>0,'sentiment_type']='Positive'\n",
    "ruok.loc[ruok.sentiment_compound_polarity==0,'sentiment_type']='Neutral'\n",
    "ruok.loc[ruok.sentiment_compound_polarity<0,'sentiment_type']='Negative'"
   ]
  },
  {
   "cell_type": "code",
   "execution_count": 22,
   "metadata": {},
   "outputs": [
    {
     "data": {
      "text/plain": [
       "Positive    16371\n",
       "Neutral      5059\n",
       "Negative     3368\n",
       "Name: sentiment_type, dtype: int64"
      ]
     },
     "execution_count": 22,
     "metadata": {},
     "output_type": "execute_result"
    }
   ],
   "source": [
    "ruok['sentiment_type'].value_counts()"
   ]
  },
  {
   "cell_type": "code",
   "execution_count": 23,
   "metadata": {
    "scrolled": false
   },
   "outputs": [
    {
     "data": {
      "text/html": [
       "        <script type=\"text/javascript\">\n",
       "        window.PlotlyConfig = {MathJaxConfig: 'local'};\n",
       "        if (window.MathJax) {MathJax.Hub.Config({SVG: {font: \"STIX-Web\"}});}\n",
       "        if (typeof require !== 'undefined') {\n",
       "        require.undef(\"plotly\");\n",
       "        requirejs.config({\n",
       "            paths: {\n",
       "                'plotly': ['https://cdn.plot.ly/plotly-latest.min']\n",
       "            }\n",
       "        });\n",
       "        require(['plotly'], function(Plotly) {\n",
       "            window._Plotly = Plotly;\n",
       "        });\n",
       "        }\n",
       "        </script>\n",
       "        "
      ]
     },
     "metadata": {},
     "output_type": "display_data"
    }
   ],
   "source": [
    "import plotly.graph_objs as go\n",
    "from plotly.offline import download_plotlyjs, init_notebook_mode, plot, iplot\n",
    "init_notebook_mode(connected=True)"
   ]
  },
  {
   "cell_type": "code",
   "execution_count": 24,
   "metadata": {},
   "outputs": [
    {
     "data": {
      "application/vnd.plotly.v1+json": {
       "config": {
        "plotlyServerURL": "https://plot.ly"
       },
       "data": [
        {
         "labels": [
          "Positive",
          "Neutral",
          "Negative"
         ],
         "marker": {
          "colors": [
           "blue",
           "gray",
           "red"
          ]
         },
         "type": "pie",
         "values": [
          16221,
          4987,
          3347
         ]
        }
       ],
       "layout": {
        "height": 500,
        "template": {
         "data": {
          "bar": [
           {
            "error_x": {
             "color": "#2a3f5f"
            },
            "error_y": {
             "color": "#2a3f5f"
            },
            "marker": {
             "line": {
              "color": "#E5ECF6",
              "width": 0.5
             }
            },
            "type": "bar"
           }
          ],
          "barpolar": [
           {
            "marker": {
             "line": {
              "color": "#E5ECF6",
              "width": 0.5
             }
            },
            "type": "barpolar"
           }
          ],
          "carpet": [
           {
            "aaxis": {
             "endlinecolor": "#2a3f5f",
             "gridcolor": "white",
             "linecolor": "white",
             "minorgridcolor": "white",
             "startlinecolor": "#2a3f5f"
            },
            "baxis": {
             "endlinecolor": "#2a3f5f",
             "gridcolor": "white",
             "linecolor": "white",
             "minorgridcolor": "white",
             "startlinecolor": "#2a3f5f"
            },
            "type": "carpet"
           }
          ],
          "choropleth": [
           {
            "colorbar": {
             "outlinewidth": 0,
             "ticks": ""
            },
            "type": "choropleth"
           }
          ],
          "contour": [
           {
            "colorbar": {
             "outlinewidth": 0,
             "ticks": ""
            },
            "colorscale": [
             [
              0,
              "#0d0887"
             ],
             [
              0.1111111111111111,
              "#46039f"
             ],
             [
              0.2222222222222222,
              "#7201a8"
             ],
             [
              0.3333333333333333,
              "#9c179e"
             ],
             [
              0.4444444444444444,
              "#bd3786"
             ],
             [
              0.5555555555555556,
              "#d8576b"
             ],
             [
              0.6666666666666666,
              "#ed7953"
             ],
             [
              0.7777777777777778,
              "#fb9f3a"
             ],
             [
              0.8888888888888888,
              "#fdca26"
             ],
             [
              1,
              "#f0f921"
             ]
            ],
            "type": "contour"
           }
          ],
          "contourcarpet": [
           {
            "colorbar": {
             "outlinewidth": 0,
             "ticks": ""
            },
            "type": "contourcarpet"
           }
          ],
          "heatmap": [
           {
            "colorbar": {
             "outlinewidth": 0,
             "ticks": ""
            },
            "colorscale": [
             [
              0,
              "#0d0887"
             ],
             [
              0.1111111111111111,
              "#46039f"
             ],
             [
              0.2222222222222222,
              "#7201a8"
             ],
             [
              0.3333333333333333,
              "#9c179e"
             ],
             [
              0.4444444444444444,
              "#bd3786"
             ],
             [
              0.5555555555555556,
              "#d8576b"
             ],
             [
              0.6666666666666666,
              "#ed7953"
             ],
             [
              0.7777777777777778,
              "#fb9f3a"
             ],
             [
              0.8888888888888888,
              "#fdca26"
             ],
             [
              1,
              "#f0f921"
             ]
            ],
            "type": "heatmap"
           }
          ],
          "heatmapgl": [
           {
            "colorbar": {
             "outlinewidth": 0,
             "ticks": ""
            },
            "colorscale": [
             [
              0,
              "#0d0887"
             ],
             [
              0.1111111111111111,
              "#46039f"
             ],
             [
              0.2222222222222222,
              "#7201a8"
             ],
             [
              0.3333333333333333,
              "#9c179e"
             ],
             [
              0.4444444444444444,
              "#bd3786"
             ],
             [
              0.5555555555555556,
              "#d8576b"
             ],
             [
              0.6666666666666666,
              "#ed7953"
             ],
             [
              0.7777777777777778,
              "#fb9f3a"
             ],
             [
              0.8888888888888888,
              "#fdca26"
             ],
             [
              1,
              "#f0f921"
             ]
            ],
            "type": "heatmapgl"
           }
          ],
          "histogram": [
           {
            "marker": {
             "colorbar": {
              "outlinewidth": 0,
              "ticks": ""
             }
            },
            "type": "histogram"
           }
          ],
          "histogram2d": [
           {
            "colorbar": {
             "outlinewidth": 0,
             "ticks": ""
            },
            "colorscale": [
             [
              0,
              "#0d0887"
             ],
             [
              0.1111111111111111,
              "#46039f"
             ],
             [
              0.2222222222222222,
              "#7201a8"
             ],
             [
              0.3333333333333333,
              "#9c179e"
             ],
             [
              0.4444444444444444,
              "#bd3786"
             ],
             [
              0.5555555555555556,
              "#d8576b"
             ],
             [
              0.6666666666666666,
              "#ed7953"
             ],
             [
              0.7777777777777778,
              "#fb9f3a"
             ],
             [
              0.8888888888888888,
              "#fdca26"
             ],
             [
              1,
              "#f0f921"
             ]
            ],
            "type": "histogram2d"
           }
          ],
          "histogram2dcontour": [
           {
            "colorbar": {
             "outlinewidth": 0,
             "ticks": ""
            },
            "colorscale": [
             [
              0,
              "#0d0887"
             ],
             [
              0.1111111111111111,
              "#46039f"
             ],
             [
              0.2222222222222222,
              "#7201a8"
             ],
             [
              0.3333333333333333,
              "#9c179e"
             ],
             [
              0.4444444444444444,
              "#bd3786"
             ],
             [
              0.5555555555555556,
              "#d8576b"
             ],
             [
              0.6666666666666666,
              "#ed7953"
             ],
             [
              0.7777777777777778,
              "#fb9f3a"
             ],
             [
              0.8888888888888888,
              "#fdca26"
             ],
             [
              1,
              "#f0f921"
             ]
            ],
            "type": "histogram2dcontour"
           }
          ],
          "mesh3d": [
           {
            "colorbar": {
             "outlinewidth": 0,
             "ticks": ""
            },
            "type": "mesh3d"
           }
          ],
          "parcoords": [
           {
            "line": {
             "colorbar": {
              "outlinewidth": 0,
              "ticks": ""
             }
            },
            "type": "parcoords"
           }
          ],
          "pie": [
           {
            "automargin": true,
            "type": "pie"
           }
          ],
          "scatter": [
           {
            "marker": {
             "colorbar": {
              "outlinewidth": 0,
              "ticks": ""
             }
            },
            "type": "scatter"
           }
          ],
          "scatter3d": [
           {
            "line": {
             "colorbar": {
              "outlinewidth": 0,
              "ticks": ""
             }
            },
            "marker": {
             "colorbar": {
              "outlinewidth": 0,
              "ticks": ""
             }
            },
            "type": "scatter3d"
           }
          ],
          "scattercarpet": [
           {
            "marker": {
             "colorbar": {
              "outlinewidth": 0,
              "ticks": ""
             }
            },
            "type": "scattercarpet"
           }
          ],
          "scattergeo": [
           {
            "marker": {
             "colorbar": {
              "outlinewidth": 0,
              "ticks": ""
             }
            },
            "type": "scattergeo"
           }
          ],
          "scattergl": [
           {
            "marker": {
             "colorbar": {
              "outlinewidth": 0,
              "ticks": ""
             }
            },
            "type": "scattergl"
           }
          ],
          "scattermapbox": [
           {
            "marker": {
             "colorbar": {
              "outlinewidth": 0,
              "ticks": ""
             }
            },
            "type": "scattermapbox"
           }
          ],
          "scatterpolar": [
           {
            "marker": {
             "colorbar": {
              "outlinewidth": 0,
              "ticks": ""
             }
            },
            "type": "scatterpolar"
           }
          ],
          "scatterpolargl": [
           {
            "marker": {
             "colorbar": {
              "outlinewidth": 0,
              "ticks": ""
             }
            },
            "type": "scatterpolargl"
           }
          ],
          "scatterternary": [
           {
            "marker": {
             "colorbar": {
              "outlinewidth": 0,
              "ticks": ""
             }
            },
            "type": "scatterternary"
           }
          ],
          "surface": [
           {
            "colorbar": {
             "outlinewidth": 0,
             "ticks": ""
            },
            "colorscale": [
             [
              0,
              "#0d0887"
             ],
             [
              0.1111111111111111,
              "#46039f"
             ],
             [
              0.2222222222222222,
              "#7201a8"
             ],
             [
              0.3333333333333333,
              "#9c179e"
             ],
             [
              0.4444444444444444,
              "#bd3786"
             ],
             [
              0.5555555555555556,
              "#d8576b"
             ],
             [
              0.6666666666666666,
              "#ed7953"
             ],
             [
              0.7777777777777778,
              "#fb9f3a"
             ],
             [
              0.8888888888888888,
              "#fdca26"
             ],
             [
              1,
              "#f0f921"
             ]
            ],
            "type": "surface"
           }
          ],
          "table": [
           {
            "cells": {
             "fill": {
              "color": "#EBF0F8"
             },
             "line": {
              "color": "white"
             }
            },
            "header": {
             "fill": {
              "color": "#C8D4E3"
             },
             "line": {
              "color": "white"
             }
            },
            "type": "table"
           }
          ]
         },
         "layout": {
          "annotationdefaults": {
           "arrowcolor": "#2a3f5f",
           "arrowhead": 0,
           "arrowwidth": 1
          },
          "coloraxis": {
           "colorbar": {
            "outlinewidth": 0,
            "ticks": ""
           }
          },
          "colorscale": {
           "diverging": [
            [
             0,
             "#8e0152"
            ],
            [
             0.1,
             "#c51b7d"
            ],
            [
             0.2,
             "#de77ae"
            ],
            [
             0.3,
             "#f1b6da"
            ],
            [
             0.4,
             "#fde0ef"
            ],
            [
             0.5,
             "#f7f7f7"
            ],
            [
             0.6,
             "#e6f5d0"
            ],
            [
             0.7,
             "#b8e186"
            ],
            [
             0.8,
             "#7fbc41"
            ],
            [
             0.9,
             "#4d9221"
            ],
            [
             1,
             "#276419"
            ]
           ],
           "sequential": [
            [
             0,
             "#0d0887"
            ],
            [
             0.1111111111111111,
             "#46039f"
            ],
            [
             0.2222222222222222,
             "#7201a8"
            ],
            [
             0.3333333333333333,
             "#9c179e"
            ],
            [
             0.4444444444444444,
             "#bd3786"
            ],
            [
             0.5555555555555556,
             "#d8576b"
            ],
            [
             0.6666666666666666,
             "#ed7953"
            ],
            [
             0.7777777777777778,
             "#fb9f3a"
            ],
            [
             0.8888888888888888,
             "#fdca26"
            ],
            [
             1,
             "#f0f921"
            ]
           ],
           "sequentialminus": [
            [
             0,
             "#0d0887"
            ],
            [
             0.1111111111111111,
             "#46039f"
            ],
            [
             0.2222222222222222,
             "#7201a8"
            ],
            [
             0.3333333333333333,
             "#9c179e"
            ],
            [
             0.4444444444444444,
             "#bd3786"
            ],
            [
             0.5555555555555556,
             "#d8576b"
            ],
            [
             0.6666666666666666,
             "#ed7953"
            ],
            [
             0.7777777777777778,
             "#fb9f3a"
            ],
            [
             0.8888888888888888,
             "#fdca26"
            ],
            [
             1,
             "#f0f921"
            ]
           ]
          },
          "colorway": [
           "#636efa",
           "#EF553B",
           "#00cc96",
           "#ab63fa",
           "#FFA15A",
           "#19d3f3",
           "#FF6692",
           "#B6E880",
           "#FF97FF",
           "#FECB52"
          ],
          "font": {
           "color": "#2a3f5f"
          },
          "geo": {
           "bgcolor": "white",
           "lakecolor": "white",
           "landcolor": "#E5ECF6",
           "showlakes": true,
           "showland": true,
           "subunitcolor": "white"
          },
          "hoverlabel": {
           "align": "left"
          },
          "hovermode": "closest",
          "mapbox": {
           "style": "light"
          },
          "paper_bgcolor": "white",
          "plot_bgcolor": "#E5ECF6",
          "polar": {
           "angularaxis": {
            "gridcolor": "white",
            "linecolor": "white",
            "ticks": ""
           },
           "bgcolor": "#E5ECF6",
           "radialaxis": {
            "gridcolor": "white",
            "linecolor": "white",
            "ticks": ""
           }
          },
          "scene": {
           "xaxis": {
            "backgroundcolor": "#E5ECF6",
            "gridcolor": "white",
            "gridwidth": 2,
            "linecolor": "white",
            "showbackground": true,
            "ticks": "",
            "zerolinecolor": "white"
           },
           "yaxis": {
            "backgroundcolor": "#E5ECF6",
            "gridcolor": "white",
            "gridwidth": 2,
            "linecolor": "white",
            "showbackground": true,
            "ticks": "",
            "zerolinecolor": "white"
           },
           "zaxis": {
            "backgroundcolor": "#E5ECF6",
            "gridcolor": "white",
            "gridwidth": 2,
            "linecolor": "white",
            "showbackground": true,
            "ticks": "",
            "zerolinecolor": "white"
           }
          },
          "shapedefaults": {
           "line": {
            "color": "#2a3f5f"
           }
          },
          "ternary": {
           "aaxis": {
            "gridcolor": "white",
            "linecolor": "white",
            "ticks": ""
           },
           "baxis": {
            "gridcolor": "white",
            "linecolor": "white",
            "ticks": ""
           },
           "bgcolor": "#E5ECF6",
           "caxis": {
            "gridcolor": "white",
            "linecolor": "white",
            "ticks": ""
           }
          },
          "title": {
           "x": 0.05
          },
          "xaxis": {
           "automargin": true,
           "gridcolor": "white",
           "linecolor": "white",
           "ticks": "",
           "title": {
            "standoff": 15
           },
           "zerolinecolor": "white",
           "zerolinewidth": 2
          },
          "yaxis": {
           "automargin": true,
           "gridcolor": "white",
           "linecolor": "white",
           "ticks": "",
           "title": {
            "standoff": 15
           },
           "zerolinecolor": "white",
           "zerolinewidth": 2
          }
         }
        },
        "width": 500
       }
      },
      "text/html": [
       "<div>\n",
       "        \n",
       "        \n",
       "            <div id=\"937f6f3c-c41b-4c33-8f23-9e533321cf97\" class=\"plotly-graph-div\" style=\"height:500px; width:500px;\"></div>\n",
       "            <script type=\"text/javascript\">\n",
       "                require([\"plotly\"], function(Plotly) {\n",
       "                    window.PLOTLYENV=window.PLOTLYENV || {};\n",
       "                    \n",
       "                if (document.getElementById(\"937f6f3c-c41b-4c33-8f23-9e533321cf97\")) {\n",
       "                    Plotly.newPlot(\n",
       "                        '937f6f3c-c41b-4c33-8f23-9e533321cf97',\n",
       "                        [{\"labels\": [\"Positive\", \"Neutral\", \"Negative\"], \"marker\": {\"colors\": [\"blue\", \"gray\", \"red\"]}, \"type\": \"pie\", \"values\": [16221, 4987, 3347]}],\n",
       "                        {\"height\": 500, \"template\": {\"data\": {\"bar\": [{\"error_x\": {\"color\": \"#2a3f5f\"}, \"error_y\": {\"color\": \"#2a3f5f\"}, \"marker\": {\"line\": {\"color\": \"#E5ECF6\", \"width\": 0.5}}, \"type\": \"bar\"}], \"barpolar\": [{\"marker\": {\"line\": {\"color\": \"#E5ECF6\", \"width\": 0.5}}, \"type\": \"barpolar\"}], \"carpet\": [{\"aaxis\": {\"endlinecolor\": \"#2a3f5f\", \"gridcolor\": \"white\", \"linecolor\": \"white\", \"minorgridcolor\": \"white\", \"startlinecolor\": \"#2a3f5f\"}, \"baxis\": {\"endlinecolor\": \"#2a3f5f\", \"gridcolor\": \"white\", \"linecolor\": \"white\", \"minorgridcolor\": \"white\", \"startlinecolor\": \"#2a3f5f\"}, \"type\": \"carpet\"}], \"choropleth\": [{\"colorbar\": {\"outlinewidth\": 0, \"ticks\": \"\"}, \"type\": \"choropleth\"}], \"contour\": [{\"colorbar\": {\"outlinewidth\": 0, \"ticks\": \"\"}, \"colorscale\": [[0.0, \"#0d0887\"], [0.1111111111111111, \"#46039f\"], [0.2222222222222222, \"#7201a8\"], [0.3333333333333333, \"#9c179e\"], [0.4444444444444444, \"#bd3786\"], [0.5555555555555556, \"#d8576b\"], [0.6666666666666666, \"#ed7953\"], [0.7777777777777778, \"#fb9f3a\"], [0.8888888888888888, \"#fdca26\"], [1.0, \"#f0f921\"]], \"type\": \"contour\"}], \"contourcarpet\": [{\"colorbar\": {\"outlinewidth\": 0, \"ticks\": \"\"}, \"type\": \"contourcarpet\"}], \"heatmap\": [{\"colorbar\": {\"outlinewidth\": 0, \"ticks\": \"\"}, \"colorscale\": [[0.0, \"#0d0887\"], [0.1111111111111111, \"#46039f\"], [0.2222222222222222, \"#7201a8\"], [0.3333333333333333, \"#9c179e\"], [0.4444444444444444, \"#bd3786\"], [0.5555555555555556, \"#d8576b\"], [0.6666666666666666, \"#ed7953\"], [0.7777777777777778, \"#fb9f3a\"], [0.8888888888888888, \"#fdca26\"], [1.0, \"#f0f921\"]], \"type\": \"heatmap\"}], \"heatmapgl\": [{\"colorbar\": {\"outlinewidth\": 0, \"ticks\": \"\"}, \"colorscale\": [[0.0, \"#0d0887\"], [0.1111111111111111, \"#46039f\"], [0.2222222222222222, \"#7201a8\"], [0.3333333333333333, \"#9c179e\"], [0.4444444444444444, \"#bd3786\"], [0.5555555555555556, \"#d8576b\"], [0.6666666666666666, \"#ed7953\"], [0.7777777777777778, \"#fb9f3a\"], [0.8888888888888888, \"#fdca26\"], [1.0, \"#f0f921\"]], \"type\": \"heatmapgl\"}], \"histogram\": [{\"marker\": {\"colorbar\": {\"outlinewidth\": 0, \"ticks\": \"\"}}, \"type\": \"histogram\"}], \"histogram2d\": [{\"colorbar\": {\"outlinewidth\": 0, \"ticks\": \"\"}, \"colorscale\": [[0.0, \"#0d0887\"], [0.1111111111111111, \"#46039f\"], [0.2222222222222222, \"#7201a8\"], [0.3333333333333333, \"#9c179e\"], [0.4444444444444444, \"#bd3786\"], [0.5555555555555556, \"#d8576b\"], [0.6666666666666666, \"#ed7953\"], [0.7777777777777778, \"#fb9f3a\"], [0.8888888888888888, \"#fdca26\"], [1.0, \"#f0f921\"]], \"type\": \"histogram2d\"}], \"histogram2dcontour\": [{\"colorbar\": {\"outlinewidth\": 0, \"ticks\": \"\"}, \"colorscale\": [[0.0, \"#0d0887\"], [0.1111111111111111, \"#46039f\"], [0.2222222222222222, \"#7201a8\"], [0.3333333333333333, \"#9c179e\"], [0.4444444444444444, \"#bd3786\"], [0.5555555555555556, \"#d8576b\"], [0.6666666666666666, \"#ed7953\"], [0.7777777777777778, \"#fb9f3a\"], [0.8888888888888888, \"#fdca26\"], [1.0, \"#f0f921\"]], \"type\": \"histogram2dcontour\"}], \"mesh3d\": [{\"colorbar\": {\"outlinewidth\": 0, \"ticks\": \"\"}, \"type\": \"mesh3d\"}], \"parcoords\": [{\"line\": {\"colorbar\": {\"outlinewidth\": 0, \"ticks\": \"\"}}, \"type\": \"parcoords\"}], \"pie\": [{\"automargin\": true, \"type\": \"pie\"}], \"scatter\": [{\"marker\": {\"colorbar\": {\"outlinewidth\": 0, \"ticks\": \"\"}}, \"type\": \"scatter\"}], \"scatter3d\": [{\"line\": {\"colorbar\": {\"outlinewidth\": 0, \"ticks\": \"\"}}, \"marker\": {\"colorbar\": {\"outlinewidth\": 0, \"ticks\": \"\"}}, \"type\": \"scatter3d\"}], \"scattercarpet\": [{\"marker\": {\"colorbar\": {\"outlinewidth\": 0, \"ticks\": \"\"}}, \"type\": \"scattercarpet\"}], \"scattergeo\": [{\"marker\": {\"colorbar\": {\"outlinewidth\": 0, \"ticks\": \"\"}}, \"type\": \"scattergeo\"}], \"scattergl\": [{\"marker\": {\"colorbar\": {\"outlinewidth\": 0, \"ticks\": \"\"}}, \"type\": \"scattergl\"}], \"scattermapbox\": [{\"marker\": {\"colorbar\": {\"outlinewidth\": 0, \"ticks\": \"\"}}, \"type\": \"scattermapbox\"}], \"scatterpolar\": [{\"marker\": {\"colorbar\": {\"outlinewidth\": 0, \"ticks\": \"\"}}, \"type\": \"scatterpolar\"}], \"scatterpolargl\": [{\"marker\": {\"colorbar\": {\"outlinewidth\": 0, \"ticks\": \"\"}}, \"type\": \"scatterpolargl\"}], \"scatterternary\": [{\"marker\": {\"colorbar\": {\"outlinewidth\": 0, \"ticks\": \"\"}}, \"type\": \"scatterternary\"}], \"surface\": [{\"colorbar\": {\"outlinewidth\": 0, \"ticks\": \"\"}, \"colorscale\": [[0.0, \"#0d0887\"], [0.1111111111111111, \"#46039f\"], [0.2222222222222222, \"#7201a8\"], [0.3333333333333333, \"#9c179e\"], [0.4444444444444444, \"#bd3786\"], [0.5555555555555556, \"#d8576b\"], [0.6666666666666666, \"#ed7953\"], [0.7777777777777778, \"#fb9f3a\"], [0.8888888888888888, \"#fdca26\"], [1.0, \"#f0f921\"]], \"type\": \"surface\"}], \"table\": [{\"cells\": {\"fill\": {\"color\": \"#EBF0F8\"}, \"line\": {\"color\": \"white\"}}, \"header\": {\"fill\": {\"color\": \"#C8D4E3\"}, \"line\": {\"color\": \"white\"}}, \"type\": \"table\"}]}, \"layout\": {\"annotationdefaults\": {\"arrowcolor\": \"#2a3f5f\", \"arrowhead\": 0, \"arrowwidth\": 1}, \"coloraxis\": {\"colorbar\": {\"outlinewidth\": 0, \"ticks\": \"\"}}, \"colorscale\": {\"diverging\": [[0, \"#8e0152\"], [0.1, \"#c51b7d\"], [0.2, \"#de77ae\"], [0.3, \"#f1b6da\"], [0.4, \"#fde0ef\"], [0.5, \"#f7f7f7\"], [0.6, \"#e6f5d0\"], [0.7, \"#b8e186\"], [0.8, \"#7fbc41\"], [0.9, \"#4d9221\"], [1, \"#276419\"]], \"sequential\": [[0.0, \"#0d0887\"], [0.1111111111111111, \"#46039f\"], [0.2222222222222222, \"#7201a8\"], [0.3333333333333333, \"#9c179e\"], [0.4444444444444444, \"#bd3786\"], [0.5555555555555556, \"#d8576b\"], [0.6666666666666666, \"#ed7953\"], [0.7777777777777778, \"#fb9f3a\"], [0.8888888888888888, \"#fdca26\"], [1.0, \"#f0f921\"]], \"sequentialminus\": [[0.0, \"#0d0887\"], [0.1111111111111111, \"#46039f\"], [0.2222222222222222, \"#7201a8\"], [0.3333333333333333, \"#9c179e\"], [0.4444444444444444, \"#bd3786\"], [0.5555555555555556, \"#d8576b\"], [0.6666666666666666, \"#ed7953\"], [0.7777777777777778, \"#fb9f3a\"], [0.8888888888888888, \"#fdca26\"], [1.0, \"#f0f921\"]]}, \"colorway\": [\"#636efa\", \"#EF553B\", \"#00cc96\", \"#ab63fa\", \"#FFA15A\", \"#19d3f3\", \"#FF6692\", \"#B6E880\", \"#FF97FF\", \"#FECB52\"], \"font\": {\"color\": \"#2a3f5f\"}, \"geo\": {\"bgcolor\": \"white\", \"lakecolor\": \"white\", \"landcolor\": \"#E5ECF6\", \"showlakes\": true, \"showland\": true, \"subunitcolor\": \"white\"}, \"hoverlabel\": {\"align\": \"left\"}, \"hovermode\": \"closest\", \"mapbox\": {\"style\": \"light\"}, \"paper_bgcolor\": \"white\", \"plot_bgcolor\": \"#E5ECF6\", \"polar\": {\"angularaxis\": {\"gridcolor\": \"white\", \"linecolor\": \"white\", \"ticks\": \"\"}, \"bgcolor\": \"#E5ECF6\", \"radialaxis\": {\"gridcolor\": \"white\", \"linecolor\": \"white\", \"ticks\": \"\"}}, \"scene\": {\"xaxis\": {\"backgroundcolor\": \"#E5ECF6\", \"gridcolor\": \"white\", \"gridwidth\": 2, \"linecolor\": \"white\", \"showbackground\": true, \"ticks\": \"\", \"zerolinecolor\": \"white\"}, \"yaxis\": {\"backgroundcolor\": \"#E5ECF6\", \"gridcolor\": \"white\", \"gridwidth\": 2, \"linecolor\": \"white\", \"showbackground\": true, \"ticks\": \"\", \"zerolinecolor\": \"white\"}, \"zaxis\": {\"backgroundcolor\": \"#E5ECF6\", \"gridcolor\": \"white\", \"gridwidth\": 2, \"linecolor\": \"white\", \"showbackground\": true, \"ticks\": \"\", \"zerolinecolor\": \"white\"}}, \"shapedefaults\": {\"line\": {\"color\": \"#2a3f5f\"}}, \"ternary\": {\"aaxis\": {\"gridcolor\": \"white\", \"linecolor\": \"white\", \"ticks\": \"\"}, \"baxis\": {\"gridcolor\": \"white\", \"linecolor\": \"white\", \"ticks\": \"\"}, \"bgcolor\": \"#E5ECF6\", \"caxis\": {\"gridcolor\": \"white\", \"linecolor\": \"white\", \"ticks\": \"\"}}, \"title\": {\"x\": 0.05}, \"xaxis\": {\"automargin\": true, \"gridcolor\": \"white\", \"linecolor\": \"white\", \"ticks\": \"\", \"title\": {\"standoff\": 15}, \"zerolinecolor\": \"white\", \"zerolinewidth\": 2}, \"yaxis\": {\"automargin\": true, \"gridcolor\": \"white\", \"linecolor\": \"white\", \"ticks\": \"\", \"title\": {\"standoff\": 15}, \"zerolinecolor\": \"white\", \"zerolinewidth\": 2}}}, \"width\": 500},\n",
       "                        {\"responsive\": true}\n",
       "                    ).then(function(){\n",
       "                            \n",
       "var gd = document.getElementById('937f6f3c-c41b-4c33-8f23-9e533321cf97');\n",
       "var x = new MutationObserver(function (mutations, observer) {{\n",
       "        var display = window.getComputedStyle(gd).display;\n",
       "        if (!display || display === 'none') {{\n",
       "            console.log([gd, 'removed!']);\n",
       "            Plotly.purge(gd);\n",
       "            observer.disconnect();\n",
       "        }}\n",
       "}});\n",
       "\n",
       "// Listen for the removal of the full notebook cells\n",
       "var notebookContainer = gd.closest('#notebook-container');\n",
       "if (notebookContainer) {{\n",
       "    x.observe(notebookContainer, {childList: true});\n",
       "}}\n",
       "\n",
       "// Listen for the clearing of the current output cell\n",
       "var outputEl = gd.closest('.output');\n",
       "if (outputEl) {{\n",
       "    x.observe(outputEl, {childList: true});\n",
       "}}\n",
       "\n",
       "                        })\n",
       "                };\n",
       "                });\n",
       "            </script>\n",
       "        </div>"
      ]
     },
     "metadata": {},
     "output_type": "display_data"
    }
   ],
   "source": [
    "#pie chart\n",
    "labels = ['Positive', 'Neutral', 'Negative']\n",
    "colors = ['blue', 'gray', 'red']\n",
    "values = [16221,4987,3347]\n",
    "fig = go.Figure(data=[go.Pie(labels=labels, values=values)])\n",
    "fig.update_traces(marker=dict(colors=colors))\n",
    "fig.update_layout(height=500,width=500)\n",
    "fig.show()"
   ]
  },
  {
   "cell_type": "code",
   "execution_count": 25,
   "metadata": {},
   "outputs": [],
   "source": [
    "#convert to the date format\n",
    "ruok['created_at'] = pd.to_datetime(ruok['created_at'])\n",
    "#keep only the date\n",
    "ruok['created_at_date'] = ruok['created_at'].dt.date\n",
    "#keep only the hour\n",
    "ruok['created_at_hour'] = ruok['created_at'].dt.hour"
   ]
  },
  {
   "cell_type": "code",
   "execution_count": 26,
   "metadata": {},
   "outputs": [],
   "source": [
    "#Mean compound polarity by date\n",
    "senti_date= ruok[['created_at_date','sentiment_compound_polarity']]\n",
    "senti_date = senti_date.groupby(\"created_at_date\",as_index=True).sentiment_compound_polarity.mean()\n",
    "#print(senti_date)"
   ]
  },
  {
   "cell_type": "code",
   "execution_count": 27,
   "metadata": {},
   "outputs": [],
   "source": [
    "# Mean compound polarity by hour\n",
    "senti_hour = ruok[['created_at_hour','sentiment_compound_polarity']]\n",
    "senti_hour = senti_hour.groupby(\"created_at_hour\",as_index=True).sentiment_compound_polarity.mean()\n",
    "#print(senti_hour)"
   ]
  },
  {
   "cell_type": "code",
   "execution_count": 28,
   "metadata": {},
   "outputs": [
    {
     "data": {
      "application/vnd.plotly.v1+json": {
       "config": {
        "plotlyServerURL": "https://plot.ly"
       },
       "data": [
        {
         "mode": "lines+markers",
         "name": "citations",
         "type": "scatter",
         "x": [
          "2019-09-03",
          "2019-09-04",
          "2019-09-05",
          "2019-09-06",
          "2019-09-07",
          "2019-09-08",
          "2019-09-09",
          "2019-09-10",
          "2019-09-11",
          "2019-09-12",
          "2019-09-13",
          "2019-09-14",
          "2019-09-15",
          "2019-09-16",
          "2019-09-17",
          "2019-09-18",
          "2019-09-19",
          "2019-09-20",
          "2019-09-21",
          "2019-09-22",
          "2019-09-23",
          "2019-09-24",
          "2019-09-25",
          "2019-09-26",
          "2019-09-27",
          "2019-09-28",
          "2019-09-29",
          "2019-09-30",
          "2019-10-01",
          "2019-10-02",
          "2019-10-03",
          "2019-10-04",
          "2019-10-05"
         ],
         "xaxis": "x",
         "y": [
          0.61675,
          0.4447207207207205,
          0.42772879310344686,
          0.41601797235023014,
          0.35805477178423195,
          0.4349926724137925,
          0.2990237516869102,
          0.24615602322206245,
          0.36862992432432284,
          0.2758409650021901,
          0.16307100840336133,
          0.20303369175627217,
          0.25959273743016725,
          0.09036878612716763,
          0.23164563106796132,
          0.4066885714285708,
          0.4354524752475247,
          0.21698770949720647,
          0.29628000000000004,
          0.3401058823529412,
          0.09208857142857144,
          0.0603235294117647,
          0.05020746268656721,
          0.28066938775510203,
          0.1433020408163265,
          0.20255185185185184,
          0.18020833333333333,
          0.2819891891891892,
          0.18159591836734695,
          0.3008344827586207,
          0.1807791666666668,
          0.26919999999999994,
          0.002855555555555537
         ],
         "yaxis": "y"
        },
        {
         "mode": "lines+markers",
         "name": "citations",
         "type": "scatter",
         "x": [
          0,
          1,
          2,
          3,
          4,
          5,
          6,
          7,
          8,
          9,
          10,
          11,
          12,
          13,
          14,
          15,
          16,
          17,
          18,
          19,
          20,
          21,
          22,
          23
         ],
         "xaxis": "x2",
         "y": [
          0.32266317512275056,
          0.29103349619978336,
          0.29670614355231206,
          0.2837798283261805,
          0.28822257438551135,
          0.2760011716057891,
          0.33852914046121496,
          0.28861991935483866,
          0.259036470588235,
          0.252882597173145,
          0.2654454000000008,
          0.2715604550379201,
          0.2741546321525887,
          0.1756892988929887,
          0.20035100222717114,
          0.1862970037453182,
          0.10464595744680857,
          0.19216081871345037,
          0.10436282722513095,
          0.19762754237288122,
          0.3101780973451325,
          0.36545267605634046,
          0.34265576496674205,
          0.34263184965380794
         ],
         "yaxis": "y2"
        }
       ],
       "layout": {
        "height": 500,
        "shapes": [
         {
          "layer": "above",
          "line": {
           "color": "RoyalBlue",
           "dash": "dot",
           "width": 3
          },
          "type": "line",
          "x0": "2019-09-12",
          "x1": "2019-09-12",
          "y0": -0.1,
          "y1": 0.65
         }
        ],
        "showlegend": false,
        "template": {
         "data": {
          "bar": [
           {
            "error_x": {
             "color": "#2a3f5f"
            },
            "error_y": {
             "color": "#2a3f5f"
            },
            "marker": {
             "line": {
              "color": "#E5ECF6",
              "width": 0.5
             }
            },
            "type": "bar"
           }
          ],
          "barpolar": [
           {
            "marker": {
             "line": {
              "color": "#E5ECF6",
              "width": 0.5
             }
            },
            "type": "barpolar"
           }
          ],
          "carpet": [
           {
            "aaxis": {
             "endlinecolor": "#2a3f5f",
             "gridcolor": "white",
             "linecolor": "white",
             "minorgridcolor": "white",
             "startlinecolor": "#2a3f5f"
            },
            "baxis": {
             "endlinecolor": "#2a3f5f",
             "gridcolor": "white",
             "linecolor": "white",
             "minorgridcolor": "white",
             "startlinecolor": "#2a3f5f"
            },
            "type": "carpet"
           }
          ],
          "choropleth": [
           {
            "colorbar": {
             "outlinewidth": 0,
             "ticks": ""
            },
            "type": "choropleth"
           }
          ],
          "contour": [
           {
            "colorbar": {
             "outlinewidth": 0,
             "ticks": ""
            },
            "colorscale": [
             [
              0,
              "#0d0887"
             ],
             [
              0.1111111111111111,
              "#46039f"
             ],
             [
              0.2222222222222222,
              "#7201a8"
             ],
             [
              0.3333333333333333,
              "#9c179e"
             ],
             [
              0.4444444444444444,
              "#bd3786"
             ],
             [
              0.5555555555555556,
              "#d8576b"
             ],
             [
              0.6666666666666666,
              "#ed7953"
             ],
             [
              0.7777777777777778,
              "#fb9f3a"
             ],
             [
              0.8888888888888888,
              "#fdca26"
             ],
             [
              1,
              "#f0f921"
             ]
            ],
            "type": "contour"
           }
          ],
          "contourcarpet": [
           {
            "colorbar": {
             "outlinewidth": 0,
             "ticks": ""
            },
            "type": "contourcarpet"
           }
          ],
          "heatmap": [
           {
            "colorbar": {
             "outlinewidth": 0,
             "ticks": ""
            },
            "colorscale": [
             [
              0,
              "#0d0887"
             ],
             [
              0.1111111111111111,
              "#46039f"
             ],
             [
              0.2222222222222222,
              "#7201a8"
             ],
             [
              0.3333333333333333,
              "#9c179e"
             ],
             [
              0.4444444444444444,
              "#bd3786"
             ],
             [
              0.5555555555555556,
              "#d8576b"
             ],
             [
              0.6666666666666666,
              "#ed7953"
             ],
             [
              0.7777777777777778,
              "#fb9f3a"
             ],
             [
              0.8888888888888888,
              "#fdca26"
             ],
             [
              1,
              "#f0f921"
             ]
            ],
            "type": "heatmap"
           }
          ],
          "heatmapgl": [
           {
            "colorbar": {
             "outlinewidth": 0,
             "ticks": ""
            },
            "colorscale": [
             [
              0,
              "#0d0887"
             ],
             [
              0.1111111111111111,
              "#46039f"
             ],
             [
              0.2222222222222222,
              "#7201a8"
             ],
             [
              0.3333333333333333,
              "#9c179e"
             ],
             [
              0.4444444444444444,
              "#bd3786"
             ],
             [
              0.5555555555555556,
              "#d8576b"
             ],
             [
              0.6666666666666666,
              "#ed7953"
             ],
             [
              0.7777777777777778,
              "#fb9f3a"
             ],
             [
              0.8888888888888888,
              "#fdca26"
             ],
             [
              1,
              "#f0f921"
             ]
            ],
            "type": "heatmapgl"
           }
          ],
          "histogram": [
           {
            "marker": {
             "colorbar": {
              "outlinewidth": 0,
              "ticks": ""
             }
            },
            "type": "histogram"
           }
          ],
          "histogram2d": [
           {
            "colorbar": {
             "outlinewidth": 0,
             "ticks": ""
            },
            "colorscale": [
             [
              0,
              "#0d0887"
             ],
             [
              0.1111111111111111,
              "#46039f"
             ],
             [
              0.2222222222222222,
              "#7201a8"
             ],
             [
              0.3333333333333333,
              "#9c179e"
             ],
             [
              0.4444444444444444,
              "#bd3786"
             ],
             [
              0.5555555555555556,
              "#d8576b"
             ],
             [
              0.6666666666666666,
              "#ed7953"
             ],
             [
              0.7777777777777778,
              "#fb9f3a"
             ],
             [
              0.8888888888888888,
              "#fdca26"
             ],
             [
              1,
              "#f0f921"
             ]
            ],
            "type": "histogram2d"
           }
          ],
          "histogram2dcontour": [
           {
            "colorbar": {
             "outlinewidth": 0,
             "ticks": ""
            },
            "colorscale": [
             [
              0,
              "#0d0887"
             ],
             [
              0.1111111111111111,
              "#46039f"
             ],
             [
              0.2222222222222222,
              "#7201a8"
             ],
             [
              0.3333333333333333,
              "#9c179e"
             ],
             [
              0.4444444444444444,
              "#bd3786"
             ],
             [
              0.5555555555555556,
              "#d8576b"
             ],
             [
              0.6666666666666666,
              "#ed7953"
             ],
             [
              0.7777777777777778,
              "#fb9f3a"
             ],
             [
              0.8888888888888888,
              "#fdca26"
             ],
             [
              1,
              "#f0f921"
             ]
            ],
            "type": "histogram2dcontour"
           }
          ],
          "mesh3d": [
           {
            "colorbar": {
             "outlinewidth": 0,
             "ticks": ""
            },
            "type": "mesh3d"
           }
          ],
          "parcoords": [
           {
            "line": {
             "colorbar": {
              "outlinewidth": 0,
              "ticks": ""
             }
            },
            "type": "parcoords"
           }
          ],
          "pie": [
           {
            "automargin": true,
            "type": "pie"
           }
          ],
          "scatter": [
           {
            "marker": {
             "colorbar": {
              "outlinewidth": 0,
              "ticks": ""
             }
            },
            "type": "scatter"
           }
          ],
          "scatter3d": [
           {
            "line": {
             "colorbar": {
              "outlinewidth": 0,
              "ticks": ""
             }
            },
            "marker": {
             "colorbar": {
              "outlinewidth": 0,
              "ticks": ""
             }
            },
            "type": "scatter3d"
           }
          ],
          "scattercarpet": [
           {
            "marker": {
             "colorbar": {
              "outlinewidth": 0,
              "ticks": ""
             }
            },
            "type": "scattercarpet"
           }
          ],
          "scattergeo": [
           {
            "marker": {
             "colorbar": {
              "outlinewidth": 0,
              "ticks": ""
             }
            },
            "type": "scattergeo"
           }
          ],
          "scattergl": [
           {
            "marker": {
             "colorbar": {
              "outlinewidth": 0,
              "ticks": ""
             }
            },
            "type": "scattergl"
           }
          ],
          "scattermapbox": [
           {
            "marker": {
             "colorbar": {
              "outlinewidth": 0,
              "ticks": ""
             }
            },
            "type": "scattermapbox"
           }
          ],
          "scatterpolar": [
           {
            "marker": {
             "colorbar": {
              "outlinewidth": 0,
              "ticks": ""
             }
            },
            "type": "scatterpolar"
           }
          ],
          "scatterpolargl": [
           {
            "marker": {
             "colorbar": {
              "outlinewidth": 0,
              "ticks": ""
             }
            },
            "type": "scatterpolargl"
           }
          ],
          "scatterternary": [
           {
            "marker": {
             "colorbar": {
              "outlinewidth": 0,
              "ticks": ""
             }
            },
            "type": "scatterternary"
           }
          ],
          "surface": [
           {
            "colorbar": {
             "outlinewidth": 0,
             "ticks": ""
            },
            "colorscale": [
             [
              0,
              "#0d0887"
             ],
             [
              0.1111111111111111,
              "#46039f"
             ],
             [
              0.2222222222222222,
              "#7201a8"
             ],
             [
              0.3333333333333333,
              "#9c179e"
             ],
             [
              0.4444444444444444,
              "#bd3786"
             ],
             [
              0.5555555555555556,
              "#d8576b"
             ],
             [
              0.6666666666666666,
              "#ed7953"
             ],
             [
              0.7777777777777778,
              "#fb9f3a"
             ],
             [
              0.8888888888888888,
              "#fdca26"
             ],
             [
              1,
              "#f0f921"
             ]
            ],
            "type": "surface"
           }
          ],
          "table": [
           {
            "cells": {
             "fill": {
              "color": "#EBF0F8"
             },
             "line": {
              "color": "white"
             }
            },
            "header": {
             "fill": {
              "color": "#C8D4E3"
             },
             "line": {
              "color": "white"
             }
            },
            "type": "table"
           }
          ]
         },
         "layout": {
          "annotationdefaults": {
           "arrowcolor": "#2a3f5f",
           "arrowhead": 0,
           "arrowwidth": 1
          },
          "coloraxis": {
           "colorbar": {
            "outlinewidth": 0,
            "ticks": ""
           }
          },
          "colorscale": {
           "diverging": [
            [
             0,
             "#8e0152"
            ],
            [
             0.1,
             "#c51b7d"
            ],
            [
             0.2,
             "#de77ae"
            ],
            [
             0.3,
             "#f1b6da"
            ],
            [
             0.4,
             "#fde0ef"
            ],
            [
             0.5,
             "#f7f7f7"
            ],
            [
             0.6,
             "#e6f5d0"
            ],
            [
             0.7,
             "#b8e186"
            ],
            [
             0.8,
             "#7fbc41"
            ],
            [
             0.9,
             "#4d9221"
            ],
            [
             1,
             "#276419"
            ]
           ],
           "sequential": [
            [
             0,
             "#0d0887"
            ],
            [
             0.1111111111111111,
             "#46039f"
            ],
            [
             0.2222222222222222,
             "#7201a8"
            ],
            [
             0.3333333333333333,
             "#9c179e"
            ],
            [
             0.4444444444444444,
             "#bd3786"
            ],
            [
             0.5555555555555556,
             "#d8576b"
            ],
            [
             0.6666666666666666,
             "#ed7953"
            ],
            [
             0.7777777777777778,
             "#fb9f3a"
            ],
            [
             0.8888888888888888,
             "#fdca26"
            ],
            [
             1,
             "#f0f921"
            ]
           ],
           "sequentialminus": [
            [
             0,
             "#0d0887"
            ],
            [
             0.1111111111111111,
             "#46039f"
            ],
            [
             0.2222222222222222,
             "#7201a8"
            ],
            [
             0.3333333333333333,
             "#9c179e"
            ],
            [
             0.4444444444444444,
             "#bd3786"
            ],
            [
             0.5555555555555556,
             "#d8576b"
            ],
            [
             0.6666666666666666,
             "#ed7953"
            ],
            [
             0.7777777777777778,
             "#fb9f3a"
            ],
            [
             0.8888888888888888,
             "#fdca26"
            ],
            [
             1,
             "#f0f921"
            ]
           ]
          },
          "colorway": [
           "#636efa",
           "#EF553B",
           "#00cc96",
           "#ab63fa",
           "#FFA15A",
           "#19d3f3",
           "#FF6692",
           "#B6E880",
           "#FF97FF",
           "#FECB52"
          ],
          "font": {
           "color": "#2a3f5f"
          },
          "geo": {
           "bgcolor": "white",
           "lakecolor": "white",
           "landcolor": "#E5ECF6",
           "showlakes": true,
           "showland": true,
           "subunitcolor": "white"
          },
          "hoverlabel": {
           "align": "left"
          },
          "hovermode": "closest",
          "mapbox": {
           "style": "light"
          },
          "paper_bgcolor": "white",
          "plot_bgcolor": "#E5ECF6",
          "polar": {
           "angularaxis": {
            "gridcolor": "white",
            "linecolor": "white",
            "ticks": ""
           },
           "bgcolor": "#E5ECF6",
           "radialaxis": {
            "gridcolor": "white",
            "linecolor": "white",
            "ticks": ""
           }
          },
          "scene": {
           "xaxis": {
            "backgroundcolor": "#E5ECF6",
            "gridcolor": "white",
            "gridwidth": 2,
            "linecolor": "white",
            "showbackground": true,
            "ticks": "",
            "zerolinecolor": "white"
           },
           "yaxis": {
            "backgroundcolor": "#E5ECF6",
            "gridcolor": "white",
            "gridwidth": 2,
            "linecolor": "white",
            "showbackground": true,
            "ticks": "",
            "zerolinecolor": "white"
           },
           "zaxis": {
            "backgroundcolor": "#E5ECF6",
            "gridcolor": "white",
            "gridwidth": 2,
            "linecolor": "white",
            "showbackground": true,
            "ticks": "",
            "zerolinecolor": "white"
           }
          },
          "shapedefaults": {
           "line": {
            "color": "#2a3f5f"
           }
          },
          "ternary": {
           "aaxis": {
            "gridcolor": "white",
            "linecolor": "white",
            "ticks": ""
           },
           "baxis": {
            "gridcolor": "white",
            "linecolor": "white",
            "ticks": ""
           },
           "bgcolor": "#E5ECF6",
           "caxis": {
            "gridcolor": "white",
            "linecolor": "white",
            "ticks": ""
           }
          },
          "title": {
           "x": 0.05
          },
          "xaxis": {
           "automargin": true,
           "gridcolor": "white",
           "linecolor": "white",
           "ticks": "",
           "title": {
            "standoff": 15
           },
           "zerolinecolor": "white",
           "zerolinewidth": 2
          },
          "yaxis": {
           "automargin": true,
           "gridcolor": "white",
           "linecolor": "white",
           "ticks": "",
           "title": {
            "standoff": 15
           },
           "zerolinecolor": "white",
           "zerolinewidth": 2
          }
         }
        },
        "width": 1000,
        "xaxis": {
         "anchor": "y",
         "domain": [
          0,
          0.45
         ],
         "range": [
          "2019-09-02",
          "2019-10-06"
         ],
         "title": {
          "text": "Date"
         }
        },
        "xaxis2": {
         "anchor": "y2",
         "domain": [
          0.55,
          1
         ],
         "range": [
          -0.5,
          24
         ],
         "title": {
          "text": "Hour"
         }
        },
        "yaxis": {
         "anchor": "x",
         "domain": [
          0,
          1
         ],
         "range": [
          -0.1,
          0.65
         ],
         "title": {
          "text": "Average Compound Scores"
         }
        },
        "yaxis2": {
         "anchor": "x2",
         "domain": [
          0,
          1
         ],
         "range": [
          -0.1,
          0.65
         ]
        }
       }
      },
      "text/html": [
       "<div>\n",
       "        \n",
       "        \n",
       "            <div id=\"322b2c70-1f87-4340-90c9-a13d565bd3ec\" class=\"plotly-graph-div\" style=\"height:500px; width:1000px;\"></div>\n",
       "            <script type=\"text/javascript\">\n",
       "                require([\"plotly\"], function(Plotly) {\n",
       "                    window.PLOTLYENV=window.PLOTLYENV || {};\n",
       "                    \n",
       "                if (document.getElementById(\"322b2c70-1f87-4340-90c9-a13d565bd3ec\")) {\n",
       "                    Plotly.newPlot(\n",
       "                        '322b2c70-1f87-4340-90c9-a13d565bd3ec',\n",
       "                        [{\"mode\": \"lines+markers\", \"name\": \"citations\", \"type\": \"scatter\", \"x\": [\"2019-09-03\", \"2019-09-04\", \"2019-09-05\", \"2019-09-06\", \"2019-09-07\", \"2019-09-08\", \"2019-09-09\", \"2019-09-10\", \"2019-09-11\", \"2019-09-12\", \"2019-09-13\", \"2019-09-14\", \"2019-09-15\", \"2019-09-16\", \"2019-09-17\", \"2019-09-18\", \"2019-09-19\", \"2019-09-20\", \"2019-09-21\", \"2019-09-22\", \"2019-09-23\", \"2019-09-24\", \"2019-09-25\", \"2019-09-26\", \"2019-09-27\", \"2019-09-28\", \"2019-09-29\", \"2019-09-30\", \"2019-10-01\", \"2019-10-02\", \"2019-10-03\", \"2019-10-04\", \"2019-10-05\"], \"xaxis\": \"x\", \"y\": [0.61675, 0.4447207207207205, 0.42772879310344686, 0.41601797235023014, 0.35805477178423195, 0.4349926724137925, 0.2990237516869102, 0.24615602322206245, 0.36862992432432284, 0.2758409650021901, 0.16307100840336133, 0.20303369175627217, 0.25959273743016725, 0.09036878612716763, 0.23164563106796132, 0.4066885714285708, 0.4354524752475247, 0.21698770949720647, 0.29628000000000004, 0.3401058823529412, 0.09208857142857144, 0.0603235294117647, 0.05020746268656721, 0.28066938775510203, 0.1433020408163265, 0.20255185185185184, 0.18020833333333333, 0.2819891891891892, 0.18159591836734695, 0.3008344827586207, 0.1807791666666668, 0.26919999999999994, 0.002855555555555537], \"yaxis\": \"y\"}, {\"mode\": \"lines+markers\", \"name\": \"citations\", \"type\": \"scatter\", \"x\": [0, 1, 2, 3, 4, 5, 6, 7, 8, 9, 10, 11, 12, 13, 14, 15, 16, 17, 18, 19, 20, 21, 22, 23], \"xaxis\": \"x2\", \"y\": [0.32266317512275056, 0.29103349619978336, 0.29670614355231206, 0.2837798283261805, 0.28822257438551135, 0.2760011716057891, 0.33852914046121496, 0.28861991935483866, 0.259036470588235, 0.252882597173145, 0.2654454000000008, 0.2715604550379201, 0.2741546321525887, 0.1756892988929887, 0.20035100222717114, 0.1862970037453182, 0.10464595744680857, 0.19216081871345037, 0.10436282722513095, 0.19762754237288122, 0.3101780973451325, 0.36545267605634046, 0.34265576496674205, 0.34263184965380794], \"yaxis\": \"y2\"}],\n",
       "                        {\"height\": 500, \"shapes\": [{\"layer\": \"above\", \"line\": {\"color\": \"RoyalBlue\", \"dash\": \"dot\", \"width\": 3}, \"type\": \"line\", \"x0\": \"2019-09-12\", \"x1\": \"2019-09-12\", \"y0\": -0.1, \"y1\": 0.65}], \"showlegend\": false, \"template\": {\"data\": {\"bar\": [{\"error_x\": {\"color\": \"#2a3f5f\"}, \"error_y\": {\"color\": \"#2a3f5f\"}, \"marker\": {\"line\": {\"color\": \"#E5ECF6\", \"width\": 0.5}}, \"type\": \"bar\"}], \"barpolar\": [{\"marker\": {\"line\": {\"color\": \"#E5ECF6\", \"width\": 0.5}}, \"type\": \"barpolar\"}], \"carpet\": [{\"aaxis\": {\"endlinecolor\": \"#2a3f5f\", \"gridcolor\": \"white\", \"linecolor\": \"white\", \"minorgridcolor\": \"white\", \"startlinecolor\": \"#2a3f5f\"}, \"baxis\": {\"endlinecolor\": \"#2a3f5f\", \"gridcolor\": \"white\", \"linecolor\": \"white\", \"minorgridcolor\": \"white\", \"startlinecolor\": \"#2a3f5f\"}, \"type\": \"carpet\"}], \"choropleth\": [{\"colorbar\": {\"outlinewidth\": 0, \"ticks\": \"\"}, \"type\": \"choropleth\"}], \"contour\": [{\"colorbar\": {\"outlinewidth\": 0, \"ticks\": \"\"}, \"colorscale\": [[0.0, \"#0d0887\"], [0.1111111111111111, \"#46039f\"], [0.2222222222222222, \"#7201a8\"], [0.3333333333333333, \"#9c179e\"], [0.4444444444444444, \"#bd3786\"], [0.5555555555555556, \"#d8576b\"], [0.6666666666666666, \"#ed7953\"], [0.7777777777777778, \"#fb9f3a\"], [0.8888888888888888, \"#fdca26\"], [1.0, \"#f0f921\"]], \"type\": \"contour\"}], \"contourcarpet\": [{\"colorbar\": {\"outlinewidth\": 0, \"ticks\": \"\"}, \"type\": \"contourcarpet\"}], \"heatmap\": [{\"colorbar\": {\"outlinewidth\": 0, \"ticks\": \"\"}, \"colorscale\": [[0.0, \"#0d0887\"], [0.1111111111111111, \"#46039f\"], [0.2222222222222222, \"#7201a8\"], [0.3333333333333333, \"#9c179e\"], [0.4444444444444444, \"#bd3786\"], [0.5555555555555556, \"#d8576b\"], [0.6666666666666666, \"#ed7953\"], [0.7777777777777778, \"#fb9f3a\"], [0.8888888888888888, \"#fdca26\"], [1.0, \"#f0f921\"]], \"type\": \"heatmap\"}], \"heatmapgl\": [{\"colorbar\": {\"outlinewidth\": 0, \"ticks\": \"\"}, \"colorscale\": [[0.0, \"#0d0887\"], [0.1111111111111111, \"#46039f\"], [0.2222222222222222, \"#7201a8\"], [0.3333333333333333, \"#9c179e\"], [0.4444444444444444, \"#bd3786\"], [0.5555555555555556, \"#d8576b\"], [0.6666666666666666, \"#ed7953\"], [0.7777777777777778, \"#fb9f3a\"], [0.8888888888888888, \"#fdca26\"], [1.0, \"#f0f921\"]], \"type\": \"heatmapgl\"}], \"histogram\": [{\"marker\": {\"colorbar\": {\"outlinewidth\": 0, \"ticks\": \"\"}}, \"type\": \"histogram\"}], \"histogram2d\": [{\"colorbar\": {\"outlinewidth\": 0, \"ticks\": \"\"}, \"colorscale\": [[0.0, \"#0d0887\"], [0.1111111111111111, \"#46039f\"], [0.2222222222222222, \"#7201a8\"], [0.3333333333333333, \"#9c179e\"], [0.4444444444444444, \"#bd3786\"], [0.5555555555555556, \"#d8576b\"], [0.6666666666666666, \"#ed7953\"], [0.7777777777777778, \"#fb9f3a\"], [0.8888888888888888, \"#fdca26\"], [1.0, \"#f0f921\"]], \"type\": \"histogram2d\"}], \"histogram2dcontour\": [{\"colorbar\": {\"outlinewidth\": 0, \"ticks\": \"\"}, \"colorscale\": [[0.0, \"#0d0887\"], [0.1111111111111111, \"#46039f\"], [0.2222222222222222, \"#7201a8\"], [0.3333333333333333, \"#9c179e\"], [0.4444444444444444, \"#bd3786\"], [0.5555555555555556, \"#d8576b\"], [0.6666666666666666, \"#ed7953\"], [0.7777777777777778, \"#fb9f3a\"], [0.8888888888888888, \"#fdca26\"], [1.0, \"#f0f921\"]], \"type\": \"histogram2dcontour\"}], \"mesh3d\": [{\"colorbar\": {\"outlinewidth\": 0, \"ticks\": \"\"}, \"type\": \"mesh3d\"}], \"parcoords\": [{\"line\": {\"colorbar\": {\"outlinewidth\": 0, \"ticks\": \"\"}}, \"type\": \"parcoords\"}], \"pie\": [{\"automargin\": true, \"type\": \"pie\"}], \"scatter\": [{\"marker\": {\"colorbar\": {\"outlinewidth\": 0, \"ticks\": \"\"}}, \"type\": \"scatter\"}], \"scatter3d\": [{\"line\": {\"colorbar\": {\"outlinewidth\": 0, \"ticks\": \"\"}}, \"marker\": {\"colorbar\": {\"outlinewidth\": 0, \"ticks\": \"\"}}, \"type\": \"scatter3d\"}], \"scattercarpet\": [{\"marker\": {\"colorbar\": {\"outlinewidth\": 0, \"ticks\": \"\"}}, \"type\": \"scattercarpet\"}], \"scattergeo\": [{\"marker\": {\"colorbar\": {\"outlinewidth\": 0, \"ticks\": \"\"}}, \"type\": \"scattergeo\"}], \"scattergl\": [{\"marker\": {\"colorbar\": {\"outlinewidth\": 0, \"ticks\": \"\"}}, \"type\": \"scattergl\"}], \"scattermapbox\": [{\"marker\": {\"colorbar\": {\"outlinewidth\": 0, \"ticks\": \"\"}}, \"type\": \"scattermapbox\"}], \"scatterpolar\": [{\"marker\": {\"colorbar\": {\"outlinewidth\": 0, \"ticks\": \"\"}}, \"type\": \"scatterpolar\"}], \"scatterpolargl\": [{\"marker\": {\"colorbar\": {\"outlinewidth\": 0, \"ticks\": \"\"}}, \"type\": \"scatterpolargl\"}], \"scatterternary\": [{\"marker\": {\"colorbar\": {\"outlinewidth\": 0, \"ticks\": \"\"}}, \"type\": \"scatterternary\"}], \"surface\": [{\"colorbar\": {\"outlinewidth\": 0, \"ticks\": \"\"}, \"colorscale\": [[0.0, \"#0d0887\"], [0.1111111111111111, \"#46039f\"], [0.2222222222222222, \"#7201a8\"], [0.3333333333333333, \"#9c179e\"], [0.4444444444444444, \"#bd3786\"], [0.5555555555555556, \"#d8576b\"], [0.6666666666666666, \"#ed7953\"], [0.7777777777777778, \"#fb9f3a\"], [0.8888888888888888, \"#fdca26\"], [1.0, \"#f0f921\"]], \"type\": \"surface\"}], \"table\": [{\"cells\": {\"fill\": {\"color\": \"#EBF0F8\"}, \"line\": {\"color\": \"white\"}}, \"header\": {\"fill\": {\"color\": \"#C8D4E3\"}, \"line\": {\"color\": \"white\"}}, \"type\": \"table\"}]}, \"layout\": {\"annotationdefaults\": {\"arrowcolor\": \"#2a3f5f\", \"arrowhead\": 0, \"arrowwidth\": 1}, \"coloraxis\": {\"colorbar\": {\"outlinewidth\": 0, \"ticks\": \"\"}}, \"colorscale\": {\"diverging\": [[0, \"#8e0152\"], [0.1, \"#c51b7d\"], [0.2, \"#de77ae\"], [0.3, \"#f1b6da\"], [0.4, \"#fde0ef\"], [0.5, \"#f7f7f7\"], [0.6, \"#e6f5d0\"], [0.7, \"#b8e186\"], [0.8, \"#7fbc41\"], [0.9, \"#4d9221\"], [1, \"#276419\"]], \"sequential\": [[0.0, \"#0d0887\"], [0.1111111111111111, \"#46039f\"], [0.2222222222222222, \"#7201a8\"], [0.3333333333333333, \"#9c179e\"], [0.4444444444444444, \"#bd3786\"], [0.5555555555555556, \"#d8576b\"], [0.6666666666666666, \"#ed7953\"], [0.7777777777777778, \"#fb9f3a\"], [0.8888888888888888, \"#fdca26\"], [1.0, \"#f0f921\"]], \"sequentialminus\": [[0.0, \"#0d0887\"], [0.1111111111111111, \"#46039f\"], [0.2222222222222222, \"#7201a8\"], [0.3333333333333333, \"#9c179e\"], [0.4444444444444444, \"#bd3786\"], [0.5555555555555556, \"#d8576b\"], [0.6666666666666666, \"#ed7953\"], [0.7777777777777778, \"#fb9f3a\"], [0.8888888888888888, \"#fdca26\"], [1.0, \"#f0f921\"]]}, \"colorway\": [\"#636efa\", \"#EF553B\", \"#00cc96\", \"#ab63fa\", \"#FFA15A\", \"#19d3f3\", \"#FF6692\", \"#B6E880\", \"#FF97FF\", \"#FECB52\"], \"font\": {\"color\": \"#2a3f5f\"}, \"geo\": {\"bgcolor\": \"white\", \"lakecolor\": \"white\", \"landcolor\": \"#E5ECF6\", \"showlakes\": true, \"showland\": true, \"subunitcolor\": \"white\"}, \"hoverlabel\": {\"align\": \"left\"}, \"hovermode\": \"closest\", \"mapbox\": {\"style\": \"light\"}, \"paper_bgcolor\": \"white\", \"plot_bgcolor\": \"#E5ECF6\", \"polar\": {\"angularaxis\": {\"gridcolor\": \"white\", \"linecolor\": \"white\", \"ticks\": \"\"}, \"bgcolor\": \"#E5ECF6\", \"radialaxis\": {\"gridcolor\": \"white\", \"linecolor\": \"white\", \"ticks\": \"\"}}, \"scene\": {\"xaxis\": {\"backgroundcolor\": \"#E5ECF6\", \"gridcolor\": \"white\", \"gridwidth\": 2, \"linecolor\": \"white\", \"showbackground\": true, \"ticks\": \"\", \"zerolinecolor\": \"white\"}, \"yaxis\": {\"backgroundcolor\": \"#E5ECF6\", \"gridcolor\": \"white\", \"gridwidth\": 2, \"linecolor\": \"white\", \"showbackground\": true, \"ticks\": \"\", \"zerolinecolor\": \"white\"}, \"zaxis\": {\"backgroundcolor\": \"#E5ECF6\", \"gridcolor\": \"white\", \"gridwidth\": 2, \"linecolor\": \"white\", \"showbackground\": true, \"ticks\": \"\", \"zerolinecolor\": \"white\"}}, \"shapedefaults\": {\"line\": {\"color\": \"#2a3f5f\"}}, \"ternary\": {\"aaxis\": {\"gridcolor\": \"white\", \"linecolor\": \"white\", \"ticks\": \"\"}, \"baxis\": {\"gridcolor\": \"white\", \"linecolor\": \"white\", \"ticks\": \"\"}, \"bgcolor\": \"#E5ECF6\", \"caxis\": {\"gridcolor\": \"white\", \"linecolor\": \"white\", \"ticks\": \"\"}}, \"title\": {\"x\": 0.05}, \"xaxis\": {\"automargin\": true, \"gridcolor\": \"white\", \"linecolor\": \"white\", \"ticks\": \"\", \"title\": {\"standoff\": 15}, \"zerolinecolor\": \"white\", \"zerolinewidth\": 2}, \"yaxis\": {\"automargin\": true, \"gridcolor\": \"white\", \"linecolor\": \"white\", \"ticks\": \"\", \"title\": {\"standoff\": 15}, \"zerolinecolor\": \"white\", \"zerolinewidth\": 2}}}, \"width\": 1000, \"xaxis\": {\"anchor\": \"y\", \"domain\": [0.0, 0.45], \"range\": [\"2019-09-02\", \"2019-10-06\"], \"title\": {\"text\": \"Date\"}}, \"xaxis2\": {\"anchor\": \"y2\", \"domain\": [0.55, 1.0], \"range\": [-0.5, 24], \"title\": {\"text\": \"Hour\"}}, \"yaxis\": {\"anchor\": \"x\", \"domain\": [0.0, 1.0], \"range\": [-0.1, 0.65], \"title\": {\"text\": \"Average Compound Scores\"}}, \"yaxis2\": {\"anchor\": \"x2\", \"domain\": [0.0, 1.0], \"range\": [-0.1, 0.65]}},\n",
       "                        {\"responsive\": true}\n",
       "                    ).then(function(){\n",
       "                            \n",
       "var gd = document.getElementById('322b2c70-1f87-4340-90c9-a13d565bd3ec');\n",
       "var x = new MutationObserver(function (mutations, observer) {{\n",
       "        var display = window.getComputedStyle(gd).display;\n",
       "        if (!display || display === 'none') {{\n",
       "            console.log([gd, 'removed!']);\n",
       "            Plotly.purge(gd);\n",
       "            observer.disconnect();\n",
       "        }}\n",
       "}});\n",
       "\n",
       "// Listen for the removal of the full notebook cells\n",
       "var notebookContainer = gd.closest('#notebook-container');\n",
       "if (notebookContainer) {{\n",
       "    x.observe(notebookContainer, {childList: true});\n",
       "}}\n",
       "\n",
       "// Listen for the clearing of the current output cell\n",
       "var outputEl = gd.closest('.output');\n",
       "if (outputEl) {{\n",
       "    x.observe(outputEl, {childList: true});\n",
       "}}\n",
       "\n",
       "                        })\n",
       "                };\n",
       "                });\n",
       "            </script>\n",
       "        </div>"
      ]
     },
     "metadata": {},
     "output_type": "display_data"
    }
   ],
   "source": [
    "from plotly.subplots import make_subplots\n",
    "\n",
    "fig = make_subplots(rows=1, cols=2)\n",
    "\n",
    "fig.add_trace(go.Scatter(x = senti_date.index,\n",
    "                         y = senti_date.values,\n",
    "                         mode = \"lines+markers\",\n",
    "                         name = \"citations\"), row=1, col=1)\n",
    "\n",
    "fig.add_trace(go.Scatter(x = senti_hour.index,\n",
    "                         y = senti_hour.values,\n",
    "                         mode = \"lines+markers\",\n",
    "                        name = \"citations\"), row=1, col=2)\n",
    "\n",
    "fig.update_xaxes(title_text=\"Hour\",range=[-0.5,24],row=1, col=2)\n",
    "fig.update_xaxes(title_text=\"Date\",range=['2019-09-02','2019-10-06'], row=1, col=1)\n",
    "\n",
    "fig.update_yaxes(title_text=\"Average Compound Scores\", range=[-0.1,0.65], row=1, col=1)\n",
    "fig.update_yaxes(range=[-0.1,0.65], row=1, col=2)\n",
    "\n",
    "fig.update_layout(\n",
    "    shapes=[\n",
    "        # Line Vertical\n",
    "        go.layout.Shape(\n",
    "            type=\"line\",\n",
    "            x0=\"2019-09-12\",\n",
    "            y0=-0.1,\n",
    "            x1=\"2019-09-12\",\n",
    "            y1=0.65,\n",
    "            line=dict(color=\"RoyalBlue\",width=3,dash=\"dot\"),\n",
    "            layer='above')\n",
    "    ]\n",
    ")\n",
    "fig.update_layout(height=500, width=1000,showlegend=False)\n",
    "#fig.update_layout(height=500, width=1000, title_text=\"Vader Sentiment Analysis: Average Compound Scores\",showlegend=False)\n",
    "fig.show()"
   ]
  },
  {
   "cell_type": "code",
   "execution_count": 29,
   "metadata": {},
   "outputs": [
    {
     "data": {
      "text/html": [
       "<div>\n",
       "<style scoped>\n",
       "    .dataframe tbody tr th:only-of-type {\n",
       "        vertical-align: middle;\n",
       "    }\n",
       "\n",
       "    .dataframe tbody tr th {\n",
       "        vertical-align: top;\n",
       "    }\n",
       "\n",
       "    .dataframe thead th {\n",
       "        text-align: right;\n",
       "    }\n",
       "</style>\n",
       "<table border=\"1\" class=\"dataframe\">\n",
       "  <thead>\n",
       "    <tr style=\"text-align: right;\">\n",
       "      <th></th>\n",
       "      <th>name</th>\n",
       "      <th>lat</th>\n",
       "      <th>long</th>\n",
       "    </tr>\n",
       "  </thead>\n",
       "  <tbody>\n",
       "    <tr>\n",
       "      <th>0</th>\n",
       "      <td>Brisbane, Queensland</td>\n",
       "      <td>-27.469771</td>\n",
       "      <td>153.025124</td>\n",
       "    </tr>\n",
       "    <tr>\n",
       "      <th>1</th>\n",
       "      <td>Wollongong, NSW, AUSTRALIA</td>\n",
       "      <td>-34.427812</td>\n",
       "      <td>150.893061</td>\n",
       "    </tr>\n",
       "    <tr>\n",
       "      <th>2</th>\n",
       "      <td>Melbourne</td>\n",
       "      <td>-37.813628</td>\n",
       "      <td>144.963058</td>\n",
       "    </tr>\n",
       "    <tr>\n",
       "      <th>3</th>\n",
       "      <td>Philippines</td>\n",
       "      <td>12.879721</td>\n",
       "      <td>121.774017</td>\n",
       "    </tr>\n",
       "    <tr>\n",
       "      <th>4</th>\n",
       "      <td>Australia</td>\n",
       "      <td>-25.274398</td>\n",
       "      <td>133.775136</td>\n",
       "    </tr>\n",
       "    <tr>\n",
       "      <th>5</th>\n",
       "      <td>Nevada, USA</td>\n",
       "      <td>38.802610</td>\n",
       "      <td>-116.419389</td>\n",
       "    </tr>\n",
       "    <tr>\n",
       "      <th>6</th>\n",
       "      <td>Melbourne Australia</td>\n",
       "      <td>-37.813628</td>\n",
       "      <td>144.963058</td>\n",
       "    </tr>\n",
       "    <tr>\n",
       "      <th>7</th>\n",
       "      <td>United States</td>\n",
       "      <td>37.090240</td>\n",
       "      <td>-95.712891</td>\n",
       "    </tr>\n",
       "    <tr>\n",
       "      <th>8</th>\n",
       "      <td>California,orlando</td>\n",
       "      <td>28.485102</td>\n",
       "      <td>-81.432300</td>\n",
       "    </tr>\n",
       "    <tr>\n",
       "      <th>9</th>\n",
       "      <td>Lower Saxony, Germany</td>\n",
       "      <td>52.636704</td>\n",
       "      <td>9.845077</td>\n",
       "    </tr>\n",
       "  </tbody>\n",
       "</table>\n",
       "</div>"
      ],
      "text/plain": [
       "                         name        lat        long\n",
       "0        Brisbane, Queensland -27.469771  153.025124\n",
       "1  Wollongong, NSW, AUSTRALIA -34.427812  150.893061\n",
       "2                   Melbourne -37.813628  144.963058\n",
       "3                 Philippines  12.879721  121.774017\n",
       "4                   Australia -25.274398  133.775136\n",
       "5                 Nevada, USA  38.802610 -116.419389\n",
       "6         Melbourne Australia -37.813628  144.963058\n",
       "7               United States  37.090240  -95.712891\n",
       "8          California,orlando  28.485102  -81.432300\n",
       "9       Lower Saxony, Germany  52.636704    9.845077"
      ]
     },
     "execution_count": 29,
     "metadata": {},
     "output_type": "execute_result"
    }
   ],
   "source": [
    "# Heat Map: Mean Polarity by location\n",
    "geo = pd.read_csv(\"location_geocode.csv\")\n",
    "geo.head(10)"
   ]
  },
  {
   "cell_type": "code",
   "execution_count": 30,
   "metadata": {},
   "outputs": [],
   "source": [
    "ruok_place = ruok.dropna(subset=['place_full_name'])\n",
    "ruok_place = ruok_place.merge(geo, how='inner', left_on='place_full_name', right_on='name')"
   ]
  },
  {
   "cell_type": "code",
   "execution_count": 31,
   "metadata": {},
   "outputs": [],
   "source": [
    "#ruok_place.to_csv('ruok_place.csv')"
   ]
  },
  {
   "cell_type": "code",
   "execution_count": 32,
   "metadata": {},
   "outputs": [
    {
     "name": "stdout",
     "output_type": "stream",
     "text": [
      "Sydney        124\n",
      "Melbourne     111\n",
      "Brisbane       61\n",
      "Perth          37\n",
      "Canberra       22\n",
      "Gold Coast     20\n",
      "Adelaide       11\n",
      "Name: place_name, dtype: int64\n"
     ]
    }
   ],
   "source": [
    "#citygraph\n",
    "city_df=ruok_place[['place_name','created_at_date','sentiment_compound_polarity','sentiment_type']]\n",
    "city_df['place_name'].replace('Perth (WA)','Perth',inplace=True)\n",
    "city_senti = city_df[city_df.sentiment_type.isin(['Positive','Negative'])]\n",
    "#select cities with the most number of tweets\n",
    "cities = ['Sydney', 'Melbourne','Brisbane','Canberra','Perth','Gold Coast','Adelaide']\n",
    "city_df= city_df[city_df.place_name.isin(cities)]\n",
    "print(city_df['place_name'].value_counts())"
   ]
  },
  {
   "cell_type": "code",
   "execution_count": 33,
   "metadata": {},
   "outputs": [
    {
     "data": {
      "application/vnd.plotly.v1+json": {
       "config": {
        "plotlyServerURL": "https://plot.ly"
       },
       "data": [
        {
         "alignmentgroup": "True",
         "hoverlabel": {
          "namelength": 0
         },
         "hovertemplate": "sentiment_type=Positive<br>place_name=%{x}<br>sentiment_compound_polarity=%{y}",
         "legendgroup": "sentiment_type=Positive",
         "marker": {
          "color": "#636efa"
         },
         "name": "sentiment_type=Positive",
         "offsetgroup": "sentiment_type=Positive",
         "orientation": "v",
         "showlegend": true,
         "textposition": "auto",
         "type": "bar",
         "x": [
          "Sydney",
          "Sydney",
          "Sydney",
          "Sydney",
          "Sydney",
          "Sydney",
          "Sydney",
          "Sydney",
          "Sydney",
          "Sydney",
          "Sydney",
          "Sydney",
          "Sydney",
          "Sydney",
          "Sydney",
          "Sydney",
          "Sydney",
          "Sydney",
          "Sydney",
          "Sydney",
          "Sydney",
          "Sydney",
          "Sydney",
          "Sydney",
          "Sydney",
          "Sydney",
          "Sydney",
          "Sydney",
          "Sydney",
          "Sydney",
          "Sydney",
          "Sydney",
          "Sydney",
          "Sydney",
          "Sydney",
          "Sydney",
          "Sydney",
          "Sydney",
          "Sydney",
          "Sydney",
          "Sydney",
          "Sydney",
          "Sydney",
          "Sydney",
          "Sydney",
          "Sydney",
          "Sydney",
          "Sydney",
          "Sydney",
          "Sydney",
          "Sydney",
          "Sydney",
          "Sydney",
          "Sydney",
          "Sydney",
          "Sydney",
          "Sydney",
          "Sydney",
          "Sydney",
          "Sydney",
          "Sydney",
          "Sydney",
          "Sydney",
          "Sydney",
          "Sydney",
          "Sydney",
          "Sydney",
          "Sydney",
          "Sydney",
          "Sydney",
          "Sydney",
          "Sydney",
          "Sydney",
          "Sydney",
          "Sydney",
          "Sydney",
          "Sydney",
          "Sydney",
          "Sydney",
          "Sydney",
          "Sydney",
          "Sydney",
          "Sydney",
          "Sydney",
          "Sydney",
          "Sydney",
          "Sydney",
          "Brisbane",
          "Brisbane",
          "Brisbane",
          "Brisbane",
          "Brisbane",
          "Brisbane",
          "Brisbane",
          "Brisbane",
          "Brisbane",
          "Brisbane",
          "Brisbane",
          "Brisbane",
          "Brisbane",
          "Brisbane",
          "Brisbane",
          "Brisbane",
          "Brisbane",
          "Brisbane",
          "Brisbane",
          "Brisbane",
          "Brisbane",
          "Brisbane",
          "Brisbane",
          "Brisbane",
          "Brisbane",
          "Brisbane",
          "Brisbane",
          "Brisbane",
          "Brisbane",
          "Brisbane",
          "Brisbane",
          "Brisbane",
          "Brisbane",
          "Brisbane",
          "Brisbane",
          "Brisbane",
          "Brisbane",
          "Brisbane",
          "Brisbane",
          "Brisbane",
          "Brisbane",
          "Brisbane",
          "Melbourne",
          "Melbourne",
          "Melbourne",
          "Melbourne",
          "Melbourne",
          "Melbourne",
          "Melbourne",
          "Melbourne",
          "Melbourne",
          "Melbourne",
          "Melbourne",
          "Melbourne",
          "Melbourne",
          "Melbourne",
          "Melbourne",
          "Melbourne",
          "Melbourne",
          "Melbourne",
          "Melbourne",
          "Melbourne",
          "Melbourne",
          "Melbourne",
          "Melbourne",
          "Melbourne",
          "Melbourne",
          "Melbourne",
          "Melbourne",
          "Melbourne",
          "Melbourne",
          "Melbourne",
          "Melbourne",
          "Melbourne",
          "Melbourne",
          "Melbourne",
          "Melbourne",
          "Melbourne",
          "Melbourne",
          "Melbourne",
          "Melbourne",
          "Melbourne",
          "Melbourne",
          "Melbourne",
          "Melbourne",
          "Melbourne",
          "Melbourne",
          "Melbourne",
          "Melbourne",
          "Melbourne",
          "Melbourne",
          "Melbourne",
          "Melbourne",
          "Melbourne",
          "Melbourne",
          "Melbourne",
          "Melbourne",
          "Melbourne",
          "Melbourne",
          "Melbourne",
          "Melbourne",
          "Melbourne",
          "Melbourne",
          "Melbourne",
          "Melbourne",
          "Melbourne",
          "Melbourne",
          "Melbourne",
          "Melbourne",
          "Melbourne",
          "Melbourne",
          "Melbourne",
          "Melbourne",
          "Melbourne",
          "Melbourne",
          "Melbourne",
          "Perth",
          "Perth",
          "Perth",
          "Perth",
          "Perth",
          "Perth",
          "Perth",
          "Perth",
          "Perth",
          "Perth",
          "Perth",
          "Perth",
          "Perth",
          "Perth",
          "Perth",
          "Perth",
          "Perth",
          "Perth",
          "Perth",
          "Adelaide",
          "Adelaide",
          "Adelaide",
          "Adelaide",
          "Adelaide",
          "Adelaide",
          "Adelaide",
          "Adelaide",
          "Adelaide",
          "Adelaide",
          "Canberra",
          "Canberra",
          "Canberra",
          "Canberra",
          "Canberra",
          "Canberra",
          "Canberra",
          "Canberra",
          "Canberra",
          "Canberra",
          "Canberra",
          "Canberra",
          "Canberra",
          "Gold Coast",
          "Gold Coast",
          "Gold Coast",
          "Gold Coast",
          "Gold Coast",
          "Gold Coast",
          "Gold Coast",
          "Gold Coast",
          "Gold Coast",
          "Gold Coast",
          "Gold Coast",
          "Gold Coast"
         ],
         "xaxis": "x",
         "y": [
          0.8316,
          0.6369,
          0.3818,
          0.6249,
          0.8519,
          0.6597,
          0.296,
          0.1027,
          0.6369,
          0.4939,
          0.5719,
          0.5267,
          0.3612,
          0.6369,
          0.6597,
          0.4215,
          0.765,
          0.6705,
          0.1506,
          0.8316,
          0.6369,
          0.4588,
          0.8225,
          0.4939,
          0.8126,
          0.2263,
          0.4404,
          0.296,
          0.6124,
          0.7964,
          0.7964,
          0.2263,
          0.5106,
          0.3818,
          0.296,
          0.4939,
          0.4019,
          0.4939,
          0.9432,
          0.2732,
          0.5106,
          0.1779,
          0.6705,
          0.6597,
          0.2263,
          0.8834,
          0.6369,
          0.4939,
          0.9169,
          0.3182,
          0.7579,
          0.6369,
          0.3612,
          0.8176,
          0.8176,
          0.9393,
          0.7506,
          0.5719,
          0.6908,
          0.4939,
          0.8519,
          0.6808,
          0.6124,
          0.1779,
          0.3612,
          0.836,
          0.8979,
          0.3612,
          0.4404,
          0.3612,
          0.7506,
          0.6908,
          0.5859,
          0.6369,
          0.7783,
          0.0258,
          0.6369,
          0.8625,
          0.2263,
          0.6369,
          0.8271,
          0.5574,
          0.7506,
          0.4482,
          0.7906,
          0.4019,
          0.7717,
          0.5859,
          0.6597,
          0.3612,
          0.8402,
          0.7269,
          0.8225,
          0.2732,
          0.7351,
          0.5859,
          0.4939,
          0.6597,
          0.5719,
          0.8689,
          0.6694,
          0.1531,
          0.4939,
          0.8481,
          0.228,
          0.6815,
          0.5106,
          0.7184,
          0.7964,
          0.6369,
          0.296,
          0.34,
          0.4215,
          0.0258,
          0.6486,
          0.8176,
          0.4588,
          0.2263,
          0.6124,
          0.7096,
          0.872,
          0.7351,
          0.9067,
          0.4019,
          0.4019,
          0.4404,
          0.5423,
          0.8126,
          0.6249,
          0.6808,
          0.0516,
          0.8481,
          0.8625,
          0.296,
          0.0772,
          0.2732,
          0.5719,
          0.3612,
          0.3612,
          0.3612,
          0.4404,
          0.4404,
          0.891,
          0.4215,
          0.7579,
          0.6124,
          0.2732,
          0.8689,
          0.296,
          0.2263,
          0.3182,
          0.9062,
          0.765,
          0.8402,
          0.8779,
          0.8316,
          0.8404,
          0.4767,
          0.836,
          0.6705,
          0.4019,
          0.6808,
          0.8658,
          0.296,
          0.6124,
          0.5106,
          0.6124,
          0.5267,
          0.5106,
          0.6597,
          0.8481,
          0.6369,
          0.8689,
          0.6369,
          0.872,
          0.3612,
          0.6597,
          0.296,
          0.5719,
          0.4215,
          0.6597,
          0.7964,
          0.3612,
          0.296,
          0.4939,
          0.8225,
          0.7845,
          0.9552,
          0.4019,
          0.8402,
          0.3182,
          0.296,
          0.5106,
          0.296,
          0.7506,
          0.7003,
          0.4215,
          0.5267,
          0.3182,
          0.4215,
          0.8481,
          0.7096,
          0.296,
          0.6249,
          0.9042,
          0.7964,
          0.5994,
          0.2023,
          0.25,
          0.6705,
          0.7351,
          0.5994,
          0.8885,
          0.4404,
          0.5267,
          0.4404,
          0.5106,
          0.4404,
          0.4588,
          0.296,
          0.34,
          0.4939,
          0.5267,
          0.7783,
          0.4404,
          0.91,
          0.8442,
          0.8316,
          0.8074,
          0.6597,
          0.8074,
          0.765,
          0.5859,
          0.4404,
          0.8316,
          0.128,
          0.4019,
          0.2023,
          0.8442,
          0.7184,
          0.5994,
          0.8402,
          0.0772,
          0.7096,
          0.4404,
          0.296,
          0.802,
          0.5719,
          0.2263,
          0.3612,
          0.3612,
          0.4404,
          0.6249,
          0.5267,
          0.8126,
          0.5859,
          0.0258
         ],
         "yaxis": "y"
        },
        {
         "alignmentgroup": "True",
         "hoverlabel": {
          "namelength": 0
         },
         "hovertemplate": "sentiment_type=Negative<br>place_name=%{x}<br>sentiment_compound_polarity=%{y}",
         "legendgroup": "sentiment_type=Negative",
         "marker": {
          "color": "#EF553B"
         },
         "name": "sentiment_type=Negative",
         "offsetgroup": "sentiment_type=Negative",
         "orientation": "v",
         "showlegend": true,
         "textposition": "auto",
         "type": "bar",
         "x": [
          "Sydney",
          "Sydney",
          "Sydney",
          "Sydney",
          "Sydney",
          "Sydney",
          "Sydney",
          "Sydney",
          "Sydney",
          "Sydney",
          "Sydney",
          "Sydney",
          "Brisbane",
          "Brisbane",
          "Brisbane",
          "Brisbane",
          "Brisbane",
          "Brisbane",
          "Melbourne",
          "Melbourne",
          "Melbourne",
          "Melbourne",
          "Melbourne",
          "Melbourne",
          "Melbourne",
          "Melbourne",
          "Melbourne",
          "Melbourne",
          "Melbourne",
          "Melbourne",
          "Melbourne",
          "Melbourne",
          "Melbourne",
          "Melbourne",
          "Melbourne",
          "Perth",
          "Perth",
          "Perth",
          "Perth",
          "Perth",
          "Perth",
          "Perth",
          "Perth",
          "Perth",
          "Adelaide",
          "Canberra",
          "Canberra",
          "Gold Coast",
          "Gold Coast",
          "Gold Coast",
          "Gold Coast",
          "Gold Coast",
          "Gold Coast",
          "Gold Coast"
         ],
         "xaxis": "x",
         "y": [
          -0.8442,
          -0.4588,
          -0.0516,
          -0.5106,
          -0.1531,
          -0.4215,
          -0.5719,
          -0.5859,
          -0.1098,
          -0.4019,
          -0.5267,
          -0.4585,
          -0.4215,
          -0.0258,
          -0.5719,
          -0.5609,
          -0.5574,
          -0.0516,
          -0.5994,
          -0.25,
          -0.2263,
          -0.6369,
          -0.4215,
          -0.6319,
          -0.2023,
          -0.2411,
          -0.0516,
          -0.8625,
          -0.5994,
          -0.1027,
          -0.8316,
          -0.0258,
          -0.128,
          -0.6597,
          -0.5859,
          -0.296,
          -0.25,
          -0.4939,
          -0.6249,
          -0.296,
          -0.296,
          -0.031,
          -0.1531,
          -0.4019,
          -0.9022,
          -0.2263,
          -0.1027,
          -0.3182,
          -0.9217,
          -0.4215,
          -0.7506,
          -0.3182,
          -0.5267,
          -0.5719
         ],
         "yaxis": "y"
        }
       ],
       "layout": {
        "barmode": "relative",
        "height": 600,
        "legend": {
         "tracegroupgap": 0
        },
        "margin": {
         "t": 60
        },
        "template": {
         "data": {
          "bar": [
           {
            "error_x": {
             "color": "#2a3f5f"
            },
            "error_y": {
             "color": "#2a3f5f"
            },
            "marker": {
             "line": {
              "color": "#E5ECF6",
              "width": 0.5
             }
            },
            "type": "bar"
           }
          ],
          "barpolar": [
           {
            "marker": {
             "line": {
              "color": "#E5ECF6",
              "width": 0.5
             }
            },
            "type": "barpolar"
           }
          ],
          "carpet": [
           {
            "aaxis": {
             "endlinecolor": "#2a3f5f",
             "gridcolor": "white",
             "linecolor": "white",
             "minorgridcolor": "white",
             "startlinecolor": "#2a3f5f"
            },
            "baxis": {
             "endlinecolor": "#2a3f5f",
             "gridcolor": "white",
             "linecolor": "white",
             "minorgridcolor": "white",
             "startlinecolor": "#2a3f5f"
            },
            "type": "carpet"
           }
          ],
          "choropleth": [
           {
            "colorbar": {
             "outlinewidth": 0,
             "ticks": ""
            },
            "type": "choropleth"
           }
          ],
          "contour": [
           {
            "colorbar": {
             "outlinewidth": 0,
             "ticks": ""
            },
            "colorscale": [
             [
              0,
              "#0d0887"
             ],
             [
              0.1111111111111111,
              "#46039f"
             ],
             [
              0.2222222222222222,
              "#7201a8"
             ],
             [
              0.3333333333333333,
              "#9c179e"
             ],
             [
              0.4444444444444444,
              "#bd3786"
             ],
             [
              0.5555555555555556,
              "#d8576b"
             ],
             [
              0.6666666666666666,
              "#ed7953"
             ],
             [
              0.7777777777777778,
              "#fb9f3a"
             ],
             [
              0.8888888888888888,
              "#fdca26"
             ],
             [
              1,
              "#f0f921"
             ]
            ],
            "type": "contour"
           }
          ],
          "contourcarpet": [
           {
            "colorbar": {
             "outlinewidth": 0,
             "ticks": ""
            },
            "type": "contourcarpet"
           }
          ],
          "heatmap": [
           {
            "colorbar": {
             "outlinewidth": 0,
             "ticks": ""
            },
            "colorscale": [
             [
              0,
              "#0d0887"
             ],
             [
              0.1111111111111111,
              "#46039f"
             ],
             [
              0.2222222222222222,
              "#7201a8"
             ],
             [
              0.3333333333333333,
              "#9c179e"
             ],
             [
              0.4444444444444444,
              "#bd3786"
             ],
             [
              0.5555555555555556,
              "#d8576b"
             ],
             [
              0.6666666666666666,
              "#ed7953"
             ],
             [
              0.7777777777777778,
              "#fb9f3a"
             ],
             [
              0.8888888888888888,
              "#fdca26"
             ],
             [
              1,
              "#f0f921"
             ]
            ],
            "type": "heatmap"
           }
          ],
          "heatmapgl": [
           {
            "colorbar": {
             "outlinewidth": 0,
             "ticks": ""
            },
            "colorscale": [
             [
              0,
              "#0d0887"
             ],
             [
              0.1111111111111111,
              "#46039f"
             ],
             [
              0.2222222222222222,
              "#7201a8"
             ],
             [
              0.3333333333333333,
              "#9c179e"
             ],
             [
              0.4444444444444444,
              "#bd3786"
             ],
             [
              0.5555555555555556,
              "#d8576b"
             ],
             [
              0.6666666666666666,
              "#ed7953"
             ],
             [
              0.7777777777777778,
              "#fb9f3a"
             ],
             [
              0.8888888888888888,
              "#fdca26"
             ],
             [
              1,
              "#f0f921"
             ]
            ],
            "type": "heatmapgl"
           }
          ],
          "histogram": [
           {
            "marker": {
             "colorbar": {
              "outlinewidth": 0,
              "ticks": ""
             }
            },
            "type": "histogram"
           }
          ],
          "histogram2d": [
           {
            "colorbar": {
             "outlinewidth": 0,
             "ticks": ""
            },
            "colorscale": [
             [
              0,
              "#0d0887"
             ],
             [
              0.1111111111111111,
              "#46039f"
             ],
             [
              0.2222222222222222,
              "#7201a8"
             ],
             [
              0.3333333333333333,
              "#9c179e"
             ],
             [
              0.4444444444444444,
              "#bd3786"
             ],
             [
              0.5555555555555556,
              "#d8576b"
             ],
             [
              0.6666666666666666,
              "#ed7953"
             ],
             [
              0.7777777777777778,
              "#fb9f3a"
             ],
             [
              0.8888888888888888,
              "#fdca26"
             ],
             [
              1,
              "#f0f921"
             ]
            ],
            "type": "histogram2d"
           }
          ],
          "histogram2dcontour": [
           {
            "colorbar": {
             "outlinewidth": 0,
             "ticks": ""
            },
            "colorscale": [
             [
              0,
              "#0d0887"
             ],
             [
              0.1111111111111111,
              "#46039f"
             ],
             [
              0.2222222222222222,
              "#7201a8"
             ],
             [
              0.3333333333333333,
              "#9c179e"
             ],
             [
              0.4444444444444444,
              "#bd3786"
             ],
             [
              0.5555555555555556,
              "#d8576b"
             ],
             [
              0.6666666666666666,
              "#ed7953"
             ],
             [
              0.7777777777777778,
              "#fb9f3a"
             ],
             [
              0.8888888888888888,
              "#fdca26"
             ],
             [
              1,
              "#f0f921"
             ]
            ],
            "type": "histogram2dcontour"
           }
          ],
          "mesh3d": [
           {
            "colorbar": {
             "outlinewidth": 0,
             "ticks": ""
            },
            "type": "mesh3d"
           }
          ],
          "parcoords": [
           {
            "line": {
             "colorbar": {
              "outlinewidth": 0,
              "ticks": ""
             }
            },
            "type": "parcoords"
           }
          ],
          "pie": [
           {
            "automargin": true,
            "type": "pie"
           }
          ],
          "scatter": [
           {
            "marker": {
             "colorbar": {
              "outlinewidth": 0,
              "ticks": ""
             }
            },
            "type": "scatter"
           }
          ],
          "scatter3d": [
           {
            "line": {
             "colorbar": {
              "outlinewidth": 0,
              "ticks": ""
             }
            },
            "marker": {
             "colorbar": {
              "outlinewidth": 0,
              "ticks": ""
             }
            },
            "type": "scatter3d"
           }
          ],
          "scattercarpet": [
           {
            "marker": {
             "colorbar": {
              "outlinewidth": 0,
              "ticks": ""
             }
            },
            "type": "scattercarpet"
           }
          ],
          "scattergeo": [
           {
            "marker": {
             "colorbar": {
              "outlinewidth": 0,
              "ticks": ""
             }
            },
            "type": "scattergeo"
           }
          ],
          "scattergl": [
           {
            "marker": {
             "colorbar": {
              "outlinewidth": 0,
              "ticks": ""
             }
            },
            "type": "scattergl"
           }
          ],
          "scattermapbox": [
           {
            "marker": {
             "colorbar": {
              "outlinewidth": 0,
              "ticks": ""
             }
            },
            "type": "scattermapbox"
           }
          ],
          "scatterpolar": [
           {
            "marker": {
             "colorbar": {
              "outlinewidth": 0,
              "ticks": ""
             }
            },
            "type": "scatterpolar"
           }
          ],
          "scatterpolargl": [
           {
            "marker": {
             "colorbar": {
              "outlinewidth": 0,
              "ticks": ""
             }
            },
            "type": "scatterpolargl"
           }
          ],
          "scatterternary": [
           {
            "marker": {
             "colorbar": {
              "outlinewidth": 0,
              "ticks": ""
             }
            },
            "type": "scatterternary"
           }
          ],
          "surface": [
           {
            "colorbar": {
             "outlinewidth": 0,
             "ticks": ""
            },
            "colorscale": [
             [
              0,
              "#0d0887"
             ],
             [
              0.1111111111111111,
              "#46039f"
             ],
             [
              0.2222222222222222,
              "#7201a8"
             ],
             [
              0.3333333333333333,
              "#9c179e"
             ],
             [
              0.4444444444444444,
              "#bd3786"
             ],
             [
              0.5555555555555556,
              "#d8576b"
             ],
             [
              0.6666666666666666,
              "#ed7953"
             ],
             [
              0.7777777777777778,
              "#fb9f3a"
             ],
             [
              0.8888888888888888,
              "#fdca26"
             ],
             [
              1,
              "#f0f921"
             ]
            ],
            "type": "surface"
           }
          ],
          "table": [
           {
            "cells": {
             "fill": {
              "color": "#EBF0F8"
             },
             "line": {
              "color": "white"
             }
            },
            "header": {
             "fill": {
              "color": "#C8D4E3"
             },
             "line": {
              "color": "white"
             }
            },
            "type": "table"
           }
          ]
         },
         "layout": {
          "annotationdefaults": {
           "arrowcolor": "#2a3f5f",
           "arrowhead": 0,
           "arrowwidth": 1
          },
          "coloraxis": {
           "colorbar": {
            "outlinewidth": 0,
            "ticks": ""
           }
          },
          "colorscale": {
           "diverging": [
            [
             0,
             "#8e0152"
            ],
            [
             0.1,
             "#c51b7d"
            ],
            [
             0.2,
             "#de77ae"
            ],
            [
             0.3,
             "#f1b6da"
            ],
            [
             0.4,
             "#fde0ef"
            ],
            [
             0.5,
             "#f7f7f7"
            ],
            [
             0.6,
             "#e6f5d0"
            ],
            [
             0.7,
             "#b8e186"
            ],
            [
             0.8,
             "#7fbc41"
            ],
            [
             0.9,
             "#4d9221"
            ],
            [
             1,
             "#276419"
            ]
           ],
           "sequential": [
            [
             0,
             "#0d0887"
            ],
            [
             0.1111111111111111,
             "#46039f"
            ],
            [
             0.2222222222222222,
             "#7201a8"
            ],
            [
             0.3333333333333333,
             "#9c179e"
            ],
            [
             0.4444444444444444,
             "#bd3786"
            ],
            [
             0.5555555555555556,
             "#d8576b"
            ],
            [
             0.6666666666666666,
             "#ed7953"
            ],
            [
             0.7777777777777778,
             "#fb9f3a"
            ],
            [
             0.8888888888888888,
             "#fdca26"
            ],
            [
             1,
             "#f0f921"
            ]
           ],
           "sequentialminus": [
            [
             0,
             "#0d0887"
            ],
            [
             0.1111111111111111,
             "#46039f"
            ],
            [
             0.2222222222222222,
             "#7201a8"
            ],
            [
             0.3333333333333333,
             "#9c179e"
            ],
            [
             0.4444444444444444,
             "#bd3786"
            ],
            [
             0.5555555555555556,
             "#d8576b"
            ],
            [
             0.6666666666666666,
             "#ed7953"
            ],
            [
             0.7777777777777778,
             "#fb9f3a"
            ],
            [
             0.8888888888888888,
             "#fdca26"
            ],
            [
             1,
             "#f0f921"
            ]
           ]
          },
          "colorway": [
           "#636efa",
           "#EF553B",
           "#00cc96",
           "#ab63fa",
           "#FFA15A",
           "#19d3f3",
           "#FF6692",
           "#B6E880",
           "#FF97FF",
           "#FECB52"
          ],
          "font": {
           "color": "#2a3f5f"
          },
          "geo": {
           "bgcolor": "white",
           "lakecolor": "white",
           "landcolor": "#E5ECF6",
           "showlakes": true,
           "showland": true,
           "subunitcolor": "white"
          },
          "hoverlabel": {
           "align": "left"
          },
          "hovermode": "closest",
          "mapbox": {
           "style": "light"
          },
          "paper_bgcolor": "white",
          "plot_bgcolor": "#E5ECF6",
          "polar": {
           "angularaxis": {
            "gridcolor": "white",
            "linecolor": "white",
            "ticks": ""
           },
           "bgcolor": "#E5ECF6",
           "radialaxis": {
            "gridcolor": "white",
            "linecolor": "white",
            "ticks": ""
           }
          },
          "scene": {
           "xaxis": {
            "backgroundcolor": "#E5ECF6",
            "gridcolor": "white",
            "gridwidth": 2,
            "linecolor": "white",
            "showbackground": true,
            "ticks": "",
            "zerolinecolor": "white"
           },
           "yaxis": {
            "backgroundcolor": "#E5ECF6",
            "gridcolor": "white",
            "gridwidth": 2,
            "linecolor": "white",
            "showbackground": true,
            "ticks": "",
            "zerolinecolor": "white"
           },
           "zaxis": {
            "backgroundcolor": "#E5ECF6",
            "gridcolor": "white",
            "gridwidth": 2,
            "linecolor": "white",
            "showbackground": true,
            "ticks": "",
            "zerolinecolor": "white"
           }
          },
          "shapedefaults": {
           "line": {
            "color": "#2a3f5f"
           }
          },
          "ternary": {
           "aaxis": {
            "gridcolor": "white",
            "linecolor": "white",
            "ticks": ""
           },
           "baxis": {
            "gridcolor": "white",
            "linecolor": "white",
            "ticks": ""
           },
           "bgcolor": "#E5ECF6",
           "caxis": {
            "gridcolor": "white",
            "linecolor": "white",
            "ticks": ""
           }
          },
          "title": {
           "x": 0.05
          },
          "xaxis": {
           "automargin": true,
           "gridcolor": "white",
           "linecolor": "white",
           "ticks": "",
           "title": {
            "standoff": 15
           },
           "zerolinecolor": "white",
           "zerolinewidth": 2
          },
          "yaxis": {
           "automargin": true,
           "gridcolor": "white",
           "linecolor": "white",
           "ticks": "",
           "title": {
            "standoff": 15
           },
           "zerolinecolor": "white",
           "zerolinewidth": 2
          }
         }
        },
        "title": {
         "text": "Vader Sentiment Analysis: Sum of Sentiment Compound Scores"
        },
        "xaxis": {
         "anchor": "y",
         "domain": [
          0,
          1
         ],
         "title": {
          "text": "City"
         }
        },
        "yaxis": {
         "anchor": "x",
         "domain": [
          0,
          1
         ],
         "title": {
          "text": "Sum of Compound Sentiment Scores"
         }
        }
       }
      },
      "text/html": [
       "<div>\n",
       "        \n",
       "        \n",
       "            <div id=\"baa927a9-721f-4e57-b469-ad3a0d77a132\" class=\"plotly-graph-div\" style=\"height:600px; width:100%;\"></div>\n",
       "            <script type=\"text/javascript\">\n",
       "                require([\"plotly\"], function(Plotly) {\n",
       "                    window.PLOTLYENV=window.PLOTLYENV || {};\n",
       "                    \n",
       "                if (document.getElementById(\"baa927a9-721f-4e57-b469-ad3a0d77a132\")) {\n",
       "                    Plotly.newPlot(\n",
       "                        'baa927a9-721f-4e57-b469-ad3a0d77a132',\n",
       "                        [{\"alignmentgroup\": \"True\", \"hoverlabel\": {\"namelength\": 0}, \"hovertemplate\": \"sentiment_type=Positive<br>place_name=%{x}<br>sentiment_compound_polarity=%{y}\", \"legendgroup\": \"sentiment_type=Positive\", \"marker\": {\"color\": \"#636efa\"}, \"name\": \"sentiment_type=Positive\", \"offsetgroup\": \"sentiment_type=Positive\", \"orientation\": \"v\", \"showlegend\": true, \"textposition\": \"auto\", \"type\": \"bar\", \"x\": [\"Sydney\", \"Sydney\", \"Sydney\", \"Sydney\", \"Sydney\", \"Sydney\", \"Sydney\", \"Sydney\", \"Sydney\", \"Sydney\", \"Sydney\", \"Sydney\", \"Sydney\", \"Sydney\", \"Sydney\", \"Sydney\", \"Sydney\", \"Sydney\", \"Sydney\", \"Sydney\", \"Sydney\", \"Sydney\", \"Sydney\", \"Sydney\", \"Sydney\", \"Sydney\", \"Sydney\", \"Sydney\", \"Sydney\", \"Sydney\", \"Sydney\", \"Sydney\", \"Sydney\", \"Sydney\", \"Sydney\", \"Sydney\", \"Sydney\", \"Sydney\", \"Sydney\", \"Sydney\", \"Sydney\", \"Sydney\", \"Sydney\", \"Sydney\", \"Sydney\", \"Sydney\", \"Sydney\", \"Sydney\", \"Sydney\", \"Sydney\", \"Sydney\", \"Sydney\", \"Sydney\", \"Sydney\", \"Sydney\", \"Sydney\", \"Sydney\", \"Sydney\", \"Sydney\", \"Sydney\", \"Sydney\", \"Sydney\", \"Sydney\", \"Sydney\", \"Sydney\", \"Sydney\", \"Sydney\", \"Sydney\", \"Sydney\", \"Sydney\", \"Sydney\", \"Sydney\", \"Sydney\", \"Sydney\", \"Sydney\", \"Sydney\", \"Sydney\", \"Sydney\", \"Sydney\", \"Sydney\", \"Sydney\", \"Sydney\", \"Sydney\", \"Sydney\", \"Sydney\", \"Sydney\", \"Sydney\", \"Brisbane\", \"Brisbane\", \"Brisbane\", \"Brisbane\", \"Brisbane\", \"Brisbane\", \"Brisbane\", \"Brisbane\", \"Brisbane\", \"Brisbane\", \"Brisbane\", \"Brisbane\", \"Brisbane\", \"Brisbane\", \"Brisbane\", \"Brisbane\", \"Brisbane\", \"Brisbane\", \"Brisbane\", \"Brisbane\", \"Brisbane\", \"Brisbane\", \"Brisbane\", \"Brisbane\", \"Brisbane\", \"Brisbane\", \"Brisbane\", \"Brisbane\", \"Brisbane\", \"Brisbane\", \"Brisbane\", \"Brisbane\", \"Brisbane\", \"Brisbane\", \"Brisbane\", \"Brisbane\", \"Brisbane\", \"Brisbane\", \"Brisbane\", \"Brisbane\", \"Brisbane\", \"Brisbane\", \"Melbourne\", \"Melbourne\", \"Melbourne\", \"Melbourne\", \"Melbourne\", \"Melbourne\", \"Melbourne\", \"Melbourne\", \"Melbourne\", \"Melbourne\", \"Melbourne\", \"Melbourne\", \"Melbourne\", \"Melbourne\", \"Melbourne\", \"Melbourne\", \"Melbourne\", \"Melbourne\", \"Melbourne\", \"Melbourne\", \"Melbourne\", \"Melbourne\", \"Melbourne\", \"Melbourne\", \"Melbourne\", \"Melbourne\", \"Melbourne\", \"Melbourne\", \"Melbourne\", \"Melbourne\", \"Melbourne\", \"Melbourne\", \"Melbourne\", \"Melbourne\", \"Melbourne\", \"Melbourne\", \"Melbourne\", \"Melbourne\", \"Melbourne\", \"Melbourne\", \"Melbourne\", \"Melbourne\", \"Melbourne\", \"Melbourne\", \"Melbourne\", \"Melbourne\", \"Melbourne\", \"Melbourne\", \"Melbourne\", \"Melbourne\", \"Melbourne\", \"Melbourne\", \"Melbourne\", \"Melbourne\", \"Melbourne\", \"Melbourne\", \"Melbourne\", \"Melbourne\", \"Melbourne\", \"Melbourne\", \"Melbourne\", \"Melbourne\", \"Melbourne\", \"Melbourne\", \"Melbourne\", \"Melbourne\", \"Melbourne\", \"Melbourne\", \"Melbourne\", \"Melbourne\", \"Melbourne\", \"Melbourne\", \"Melbourne\", \"Melbourne\", \"Perth\", \"Perth\", \"Perth\", \"Perth\", \"Perth\", \"Perth\", \"Perth\", \"Perth\", \"Perth\", \"Perth\", \"Perth\", \"Perth\", \"Perth\", \"Perth\", \"Perth\", \"Perth\", \"Perth\", \"Perth\", \"Perth\", \"Adelaide\", \"Adelaide\", \"Adelaide\", \"Adelaide\", \"Adelaide\", \"Adelaide\", \"Adelaide\", \"Adelaide\", \"Adelaide\", \"Adelaide\", \"Canberra\", \"Canberra\", \"Canberra\", \"Canberra\", \"Canberra\", \"Canberra\", \"Canberra\", \"Canberra\", \"Canberra\", \"Canberra\", \"Canberra\", \"Canberra\", \"Canberra\", \"Gold Coast\", \"Gold Coast\", \"Gold Coast\", \"Gold Coast\", \"Gold Coast\", \"Gold Coast\", \"Gold Coast\", \"Gold Coast\", \"Gold Coast\", \"Gold Coast\", \"Gold Coast\", \"Gold Coast\"], \"xaxis\": \"x\", \"y\": [0.8316, 0.6369, 0.3818, 0.6249, 0.8519, 0.6597, 0.296, 0.1027, 0.6369, 0.4939, 0.5719, 0.5267, 0.3612, 0.6369, 0.6597, 0.4215, 0.765, 0.6705, 0.1506, 0.8316, 0.6369, 0.4588, 0.8225, 0.4939, 0.8126, 0.2263, 0.4404, 0.296, 0.6124, 0.7964, 0.7964, 0.2263, 0.5106, 0.3818, 0.296, 0.4939, 0.4019, 0.4939, 0.9432, 0.2732, 0.5106, 0.1779, 0.6705, 0.6597, 0.2263, 0.8834, 0.6369, 0.4939, 0.9169, 0.3182, 0.7579, 0.6369, 0.3612, 0.8176, 0.8176, 0.9393, 0.7506, 0.5719, 0.6908, 0.4939, 0.8519, 0.6808, 0.6124, 0.1779, 0.3612, 0.836, 0.8979, 0.3612, 0.4404, 0.3612, 0.7506, 0.6908, 0.5859, 0.6369, 0.7783, 0.0258, 0.6369, 0.8625, 0.2263, 0.6369, 0.8271, 0.5574, 0.7506, 0.4482, 0.7906, 0.4019, 0.7717, 0.5859, 0.6597, 0.3612, 0.8402, 0.7269, 0.8225, 0.2732, 0.7351, 0.5859, 0.4939, 0.6597, 0.5719, 0.8689, 0.6694, 0.1531, 0.4939, 0.8481, 0.228, 0.6815, 0.5106, 0.7184, 0.7964, 0.6369, 0.296, 0.34, 0.4215, 0.0258, 0.6486, 0.8176, 0.4588, 0.2263, 0.6124, 0.7096, 0.872, 0.7351, 0.9067, 0.4019, 0.4019, 0.4404, 0.5423, 0.8126, 0.6249, 0.6808, 0.0516, 0.8481, 0.8625, 0.296, 0.0772, 0.2732, 0.5719, 0.3612, 0.3612, 0.3612, 0.4404, 0.4404, 0.891, 0.4215, 0.7579, 0.6124, 0.2732, 0.8689, 0.296, 0.2263, 0.3182, 0.9062, 0.765, 0.8402, 0.8779, 0.8316, 0.8404, 0.4767, 0.836, 0.6705, 0.4019, 0.6808, 0.8658, 0.296, 0.6124, 0.5106, 0.6124, 0.5267, 0.5106, 0.6597, 0.8481, 0.6369, 0.8689, 0.6369, 0.872, 0.3612, 0.6597, 0.296, 0.5719, 0.4215, 0.6597, 0.7964, 0.3612, 0.296, 0.4939, 0.8225, 0.7845, 0.9552, 0.4019, 0.8402, 0.3182, 0.296, 0.5106, 0.296, 0.7506, 0.7003, 0.4215, 0.5267, 0.3182, 0.4215, 0.8481, 0.7096, 0.296, 0.6249, 0.9042, 0.7964, 0.5994, 0.2023, 0.25, 0.6705, 0.7351, 0.5994, 0.8885, 0.4404, 0.5267, 0.4404, 0.5106, 0.4404, 0.4588, 0.296, 0.34, 0.4939, 0.5267, 0.7783, 0.4404, 0.91, 0.8442, 0.8316, 0.8074, 0.6597, 0.8074, 0.765, 0.5859, 0.4404, 0.8316, 0.128, 0.4019, 0.2023, 0.8442, 0.7184, 0.5994, 0.8402, 0.0772, 0.7096, 0.4404, 0.296, 0.802, 0.5719, 0.2263, 0.3612, 0.3612, 0.4404, 0.6249, 0.5267, 0.8126, 0.5859, 0.0258], \"yaxis\": \"y\"}, {\"alignmentgroup\": \"True\", \"hoverlabel\": {\"namelength\": 0}, \"hovertemplate\": \"sentiment_type=Negative<br>place_name=%{x}<br>sentiment_compound_polarity=%{y}\", \"legendgroup\": \"sentiment_type=Negative\", \"marker\": {\"color\": \"#EF553B\"}, \"name\": \"sentiment_type=Negative\", \"offsetgroup\": \"sentiment_type=Negative\", \"orientation\": \"v\", \"showlegend\": true, \"textposition\": \"auto\", \"type\": \"bar\", \"x\": [\"Sydney\", \"Sydney\", \"Sydney\", \"Sydney\", \"Sydney\", \"Sydney\", \"Sydney\", \"Sydney\", \"Sydney\", \"Sydney\", \"Sydney\", \"Sydney\", \"Brisbane\", \"Brisbane\", \"Brisbane\", \"Brisbane\", \"Brisbane\", \"Brisbane\", \"Melbourne\", \"Melbourne\", \"Melbourne\", \"Melbourne\", \"Melbourne\", \"Melbourne\", \"Melbourne\", \"Melbourne\", \"Melbourne\", \"Melbourne\", \"Melbourne\", \"Melbourne\", \"Melbourne\", \"Melbourne\", \"Melbourne\", \"Melbourne\", \"Melbourne\", \"Perth\", \"Perth\", \"Perth\", \"Perth\", \"Perth\", \"Perth\", \"Perth\", \"Perth\", \"Perth\", \"Adelaide\", \"Canberra\", \"Canberra\", \"Gold Coast\", \"Gold Coast\", \"Gold Coast\", \"Gold Coast\", \"Gold Coast\", \"Gold Coast\", \"Gold Coast\"], \"xaxis\": \"x\", \"y\": [-0.8442, -0.4588, -0.0516, -0.5106, -0.1531, -0.4215, -0.5719, -0.5859, -0.1098, -0.4019, -0.5267, -0.4585, -0.4215, -0.0258, -0.5719, -0.5609, -0.5574, -0.0516, -0.5994, -0.25, -0.2263, -0.6369, -0.4215, -0.6319, -0.2023, -0.2411, -0.0516, -0.8625, -0.5994, -0.1027, -0.8316, -0.0258, -0.128, -0.6597, -0.5859, -0.296, -0.25, -0.4939, -0.6249, -0.296, -0.296, -0.031, -0.1531, -0.4019, -0.9022, -0.2263, -0.1027, -0.3182, -0.9217, -0.4215, -0.7506, -0.3182, -0.5267, -0.5719], \"yaxis\": \"y\"}],\n",
       "                        {\"barmode\": \"relative\", \"height\": 600, \"legend\": {\"tracegroupgap\": 0}, \"margin\": {\"t\": 60}, \"template\": {\"data\": {\"bar\": [{\"error_x\": {\"color\": \"#2a3f5f\"}, \"error_y\": {\"color\": \"#2a3f5f\"}, \"marker\": {\"line\": {\"color\": \"#E5ECF6\", \"width\": 0.5}}, \"type\": \"bar\"}], \"barpolar\": [{\"marker\": {\"line\": {\"color\": \"#E5ECF6\", \"width\": 0.5}}, \"type\": \"barpolar\"}], \"carpet\": [{\"aaxis\": {\"endlinecolor\": \"#2a3f5f\", \"gridcolor\": \"white\", \"linecolor\": \"white\", \"minorgridcolor\": \"white\", \"startlinecolor\": \"#2a3f5f\"}, \"baxis\": {\"endlinecolor\": \"#2a3f5f\", \"gridcolor\": \"white\", \"linecolor\": \"white\", \"minorgridcolor\": \"white\", \"startlinecolor\": \"#2a3f5f\"}, \"type\": \"carpet\"}], \"choropleth\": [{\"colorbar\": {\"outlinewidth\": 0, \"ticks\": \"\"}, \"type\": \"choropleth\"}], \"contour\": [{\"colorbar\": {\"outlinewidth\": 0, \"ticks\": \"\"}, \"colorscale\": [[0.0, \"#0d0887\"], [0.1111111111111111, \"#46039f\"], [0.2222222222222222, \"#7201a8\"], [0.3333333333333333, \"#9c179e\"], [0.4444444444444444, \"#bd3786\"], [0.5555555555555556, \"#d8576b\"], [0.6666666666666666, \"#ed7953\"], [0.7777777777777778, \"#fb9f3a\"], [0.8888888888888888, \"#fdca26\"], [1.0, \"#f0f921\"]], \"type\": \"contour\"}], \"contourcarpet\": [{\"colorbar\": {\"outlinewidth\": 0, \"ticks\": \"\"}, \"type\": \"contourcarpet\"}], \"heatmap\": [{\"colorbar\": {\"outlinewidth\": 0, \"ticks\": \"\"}, \"colorscale\": [[0.0, \"#0d0887\"], [0.1111111111111111, \"#46039f\"], [0.2222222222222222, \"#7201a8\"], [0.3333333333333333, \"#9c179e\"], [0.4444444444444444, \"#bd3786\"], [0.5555555555555556, \"#d8576b\"], [0.6666666666666666, \"#ed7953\"], [0.7777777777777778, \"#fb9f3a\"], [0.8888888888888888, \"#fdca26\"], [1.0, \"#f0f921\"]], \"type\": \"heatmap\"}], \"heatmapgl\": [{\"colorbar\": {\"outlinewidth\": 0, \"ticks\": \"\"}, \"colorscale\": [[0.0, \"#0d0887\"], [0.1111111111111111, \"#46039f\"], [0.2222222222222222, \"#7201a8\"], [0.3333333333333333, \"#9c179e\"], [0.4444444444444444, \"#bd3786\"], [0.5555555555555556, \"#d8576b\"], [0.6666666666666666, \"#ed7953\"], [0.7777777777777778, \"#fb9f3a\"], [0.8888888888888888, \"#fdca26\"], [1.0, \"#f0f921\"]], \"type\": \"heatmapgl\"}], \"histogram\": [{\"marker\": {\"colorbar\": {\"outlinewidth\": 0, \"ticks\": \"\"}}, \"type\": \"histogram\"}], \"histogram2d\": [{\"colorbar\": {\"outlinewidth\": 0, \"ticks\": \"\"}, \"colorscale\": [[0.0, \"#0d0887\"], [0.1111111111111111, \"#46039f\"], [0.2222222222222222, \"#7201a8\"], [0.3333333333333333, \"#9c179e\"], [0.4444444444444444, \"#bd3786\"], [0.5555555555555556, \"#d8576b\"], [0.6666666666666666, \"#ed7953\"], [0.7777777777777778, \"#fb9f3a\"], [0.8888888888888888, \"#fdca26\"], [1.0, \"#f0f921\"]], \"type\": \"histogram2d\"}], \"histogram2dcontour\": [{\"colorbar\": {\"outlinewidth\": 0, \"ticks\": \"\"}, \"colorscale\": [[0.0, \"#0d0887\"], [0.1111111111111111, \"#46039f\"], [0.2222222222222222, \"#7201a8\"], [0.3333333333333333, \"#9c179e\"], [0.4444444444444444, \"#bd3786\"], [0.5555555555555556, \"#d8576b\"], [0.6666666666666666, \"#ed7953\"], [0.7777777777777778, \"#fb9f3a\"], [0.8888888888888888, \"#fdca26\"], [1.0, \"#f0f921\"]], \"type\": \"histogram2dcontour\"}], \"mesh3d\": [{\"colorbar\": {\"outlinewidth\": 0, \"ticks\": \"\"}, \"type\": \"mesh3d\"}], \"parcoords\": [{\"line\": {\"colorbar\": {\"outlinewidth\": 0, \"ticks\": \"\"}}, \"type\": \"parcoords\"}], \"pie\": [{\"automargin\": true, \"type\": \"pie\"}], \"scatter\": [{\"marker\": {\"colorbar\": {\"outlinewidth\": 0, \"ticks\": \"\"}}, \"type\": \"scatter\"}], \"scatter3d\": [{\"line\": {\"colorbar\": {\"outlinewidth\": 0, \"ticks\": \"\"}}, \"marker\": {\"colorbar\": {\"outlinewidth\": 0, \"ticks\": \"\"}}, \"type\": \"scatter3d\"}], \"scattercarpet\": [{\"marker\": {\"colorbar\": {\"outlinewidth\": 0, \"ticks\": \"\"}}, \"type\": \"scattercarpet\"}], \"scattergeo\": [{\"marker\": {\"colorbar\": {\"outlinewidth\": 0, \"ticks\": \"\"}}, \"type\": \"scattergeo\"}], \"scattergl\": [{\"marker\": {\"colorbar\": {\"outlinewidth\": 0, \"ticks\": \"\"}}, \"type\": \"scattergl\"}], \"scattermapbox\": [{\"marker\": {\"colorbar\": {\"outlinewidth\": 0, \"ticks\": \"\"}}, \"type\": \"scattermapbox\"}], \"scatterpolar\": [{\"marker\": {\"colorbar\": {\"outlinewidth\": 0, \"ticks\": \"\"}}, \"type\": \"scatterpolar\"}], \"scatterpolargl\": [{\"marker\": {\"colorbar\": {\"outlinewidth\": 0, \"ticks\": \"\"}}, \"type\": \"scatterpolargl\"}], \"scatterternary\": [{\"marker\": {\"colorbar\": {\"outlinewidth\": 0, \"ticks\": \"\"}}, \"type\": \"scatterternary\"}], \"surface\": [{\"colorbar\": {\"outlinewidth\": 0, \"ticks\": \"\"}, \"colorscale\": [[0.0, \"#0d0887\"], [0.1111111111111111, \"#46039f\"], [0.2222222222222222, \"#7201a8\"], [0.3333333333333333, \"#9c179e\"], [0.4444444444444444, \"#bd3786\"], [0.5555555555555556, \"#d8576b\"], [0.6666666666666666, \"#ed7953\"], [0.7777777777777778, \"#fb9f3a\"], [0.8888888888888888, \"#fdca26\"], [1.0, \"#f0f921\"]], \"type\": \"surface\"}], \"table\": [{\"cells\": {\"fill\": {\"color\": \"#EBF0F8\"}, \"line\": {\"color\": \"white\"}}, \"header\": {\"fill\": {\"color\": \"#C8D4E3\"}, \"line\": {\"color\": \"white\"}}, \"type\": \"table\"}]}, \"layout\": {\"annotationdefaults\": {\"arrowcolor\": \"#2a3f5f\", \"arrowhead\": 0, \"arrowwidth\": 1}, \"coloraxis\": {\"colorbar\": {\"outlinewidth\": 0, \"ticks\": \"\"}}, \"colorscale\": {\"diverging\": [[0, \"#8e0152\"], [0.1, \"#c51b7d\"], [0.2, \"#de77ae\"], [0.3, \"#f1b6da\"], [0.4, \"#fde0ef\"], [0.5, \"#f7f7f7\"], [0.6, \"#e6f5d0\"], [0.7, \"#b8e186\"], [0.8, \"#7fbc41\"], [0.9, \"#4d9221\"], [1, \"#276419\"]], \"sequential\": [[0.0, \"#0d0887\"], [0.1111111111111111, \"#46039f\"], [0.2222222222222222, \"#7201a8\"], [0.3333333333333333, \"#9c179e\"], [0.4444444444444444, \"#bd3786\"], [0.5555555555555556, \"#d8576b\"], [0.6666666666666666, \"#ed7953\"], [0.7777777777777778, \"#fb9f3a\"], [0.8888888888888888, \"#fdca26\"], [1.0, \"#f0f921\"]], \"sequentialminus\": [[0.0, \"#0d0887\"], [0.1111111111111111, \"#46039f\"], [0.2222222222222222, \"#7201a8\"], [0.3333333333333333, \"#9c179e\"], [0.4444444444444444, \"#bd3786\"], [0.5555555555555556, \"#d8576b\"], [0.6666666666666666, \"#ed7953\"], [0.7777777777777778, \"#fb9f3a\"], [0.8888888888888888, \"#fdca26\"], [1.0, \"#f0f921\"]]}, \"colorway\": [\"#636efa\", \"#EF553B\", \"#00cc96\", \"#ab63fa\", \"#FFA15A\", \"#19d3f3\", \"#FF6692\", \"#B6E880\", \"#FF97FF\", \"#FECB52\"], \"font\": {\"color\": \"#2a3f5f\"}, \"geo\": {\"bgcolor\": \"white\", \"lakecolor\": \"white\", \"landcolor\": \"#E5ECF6\", \"showlakes\": true, \"showland\": true, \"subunitcolor\": \"white\"}, \"hoverlabel\": {\"align\": \"left\"}, \"hovermode\": \"closest\", \"mapbox\": {\"style\": \"light\"}, \"paper_bgcolor\": \"white\", \"plot_bgcolor\": \"#E5ECF6\", \"polar\": {\"angularaxis\": {\"gridcolor\": \"white\", \"linecolor\": \"white\", \"ticks\": \"\"}, \"bgcolor\": \"#E5ECF6\", \"radialaxis\": {\"gridcolor\": \"white\", \"linecolor\": \"white\", \"ticks\": \"\"}}, \"scene\": {\"xaxis\": {\"backgroundcolor\": \"#E5ECF6\", \"gridcolor\": \"white\", \"gridwidth\": 2, \"linecolor\": \"white\", \"showbackground\": true, \"ticks\": \"\", \"zerolinecolor\": \"white\"}, \"yaxis\": {\"backgroundcolor\": \"#E5ECF6\", \"gridcolor\": \"white\", \"gridwidth\": 2, \"linecolor\": \"white\", \"showbackground\": true, \"ticks\": \"\", \"zerolinecolor\": \"white\"}, \"zaxis\": {\"backgroundcolor\": \"#E5ECF6\", \"gridcolor\": \"white\", \"gridwidth\": 2, \"linecolor\": \"white\", \"showbackground\": true, \"ticks\": \"\", \"zerolinecolor\": \"white\"}}, \"shapedefaults\": {\"line\": {\"color\": \"#2a3f5f\"}}, \"ternary\": {\"aaxis\": {\"gridcolor\": \"white\", \"linecolor\": \"white\", \"ticks\": \"\"}, \"baxis\": {\"gridcolor\": \"white\", \"linecolor\": \"white\", \"ticks\": \"\"}, \"bgcolor\": \"#E5ECF6\", \"caxis\": {\"gridcolor\": \"white\", \"linecolor\": \"white\", \"ticks\": \"\"}}, \"title\": {\"x\": 0.05}, \"xaxis\": {\"automargin\": true, \"gridcolor\": \"white\", \"linecolor\": \"white\", \"ticks\": \"\", \"title\": {\"standoff\": 15}, \"zerolinecolor\": \"white\", \"zerolinewidth\": 2}, \"yaxis\": {\"automargin\": true, \"gridcolor\": \"white\", \"linecolor\": \"white\", \"ticks\": \"\", \"title\": {\"standoff\": 15}, \"zerolinecolor\": \"white\", \"zerolinewidth\": 2}}}, \"title\": {\"text\": \"Vader Sentiment Analysis: Sum of Sentiment Compound Scores\"}, \"xaxis\": {\"anchor\": \"y\", \"domain\": [0.0, 1.0], \"title\": {\"text\": \"City\"}}, \"yaxis\": {\"anchor\": \"x\", \"domain\": [0.0, 1.0], \"title\": {\"text\": \"Sum of Compound Sentiment Scores\"}}},\n",
       "                        {\"responsive\": true}\n",
       "                    ).then(function(){\n",
       "                            \n",
       "var gd = document.getElementById('baa927a9-721f-4e57-b469-ad3a0d77a132');\n",
       "var x = new MutationObserver(function (mutations, observer) {{\n",
       "        var display = window.getComputedStyle(gd).display;\n",
       "        if (!display || display === 'none') {{\n",
       "            console.log([gd, 'removed!']);\n",
       "            Plotly.purge(gd);\n",
       "            observer.disconnect();\n",
       "        }}\n",
       "}});\n",
       "\n",
       "// Listen for the removal of the full notebook cells\n",
       "var notebookContainer = gd.closest('#notebook-container');\n",
       "if (notebookContainer) {{\n",
       "    x.observe(notebookContainer, {childList: true});\n",
       "}}\n",
       "\n",
       "// Listen for the clearing of the current output cell\n",
       "var outputEl = gd.closest('.output');\n",
       "if (outputEl) {{\n",
       "    x.observe(outputEl, {childList: true});\n",
       "}}\n",
       "\n",
       "                        })\n",
       "                };\n",
       "                });\n",
       "            </script>\n",
       "        </div>"
      ]
     },
     "metadata": {},
     "output_type": "display_data"
    }
   ],
   "source": [
    "import plotly.express as px\n",
    "city_senti = city_df[city_df.sentiment_type.isin(['Positive','Negative'])]\n",
    "fig = px.bar(city_senti, x=\"place_name\", y=\"sentiment_compound_polarity\", color='sentiment_type')\n",
    "fig.update_xaxes(title='City')\n",
    "fig.update_yaxes(title='Sum of Compound Sentiment Scores')\n",
    "fig.update_layout(title_text=\"Vader Sentiment Analysis: Sum of Sentiment Compound Scores\")\n",
    "fig.show()"
   ]
  },
  {
   "cell_type": "code",
   "execution_count": 34,
   "metadata": {},
   "outputs": [],
   "source": [
    "city_df = city_df.groupby(['created_at_date','place_name']).agg({'sentiment_compound_polarity': 'mean'}).reset_index()"
   ]
  },
  {
   "cell_type": "code",
   "execution_count": 35,
   "metadata": {},
   "outputs": [],
   "source": [
    "bris_df=city_df[city_df.place_name=='Brisbane']\n",
    "melb_df=city_df[city_df.place_name=='Melbourne']\n",
    "sy_df=city_df[city_df.place_name=='Sydney']\n",
    "can_df=city_df[city_df.place_name=='Canberra']"
   ]
  },
  {
   "cell_type": "code",
   "execution_count": 36,
   "metadata": {},
   "outputs": [
    {
     "data": {
      "application/vnd.plotly.v1+json": {
       "config": {
        "plotlyServerURL": "https://plot.ly"
       },
       "data": [
        {
         "mode": "lines",
         "type": "scatter",
         "x": [
          "2019-09-08",
          "2019-09-09",
          "2019-09-10",
          "2019-09-11",
          "2019-09-12",
          "2019-09-13",
          "2019-09-14",
          "2019-09-15",
          "2019-09-17",
          "2019-09-18",
          "2019-09-25",
          "2019-09-26"
         ],
         "xaxis": "x",
         "y": [
          0.296,
          0.3548,
          0.12781666666666666,
          0.346925,
          0.3571919354838709,
          0.06515999999999997,
          0.0516,
          0.7764,
          0.6369,
          -0.6597,
          -0.5859,
          0
         ],
         "yaxis": "y"
        },
        {
         "mode": "lines",
         "type": "scatter",
         "x": [
          "2019-09-05",
          "2019-09-10",
          "2019-09-11",
          "2019-09-12",
          "2019-09-13",
          "2019-09-15",
          "2019-09-24"
         ],
         "xaxis": "x3",
         "y": [
          0.5859,
          0.39835000000000004,
          0.16911874999999998,
          0.45800882352941175,
          0.1568,
          0.4588,
          0
         ],
         "yaxis": "y3"
        },
        {
         "mode": "lines",
         "type": "scatter",
         "x": [
          "2019-09-06",
          "2019-09-07",
          "2019-09-08",
          "2019-09-09",
          "2019-09-10",
          "2019-09-11",
          "2019-09-12",
          "2019-09-13",
          "2019-09-14",
          "2019-09-15",
          "2019-09-16",
          "2019-09-18",
          "2019-09-20",
          "2019-09-27",
          "2019-09-30",
          "2019-10-04"
         ],
         "xaxis": "x2",
         "y": [
          0,
          0.21230000000000002,
          0.4019,
          0.50845,
          0.1765,
          0.34564883720930234,
          0.3553310344827587,
          0.3182,
          0.8316,
          0.6825666666666667,
          0.4546,
          0,
          0,
          0.7783,
          0.8316,
          0.7717
         ],
         "yaxis": "y2"
        },
        {
         "mode": "lines",
         "type": "scatter",
         "x": [
          "2019-09-09",
          "2019-09-11",
          "2019-09-12",
          "2019-09-14"
         ],
         "xaxis": "x4",
         "y": [
          0,
          0.3117857142857143,
          0.35900000000000004,
          0
         ],
         "yaxis": "y4"
        }
       ],
       "layout": {
        "annotations": [
         {
          "font": {
           "size": 16
          },
          "showarrow": false,
          "text": "Melbourne",
          "x": 0.225,
          "xanchor": "center",
          "xref": "paper",
          "y": 1,
          "yanchor": "bottom",
          "yref": "paper"
         },
         {
          "font": {
           "size": 16
          },
          "showarrow": false,
          "text": "Sydney",
          "x": 0.775,
          "xanchor": "center",
          "xref": "paper",
          "y": 1,
          "yanchor": "bottom",
          "yref": "paper"
         },
         {
          "font": {
           "size": 16
          },
          "showarrow": false,
          "text": "Brisbane",
          "x": 0.225,
          "xanchor": "center",
          "xref": "paper",
          "y": 0.375,
          "yanchor": "bottom",
          "yref": "paper"
         },
         {
          "font": {
           "size": 16
          },
          "showarrow": false,
          "text": "Canberra",
          "x": 0.775,
          "xanchor": "center",
          "xref": "paper",
          "y": 0.375,
          "yanchor": "bottom",
          "yref": "paper"
         }
        ],
        "height": 800,
        "showlegend": false,
        "template": {
         "data": {
          "bar": [
           {
            "error_x": {
             "color": "#2a3f5f"
            },
            "error_y": {
             "color": "#2a3f5f"
            },
            "marker": {
             "line": {
              "color": "#E5ECF6",
              "width": 0.5
             }
            },
            "type": "bar"
           }
          ],
          "barpolar": [
           {
            "marker": {
             "line": {
              "color": "#E5ECF6",
              "width": 0.5
             }
            },
            "type": "barpolar"
           }
          ],
          "carpet": [
           {
            "aaxis": {
             "endlinecolor": "#2a3f5f",
             "gridcolor": "white",
             "linecolor": "white",
             "minorgridcolor": "white",
             "startlinecolor": "#2a3f5f"
            },
            "baxis": {
             "endlinecolor": "#2a3f5f",
             "gridcolor": "white",
             "linecolor": "white",
             "minorgridcolor": "white",
             "startlinecolor": "#2a3f5f"
            },
            "type": "carpet"
           }
          ],
          "choropleth": [
           {
            "colorbar": {
             "outlinewidth": 0,
             "ticks": ""
            },
            "type": "choropleth"
           }
          ],
          "contour": [
           {
            "colorbar": {
             "outlinewidth": 0,
             "ticks": ""
            },
            "colorscale": [
             [
              0,
              "#0d0887"
             ],
             [
              0.1111111111111111,
              "#46039f"
             ],
             [
              0.2222222222222222,
              "#7201a8"
             ],
             [
              0.3333333333333333,
              "#9c179e"
             ],
             [
              0.4444444444444444,
              "#bd3786"
             ],
             [
              0.5555555555555556,
              "#d8576b"
             ],
             [
              0.6666666666666666,
              "#ed7953"
             ],
             [
              0.7777777777777778,
              "#fb9f3a"
             ],
             [
              0.8888888888888888,
              "#fdca26"
             ],
             [
              1,
              "#f0f921"
             ]
            ],
            "type": "contour"
           }
          ],
          "contourcarpet": [
           {
            "colorbar": {
             "outlinewidth": 0,
             "ticks": ""
            },
            "type": "contourcarpet"
           }
          ],
          "heatmap": [
           {
            "colorbar": {
             "outlinewidth": 0,
             "ticks": ""
            },
            "colorscale": [
             [
              0,
              "#0d0887"
             ],
             [
              0.1111111111111111,
              "#46039f"
             ],
             [
              0.2222222222222222,
              "#7201a8"
             ],
             [
              0.3333333333333333,
              "#9c179e"
             ],
             [
              0.4444444444444444,
              "#bd3786"
             ],
             [
              0.5555555555555556,
              "#d8576b"
             ],
             [
              0.6666666666666666,
              "#ed7953"
             ],
             [
              0.7777777777777778,
              "#fb9f3a"
             ],
             [
              0.8888888888888888,
              "#fdca26"
             ],
             [
              1,
              "#f0f921"
             ]
            ],
            "type": "heatmap"
           }
          ],
          "heatmapgl": [
           {
            "colorbar": {
             "outlinewidth": 0,
             "ticks": ""
            },
            "colorscale": [
             [
              0,
              "#0d0887"
             ],
             [
              0.1111111111111111,
              "#46039f"
             ],
             [
              0.2222222222222222,
              "#7201a8"
             ],
             [
              0.3333333333333333,
              "#9c179e"
             ],
             [
              0.4444444444444444,
              "#bd3786"
             ],
             [
              0.5555555555555556,
              "#d8576b"
             ],
             [
              0.6666666666666666,
              "#ed7953"
             ],
             [
              0.7777777777777778,
              "#fb9f3a"
             ],
             [
              0.8888888888888888,
              "#fdca26"
             ],
             [
              1,
              "#f0f921"
             ]
            ],
            "type": "heatmapgl"
           }
          ],
          "histogram": [
           {
            "marker": {
             "colorbar": {
              "outlinewidth": 0,
              "ticks": ""
             }
            },
            "type": "histogram"
           }
          ],
          "histogram2d": [
           {
            "colorbar": {
             "outlinewidth": 0,
             "ticks": ""
            },
            "colorscale": [
             [
              0,
              "#0d0887"
             ],
             [
              0.1111111111111111,
              "#46039f"
             ],
             [
              0.2222222222222222,
              "#7201a8"
             ],
             [
              0.3333333333333333,
              "#9c179e"
             ],
             [
              0.4444444444444444,
              "#bd3786"
             ],
             [
              0.5555555555555556,
              "#d8576b"
             ],
             [
              0.6666666666666666,
              "#ed7953"
             ],
             [
              0.7777777777777778,
              "#fb9f3a"
             ],
             [
              0.8888888888888888,
              "#fdca26"
             ],
             [
              1,
              "#f0f921"
             ]
            ],
            "type": "histogram2d"
           }
          ],
          "histogram2dcontour": [
           {
            "colorbar": {
             "outlinewidth": 0,
             "ticks": ""
            },
            "colorscale": [
             [
              0,
              "#0d0887"
             ],
             [
              0.1111111111111111,
              "#46039f"
             ],
             [
              0.2222222222222222,
              "#7201a8"
             ],
             [
              0.3333333333333333,
              "#9c179e"
             ],
             [
              0.4444444444444444,
              "#bd3786"
             ],
             [
              0.5555555555555556,
              "#d8576b"
             ],
             [
              0.6666666666666666,
              "#ed7953"
             ],
             [
              0.7777777777777778,
              "#fb9f3a"
             ],
             [
              0.8888888888888888,
              "#fdca26"
             ],
             [
              1,
              "#f0f921"
             ]
            ],
            "type": "histogram2dcontour"
           }
          ],
          "mesh3d": [
           {
            "colorbar": {
             "outlinewidth": 0,
             "ticks": ""
            },
            "type": "mesh3d"
           }
          ],
          "parcoords": [
           {
            "line": {
             "colorbar": {
              "outlinewidth": 0,
              "ticks": ""
             }
            },
            "type": "parcoords"
           }
          ],
          "pie": [
           {
            "automargin": true,
            "type": "pie"
           }
          ],
          "scatter": [
           {
            "marker": {
             "colorbar": {
              "outlinewidth": 0,
              "ticks": ""
             }
            },
            "type": "scatter"
           }
          ],
          "scatter3d": [
           {
            "line": {
             "colorbar": {
              "outlinewidth": 0,
              "ticks": ""
             }
            },
            "marker": {
             "colorbar": {
              "outlinewidth": 0,
              "ticks": ""
             }
            },
            "type": "scatter3d"
           }
          ],
          "scattercarpet": [
           {
            "marker": {
             "colorbar": {
              "outlinewidth": 0,
              "ticks": ""
             }
            },
            "type": "scattercarpet"
           }
          ],
          "scattergeo": [
           {
            "marker": {
             "colorbar": {
              "outlinewidth": 0,
              "ticks": ""
             }
            },
            "type": "scattergeo"
           }
          ],
          "scattergl": [
           {
            "marker": {
             "colorbar": {
              "outlinewidth": 0,
              "ticks": ""
             }
            },
            "type": "scattergl"
           }
          ],
          "scattermapbox": [
           {
            "marker": {
             "colorbar": {
              "outlinewidth": 0,
              "ticks": ""
             }
            },
            "type": "scattermapbox"
           }
          ],
          "scatterpolar": [
           {
            "marker": {
             "colorbar": {
              "outlinewidth": 0,
              "ticks": ""
             }
            },
            "type": "scatterpolar"
           }
          ],
          "scatterpolargl": [
           {
            "marker": {
             "colorbar": {
              "outlinewidth": 0,
              "ticks": ""
             }
            },
            "type": "scatterpolargl"
           }
          ],
          "scatterternary": [
           {
            "marker": {
             "colorbar": {
              "outlinewidth": 0,
              "ticks": ""
             }
            },
            "type": "scatterternary"
           }
          ],
          "surface": [
           {
            "colorbar": {
             "outlinewidth": 0,
             "ticks": ""
            },
            "colorscale": [
             [
              0,
              "#0d0887"
             ],
             [
              0.1111111111111111,
              "#46039f"
             ],
             [
              0.2222222222222222,
              "#7201a8"
             ],
             [
              0.3333333333333333,
              "#9c179e"
             ],
             [
              0.4444444444444444,
              "#bd3786"
             ],
             [
              0.5555555555555556,
              "#d8576b"
             ],
             [
              0.6666666666666666,
              "#ed7953"
             ],
             [
              0.7777777777777778,
              "#fb9f3a"
             ],
             [
              0.8888888888888888,
              "#fdca26"
             ],
             [
              1,
              "#f0f921"
             ]
            ],
            "type": "surface"
           }
          ],
          "table": [
           {
            "cells": {
             "fill": {
              "color": "#EBF0F8"
             },
             "line": {
              "color": "white"
             }
            },
            "header": {
             "fill": {
              "color": "#C8D4E3"
             },
             "line": {
              "color": "white"
             }
            },
            "type": "table"
           }
          ]
         },
         "layout": {
          "annotationdefaults": {
           "arrowcolor": "#2a3f5f",
           "arrowhead": 0,
           "arrowwidth": 1
          },
          "coloraxis": {
           "colorbar": {
            "outlinewidth": 0,
            "ticks": ""
           }
          },
          "colorscale": {
           "diverging": [
            [
             0,
             "#8e0152"
            ],
            [
             0.1,
             "#c51b7d"
            ],
            [
             0.2,
             "#de77ae"
            ],
            [
             0.3,
             "#f1b6da"
            ],
            [
             0.4,
             "#fde0ef"
            ],
            [
             0.5,
             "#f7f7f7"
            ],
            [
             0.6,
             "#e6f5d0"
            ],
            [
             0.7,
             "#b8e186"
            ],
            [
             0.8,
             "#7fbc41"
            ],
            [
             0.9,
             "#4d9221"
            ],
            [
             1,
             "#276419"
            ]
           ],
           "sequential": [
            [
             0,
             "#0d0887"
            ],
            [
             0.1111111111111111,
             "#46039f"
            ],
            [
             0.2222222222222222,
             "#7201a8"
            ],
            [
             0.3333333333333333,
             "#9c179e"
            ],
            [
             0.4444444444444444,
             "#bd3786"
            ],
            [
             0.5555555555555556,
             "#d8576b"
            ],
            [
             0.6666666666666666,
             "#ed7953"
            ],
            [
             0.7777777777777778,
             "#fb9f3a"
            ],
            [
             0.8888888888888888,
             "#fdca26"
            ],
            [
             1,
             "#f0f921"
            ]
           ],
           "sequentialminus": [
            [
             0,
             "#0d0887"
            ],
            [
             0.1111111111111111,
             "#46039f"
            ],
            [
             0.2222222222222222,
             "#7201a8"
            ],
            [
             0.3333333333333333,
             "#9c179e"
            ],
            [
             0.4444444444444444,
             "#bd3786"
            ],
            [
             0.5555555555555556,
             "#d8576b"
            ],
            [
             0.6666666666666666,
             "#ed7953"
            ],
            [
             0.7777777777777778,
             "#fb9f3a"
            ],
            [
             0.8888888888888888,
             "#fdca26"
            ],
            [
             1,
             "#f0f921"
            ]
           ]
          },
          "colorway": [
           "#636efa",
           "#EF553B",
           "#00cc96",
           "#ab63fa",
           "#FFA15A",
           "#19d3f3",
           "#FF6692",
           "#B6E880",
           "#FF97FF",
           "#FECB52"
          ],
          "font": {
           "color": "#2a3f5f"
          },
          "geo": {
           "bgcolor": "white",
           "lakecolor": "white",
           "landcolor": "#E5ECF6",
           "showlakes": true,
           "showland": true,
           "subunitcolor": "white"
          },
          "hoverlabel": {
           "align": "left"
          },
          "hovermode": "closest",
          "mapbox": {
           "style": "light"
          },
          "paper_bgcolor": "white",
          "plot_bgcolor": "#E5ECF6",
          "polar": {
           "angularaxis": {
            "gridcolor": "white",
            "linecolor": "white",
            "ticks": ""
           },
           "bgcolor": "#E5ECF6",
           "radialaxis": {
            "gridcolor": "white",
            "linecolor": "white",
            "ticks": ""
           }
          },
          "scene": {
           "xaxis": {
            "backgroundcolor": "#E5ECF6",
            "gridcolor": "white",
            "gridwidth": 2,
            "linecolor": "white",
            "showbackground": true,
            "ticks": "",
            "zerolinecolor": "white"
           },
           "yaxis": {
            "backgroundcolor": "#E5ECF6",
            "gridcolor": "white",
            "gridwidth": 2,
            "linecolor": "white",
            "showbackground": true,
            "ticks": "",
            "zerolinecolor": "white"
           },
           "zaxis": {
            "backgroundcolor": "#E5ECF6",
            "gridcolor": "white",
            "gridwidth": 2,
            "linecolor": "white",
            "showbackground": true,
            "ticks": "",
            "zerolinecolor": "white"
           }
          },
          "shapedefaults": {
           "line": {
            "color": "#2a3f5f"
           }
          },
          "ternary": {
           "aaxis": {
            "gridcolor": "white",
            "linecolor": "white",
            "ticks": ""
           },
           "baxis": {
            "gridcolor": "white",
            "linecolor": "white",
            "ticks": ""
           },
           "bgcolor": "#E5ECF6",
           "caxis": {
            "gridcolor": "white",
            "linecolor": "white",
            "ticks": ""
           }
          },
          "title": {
           "x": 0.05
          },
          "xaxis": {
           "automargin": true,
           "gridcolor": "white",
           "linecolor": "white",
           "ticks": "",
           "title": {
            "standoff": 15
           },
           "zerolinecolor": "white",
           "zerolinewidth": 2
          },
          "yaxis": {
           "automargin": true,
           "gridcolor": "white",
           "linecolor": "white",
           "ticks": "",
           "title": {
            "standoff": 15
           },
           "zerolinecolor": "white",
           "zerolinewidth": 2
          }
         }
        },
        "title": {
         "text": "Vader Sentiment Analysis: Average Compound Scores by City"
        },
        "width": 900,
        "xaxis": {
         "anchor": "y",
         "domain": [
          0,
          0.45
         ],
         "range": [
          "2019-09-03",
          "2019-10-05"
         ]
        },
        "xaxis2": {
         "anchor": "y2",
         "domain": [
          0.55,
          1
         ],
         "range": [
          "2019-09-03",
          "2019-10-05"
         ]
        },
        "xaxis3": {
         "anchor": "y3",
         "domain": [
          0,
          0.45
         ],
         "range": [
          "2019-09-03",
          "2019-10-05"
         ]
        },
        "xaxis4": {
         "anchor": "y4",
         "domain": [
          0.55,
          1
         ],
         "range": [
          "2019-09-03",
          "2019-10-05"
         ]
        },
        "yaxis": {
         "anchor": "x",
         "domain": [
          0.625,
          1
         ],
         "range": [
          -1,
          1
         ]
        },
        "yaxis2": {
         "anchor": "x2",
         "domain": [
          0.625,
          1
         ],
         "range": [
          -1,
          1
         ]
        },
        "yaxis3": {
         "anchor": "x3",
         "domain": [
          0,
          0.375
         ],
         "range": [
          -1,
          1
         ]
        },
        "yaxis4": {
         "anchor": "x4",
         "domain": [
          0,
          0.375
         ],
         "range": [
          -1,
          1
         ]
        }
       }
      },
      "text/html": [
       "<div>\n",
       "        \n",
       "        \n",
       "            <div id=\"6ad78e22-4ad8-4c2a-b343-1b39271e5237\" class=\"plotly-graph-div\" style=\"height:800px; width:900px;\"></div>\n",
       "            <script type=\"text/javascript\">\n",
       "                require([\"plotly\"], function(Plotly) {\n",
       "                    window.PLOTLYENV=window.PLOTLYENV || {};\n",
       "                    \n",
       "                if (document.getElementById(\"6ad78e22-4ad8-4c2a-b343-1b39271e5237\")) {\n",
       "                    Plotly.newPlot(\n",
       "                        '6ad78e22-4ad8-4c2a-b343-1b39271e5237',\n",
       "                        [{\"mode\": \"lines\", \"type\": \"scatter\", \"x\": [\"2019-09-08\", \"2019-09-09\", \"2019-09-10\", \"2019-09-11\", \"2019-09-12\", \"2019-09-13\", \"2019-09-14\", \"2019-09-15\", \"2019-09-17\", \"2019-09-18\", \"2019-09-25\", \"2019-09-26\"], \"xaxis\": \"x\", \"y\": [0.296, 0.3548, 0.12781666666666666, 0.346925, 0.3571919354838709, 0.06515999999999997, 0.0516, 0.7764, 0.6369, -0.6597, -0.5859, 0.0], \"yaxis\": \"y\"}, {\"mode\": \"lines\", \"type\": \"scatter\", \"x\": [\"2019-09-05\", \"2019-09-10\", \"2019-09-11\", \"2019-09-12\", \"2019-09-13\", \"2019-09-15\", \"2019-09-24\"], \"xaxis\": \"x3\", \"y\": [0.5859, 0.39835000000000004, 0.16911874999999998, 0.45800882352941175, 0.1568, 0.4588, 0.0], \"yaxis\": \"y3\"}, {\"mode\": \"lines\", \"type\": \"scatter\", \"x\": [\"2019-09-06\", \"2019-09-07\", \"2019-09-08\", \"2019-09-09\", \"2019-09-10\", \"2019-09-11\", \"2019-09-12\", \"2019-09-13\", \"2019-09-14\", \"2019-09-15\", \"2019-09-16\", \"2019-09-18\", \"2019-09-20\", \"2019-09-27\", \"2019-09-30\", \"2019-10-04\"], \"xaxis\": \"x2\", \"y\": [0.0, 0.21230000000000002, 0.4019, 0.50845, 0.1765, 0.34564883720930234, 0.3553310344827587, 0.3182, 0.8316, 0.6825666666666667, 0.4546, 0.0, 0.0, 0.7783, 0.8316, 0.7717], \"yaxis\": \"y2\"}, {\"mode\": \"lines\", \"type\": \"scatter\", \"x\": [\"2019-09-09\", \"2019-09-11\", \"2019-09-12\", \"2019-09-14\"], \"xaxis\": \"x4\", \"y\": [0.0, 0.3117857142857143, 0.35900000000000004, 0.0], \"yaxis\": \"y4\"}],\n",
       "                        {\"annotations\": [{\"font\": {\"size\": 16}, \"showarrow\": false, \"text\": \"Melbourne\", \"x\": 0.225, \"xanchor\": \"center\", \"xref\": \"paper\", \"y\": 1.0, \"yanchor\": \"bottom\", \"yref\": \"paper\"}, {\"font\": {\"size\": 16}, \"showarrow\": false, \"text\": \"Sydney\", \"x\": 0.775, \"xanchor\": \"center\", \"xref\": \"paper\", \"y\": 1.0, \"yanchor\": \"bottom\", \"yref\": \"paper\"}, {\"font\": {\"size\": 16}, \"showarrow\": false, \"text\": \"Brisbane\", \"x\": 0.225, \"xanchor\": \"center\", \"xref\": \"paper\", \"y\": 0.375, \"yanchor\": \"bottom\", \"yref\": \"paper\"}, {\"font\": {\"size\": 16}, \"showarrow\": false, \"text\": \"Canberra\", \"x\": 0.775, \"xanchor\": \"center\", \"xref\": \"paper\", \"y\": 0.375, \"yanchor\": \"bottom\", \"yref\": \"paper\"}], \"height\": 800, \"showlegend\": false, \"template\": {\"data\": {\"bar\": [{\"error_x\": {\"color\": \"#2a3f5f\"}, \"error_y\": {\"color\": \"#2a3f5f\"}, \"marker\": {\"line\": {\"color\": \"#E5ECF6\", \"width\": 0.5}}, \"type\": \"bar\"}], \"barpolar\": [{\"marker\": {\"line\": {\"color\": \"#E5ECF6\", \"width\": 0.5}}, \"type\": \"barpolar\"}], \"carpet\": [{\"aaxis\": {\"endlinecolor\": \"#2a3f5f\", \"gridcolor\": \"white\", \"linecolor\": \"white\", \"minorgridcolor\": \"white\", \"startlinecolor\": \"#2a3f5f\"}, \"baxis\": {\"endlinecolor\": \"#2a3f5f\", \"gridcolor\": \"white\", \"linecolor\": \"white\", \"minorgridcolor\": \"white\", \"startlinecolor\": \"#2a3f5f\"}, \"type\": \"carpet\"}], \"choropleth\": [{\"colorbar\": {\"outlinewidth\": 0, \"ticks\": \"\"}, \"type\": \"choropleth\"}], \"contour\": [{\"colorbar\": {\"outlinewidth\": 0, \"ticks\": \"\"}, \"colorscale\": [[0.0, \"#0d0887\"], [0.1111111111111111, \"#46039f\"], [0.2222222222222222, \"#7201a8\"], [0.3333333333333333, \"#9c179e\"], [0.4444444444444444, \"#bd3786\"], [0.5555555555555556, \"#d8576b\"], [0.6666666666666666, \"#ed7953\"], [0.7777777777777778, \"#fb9f3a\"], [0.8888888888888888, \"#fdca26\"], [1.0, \"#f0f921\"]], \"type\": \"contour\"}], \"contourcarpet\": [{\"colorbar\": {\"outlinewidth\": 0, \"ticks\": \"\"}, \"type\": \"contourcarpet\"}], \"heatmap\": [{\"colorbar\": {\"outlinewidth\": 0, \"ticks\": \"\"}, \"colorscale\": [[0.0, \"#0d0887\"], [0.1111111111111111, \"#46039f\"], [0.2222222222222222, \"#7201a8\"], [0.3333333333333333, \"#9c179e\"], [0.4444444444444444, \"#bd3786\"], [0.5555555555555556, \"#d8576b\"], [0.6666666666666666, \"#ed7953\"], [0.7777777777777778, \"#fb9f3a\"], [0.8888888888888888, \"#fdca26\"], [1.0, \"#f0f921\"]], \"type\": \"heatmap\"}], \"heatmapgl\": [{\"colorbar\": {\"outlinewidth\": 0, \"ticks\": \"\"}, \"colorscale\": [[0.0, \"#0d0887\"], [0.1111111111111111, \"#46039f\"], [0.2222222222222222, \"#7201a8\"], [0.3333333333333333, \"#9c179e\"], [0.4444444444444444, \"#bd3786\"], [0.5555555555555556, \"#d8576b\"], [0.6666666666666666, \"#ed7953\"], [0.7777777777777778, \"#fb9f3a\"], [0.8888888888888888, \"#fdca26\"], [1.0, \"#f0f921\"]], \"type\": \"heatmapgl\"}], \"histogram\": [{\"marker\": {\"colorbar\": {\"outlinewidth\": 0, \"ticks\": \"\"}}, \"type\": \"histogram\"}], \"histogram2d\": [{\"colorbar\": {\"outlinewidth\": 0, \"ticks\": \"\"}, \"colorscale\": [[0.0, \"#0d0887\"], [0.1111111111111111, \"#46039f\"], [0.2222222222222222, \"#7201a8\"], [0.3333333333333333, \"#9c179e\"], [0.4444444444444444, \"#bd3786\"], [0.5555555555555556, \"#d8576b\"], [0.6666666666666666, \"#ed7953\"], [0.7777777777777778, \"#fb9f3a\"], [0.8888888888888888, \"#fdca26\"], [1.0, \"#f0f921\"]], \"type\": \"histogram2d\"}], \"histogram2dcontour\": [{\"colorbar\": {\"outlinewidth\": 0, \"ticks\": \"\"}, \"colorscale\": [[0.0, \"#0d0887\"], [0.1111111111111111, \"#46039f\"], [0.2222222222222222, \"#7201a8\"], [0.3333333333333333, \"#9c179e\"], [0.4444444444444444, \"#bd3786\"], [0.5555555555555556, \"#d8576b\"], [0.6666666666666666, \"#ed7953\"], [0.7777777777777778, \"#fb9f3a\"], [0.8888888888888888, \"#fdca26\"], [1.0, \"#f0f921\"]], \"type\": \"histogram2dcontour\"}], \"mesh3d\": [{\"colorbar\": {\"outlinewidth\": 0, \"ticks\": \"\"}, \"type\": \"mesh3d\"}], \"parcoords\": [{\"line\": {\"colorbar\": {\"outlinewidth\": 0, \"ticks\": \"\"}}, \"type\": \"parcoords\"}], \"pie\": [{\"automargin\": true, \"type\": \"pie\"}], \"scatter\": [{\"marker\": {\"colorbar\": {\"outlinewidth\": 0, \"ticks\": \"\"}}, \"type\": \"scatter\"}], \"scatter3d\": [{\"line\": {\"colorbar\": {\"outlinewidth\": 0, \"ticks\": \"\"}}, \"marker\": {\"colorbar\": {\"outlinewidth\": 0, \"ticks\": \"\"}}, \"type\": \"scatter3d\"}], \"scattercarpet\": [{\"marker\": {\"colorbar\": {\"outlinewidth\": 0, \"ticks\": \"\"}}, \"type\": \"scattercarpet\"}], \"scattergeo\": [{\"marker\": {\"colorbar\": {\"outlinewidth\": 0, \"ticks\": \"\"}}, \"type\": \"scattergeo\"}], \"scattergl\": [{\"marker\": {\"colorbar\": {\"outlinewidth\": 0, \"ticks\": \"\"}}, \"type\": \"scattergl\"}], \"scattermapbox\": [{\"marker\": {\"colorbar\": {\"outlinewidth\": 0, \"ticks\": \"\"}}, \"type\": \"scattermapbox\"}], \"scatterpolar\": [{\"marker\": {\"colorbar\": {\"outlinewidth\": 0, \"ticks\": \"\"}}, \"type\": \"scatterpolar\"}], \"scatterpolargl\": [{\"marker\": {\"colorbar\": {\"outlinewidth\": 0, \"ticks\": \"\"}}, \"type\": \"scatterpolargl\"}], \"scatterternary\": [{\"marker\": {\"colorbar\": {\"outlinewidth\": 0, \"ticks\": \"\"}}, \"type\": \"scatterternary\"}], \"surface\": [{\"colorbar\": {\"outlinewidth\": 0, \"ticks\": \"\"}, \"colorscale\": [[0.0, \"#0d0887\"], [0.1111111111111111, \"#46039f\"], [0.2222222222222222, \"#7201a8\"], [0.3333333333333333, \"#9c179e\"], [0.4444444444444444, \"#bd3786\"], [0.5555555555555556, \"#d8576b\"], [0.6666666666666666, \"#ed7953\"], [0.7777777777777778, \"#fb9f3a\"], [0.8888888888888888, \"#fdca26\"], [1.0, \"#f0f921\"]], \"type\": \"surface\"}], \"table\": [{\"cells\": {\"fill\": {\"color\": \"#EBF0F8\"}, \"line\": {\"color\": \"white\"}}, \"header\": {\"fill\": {\"color\": \"#C8D4E3\"}, \"line\": {\"color\": \"white\"}}, \"type\": \"table\"}]}, \"layout\": {\"annotationdefaults\": {\"arrowcolor\": \"#2a3f5f\", \"arrowhead\": 0, \"arrowwidth\": 1}, \"coloraxis\": {\"colorbar\": {\"outlinewidth\": 0, \"ticks\": \"\"}}, \"colorscale\": {\"diverging\": [[0, \"#8e0152\"], [0.1, \"#c51b7d\"], [0.2, \"#de77ae\"], [0.3, \"#f1b6da\"], [0.4, \"#fde0ef\"], [0.5, \"#f7f7f7\"], [0.6, \"#e6f5d0\"], [0.7, \"#b8e186\"], [0.8, \"#7fbc41\"], [0.9, \"#4d9221\"], [1, \"#276419\"]], \"sequential\": [[0.0, \"#0d0887\"], [0.1111111111111111, \"#46039f\"], [0.2222222222222222, \"#7201a8\"], [0.3333333333333333, \"#9c179e\"], [0.4444444444444444, \"#bd3786\"], [0.5555555555555556, \"#d8576b\"], [0.6666666666666666, \"#ed7953\"], [0.7777777777777778, \"#fb9f3a\"], [0.8888888888888888, \"#fdca26\"], [1.0, \"#f0f921\"]], \"sequentialminus\": [[0.0, \"#0d0887\"], [0.1111111111111111, \"#46039f\"], [0.2222222222222222, \"#7201a8\"], [0.3333333333333333, \"#9c179e\"], [0.4444444444444444, \"#bd3786\"], [0.5555555555555556, \"#d8576b\"], [0.6666666666666666, \"#ed7953\"], [0.7777777777777778, \"#fb9f3a\"], [0.8888888888888888, \"#fdca26\"], [1.0, \"#f0f921\"]]}, \"colorway\": [\"#636efa\", \"#EF553B\", \"#00cc96\", \"#ab63fa\", \"#FFA15A\", \"#19d3f3\", \"#FF6692\", \"#B6E880\", \"#FF97FF\", \"#FECB52\"], \"font\": {\"color\": \"#2a3f5f\"}, \"geo\": {\"bgcolor\": \"white\", \"lakecolor\": \"white\", \"landcolor\": \"#E5ECF6\", \"showlakes\": true, \"showland\": true, \"subunitcolor\": \"white\"}, \"hoverlabel\": {\"align\": \"left\"}, \"hovermode\": \"closest\", \"mapbox\": {\"style\": \"light\"}, \"paper_bgcolor\": \"white\", \"plot_bgcolor\": \"#E5ECF6\", \"polar\": {\"angularaxis\": {\"gridcolor\": \"white\", \"linecolor\": \"white\", \"ticks\": \"\"}, \"bgcolor\": \"#E5ECF6\", \"radialaxis\": {\"gridcolor\": \"white\", \"linecolor\": \"white\", \"ticks\": \"\"}}, \"scene\": {\"xaxis\": {\"backgroundcolor\": \"#E5ECF6\", \"gridcolor\": \"white\", \"gridwidth\": 2, \"linecolor\": \"white\", \"showbackground\": true, \"ticks\": \"\", \"zerolinecolor\": \"white\"}, \"yaxis\": {\"backgroundcolor\": \"#E5ECF6\", \"gridcolor\": \"white\", \"gridwidth\": 2, \"linecolor\": \"white\", \"showbackground\": true, \"ticks\": \"\", \"zerolinecolor\": \"white\"}, \"zaxis\": {\"backgroundcolor\": \"#E5ECF6\", \"gridcolor\": \"white\", \"gridwidth\": 2, \"linecolor\": \"white\", \"showbackground\": true, \"ticks\": \"\", \"zerolinecolor\": \"white\"}}, \"shapedefaults\": {\"line\": {\"color\": \"#2a3f5f\"}}, \"ternary\": {\"aaxis\": {\"gridcolor\": \"white\", \"linecolor\": \"white\", \"ticks\": \"\"}, \"baxis\": {\"gridcolor\": \"white\", \"linecolor\": \"white\", \"ticks\": \"\"}, \"bgcolor\": \"#E5ECF6\", \"caxis\": {\"gridcolor\": \"white\", \"linecolor\": \"white\", \"ticks\": \"\"}}, \"title\": {\"x\": 0.05}, \"xaxis\": {\"automargin\": true, \"gridcolor\": \"white\", \"linecolor\": \"white\", \"ticks\": \"\", \"title\": {\"standoff\": 15}, \"zerolinecolor\": \"white\", \"zerolinewidth\": 2}, \"yaxis\": {\"automargin\": true, \"gridcolor\": \"white\", \"linecolor\": \"white\", \"ticks\": \"\", \"title\": {\"standoff\": 15}, \"zerolinecolor\": \"white\", \"zerolinewidth\": 2}}}, \"title\": {\"text\": \"Vader Sentiment Analysis: Average Compound Scores by City\"}, \"width\": 900, \"xaxis\": {\"anchor\": \"y\", \"domain\": [0.0, 0.45], \"range\": [\"2019-09-03\", \"2019-10-05\"]}, \"xaxis2\": {\"anchor\": \"y2\", \"domain\": [0.55, 1.0], \"range\": [\"2019-09-03\", \"2019-10-05\"]}, \"xaxis3\": {\"anchor\": \"y3\", \"domain\": [0.0, 0.45], \"range\": [\"2019-09-03\", \"2019-10-05\"]}, \"xaxis4\": {\"anchor\": \"y4\", \"domain\": [0.55, 1.0], \"range\": [\"2019-09-03\", \"2019-10-05\"]}, \"yaxis\": {\"anchor\": \"x\", \"domain\": [0.625, 1.0], \"range\": [-1, 1]}, \"yaxis2\": {\"anchor\": \"x2\", \"domain\": [0.625, 1.0], \"range\": [-1, 1]}, \"yaxis3\": {\"anchor\": \"x3\", \"domain\": [0.0, 0.375], \"range\": [-1, 1]}, \"yaxis4\": {\"anchor\": \"x4\", \"domain\": [0.0, 0.375], \"range\": [-1, 1]}},\n",
       "                        {\"responsive\": true}\n",
       "                    ).then(function(){\n",
       "                            \n",
       "var gd = document.getElementById('6ad78e22-4ad8-4c2a-b343-1b39271e5237');\n",
       "var x = new MutationObserver(function (mutations, observer) {{\n",
       "        var display = window.getComputedStyle(gd).display;\n",
       "        if (!display || display === 'none') {{\n",
       "            console.log([gd, 'removed!']);\n",
       "            Plotly.purge(gd);\n",
       "            observer.disconnect();\n",
       "        }}\n",
       "}});\n",
       "\n",
       "// Listen for the removal of the full notebook cells\n",
       "var notebookContainer = gd.closest('#notebook-container');\n",
       "if (notebookContainer) {{\n",
       "    x.observe(notebookContainer, {childList: true});\n",
       "}}\n",
       "\n",
       "// Listen for the clearing of the current output cell\n",
       "var outputEl = gd.closest('.output');\n",
       "if (outputEl) {{\n",
       "    x.observe(outputEl, {childList: true});\n",
       "}}\n",
       "\n",
       "                        })\n",
       "                };\n",
       "                });\n",
       "            </script>\n",
       "        </div>"
      ]
     },
     "metadata": {},
     "output_type": "display_data"
    }
   ],
   "source": [
    "fig = make_subplots(rows=2, cols=2, subplot_titles=(\"Melbourne\", \"Sydney\", \"Brisbane\", \n",
    "                                                    \"Canberra\"))\n",
    "\n",
    "fig.append_trace(go.Scatter(\n",
    "    x = melb_df.created_at_date,\n",
    "    y = melb_df.sentiment_compound_polarity,\n",
    "    mode=\"lines\"), row=1, col=1)\n",
    "\n",
    "fig.append_trace(go.Scatter(\n",
    "    x = bris_df.created_at_date,\n",
    "    y = bris_df.sentiment_compound_polarity,\n",
    "    mode=\"lines\"), row=2, col=1)\n",
    "\n",
    "fig.append_trace(go.Scatter(\n",
    "    x = sy_df.created_at_date,\n",
    "    y = sy_df.sentiment_compound_polarity,\n",
    "    mode=\"lines\"), row=1, col=2)\n",
    "\n",
    "fig.append_trace(go.Scatter(\n",
    "    x = can_df.created_at_date,\n",
    "    y = can_df.sentiment_compound_polarity,\n",
    "    mode=\"lines\"), row=2, col=2)\n",
    "\n",
    "fig.update_yaxes(range=[-1,1],row=1, col=1)\n",
    "fig.update_yaxes(range=[-1,1],row=2, col=1)\n",
    "fig.update_yaxes(range=[-1,1],row=1, col=2)\n",
    "fig.update_yaxes(range=[-1,1],row=2, col=2)\n",
    "\n",
    "fig.update_xaxes(range=['2019-09-03','2019-10-05'],row=1, col=2)\n",
    "fig.update_xaxes(range=['2019-09-03','2019-10-05'],row=2, col=1)\n",
    "fig.update_xaxes(range=['2019-09-03','2019-10-05'],row=1, col=1)\n",
    "fig.update_xaxes(range=['2019-09-03','2019-10-05'],row=2, col=2)\n",
    "\n",
    "fig.update_layout(height=800, width=900, title_text=\"Vader Sentiment Analysis: Average Compound Scores by City\",showlegend=False)\n",
    "fig.show()"
   ]
  },
  {
   "cell_type": "code",
   "execution_count": 37,
   "metadata": {},
   "outputs": [],
   "source": [
    "map_df = ruok_place[['place_full_name','lat','long','sentiment_compound_polarity']]\n",
    "map_df['place_full_name'].replace('Perth, Perth (WA)','Perth, Western Australia',inplace=True)\n",
    "map_df = map_df.groupby(['place_full_name','lat', 'long']).agg({'sentiment_compound_polarity': 'mean'}).reset_index()\n",
    "#create a new column to indicate the sentiment type\n",
    "map_df.loc[map_df.sentiment_compound_polarity>0,'sentiment_type']='Positive'\n",
    "map_df.loc[map_df.sentiment_compound_polarity==0,'sentiment_type']='Neutral'\n",
    "map_df.loc[map_df.sentiment_compound_polarity<0,'sentiment_type']='Negative'"
   ]
  },
  {
   "cell_type": "code",
   "execution_count": 38,
   "metadata": {},
   "outputs": [
    {
     "data": {
      "text/plain": [
       "Positive    60\n",
       "Negative    10\n",
       "Neutral     10\n",
       "Name: sentiment_type, dtype: int64"
      ]
     },
     "execution_count": 38,
     "metadata": {},
     "output_type": "execute_result"
    }
   ],
   "source": [
    "map_df['sentiment_type'].value_counts()"
   ]
  },
  {
   "cell_type": "code",
   "execution_count": 39,
   "metadata": {},
   "outputs": [
    {
     "data": {
      "text/plain": [
       "(70, 6)"
      ]
     },
     "execution_count": 39,
     "metadata": {},
     "output_type": "execute_result"
    }
   ],
   "source": [
    "map_df=map_df[map_df.sentiment_type!='Neutral']\n",
    "map_df['polarity_abs']=map_df['sentiment_compound_polarity'].abs()\n",
    "map_df['polarity_abs']=map_df['polarity_abs']*20\n",
    "map_df.shape"
   ]
  },
  {
   "cell_type": "code",
   "execution_count": 40,
   "metadata": {},
   "outputs": [],
   "source": [
    "import folium \n",
    "import webbrowser"
   ]
  },
  {
   "cell_type": "code",
   "execution_count": 41,
   "metadata": {},
   "outputs": [],
   "source": [
    "latitude = -25.734968\n",
    "longitude = 134.489563\n",
    "sentiment_map = folium.Map(location=[latitude, longitude], zoom_start=3)"
   ]
  },
  {
   "cell_type": "code",
   "execution_count": 42,
   "metadata": {},
   "outputs": [
    {
     "data": {
      "text/html": [
       "<div style=\"width:100%;\"><div style=\"position:relative;width:100%;height:0;padding-bottom:60%;\"><iframe src=\"data:text/html;charset=utf-8;base64,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\" style=\"position:absolute;width:100%;height:100%;left:0;top:0;border:none !important;\" allowfullscreen webkitallowfullscreen mozallowfullscreen></iframe></div></div>"
      ],
      "text/plain": [
       "<folium.folium.Map at 0x277cb367b08>"
      ]
     },
     "execution_count": 42,
     "metadata": {},
     "output_type": "execute_result"
    }
   ],
   "source": [
    "colordict = {'Positive': 'blue','Negative': 'red'}\n",
    "for lat, lon,sentiment_type, polarity_abs,place, polarity_original in zip(map_df['lat'], map_df['long'], \n",
    "                         map_df['sentiment_type'],map_df['polarity_abs'],map_df['place_full_name'],\n",
    "                         map_df['sentiment_compound_polarity']):\n",
    "    folium.CircleMarker(\n",
    "        [lat, lon],\n",
    "        radius=polarity_abs,\n",
    "        popup = (str(place)+\":\"+str(polarity_original)),\n",
    "        color='b',\n",
    "        fill_color=colordict[sentiment_type],\n",
    "        fill=True,\n",
    "        fill_opacity=0.7\n",
    "        ).add_to(sentiment_map)\n",
    "sentiment_map\n",
    "#click to the circe marker to see the place name and the compound polarity score"
   ]
  },
  {
   "cell_type": "markdown",
   "metadata": {},
   "source": [
    "# NRC Sentiment"
   ]
  },
  {
   "cell_type": "code",
   "execution_count": 43,
   "metadata": {},
   "outputs": [],
   "source": [
    "#create a column of unique ID for further merging datasets purpose\n",
    "ruok['UniqueID'] = np.arange(len(ruok))\n",
    "ruok.to_csv('ruok.csv')"
   ]
  },
  {
   "cell_type": "code",
   "execution_count": 46,
   "metadata": {},
   "outputs": [
    {
     "name": "stderr",
     "output_type": "stream",
     "text": [
      "[nltk_data] Downloading package punkt to\n",
      "[nltk_data]     C:\\Users\\Vincent\\AppData\\Roaming\\nltk_data...\n",
      "[nltk_data]   Unzipping tokenizers\\punkt.zip.\n"
     ]
    },
    {
     "data": {
      "text/plain": [
       "True"
      ]
     },
     "execution_count": 46,
     "metadata": {},
     "output_type": "execute_result"
    }
   ],
   "source": [
    "from tqdm import tqdm_notebook as tqdm\n",
    "import csv\n",
    "from nltk import word_tokenize\n",
    "from nltk.stem.snowball import SnowballStemmer\n",
    "from ipywidgets import IntProgress\n",
    "nltk.download('punkt')"
   ]
  },
  {
   "cell_type": "code",
   "execution_count": 47,
   "metadata": {},
   "outputs": [
    {
     "name": "stdout",
     "output_type": "stream",
     "text": [
      "Processed 24799 lines.\n"
     ]
    },
    {
     "data": {
      "application/vnd.jupyter.widget-view+json": {
       "model_id": "61112eb679b64cfb95b53a1d7a874cf3",
       "version_major": 2,
       "version_minor": 0
      },
      "text/plain": [
       "HBox(children=(IntProgress(value=0, max=24798), HTML(value='')))"
      ]
     },
     "metadata": {},
     "output_type": "display_data"
    },
    {
     "name": "stdout",
     "output_type": "stream",
     "text": [
      "\n"
     ]
    }
   ],
   "source": [
    "input_csv_filename='ruok.csv'\n",
    "\n",
    "data = {'text':[],'UniqueID': []}\n",
    "\n",
    "with open(input_csv_filename, encoding='utf-8') as csv_file:\n",
    "    csv_reader = csv.reader(csv_file, delimiter=',')\n",
    "    line_count = 0\n",
    "    for row in csv_reader:\n",
    "        if line_count != 0:\n",
    "            data['text'].append(row[33])\n",
    "            data['UniqueID'].append(row[0])\n",
    "        line_count += 1\n",
    "    print(f'Processed {line_count} lines.')\n",
    "df = pd.DataFrame(data=data)\n",
    "\n",
    "\n",
    "def text_emotion(df, column):\n",
    "    '''\n",
    "    Takes a DataFrame and a specified column of text and adds 10 columns to the\n",
    "    DataFrame for each of the 10 emotions in the NRC Emotion Lexicon, with each\n",
    "    column containing the value of the text in that emotions\n",
    "    INPUT: DataFrame, string\n",
    "    OUTPUT: the original DataFrame with ten new columns\n",
    "    '''\n",
    "\n",
    "    new_df = df.copy()\n",
    "    #read the nrc lexicon file \n",
    "    filepath = ('NRC-Emotion-Lexicon-Wordlevel-v0.92.txt')\n",
    "    emolex_df = pd.read_csv(filepath,\n",
    "                            names=[\"word\", \"emotion\", \"association\"],\n",
    "                            sep='\\t')\n",
    "    emolex_words = emolex_df.pivot(index='word',\n",
    "                                   columns='emotion',\n",
    "                                   values='association').reset_index()\n",
    "    emotions = emolex_words.columns.drop('word')\n",
    "    emo_df = pd.DataFrame(0, index=df.index, columns=emotions)\n",
    "\n",
    "    stemmer = SnowballStemmer(\"english\")\n",
    "\n",
    "    \n",
    "    with tqdm(total=len(list(new_df.iterrows()))) as pbar:\n",
    "        for i, row in new_df.iterrows():\n",
    "            pbar.update(1)\n",
    "            document = word_tokenize(new_df.loc[i][column])\n",
    "            for word in document:\n",
    "                word = stemmer.stem(word.lower())\n",
    "                emo_score = emolex_words[emolex_words.word == word]\n",
    "                if not emo_score.empty:\n",
    "                    for emotion in list(emotions):\n",
    "                        emo_df.at[i, emotion] += emo_score[emotion]\n",
    "\n",
    "    new_df = pd.concat([new_df, emo_df], axis=1)\n",
    "\n",
    "    return new_df\n",
    "\n",
    "result_df = text_emotion(df, 'text')"
   ]
  },
  {
   "cell_type": "code",
   "execution_count": 48,
   "metadata": {},
   "outputs": [
    {
     "data": {
      "text/html": [
       "<div>\n",
       "<style scoped>\n",
       "    .dataframe tbody tr th:only-of-type {\n",
       "        vertical-align: middle;\n",
       "    }\n",
       "\n",
       "    .dataframe tbody tr th {\n",
       "        vertical-align: top;\n",
       "    }\n",
       "\n",
       "    .dataframe thead th {\n",
       "        text-align: right;\n",
       "    }\n",
       "</style>\n",
       "<table border=\"1\" class=\"dataframe\">\n",
       "  <thead>\n",
       "    <tr style=\"text-align: right;\">\n",
       "      <th></th>\n",
       "      <th>text</th>\n",
       "      <th>UniqueID</th>\n",
       "      <th>anger</th>\n",
       "      <th>anticipation</th>\n",
       "      <th>disgust</th>\n",
       "      <th>fear</th>\n",
       "      <th>joy</th>\n",
       "      <th>negative</th>\n",
       "      <th>positive</th>\n",
       "      <th>sadness</th>\n",
       "      <th>surprise</th>\n",
       "      <th>trust</th>\n",
       "    </tr>\n",
       "  </thead>\n",
       "  <tbody>\n",
       "    <tr>\n",
       "      <th>0</th>\n",
       "      <td>ruokday thursday septemb retweet tweet remind ...</td>\n",
       "      <td>0</td>\n",
       "      <td>0</td>\n",
       "      <td>0</td>\n",
       "      <td>0</td>\n",
       "      <td>0</td>\n",
       "      <td>0</td>\n",
       "      <td>0</td>\n",
       "      <td>0</td>\n",
       "      <td>0</td>\n",
       "      <td>0</td>\n",
       "      <td>0</td>\n",
       "    </tr>\n",
       "    <tr>\n",
       "      <th>1</th>\n",
       "      <td>ruokday septemb tweet remind day info help lea...</td>\n",
       "      <td>1</td>\n",
       "      <td>0</td>\n",
       "      <td>0</td>\n",
       "      <td>0</td>\n",
       "      <td>0</td>\n",
       "      <td>0</td>\n",
       "      <td>0</td>\n",
       "      <td>1</td>\n",
       "      <td>0</td>\n",
       "      <td>0</td>\n",
       "      <td>0</td>\n",
       "    </tr>\n",
       "    <tr>\n",
       "      <th>2</th>\n",
       "      <td>ruokday septemb tweet remind day info help lea...</td>\n",
       "      <td>2</td>\n",
       "      <td>0</td>\n",
       "      <td>0</td>\n",
       "      <td>0</td>\n",
       "      <td>0</td>\n",
       "      <td>0</td>\n",
       "      <td>0</td>\n",
       "      <td>1</td>\n",
       "      <td>0</td>\n",
       "      <td>0</td>\n",
       "      <td>0</td>\n",
       "    </tr>\n",
       "  </tbody>\n",
       "</table>\n",
       "</div>"
      ],
      "text/plain": [
       "                                                text UniqueID  anger  \\\n",
       "0  ruokday thursday septemb retweet tweet remind ...        0      0   \n",
       "1  ruokday septemb tweet remind day info help lea...        1      0   \n",
       "2  ruokday septemb tweet remind day info help lea...        2      0   \n",
       "\n",
       "   anticipation  disgust  fear  joy  negative  positive  sadness  surprise  \\\n",
       "0             0        0     0    0         0         0        0         0   \n",
       "1             0        0     0    0         0         1        0         0   \n",
       "2             0        0     0    0         0         1        0         0   \n",
       "\n",
       "   trust  \n",
       "0      0  \n",
       "1      0  \n",
       "2      0  "
      ]
     },
     "execution_count": 48,
     "metadata": {},
     "output_type": "execute_result"
    }
   ],
   "source": [
    "result_df.head(3)"
   ]
  },
  {
   "cell_type": "code",
   "execution_count": 49,
   "metadata": {},
   "outputs": [],
   "source": [
    "result_df.to_csv('nrc_result.csv')"
   ]
  },
  {
   "cell_type": "code",
   "execution_count": 50,
   "metadata": {},
   "outputs": [],
   "source": [
    "nrc_f = 'nrc_result.csv'\n",
    "nrc_result=pd.read_csv(nrc_f)"
   ]
  },
  {
   "cell_type": "code",
   "execution_count": 51,
   "metadata": {},
   "outputs": [],
   "source": [
    "#merge the nrc lexicon results table with the original dataset\n",
    "nrc = ruok.merge(nrc_result, how='inner', left_on='UniqueID', right_on='UniqueID')"
   ]
  },
  {
   "cell_type": "code",
   "execution_count": 52,
   "metadata": {},
   "outputs": [
    {
     "data": {
      "text/plain": [
       "Index(['query', 'query_type', 'id', 'created_at', 'user_screen_name', 'source',\n",
       "       'lang', 'retweet_count', 'favorite_count', 'in_reply_to_screen_name',\n",
       "       'place', 'coordinates', 'user.time_zone', 'full_text', 'hashtags',\n",
       "       'user_mentions', 'in_reply_to_status_id', 'place_type', 'place_name',\n",
       "       'place_full_name', 'country_code', 'country', 'contained_within',\n",
       "       'coordinate_box', 'x_coor', 'y_coor', 'reply_count', 'level',\n",
       "       'tidy_tweet', 'Tweet_tokenized', 'Tweet_nonstop', 'Tweet_stem',\n",
       "       'Tweet_string', 'sentiment_compound_polarity', 'sentiment_neutral',\n",
       "       'sentiment_negative', 'sentiment_pos', 'sentiment_type',\n",
       "       'created_at_date', 'created_at_hour', 'UniqueID', 'Unnamed: 0', 'text',\n",
       "       'anger', 'anticipation', 'disgust', 'fear', 'joy', 'negative',\n",
       "       'positive', 'sadness', 'surprise', 'trust'],\n",
       "      dtype='object')"
      ]
     },
     "execution_count": 52,
     "metadata": {},
     "output_type": "execute_result"
    }
   ],
   "source": [
    "nrc.columns"
   ]
  },
  {
   "cell_type": "code",
   "execution_count": 53,
   "metadata": {},
   "outputs": [],
   "source": [
    "nrc = nrc[['place_full_name','place_name','Tweet_string','created_at_date','anger',\n",
    "       'anticipation', 'disgust', 'fear', 'joy', 'negative', 'positive',\n",
    "       'sadness', 'surprise', 'trust']]"
   ]
  },
  {
   "cell_type": "code",
   "execution_count": 54,
   "metadata": {},
   "outputs": [],
   "source": [
    "nrc.to_csv('nrc.csv')"
   ]
  },
  {
   "cell_type": "code",
   "execution_count": 55,
   "metadata": {},
   "outputs": [],
   "source": [
    "from nltk import tokenize\n",
    "nrc['word_count'] = nrc['Tweet_string'].apply(tokenize.word_tokenize).apply(len)"
   ]
  },
  {
   "cell_type": "code",
   "execution_count": 56,
   "metadata": {},
   "outputs": [
    {
     "data": {
      "text/html": [
       "<div>\n",
       "<style scoped>\n",
       "    .dataframe tbody tr th:only-of-type {\n",
       "        vertical-align: middle;\n",
       "    }\n",
       "\n",
       "    .dataframe tbody tr th {\n",
       "        vertical-align: top;\n",
       "    }\n",
       "\n",
       "    .dataframe thead th {\n",
       "        text-align: right;\n",
       "    }\n",
       "</style>\n",
       "<table border=\"1\" class=\"dataframe\">\n",
       "  <thead>\n",
       "    <tr style=\"text-align: right;\">\n",
       "      <th></th>\n",
       "      <th>place_full_name</th>\n",
       "      <th>place_name</th>\n",
       "      <th>Tweet_string</th>\n",
       "      <th>created_at_date</th>\n",
       "      <th>anger</th>\n",
       "      <th>anticipation</th>\n",
       "      <th>disgust</th>\n",
       "      <th>fear</th>\n",
       "      <th>joy</th>\n",
       "      <th>negative</th>\n",
       "      <th>positive</th>\n",
       "      <th>sadness</th>\n",
       "      <th>surprise</th>\n",
       "      <th>trust</th>\n",
       "      <th>word_count</th>\n",
       "    </tr>\n",
       "  </thead>\n",
       "  <tbody>\n",
       "    <tr>\n",
       "      <th>0</th>\n",
       "      <td>NaN</td>\n",
       "      <td>NaN</td>\n",
       "      <td>ruokday thursday septemb retweet tweet remind ...</td>\n",
       "      <td>2019-09-07</td>\n",
       "      <td>0</td>\n",
       "      <td>0</td>\n",
       "      <td>0</td>\n",
       "      <td>0</td>\n",
       "      <td>0</td>\n",
       "      <td>0</td>\n",
       "      <td>0</td>\n",
       "      <td>0</td>\n",
       "      <td>0</td>\n",
       "      <td>0</td>\n",
       "      <td>10</td>\n",
       "    </tr>\n",
       "    <tr>\n",
       "      <th>1</th>\n",
       "      <td>NaN</td>\n",
       "      <td>NaN</td>\n",
       "      <td>ruokday septemb tweet remind day info help lea...</td>\n",
       "      <td>2019-09-07</td>\n",
       "      <td>0</td>\n",
       "      <td>0</td>\n",
       "      <td>0</td>\n",
       "      <td>0</td>\n",
       "      <td>0</td>\n",
       "      <td>0</td>\n",
       "      <td>1</td>\n",
       "      <td>0</td>\n",
       "      <td>0</td>\n",
       "      <td>0</td>\n",
       "      <td>10</td>\n",
       "    </tr>\n",
       "    <tr>\n",
       "      <th>2</th>\n",
       "      <td>NaN</td>\n",
       "      <td>NaN</td>\n",
       "      <td>ruokday septemb tweet remind day info help lea...</td>\n",
       "      <td>2019-09-07</td>\n",
       "      <td>0</td>\n",
       "      <td>0</td>\n",
       "      <td>0</td>\n",
       "      <td>0</td>\n",
       "      <td>0</td>\n",
       "      <td>0</td>\n",
       "      <td>1</td>\n",
       "      <td>0</td>\n",
       "      <td>0</td>\n",
       "      <td>0</td>\n",
       "      <td>10</td>\n",
       "    </tr>\n",
       "  </tbody>\n",
       "</table>\n",
       "</div>"
      ],
      "text/plain": [
       "  place_full_name place_name  \\\n",
       "0             NaN        NaN   \n",
       "1             NaN        NaN   \n",
       "2             NaN        NaN   \n",
       "\n",
       "                                        Tweet_string created_at_date  anger  \\\n",
       "0  ruokday thursday septemb retweet tweet remind ...      2019-09-07      0   \n",
       "1  ruokday septemb tweet remind day info help lea...      2019-09-07      0   \n",
       "2  ruokday septemb tweet remind day info help lea...      2019-09-07      0   \n",
       "\n",
       "   anticipation  disgust  fear  joy  negative  positive  sadness  surprise  \\\n",
       "0             0        0     0    0         0         0        0         0   \n",
       "1             0        0     0    0         0         1        0         0   \n",
       "2             0        0     0    0         0         1        0         0   \n",
       "\n",
       "   trust  word_count  \n",
       "0      0          10  \n",
       "1      0          10  \n",
       "2      0          10  "
      ]
     },
     "execution_count": 56,
     "metadata": {},
     "output_type": "execute_result"
    }
   ],
   "source": [
    "nrc.head(3)"
   ]
  },
  {
   "cell_type": "code",
   "execution_count": 57,
   "metadata": {},
   "outputs": [],
   "source": [
    "emotions = ['anger', 'anticipation', 'disgust', 'fear', 'joy', 'negative', 'positive', 'sadness', 'surprise', 'trust']"
   ]
  },
  {
   "cell_type": "code",
   "execution_count": 58,
   "metadata": {},
   "outputs": [],
   "source": [
    "#calculate the ratio: the number of words associated with emotions by the total word count for each tweet\n",
    "for emotion in emotions:\n",
    "    nrc[emotion] = nrc[emotion] / nrc['word_count']"
   ]
  },
  {
   "cell_type": "code",
   "execution_count": 59,
   "metadata": {},
   "outputs": [
    {
     "data": {
      "text/html": [
       "<div>\n",
       "<style scoped>\n",
       "    .dataframe tbody tr th:only-of-type {\n",
       "        vertical-align: middle;\n",
       "    }\n",
       "\n",
       "    .dataframe tbody tr th {\n",
       "        vertical-align: top;\n",
       "    }\n",
       "\n",
       "    .dataframe thead th {\n",
       "        text-align: right;\n",
       "    }\n",
       "</style>\n",
       "<table border=\"1\" class=\"dataframe\">\n",
       "  <thead>\n",
       "    <tr style=\"text-align: right;\">\n",
       "      <th></th>\n",
       "      <th>place_full_name</th>\n",
       "      <th>place_name</th>\n",
       "      <th>Tweet_string</th>\n",
       "      <th>created_at_date</th>\n",
       "      <th>anger</th>\n",
       "      <th>anticipation</th>\n",
       "      <th>disgust</th>\n",
       "      <th>fear</th>\n",
       "      <th>joy</th>\n",
       "      <th>negative</th>\n",
       "      <th>positive</th>\n",
       "      <th>sadness</th>\n",
       "      <th>surprise</th>\n",
       "      <th>trust</th>\n",
       "      <th>word_count</th>\n",
       "    </tr>\n",
       "  </thead>\n",
       "  <tbody>\n",
       "    <tr>\n",
       "      <th>0</th>\n",
       "      <td>NaN</td>\n",
       "      <td>NaN</td>\n",
       "      <td>ruokday thursday septemb retweet tweet remind ...</td>\n",
       "      <td>2019-09-07</td>\n",
       "      <td>0.0</td>\n",
       "      <td>0.0</td>\n",
       "      <td>0.0</td>\n",
       "      <td>0.0</td>\n",
       "      <td>0.0</td>\n",
       "      <td>0.0</td>\n",
       "      <td>0.0</td>\n",
       "      <td>0.0</td>\n",
       "      <td>0.0</td>\n",
       "      <td>0.0</td>\n",
       "      <td>10</td>\n",
       "    </tr>\n",
       "    <tr>\n",
       "      <th>1</th>\n",
       "      <td>NaN</td>\n",
       "      <td>NaN</td>\n",
       "      <td>ruokday septemb tweet remind day info help lea...</td>\n",
       "      <td>2019-09-07</td>\n",
       "      <td>0.0</td>\n",
       "      <td>0.0</td>\n",
       "      <td>0.0</td>\n",
       "      <td>0.0</td>\n",
       "      <td>0.0</td>\n",
       "      <td>0.0</td>\n",
       "      <td>0.1</td>\n",
       "      <td>0.0</td>\n",
       "      <td>0.0</td>\n",
       "      <td>0.0</td>\n",
       "      <td>10</td>\n",
       "    </tr>\n",
       "    <tr>\n",
       "      <th>2</th>\n",
       "      <td>NaN</td>\n",
       "      <td>NaN</td>\n",
       "      <td>ruokday septemb tweet remind day info help lea...</td>\n",
       "      <td>2019-09-07</td>\n",
       "      <td>0.0</td>\n",
       "      <td>0.0</td>\n",
       "      <td>0.0</td>\n",
       "      <td>0.0</td>\n",
       "      <td>0.0</td>\n",
       "      <td>0.0</td>\n",
       "      <td>0.1</td>\n",
       "      <td>0.0</td>\n",
       "      <td>0.0</td>\n",
       "      <td>0.0</td>\n",
       "      <td>10</td>\n",
       "    </tr>\n",
       "    <tr>\n",
       "      <th>3</th>\n",
       "      <td>NaN</td>\n",
       "      <td>NaN</td>\n",
       "      <td>ruokday septemb tweet remind day info help lea...</td>\n",
       "      <td>2019-09-07</td>\n",
       "      <td>0.0</td>\n",
       "      <td>0.0</td>\n",
       "      <td>0.0</td>\n",
       "      <td>0.0</td>\n",
       "      <td>0.0</td>\n",
       "      <td>0.0</td>\n",
       "      <td>0.1</td>\n",
       "      <td>0.0</td>\n",
       "      <td>0.0</td>\n",
       "      <td>0.0</td>\n",
       "      <td>10</td>\n",
       "    </tr>\n",
       "    <tr>\n",
       "      <th>4</th>\n",
       "      <td>NaN</td>\n",
       "      <td>NaN</td>\n",
       "      <td>ruokday septemb tweet remind day info help lea...</td>\n",
       "      <td>2019-09-07</td>\n",
       "      <td>0.0</td>\n",
       "      <td>0.0</td>\n",
       "      <td>0.0</td>\n",
       "      <td>0.0</td>\n",
       "      <td>0.0</td>\n",
       "      <td>0.0</td>\n",
       "      <td>0.1</td>\n",
       "      <td>0.0</td>\n",
       "      <td>0.0</td>\n",
       "      <td>0.0</td>\n",
       "      <td>10</td>\n",
       "    </tr>\n",
       "  </tbody>\n",
       "</table>\n",
       "</div>"
      ],
      "text/plain": [
       "  place_full_name place_name  \\\n",
       "0             NaN        NaN   \n",
       "1             NaN        NaN   \n",
       "2             NaN        NaN   \n",
       "3             NaN        NaN   \n",
       "4             NaN        NaN   \n",
       "\n",
       "                                        Tweet_string created_at_date  anger  \\\n",
       "0  ruokday thursday septemb retweet tweet remind ...      2019-09-07    0.0   \n",
       "1  ruokday septemb tweet remind day info help lea...      2019-09-07    0.0   \n",
       "2  ruokday septemb tweet remind day info help lea...      2019-09-07    0.0   \n",
       "3  ruokday septemb tweet remind day info help lea...      2019-09-07    0.0   \n",
       "4  ruokday septemb tweet remind day info help lea...      2019-09-07    0.0   \n",
       "\n",
       "   anticipation  disgust  fear  joy  negative  positive  sadness  surprise  \\\n",
       "0           0.0      0.0   0.0  0.0       0.0       0.0      0.0       0.0   \n",
       "1           0.0      0.0   0.0  0.0       0.0       0.1      0.0       0.0   \n",
       "2           0.0      0.0   0.0  0.0       0.0       0.1      0.0       0.0   \n",
       "3           0.0      0.0   0.0  0.0       0.0       0.1      0.0       0.0   \n",
       "4           0.0      0.0   0.0  0.0       0.0       0.1      0.0       0.0   \n",
       "\n",
       "   trust  word_count  \n",
       "0    0.0          10  \n",
       "1    0.0          10  \n",
       "2    0.0          10  \n",
       "3    0.0          10  \n",
       "4    0.0          10  "
      ]
     },
     "execution_count": 59,
     "metadata": {},
     "output_type": "execute_result"
    }
   ],
   "source": [
    "nrc.head()"
   ]
  },
  {
   "cell_type": "code",
   "execution_count": 60,
   "metadata": {},
   "outputs": [],
   "source": [
    "#calculate the proportions of words associated with each emotion\n",
    "word_total = nrc['word_count'].sum()\n",
    "anger= nrc['anger'].sum()/word_total\n",
    "anticipation = nrc['anticipation'].sum()/word_total\n",
    "disgust = nrc['disgust'].sum()/word_total\n",
    "fear = nrc['fear'].sum()/word_total\n",
    "joy = nrc['joy'].sum()/word_total\n",
    "sadness = nrc['sadness'].sum()/word_total\n",
    "surprise = nrc['surprise'].sum()/word_total\n",
    "trust = nrc['trust'].sum()/word_total\n",
    "#positive = nrc['positive'].sum()/word_total\n",
    "#negative = nrc['negative'].sum()/word_total"
   ]
  },
  {
   "cell_type": "code",
   "execution_count": 61,
   "metadata": {},
   "outputs": [
    {
     "data": {
      "application/vnd.jupyter.widget-view+json": {
       "model_id": "6ec0ca42d05c483f923842f4a1f814f2",
       "version_major": 2,
       "version_minor": 0
      },
      "text/plain": [
       "FigureWidget({\n",
       "    'data': [{'type': 'bar',\n",
       "              'uid': 'b4096daf-3faa-4669-b50a-77552a99e9b7',\n",
       "     …"
      ]
     },
     "metadata": {},
     "output_type": "display_data"
    }
   ],
   "source": [
    "emotions = ['anger', 'anticipation', 'disgust', 'fear', 'joy','sadness', 'surprise', 'trust']\n",
    "value = [anger,anticipation,disgust,fear,joy,sadness,surprise,trust]\n",
    "data = [go.Bar(\n",
    "    x=emotions,\n",
    "    y=value\n",
    ")]\n",
    "layout = {\n",
    "    'xaxis': {\n",
    "        'categoryorder': 'array',\n",
    "        'autorange':'reversed',\n",
    "        'categoryarray': [x for _, x in sorted(zip(value, emotions))]\n",
    "    }\n",
    "}\n",
    "fig = go.FigureWidget(data=data, layout=layout)\n",
    "\n",
    "fig.update_xaxes(title_text=\"Emotion\")\n",
    "fig.update_yaxes(title_text=\"Ratio\")\n",
    "fig.update_layout(height=500, width=700,showlegend=False)\n",
    "fig"
   ]
  },
  {
   "cell_type": "code",
   "execution_count": 62,
   "metadata": {},
   "outputs": [],
   "source": [
    "nrc_date = nrc[['created_at_date','anger', 'anticipation', \n",
    "                'disgust', 'fear', 'joy', 'sadness', 'surprise', 'trust']]\n",
    "#gather the dataset\n",
    "nrc_date = pd.melt(nrc_date,id_vars='created_at_date',var_name='emotion',value_name='average_sentiment')\n",
    "#get the average sentiment by date and emotion\n",
    "nrc_date = nrc_date.groupby(['created_at_date', 'emotion']).agg({'average_sentiment': 'mean'}).reset_index()\n",
    "nrc_date['created_at_date'] = pd.to_datetime(nrc_date['created_at_date'])"
   ]
  },
  {
   "cell_type": "code",
   "execution_count": 63,
   "metadata": {},
   "outputs": [
    {
     "data": {
      "text/html": [
       "<div>\n",
       "<style scoped>\n",
       "    .dataframe tbody tr th:only-of-type {\n",
       "        vertical-align: middle;\n",
       "    }\n",
       "\n",
       "    .dataframe tbody tr th {\n",
       "        vertical-align: top;\n",
       "    }\n",
       "\n",
       "    .dataframe thead th {\n",
       "        text-align: right;\n",
       "    }\n",
       "</style>\n",
       "<table border=\"1\" class=\"dataframe\">\n",
       "  <thead>\n",
       "    <tr style=\"text-align: right;\">\n",
       "      <th></th>\n",
       "      <th>created_at_date</th>\n",
       "      <th>emotion</th>\n",
       "      <th>average_sentiment</th>\n",
       "    </tr>\n",
       "  </thead>\n",
       "  <tbody>\n",
       "    <tr>\n",
       "      <th>0</th>\n",
       "      <td>2019-09-03</td>\n",
       "      <td>anger</td>\n",
       "      <td>0.041667</td>\n",
       "    </tr>\n",
       "    <tr>\n",
       "      <th>1</th>\n",
       "      <td>2019-09-03</td>\n",
       "      <td>anticipation</td>\n",
       "      <td>0.000000</td>\n",
       "    </tr>\n",
       "    <tr>\n",
       "      <th>2</th>\n",
       "      <td>2019-09-03</td>\n",
       "      <td>disgust</td>\n",
       "      <td>0.031250</td>\n",
       "    </tr>\n",
       "    <tr>\n",
       "      <th>3</th>\n",
       "      <td>2019-09-03</td>\n",
       "      <td>fear</td>\n",
       "      <td>0.000000</td>\n",
       "    </tr>\n",
       "    <tr>\n",
       "      <th>4</th>\n",
       "      <td>2019-09-03</td>\n",
       "      <td>joy</td>\n",
       "      <td>0.000000</td>\n",
       "    </tr>\n",
       "  </tbody>\n",
       "</table>\n",
       "</div>"
      ],
      "text/plain": [
       "  created_at_date       emotion  average_sentiment\n",
       "0      2019-09-03         anger           0.041667\n",
       "1      2019-09-03  anticipation           0.000000\n",
       "2      2019-09-03       disgust           0.031250\n",
       "3      2019-09-03          fear           0.000000\n",
       "4      2019-09-03           joy           0.000000"
      ]
     },
     "execution_count": 63,
     "metadata": {},
     "output_type": "execute_result"
    }
   ],
   "source": [
    "nrc_date.head(5)"
   ]
  },
  {
   "cell_type": "code",
   "execution_count": 64,
   "metadata": {},
   "outputs": [
    {
     "data": {
      "application/vnd.plotly.v1+json": {
       "config": {
        "plotlyServerURL": "https://plot.ly"
       },
       "data": [
        {
         "hoverlabel": {
          "namelength": 0
         },
         "hovertemplate": "emotion=anger<br>created_at_date=%{x}<br>average_sentiment=%{y}",
         "legendgroup": "emotion=anger",
         "line": {
          "color": "#636efa",
          "dash": "solid"
         },
         "mode": "lines",
         "name": "emotion=anger",
         "showlegend": true,
         "type": "scatter",
         "x": [
          "2019-09-03T00:00:00",
          "2019-09-04T00:00:00",
          "2019-09-05T00:00:00",
          "2019-09-06T00:00:00",
          "2019-09-07T00:00:00",
          "2019-09-08T00:00:00",
          "2019-09-09T00:00:00",
          "2019-09-10T00:00:00",
          "2019-09-11T00:00:00",
          "2019-09-12T00:00:00",
          "2019-09-13T00:00:00",
          "2019-09-14T00:00:00",
          "2019-09-15T00:00:00",
          "2019-09-16T00:00:00",
          "2019-09-17T00:00:00",
          "2019-09-18T00:00:00",
          "2019-09-19T00:00:00",
          "2019-09-20T00:00:00",
          "2019-09-21T00:00:00",
          "2019-09-22T00:00:00",
          "2019-09-23T00:00:00",
          "2019-09-24T00:00:00",
          "2019-09-25T00:00:00",
          "2019-09-26T00:00:00",
          "2019-09-27T00:00:00",
          "2019-09-28T00:00:00",
          "2019-09-29T00:00:00",
          "2019-09-30T00:00:00",
          "2019-10-01T00:00:00",
          "2019-10-02T00:00:00",
          "2019-10-03T00:00:00",
          "2019-10-04T00:00:00",
          "2019-10-05T00:00:00"
         ],
         "xaxis": "x",
         "y": [
          0.041666666666666664,
          0.028017028017028017,
          0.0023531340945134047,
          0.002151539270854037,
          0.003448562123202103,
          0.0023417674279743246,
          0.0049012095874055766,
          0.009026865994101064,
          0.005847253547681164,
          0.012961172076188129,
          0.02021467390341089,
          0.010958190164915869,
          0.020017420441628606,
          0.016035078282700666,
          0.01257739204341146,
          0.008605495694781409,
          0.009857254794645593,
          0.010026541366673011,
          0.008232142857142858,
          0.003057889822595705,
          0.0036255411255411256,
          0.004169993789370953,
          0.02937750060884389,
          0.011564625850340135,
          0.015949969876323026,
          0.002962962962962963,
          0.018371212121212118,
          0.002490726020137785,
          0.0025577889304024917,
          0.0028160919540229884,
          0.026241987179487173,
          0.005602693602693603,
          0.02264957264957265
         ],
         "yaxis": "y"
        },
        {
         "hoverlabel": {
          "namelength": 0
         },
         "hovertemplate": "emotion=anticipation<br>created_at_date=%{x}<br>average_sentiment=%{y}",
         "legendgroup": "emotion=anticipation",
         "line": {
          "color": "#EF553B",
          "dash": "solid"
         },
         "mode": "lines",
         "name": "emotion=anticipation",
         "showlegend": true,
         "type": "scatter",
         "x": [
          "2019-09-03T00:00:00",
          "2019-09-04T00:00:00",
          "2019-09-05T00:00:00",
          "2019-09-06T00:00:00",
          "2019-09-07T00:00:00",
          "2019-09-08T00:00:00",
          "2019-09-09T00:00:00",
          "2019-09-10T00:00:00",
          "2019-09-11T00:00:00",
          "2019-09-12T00:00:00",
          "2019-09-13T00:00:00",
          "2019-09-14T00:00:00",
          "2019-09-15T00:00:00",
          "2019-09-16T00:00:00",
          "2019-09-17T00:00:00",
          "2019-09-18T00:00:00",
          "2019-09-19T00:00:00",
          "2019-09-20T00:00:00",
          "2019-09-21T00:00:00",
          "2019-09-22T00:00:00",
          "2019-09-23T00:00:00",
          "2019-09-24T00:00:00",
          "2019-09-25T00:00:00",
          "2019-09-26T00:00:00",
          "2019-09-27T00:00:00",
          "2019-09-28T00:00:00",
          "2019-09-29T00:00:00",
          "2019-09-30T00:00:00",
          "2019-10-01T00:00:00",
          "2019-10-02T00:00:00",
          "2019-10-03T00:00:00",
          "2019-10-04T00:00:00",
          "2019-10-05T00:00:00"
         ],
         "xaxis": "x",
         "y": [
          0,
          0.010285134356341787,
          0.004231690761754677,
          0.02251648633767398,
          0.016469783631439555,
          0.011032373111645977,
          0.022156211581891933,
          0.02058490831887769,
          0.032483999517306454,
          0.03145192727936445,
          0.03488509852246816,
          0.031084737053539417,
          0.029925456577558282,
          0.03139350721671061,
          0.029660047482503143,
          0.01691901366285603,
          0.0470134921530166,
          0.02508009709212755,
          0.04283910533910533,
          0.03678685149273384,
          0.01893023849856148,
          0.015678989306288527,
          0.04675134219549243,
          0.04010670923936229,
          0.04951385438764601,
          0.018627010849233076,
          0.029166666666666664,
          0.019974169974169974,
          0.08461869721851975,
          0.017530682074292623,
          0.03390088016624321,
          0.026749082593072362,
          0.02989777107424166
         ],
         "yaxis": "y"
        },
        {
         "hoverlabel": {
          "namelength": 0
         },
         "hovertemplate": "emotion=disgust<br>created_at_date=%{x}<br>average_sentiment=%{y}",
         "legendgroup": "emotion=disgust",
         "line": {
          "color": "#00cc96",
          "dash": "solid"
         },
         "mode": "lines",
         "name": "emotion=disgust",
         "showlegend": true,
         "type": "scatter",
         "x": [
          "2019-09-03T00:00:00",
          "2019-09-04T00:00:00",
          "2019-09-05T00:00:00",
          "2019-09-06T00:00:00",
          "2019-09-07T00:00:00",
          "2019-09-08T00:00:00",
          "2019-09-09T00:00:00",
          "2019-09-10T00:00:00",
          "2019-09-11T00:00:00",
          "2019-09-12T00:00:00",
          "2019-09-13T00:00:00",
          "2019-09-14T00:00:00",
          "2019-09-15T00:00:00",
          "2019-09-16T00:00:00",
          "2019-09-17T00:00:00",
          "2019-09-18T00:00:00",
          "2019-09-19T00:00:00",
          "2019-09-20T00:00:00",
          "2019-09-21T00:00:00",
          "2019-09-22T00:00:00",
          "2019-09-23T00:00:00",
          "2019-09-24T00:00:00",
          "2019-09-25T00:00:00",
          "2019-09-26T00:00:00",
          "2019-09-27T00:00:00",
          "2019-09-28T00:00:00",
          "2019-09-29T00:00:00",
          "2019-09-30T00:00:00",
          "2019-10-01T00:00:00",
          "2019-10-02T00:00:00",
          "2019-10-03T00:00:00",
          "2019-10-04T00:00:00",
          "2019-10-05T00:00:00"
         ],
         "xaxis": "x",
         "y": [
          0.03125,
          0.021713084213084224,
          0.010110994848063814,
          0.017535856054940423,
          0.02120779689488501,
          0.0234003962991032,
          0.0134512606568906,
          0.011654933819333406,
          0.019372861673499525,
          0.011753961616802033,
          0.01624092048564473,
          0.01122766696240625,
          0.013471982810742203,
          0.014592793548638164,
          0.01217928242200087,
          0.007695846481560765,
          0.006586658665866586,
          0.007089854631103594,
          0,
          0.004341736694677871,
          0.0022367642709257615,
          0.0015082956259426848,
          0.02234910611776284,
          0.012244897959183673,
          0.016412092787425527,
          0.0030864197530864196,
          0.003787878787878788,
          0.0022522522522522522,
          0.00163014514561585,
          0.009819595549818674,
          0.03901129243245252,
          0.006909883145177262,
          0.008547008547008548
         ],
         "yaxis": "y"
        },
        {
         "hoverlabel": {
          "namelength": 0
         },
         "hovertemplate": "emotion=fear<br>created_at_date=%{x}<br>average_sentiment=%{y}",
         "legendgroup": "emotion=fear",
         "line": {
          "color": "#ab63fa",
          "dash": "solid"
         },
         "mode": "lines",
         "name": "emotion=fear",
         "showlegend": true,
         "type": "scatter",
         "x": [
          "2019-09-03T00:00:00",
          "2019-09-04T00:00:00",
          "2019-09-05T00:00:00",
          "2019-09-06T00:00:00",
          "2019-09-07T00:00:00",
          "2019-09-08T00:00:00",
          "2019-09-09T00:00:00",
          "2019-09-10T00:00:00",
          "2019-09-11T00:00:00",
          "2019-09-12T00:00:00",
          "2019-09-13T00:00:00",
          "2019-09-14T00:00:00",
          "2019-09-15T00:00:00",
          "2019-09-16T00:00:00",
          "2019-09-17T00:00:00",
          "2019-09-18T00:00:00",
          "2019-09-19T00:00:00",
          "2019-09-20T00:00:00",
          "2019-09-21T00:00:00",
          "2019-09-22T00:00:00",
          "2019-09-23T00:00:00",
          "2019-09-24T00:00:00",
          "2019-09-25T00:00:00",
          "2019-09-26T00:00:00",
          "2019-09-27T00:00:00",
          "2019-09-28T00:00:00",
          "2019-09-29T00:00:00",
          "2019-09-30T00:00:00",
          "2019-10-01T00:00:00",
          "2019-10-02T00:00:00",
          "2019-10-03T00:00:00",
          "2019-10-04T00:00:00",
          "2019-10-05T00:00:00"
         ],
         "xaxis": "x",
         "y": [
          0,
          0.022695126371596968,
          0.0027435759652445425,
          0.004646576875338646,
          0.003849816551793608,
          0.0038321352976525384,
          0.02070348976636834,
          0.029687173118044453,
          0.012212839812342818,
          0.020498979304434416,
          0.030104059017396795,
          0.01922553114731061,
          0.03146917754591681,
          0.025542489845535553,
          0.032799093394614495,
          0.01176883823020717,
          0.013121516202471359,
          0.012484188566915098,
          0.023705357142857143,
          0.02657832363714717,
          0.007627517410126105,
          0.030169609321858464,
          0.062048060815095236,
          0.03579987189681067,
          0.022349164441001178,
          0.004814814814814815,
          0.020075757575757577,
          0.003616852146263911,
          0.011171624074849881,
          0.006223799864773495,
          0.03998588217338218,
          0.008835016835016835,
          0.050878642055112645
         ],
         "yaxis": "y"
        },
        {
         "hoverlabel": {
          "namelength": 0
         },
         "hovertemplate": "emotion=joy<br>created_at_date=%{x}<br>average_sentiment=%{y}",
         "legendgroup": "emotion=joy",
         "line": {
          "color": "#FFA15A",
          "dash": "solid"
         },
         "mode": "lines",
         "name": "emotion=joy",
         "showlegend": true,
         "type": "scatter",
         "x": [
          "2019-09-03T00:00:00",
          "2019-09-04T00:00:00",
          "2019-09-05T00:00:00",
          "2019-09-06T00:00:00",
          "2019-09-07T00:00:00",
          "2019-09-08T00:00:00",
          "2019-09-09T00:00:00",
          "2019-09-10T00:00:00",
          "2019-09-11T00:00:00",
          "2019-09-12T00:00:00",
          "2019-09-13T00:00:00",
          "2019-09-14T00:00:00",
          "2019-09-15T00:00:00",
          "2019-09-16T00:00:00",
          "2019-09-17T00:00:00",
          "2019-09-18T00:00:00",
          "2019-09-19T00:00:00",
          "2019-09-20T00:00:00",
          "2019-09-21T00:00:00",
          "2019-09-22T00:00:00",
          "2019-09-23T00:00:00",
          "2019-09-24T00:00:00",
          "2019-09-25T00:00:00",
          "2019-09-26T00:00:00",
          "2019-09-27T00:00:00",
          "2019-09-28T00:00:00",
          "2019-09-29T00:00:00",
          "2019-09-30T00:00:00",
          "2019-10-01T00:00:00",
          "2019-10-02T00:00:00",
          "2019-10-03T00:00:00",
          "2019-10-04T00:00:00",
          "2019-10-05T00:00:00"
         ],
         "xaxis": "x",
         "y": [
          0,
          0.0281246433723214,
          0.027438352544748346,
          0.01722866390632161,
          0.005090507143547014,
          0.007311298804039276,
          0.014948429839348345,
          0.02080065840632924,
          0.02831939545431085,
          0.030829588798890747,
          0.032578230299771194,
          0.025110403265120228,
          0.030985612901868905,
          0.030128319146483968,
          0.036353429474239404,
          0.018399325678882326,
          0.04974322293552135,
          0.027197881879331812,
          0.040676363793211615,
          0.04138018843901197,
          0.009290565880791442,
          0.009480451305710822,
          0.02314655974742638,
          0.02877127596515351,
          0.026903602722614536,
          0.013868312757201648,
          0.03620823620823621,
          0.013094563094563094,
          0.04601828815127037,
          0.005363984674329502,
          0.026552337278484623,
          0.011444444444444445,
          0.01862745098039216
         ],
         "yaxis": "y"
        },
        {
         "hoverlabel": {
          "namelength": 0
         },
         "hovertemplate": "emotion=sadness<br>created_at_date=%{x}<br>average_sentiment=%{y}",
         "legendgroup": "emotion=sadness",
         "line": {
          "color": "#19d3f3",
          "dash": "solid"
         },
         "mode": "lines",
         "name": "emotion=sadness",
         "showlegend": true,
         "type": "scatter",
         "x": [
          "2019-09-03T00:00:00",
          "2019-09-04T00:00:00",
          "2019-09-05T00:00:00",
          "2019-09-06T00:00:00",
          "2019-09-07T00:00:00",
          "2019-09-08T00:00:00",
          "2019-09-09T00:00:00",
          "2019-09-10T00:00:00",
          "2019-09-11T00:00:00",
          "2019-09-12T00:00:00",
          "2019-09-13T00:00:00",
          "2019-09-14T00:00:00",
          "2019-09-15T00:00:00",
          "2019-09-16T00:00:00",
          "2019-09-17T00:00:00",
          "2019-09-18T00:00:00",
          "2019-09-19T00:00:00",
          "2019-09-20T00:00:00",
          "2019-09-21T00:00:00",
          "2019-09-22T00:00:00",
          "2019-09-23T00:00:00",
          "2019-09-24T00:00:00",
          "2019-09-25T00:00:00",
          "2019-09-26T00:00:00",
          "2019-09-27T00:00:00",
          "2019-09-28T00:00:00",
          "2019-09-29T00:00:00",
          "2019-09-30T00:00:00",
          "2019-10-01T00:00:00",
          "2019-10-02T00:00:00",
          "2019-10-03T00:00:00",
          "2019-10-04T00:00:00",
          "2019-10-05T00:00:00"
         ],
         "xaxis": "x",
         "y": [
          0,
          0.020340470340470342,
          0.003404062386020323,
          0.011781449987289467,
          0.006385934733506128,
          0.003703919593211789,
          0.007744312923929964,
          0.014411485172385876,
          0.010686834677826213,
          0.016962859946561392,
          0.03275878971897905,
          0.025051487291103562,
          0.02813535015774555,
          0.025541225012892046,
          0.029514560160697232,
          0.01474761078040829,
          0.011042499854381042,
          0.01187623068903661,
          0.03444509144237405,
          0.025971414206708322,
          0.007627517410126105,
          0.02717578259373925,
          0.04926375448763509,
          0.023393230918741122,
          0.03268406763304723,
          0.00818181818181818,
          0.03257575757575757,
          0.005869104398516164,
          0.0025577889304024917,
          0.0081947261663286,
          0.043397979335479335,
          0.009213804713804714,
          0.05741458976753095
         ],
         "yaxis": "y"
        },
        {
         "hoverlabel": {
          "namelength": 0
         },
         "hovertemplate": "emotion=surprise<br>created_at_date=%{x}<br>average_sentiment=%{y}",
         "legendgroup": "emotion=surprise",
         "line": {
          "color": "#FF6692",
          "dash": "solid"
         },
         "mode": "lines",
         "name": "emotion=surprise",
         "showlegend": true,
         "type": "scatter",
         "x": [
          "2019-09-03T00:00:00",
          "2019-09-04T00:00:00",
          "2019-09-05T00:00:00",
          "2019-09-06T00:00:00",
          "2019-09-07T00:00:00",
          "2019-09-08T00:00:00",
          "2019-09-09T00:00:00",
          "2019-09-10T00:00:00",
          "2019-09-11T00:00:00",
          "2019-09-12T00:00:00",
          "2019-09-13T00:00:00",
          "2019-09-14T00:00:00",
          "2019-09-15T00:00:00",
          "2019-09-16T00:00:00",
          "2019-09-17T00:00:00",
          "2019-09-18T00:00:00",
          "2019-09-19T00:00:00",
          "2019-09-20T00:00:00",
          "2019-09-21T00:00:00",
          "2019-09-22T00:00:00",
          "2019-09-23T00:00:00",
          "2019-09-24T00:00:00",
          "2019-09-25T00:00:00",
          "2019-09-26T00:00:00",
          "2019-09-27T00:00:00",
          "2019-09-28T00:00:00",
          "2019-09-29T00:00:00",
          "2019-09-30T00:00:00",
          "2019-10-01T00:00:00",
          "2019-10-02T00:00:00",
          "2019-10-03T00:00:00",
          "2019-10-04T00:00:00",
          "2019-10-05T00:00:00"
         ],
         "xaxis": "x",
         "y": [
          0,
          0.0028323778323778325,
          0.0014687743934962427,
          0.003745246688795076,
          0.005137145012663686,
          0.0018978605935127673,
          0.005754655131892984,
          0.00805586289888429,
          0.006967766862480294,
          0.00960297363107978,
          0.01561570894612636,
          0.011349954510775553,
          0.01111661076018257,
          0.010084379469969608,
          0.011528850266936511,
          0.0033288669002954716,
          0.007283836081536823,
          0.008409792466037019,
          0.010496031746031744,
          0.003034547152194211,
          0.0036255411255411256,
          0.01021637916101584,
          0.02625378352990293,
          0.017929458108029536,
          0.014829728095034217,
          0.002962962962962963,
          0.006250000000000001,
          0.006788256788256788,
          0.001727675197062952,
          0.00782703886152162,
          0.015040296358231139,
          0.004206349206349206,
          0.014102564102564101
         ],
         "yaxis": "y"
        },
        {
         "hoverlabel": {
          "namelength": 0
         },
         "hovertemplate": "emotion=trust<br>created_at_date=%{x}<br>average_sentiment=%{y}",
         "legendgroup": "emotion=trust",
         "line": {
          "color": "#B6E880",
          "dash": "solid"
         },
         "mode": "lines",
         "name": "emotion=trust",
         "showlegend": true,
         "type": "scatter",
         "x": [
          "2019-09-03T00:00:00",
          "2019-09-04T00:00:00",
          "2019-09-05T00:00:00",
          "2019-09-06T00:00:00",
          "2019-09-07T00:00:00",
          "2019-09-08T00:00:00",
          "2019-09-09T00:00:00",
          "2019-09-10T00:00:00",
          "2019-09-11T00:00:00",
          "2019-09-12T00:00:00",
          "2019-09-13T00:00:00",
          "2019-09-14T00:00:00",
          "2019-09-15T00:00:00",
          "2019-09-16T00:00:00",
          "2019-09-17T00:00:00",
          "2019-09-18T00:00:00",
          "2019-09-19T00:00:00",
          "2019-09-20T00:00:00",
          "2019-09-21T00:00:00",
          "2019-09-22T00:00:00",
          "2019-09-23T00:00:00",
          "2019-09-24T00:00:00",
          "2019-09-25T00:00:00",
          "2019-09-26T00:00:00",
          "2019-09-27T00:00:00",
          "2019-09-28T00:00:00",
          "2019-09-29T00:00:00",
          "2019-09-30T00:00:00",
          "2019-10-01T00:00:00",
          "2019-10-02T00:00:00",
          "2019-10-03T00:00:00",
          "2019-10-04T00:00:00",
          "2019-10-05T00:00:00"
         ],
         "xaxis": "x",
         "y": [
          0.10416666666666666,
          0.047469935860028754,
          0.07287043563608739,
          0.07075677770559481,
          0.04759395804948753,
          0.0517329055044572,
          0.05191386380686927,
          0.03520718261549728,
          0.06887737796551957,
          0.054953890863785625,
          0.053725013761022906,
          0.0479715419077053,
          0.0558245602845154,
          0.04715750180597943,
          0.06533928314248678,
          0.03361621488345625,
          0.055409127305001304,
          0.03642370341047991,
          0.04630707517120561,
          0.0688620972596632,
          0.015105322673645654,
          0.015329096124943877,
          0.051330720616898425,
          0.05041121010508765,
          0.0494391847430889,
          0.04142968142968143,
          0.05259809634809636,
          0.03523920876862052,
          0.06953507637394095,
          0.04569784719558979,
          0.046116454473320766,
          0.02126682250211662,
          0.046279537456008046
         ],
         "yaxis": "y"
        }
       ],
       "layout": {
        "height": 600,
        "legend": {
         "tracegroupgap": 0
        },
        "margin": {
         "t": 60
        },
        "template": {
         "data": {
          "bar": [
           {
            "error_x": {
             "color": "#2a3f5f"
            },
            "error_y": {
             "color": "#2a3f5f"
            },
            "marker": {
             "line": {
              "color": "#E5ECF6",
              "width": 0.5
             }
            },
            "type": "bar"
           }
          ],
          "barpolar": [
           {
            "marker": {
             "line": {
              "color": "#E5ECF6",
              "width": 0.5
             }
            },
            "type": "barpolar"
           }
          ],
          "carpet": [
           {
            "aaxis": {
             "endlinecolor": "#2a3f5f",
             "gridcolor": "white",
             "linecolor": "white",
             "minorgridcolor": "white",
             "startlinecolor": "#2a3f5f"
            },
            "baxis": {
             "endlinecolor": "#2a3f5f",
             "gridcolor": "white",
             "linecolor": "white",
             "minorgridcolor": "white",
             "startlinecolor": "#2a3f5f"
            },
            "type": "carpet"
           }
          ],
          "choropleth": [
           {
            "colorbar": {
             "outlinewidth": 0,
             "ticks": ""
            },
            "type": "choropleth"
           }
          ],
          "contour": [
           {
            "colorbar": {
             "outlinewidth": 0,
             "ticks": ""
            },
            "colorscale": [
             [
              0,
              "#0d0887"
             ],
             [
              0.1111111111111111,
              "#46039f"
             ],
             [
              0.2222222222222222,
              "#7201a8"
             ],
             [
              0.3333333333333333,
              "#9c179e"
             ],
             [
              0.4444444444444444,
              "#bd3786"
             ],
             [
              0.5555555555555556,
              "#d8576b"
             ],
             [
              0.6666666666666666,
              "#ed7953"
             ],
             [
              0.7777777777777778,
              "#fb9f3a"
             ],
             [
              0.8888888888888888,
              "#fdca26"
             ],
             [
              1,
              "#f0f921"
             ]
            ],
            "type": "contour"
           }
          ],
          "contourcarpet": [
           {
            "colorbar": {
             "outlinewidth": 0,
             "ticks": ""
            },
            "type": "contourcarpet"
           }
          ],
          "heatmap": [
           {
            "colorbar": {
             "outlinewidth": 0,
             "ticks": ""
            },
            "colorscale": [
             [
              0,
              "#0d0887"
             ],
             [
              0.1111111111111111,
              "#46039f"
             ],
             [
              0.2222222222222222,
              "#7201a8"
             ],
             [
              0.3333333333333333,
              "#9c179e"
             ],
             [
              0.4444444444444444,
              "#bd3786"
             ],
             [
              0.5555555555555556,
              "#d8576b"
             ],
             [
              0.6666666666666666,
              "#ed7953"
             ],
             [
              0.7777777777777778,
              "#fb9f3a"
             ],
             [
              0.8888888888888888,
              "#fdca26"
             ],
             [
              1,
              "#f0f921"
             ]
            ],
            "type": "heatmap"
           }
          ],
          "heatmapgl": [
           {
            "colorbar": {
             "outlinewidth": 0,
             "ticks": ""
            },
            "colorscale": [
             [
              0,
              "#0d0887"
             ],
             [
              0.1111111111111111,
              "#46039f"
             ],
             [
              0.2222222222222222,
              "#7201a8"
             ],
             [
              0.3333333333333333,
              "#9c179e"
             ],
             [
              0.4444444444444444,
              "#bd3786"
             ],
             [
              0.5555555555555556,
              "#d8576b"
             ],
             [
              0.6666666666666666,
              "#ed7953"
             ],
             [
              0.7777777777777778,
              "#fb9f3a"
             ],
             [
              0.8888888888888888,
              "#fdca26"
             ],
             [
              1,
              "#f0f921"
             ]
            ],
            "type": "heatmapgl"
           }
          ],
          "histogram": [
           {
            "marker": {
             "colorbar": {
              "outlinewidth": 0,
              "ticks": ""
             }
            },
            "type": "histogram"
           }
          ],
          "histogram2d": [
           {
            "colorbar": {
             "outlinewidth": 0,
             "ticks": ""
            },
            "colorscale": [
             [
              0,
              "#0d0887"
             ],
             [
              0.1111111111111111,
              "#46039f"
             ],
             [
              0.2222222222222222,
              "#7201a8"
             ],
             [
              0.3333333333333333,
              "#9c179e"
             ],
             [
              0.4444444444444444,
              "#bd3786"
             ],
             [
              0.5555555555555556,
              "#d8576b"
             ],
             [
              0.6666666666666666,
              "#ed7953"
             ],
             [
              0.7777777777777778,
              "#fb9f3a"
             ],
             [
              0.8888888888888888,
              "#fdca26"
             ],
             [
              1,
              "#f0f921"
             ]
            ],
            "type": "histogram2d"
           }
          ],
          "histogram2dcontour": [
           {
            "colorbar": {
             "outlinewidth": 0,
             "ticks": ""
            },
            "colorscale": [
             [
              0,
              "#0d0887"
             ],
             [
              0.1111111111111111,
              "#46039f"
             ],
             [
              0.2222222222222222,
              "#7201a8"
             ],
             [
              0.3333333333333333,
              "#9c179e"
             ],
             [
              0.4444444444444444,
              "#bd3786"
             ],
             [
              0.5555555555555556,
              "#d8576b"
             ],
             [
              0.6666666666666666,
              "#ed7953"
             ],
             [
              0.7777777777777778,
              "#fb9f3a"
             ],
             [
              0.8888888888888888,
              "#fdca26"
             ],
             [
              1,
              "#f0f921"
             ]
            ],
            "type": "histogram2dcontour"
           }
          ],
          "mesh3d": [
           {
            "colorbar": {
             "outlinewidth": 0,
             "ticks": ""
            },
            "type": "mesh3d"
           }
          ],
          "parcoords": [
           {
            "line": {
             "colorbar": {
              "outlinewidth": 0,
              "ticks": ""
             }
            },
            "type": "parcoords"
           }
          ],
          "pie": [
           {
            "automargin": true,
            "type": "pie"
           }
          ],
          "scatter": [
           {
            "marker": {
             "colorbar": {
              "outlinewidth": 0,
              "ticks": ""
             }
            },
            "type": "scatter"
           }
          ],
          "scatter3d": [
           {
            "line": {
             "colorbar": {
              "outlinewidth": 0,
              "ticks": ""
             }
            },
            "marker": {
             "colorbar": {
              "outlinewidth": 0,
              "ticks": ""
             }
            },
            "type": "scatter3d"
           }
          ],
          "scattercarpet": [
           {
            "marker": {
             "colorbar": {
              "outlinewidth": 0,
              "ticks": ""
             }
            },
            "type": "scattercarpet"
           }
          ],
          "scattergeo": [
           {
            "marker": {
             "colorbar": {
              "outlinewidth": 0,
              "ticks": ""
             }
            },
            "type": "scattergeo"
           }
          ],
          "scattergl": [
           {
            "marker": {
             "colorbar": {
              "outlinewidth": 0,
              "ticks": ""
             }
            },
            "type": "scattergl"
           }
          ],
          "scattermapbox": [
           {
            "marker": {
             "colorbar": {
              "outlinewidth": 0,
              "ticks": ""
             }
            },
            "type": "scattermapbox"
           }
          ],
          "scatterpolar": [
           {
            "marker": {
             "colorbar": {
              "outlinewidth": 0,
              "ticks": ""
             }
            },
            "type": "scatterpolar"
           }
          ],
          "scatterpolargl": [
           {
            "marker": {
             "colorbar": {
              "outlinewidth": 0,
              "ticks": ""
             }
            },
            "type": "scatterpolargl"
           }
          ],
          "scatterternary": [
           {
            "marker": {
             "colorbar": {
              "outlinewidth": 0,
              "ticks": ""
             }
            },
            "type": "scatterternary"
           }
          ],
          "surface": [
           {
            "colorbar": {
             "outlinewidth": 0,
             "ticks": ""
            },
            "colorscale": [
             [
              0,
              "#0d0887"
             ],
             [
              0.1111111111111111,
              "#46039f"
             ],
             [
              0.2222222222222222,
              "#7201a8"
             ],
             [
              0.3333333333333333,
              "#9c179e"
             ],
             [
              0.4444444444444444,
              "#bd3786"
             ],
             [
              0.5555555555555556,
              "#d8576b"
             ],
             [
              0.6666666666666666,
              "#ed7953"
             ],
             [
              0.7777777777777778,
              "#fb9f3a"
             ],
             [
              0.8888888888888888,
              "#fdca26"
             ],
             [
              1,
              "#f0f921"
             ]
            ],
            "type": "surface"
           }
          ],
          "table": [
           {
            "cells": {
             "fill": {
              "color": "#EBF0F8"
             },
             "line": {
              "color": "white"
             }
            },
            "header": {
             "fill": {
              "color": "#C8D4E3"
             },
             "line": {
              "color": "white"
             }
            },
            "type": "table"
           }
          ]
         },
         "layout": {
          "annotationdefaults": {
           "arrowcolor": "#2a3f5f",
           "arrowhead": 0,
           "arrowwidth": 1
          },
          "coloraxis": {
           "colorbar": {
            "outlinewidth": 0,
            "ticks": ""
           }
          },
          "colorscale": {
           "diverging": [
            [
             0,
             "#8e0152"
            ],
            [
             0.1,
             "#c51b7d"
            ],
            [
             0.2,
             "#de77ae"
            ],
            [
             0.3,
             "#f1b6da"
            ],
            [
             0.4,
             "#fde0ef"
            ],
            [
             0.5,
             "#f7f7f7"
            ],
            [
             0.6,
             "#e6f5d0"
            ],
            [
             0.7,
             "#b8e186"
            ],
            [
             0.8,
             "#7fbc41"
            ],
            [
             0.9,
             "#4d9221"
            ],
            [
             1,
             "#276419"
            ]
           ],
           "sequential": [
            [
             0,
             "#0d0887"
            ],
            [
             0.1111111111111111,
             "#46039f"
            ],
            [
             0.2222222222222222,
             "#7201a8"
            ],
            [
             0.3333333333333333,
             "#9c179e"
            ],
            [
             0.4444444444444444,
             "#bd3786"
            ],
            [
             0.5555555555555556,
             "#d8576b"
            ],
            [
             0.6666666666666666,
             "#ed7953"
            ],
            [
             0.7777777777777778,
             "#fb9f3a"
            ],
            [
             0.8888888888888888,
             "#fdca26"
            ],
            [
             1,
             "#f0f921"
            ]
           ],
           "sequentialminus": [
            [
             0,
             "#0d0887"
            ],
            [
             0.1111111111111111,
             "#46039f"
            ],
            [
             0.2222222222222222,
             "#7201a8"
            ],
            [
             0.3333333333333333,
             "#9c179e"
            ],
            [
             0.4444444444444444,
             "#bd3786"
            ],
            [
             0.5555555555555556,
             "#d8576b"
            ],
            [
             0.6666666666666666,
             "#ed7953"
            ],
            [
             0.7777777777777778,
             "#fb9f3a"
            ],
            [
             0.8888888888888888,
             "#fdca26"
            ],
            [
             1,
             "#f0f921"
            ]
           ]
          },
          "colorway": [
           "#636efa",
           "#EF553B",
           "#00cc96",
           "#ab63fa",
           "#FFA15A",
           "#19d3f3",
           "#FF6692",
           "#B6E880",
           "#FF97FF",
           "#FECB52"
          ],
          "font": {
           "color": "#2a3f5f"
          },
          "geo": {
           "bgcolor": "white",
           "lakecolor": "white",
           "landcolor": "#E5ECF6",
           "showlakes": true,
           "showland": true,
           "subunitcolor": "white"
          },
          "hoverlabel": {
           "align": "left"
          },
          "hovermode": "closest",
          "mapbox": {
           "style": "light"
          },
          "paper_bgcolor": "white",
          "plot_bgcolor": "#E5ECF6",
          "polar": {
           "angularaxis": {
            "gridcolor": "white",
            "linecolor": "white",
            "ticks": ""
           },
           "bgcolor": "#E5ECF6",
           "radialaxis": {
            "gridcolor": "white",
            "linecolor": "white",
            "ticks": ""
           }
          },
          "scene": {
           "xaxis": {
            "backgroundcolor": "#E5ECF6",
            "gridcolor": "white",
            "gridwidth": 2,
            "linecolor": "white",
            "showbackground": true,
            "ticks": "",
            "zerolinecolor": "white"
           },
           "yaxis": {
            "backgroundcolor": "#E5ECF6",
            "gridcolor": "white",
            "gridwidth": 2,
            "linecolor": "white",
            "showbackground": true,
            "ticks": "",
            "zerolinecolor": "white"
           },
           "zaxis": {
            "backgroundcolor": "#E5ECF6",
            "gridcolor": "white",
            "gridwidth": 2,
            "linecolor": "white",
            "showbackground": true,
            "ticks": "",
            "zerolinecolor": "white"
           }
          },
          "shapedefaults": {
           "line": {
            "color": "#2a3f5f"
           }
          },
          "ternary": {
           "aaxis": {
            "gridcolor": "white",
            "linecolor": "white",
            "ticks": ""
           },
           "baxis": {
            "gridcolor": "white",
            "linecolor": "white",
            "ticks": ""
           },
           "bgcolor": "#E5ECF6",
           "caxis": {
            "gridcolor": "white",
            "linecolor": "white",
            "ticks": ""
           }
          },
          "title": {
           "x": 0.05
          },
          "xaxis": {
           "automargin": true,
           "gridcolor": "white",
           "linecolor": "white",
           "ticks": "",
           "title": {
            "standoff": 15
           },
           "zerolinecolor": "white",
           "zerolinewidth": 2
          },
          "yaxis": {
           "automargin": true,
           "gridcolor": "white",
           "linecolor": "white",
           "ticks": "",
           "title": {
            "standoff": 15
           },
           "zerolinecolor": "white",
           "zerolinewidth": 2
          }
         }
        },
        "title": {
         "text": "NRC Lexicon: Emotions over Date"
        },
        "xaxis": {
         "anchor": "y",
         "domain": [
          0,
          1
         ],
         "range": [
          "2019-09-02",
          "2019-10-06"
         ],
         "title": {
          "text": "Date"
         }
        },
        "yaxis": {
         "anchor": "x",
         "domain": [
          0,
          1
         ],
         "range": [
          "2019-09-02",
          "2019-10-06"
         ],
         "title": {
          "text": "Average Sentiment"
         }
        }
       }
      },
      "text/html": [
       "<div>\n",
       "        \n",
       "        \n",
       "            <div id=\"3a5d264b-115b-4960-addf-a644b0371d9d\" class=\"plotly-graph-div\" style=\"height:600px; width:100%;\"></div>\n",
       "            <script type=\"text/javascript\">\n",
       "                require([\"plotly\"], function(Plotly) {\n",
       "                    window.PLOTLYENV=window.PLOTLYENV || {};\n",
       "                    \n",
       "                if (document.getElementById(\"3a5d264b-115b-4960-addf-a644b0371d9d\")) {\n",
       "                    Plotly.newPlot(\n",
       "                        '3a5d264b-115b-4960-addf-a644b0371d9d',\n",
       "                        [{\"hoverlabel\": {\"namelength\": 0}, \"hovertemplate\": \"emotion=anger<br>created_at_date=%{x}<br>average_sentiment=%{y}\", \"legendgroup\": \"emotion=anger\", \"line\": {\"color\": \"#636efa\", \"dash\": \"solid\"}, \"mode\": \"lines\", \"name\": \"emotion=anger\", \"showlegend\": true, \"type\": \"scatter\", \"x\": [\"2019-09-03T00:00:00\", \"2019-09-04T00:00:00\", \"2019-09-05T00:00:00\", \"2019-09-06T00:00:00\", \"2019-09-07T00:00:00\", \"2019-09-08T00:00:00\", \"2019-09-09T00:00:00\", \"2019-09-10T00:00:00\", \"2019-09-11T00:00:00\", \"2019-09-12T00:00:00\", \"2019-09-13T00:00:00\", \"2019-09-14T00:00:00\", \"2019-09-15T00:00:00\", \"2019-09-16T00:00:00\", \"2019-09-17T00:00:00\", \"2019-09-18T00:00:00\", \"2019-09-19T00:00:00\", \"2019-09-20T00:00:00\", \"2019-09-21T00:00:00\", \"2019-09-22T00:00:00\", \"2019-09-23T00:00:00\", \"2019-09-24T00:00:00\", \"2019-09-25T00:00:00\", \"2019-09-26T00:00:00\", \"2019-09-27T00:00:00\", \"2019-09-28T00:00:00\", \"2019-09-29T00:00:00\", \"2019-09-30T00:00:00\", \"2019-10-01T00:00:00\", \"2019-10-02T00:00:00\", \"2019-10-03T00:00:00\", \"2019-10-04T00:00:00\", \"2019-10-05T00:00:00\"], \"xaxis\": \"x\", \"y\": [0.041666666666666664, 0.028017028017028017, 0.0023531340945134047, 0.002151539270854037, 0.003448562123202103, 0.0023417674279743246, 0.0049012095874055766, 0.009026865994101064, 0.005847253547681164, 0.012961172076188129, 0.02021467390341089, 0.010958190164915869, 0.020017420441628606, 0.016035078282700666, 0.01257739204341146, 0.008605495694781409, 0.009857254794645593, 0.010026541366673011, 0.008232142857142858, 0.003057889822595705, 0.0036255411255411256, 0.004169993789370953, 0.02937750060884389, 0.011564625850340135, 0.015949969876323026, 0.002962962962962963, 0.018371212121212118, 0.002490726020137785, 0.0025577889304024917, 0.0028160919540229884, 0.026241987179487173, 0.005602693602693603, 0.02264957264957265], \"yaxis\": \"y\"}, {\"hoverlabel\": {\"namelength\": 0}, \"hovertemplate\": \"emotion=anticipation<br>created_at_date=%{x}<br>average_sentiment=%{y}\", \"legendgroup\": \"emotion=anticipation\", \"line\": {\"color\": \"#EF553B\", \"dash\": \"solid\"}, \"mode\": \"lines\", \"name\": \"emotion=anticipation\", \"showlegend\": true, \"type\": \"scatter\", \"x\": [\"2019-09-03T00:00:00\", \"2019-09-04T00:00:00\", \"2019-09-05T00:00:00\", \"2019-09-06T00:00:00\", \"2019-09-07T00:00:00\", \"2019-09-08T00:00:00\", \"2019-09-09T00:00:00\", \"2019-09-10T00:00:00\", \"2019-09-11T00:00:00\", \"2019-09-12T00:00:00\", \"2019-09-13T00:00:00\", \"2019-09-14T00:00:00\", \"2019-09-15T00:00:00\", \"2019-09-16T00:00:00\", \"2019-09-17T00:00:00\", \"2019-09-18T00:00:00\", \"2019-09-19T00:00:00\", \"2019-09-20T00:00:00\", \"2019-09-21T00:00:00\", \"2019-09-22T00:00:00\", \"2019-09-23T00:00:00\", \"2019-09-24T00:00:00\", \"2019-09-25T00:00:00\", \"2019-09-26T00:00:00\", \"2019-09-27T00:00:00\", \"2019-09-28T00:00:00\", \"2019-09-29T00:00:00\", \"2019-09-30T00:00:00\", \"2019-10-01T00:00:00\", \"2019-10-02T00:00:00\", \"2019-10-03T00:00:00\", \"2019-10-04T00:00:00\", \"2019-10-05T00:00:00\"], \"xaxis\": \"x\", \"y\": [0.0, 0.010285134356341787, 0.004231690761754677, 0.02251648633767398, 0.016469783631439555, 0.011032373111645977, 0.022156211581891933, 0.02058490831887769, 0.032483999517306454, 0.03145192727936445, 0.03488509852246816, 0.031084737053539417, 0.029925456577558282, 0.03139350721671061, 0.029660047482503143, 0.01691901366285603, 0.0470134921530166, 0.02508009709212755, 0.04283910533910533, 0.03678685149273384, 0.01893023849856148, 0.015678989306288527, 0.04675134219549243, 0.04010670923936229, 0.04951385438764601, 0.018627010849233076, 0.029166666666666664, 0.019974169974169974, 0.08461869721851975, 0.017530682074292623, 0.03390088016624321, 0.026749082593072362, 0.02989777107424166], \"yaxis\": \"y\"}, {\"hoverlabel\": {\"namelength\": 0}, \"hovertemplate\": \"emotion=disgust<br>created_at_date=%{x}<br>average_sentiment=%{y}\", \"legendgroup\": \"emotion=disgust\", \"line\": {\"color\": \"#00cc96\", \"dash\": \"solid\"}, \"mode\": \"lines\", \"name\": \"emotion=disgust\", \"showlegend\": true, \"type\": \"scatter\", \"x\": [\"2019-09-03T00:00:00\", \"2019-09-04T00:00:00\", \"2019-09-05T00:00:00\", \"2019-09-06T00:00:00\", \"2019-09-07T00:00:00\", \"2019-09-08T00:00:00\", \"2019-09-09T00:00:00\", \"2019-09-10T00:00:00\", \"2019-09-11T00:00:00\", \"2019-09-12T00:00:00\", \"2019-09-13T00:00:00\", \"2019-09-14T00:00:00\", \"2019-09-15T00:00:00\", \"2019-09-16T00:00:00\", \"2019-09-17T00:00:00\", \"2019-09-18T00:00:00\", \"2019-09-19T00:00:00\", \"2019-09-20T00:00:00\", \"2019-09-21T00:00:00\", \"2019-09-22T00:00:00\", \"2019-09-23T00:00:00\", \"2019-09-24T00:00:00\", \"2019-09-25T00:00:00\", \"2019-09-26T00:00:00\", \"2019-09-27T00:00:00\", \"2019-09-28T00:00:00\", \"2019-09-29T00:00:00\", \"2019-09-30T00:00:00\", \"2019-10-01T00:00:00\", \"2019-10-02T00:00:00\", \"2019-10-03T00:00:00\", \"2019-10-04T00:00:00\", \"2019-10-05T00:00:00\"], \"xaxis\": \"x\", \"y\": [0.03125, 0.021713084213084224, 0.010110994848063814, 0.017535856054940423, 0.02120779689488501, 0.0234003962991032, 0.0134512606568906, 0.011654933819333406, 0.019372861673499525, 0.011753961616802033, 0.01624092048564473, 0.01122766696240625, 0.013471982810742203, 0.014592793548638164, 0.01217928242200087, 0.007695846481560765, 0.006586658665866586, 0.007089854631103594, 0.0, 0.004341736694677871, 0.0022367642709257615, 0.0015082956259426848, 0.02234910611776284, 0.012244897959183673, 0.016412092787425527, 0.0030864197530864196, 0.003787878787878788, 0.0022522522522522522, 0.00163014514561585, 0.009819595549818674, 0.03901129243245252, 0.006909883145177262, 0.008547008547008548], \"yaxis\": \"y\"}, {\"hoverlabel\": {\"namelength\": 0}, \"hovertemplate\": \"emotion=fear<br>created_at_date=%{x}<br>average_sentiment=%{y}\", \"legendgroup\": \"emotion=fear\", \"line\": {\"color\": \"#ab63fa\", \"dash\": \"solid\"}, \"mode\": \"lines\", \"name\": \"emotion=fear\", \"showlegend\": true, \"type\": \"scatter\", \"x\": [\"2019-09-03T00:00:00\", \"2019-09-04T00:00:00\", \"2019-09-05T00:00:00\", \"2019-09-06T00:00:00\", \"2019-09-07T00:00:00\", \"2019-09-08T00:00:00\", \"2019-09-09T00:00:00\", \"2019-09-10T00:00:00\", \"2019-09-11T00:00:00\", \"2019-09-12T00:00:00\", \"2019-09-13T00:00:00\", \"2019-09-14T00:00:00\", \"2019-09-15T00:00:00\", \"2019-09-16T00:00:00\", \"2019-09-17T00:00:00\", \"2019-09-18T00:00:00\", \"2019-09-19T00:00:00\", \"2019-09-20T00:00:00\", \"2019-09-21T00:00:00\", \"2019-09-22T00:00:00\", \"2019-09-23T00:00:00\", \"2019-09-24T00:00:00\", \"2019-09-25T00:00:00\", \"2019-09-26T00:00:00\", \"2019-09-27T00:00:00\", \"2019-09-28T00:00:00\", \"2019-09-29T00:00:00\", \"2019-09-30T00:00:00\", \"2019-10-01T00:00:00\", \"2019-10-02T00:00:00\", \"2019-10-03T00:00:00\", \"2019-10-04T00:00:00\", \"2019-10-05T00:00:00\"], \"xaxis\": \"x\", \"y\": [0.0, 0.022695126371596968, 0.0027435759652445425, 0.004646576875338646, 0.003849816551793608, 0.0038321352976525384, 0.02070348976636834, 0.029687173118044453, 0.012212839812342818, 0.020498979304434416, 0.030104059017396795, 0.01922553114731061, 0.03146917754591681, 0.025542489845535553, 0.032799093394614495, 0.01176883823020717, 0.013121516202471359, 0.012484188566915098, 0.023705357142857143, 0.02657832363714717, 0.007627517410126105, 0.030169609321858464, 0.062048060815095236, 0.03579987189681067, 0.022349164441001178, 0.004814814814814815, 0.020075757575757577, 0.003616852146263911, 0.011171624074849881, 0.006223799864773495, 0.03998588217338218, 0.008835016835016835, 0.050878642055112645], \"yaxis\": \"y\"}, {\"hoverlabel\": {\"namelength\": 0}, \"hovertemplate\": \"emotion=joy<br>created_at_date=%{x}<br>average_sentiment=%{y}\", \"legendgroup\": \"emotion=joy\", \"line\": {\"color\": \"#FFA15A\", \"dash\": \"solid\"}, \"mode\": \"lines\", \"name\": \"emotion=joy\", \"showlegend\": true, \"type\": \"scatter\", \"x\": [\"2019-09-03T00:00:00\", \"2019-09-04T00:00:00\", \"2019-09-05T00:00:00\", \"2019-09-06T00:00:00\", \"2019-09-07T00:00:00\", \"2019-09-08T00:00:00\", \"2019-09-09T00:00:00\", \"2019-09-10T00:00:00\", \"2019-09-11T00:00:00\", \"2019-09-12T00:00:00\", \"2019-09-13T00:00:00\", \"2019-09-14T00:00:00\", \"2019-09-15T00:00:00\", \"2019-09-16T00:00:00\", \"2019-09-17T00:00:00\", \"2019-09-18T00:00:00\", \"2019-09-19T00:00:00\", \"2019-09-20T00:00:00\", \"2019-09-21T00:00:00\", \"2019-09-22T00:00:00\", \"2019-09-23T00:00:00\", \"2019-09-24T00:00:00\", \"2019-09-25T00:00:00\", \"2019-09-26T00:00:00\", \"2019-09-27T00:00:00\", \"2019-09-28T00:00:00\", \"2019-09-29T00:00:00\", \"2019-09-30T00:00:00\", \"2019-10-01T00:00:00\", \"2019-10-02T00:00:00\", \"2019-10-03T00:00:00\", \"2019-10-04T00:00:00\", \"2019-10-05T00:00:00\"], \"xaxis\": \"x\", \"y\": [0.0, 0.0281246433723214, 0.027438352544748346, 0.01722866390632161, 0.005090507143547014, 0.007311298804039276, 0.014948429839348345, 0.02080065840632924, 0.02831939545431085, 0.030829588798890747, 0.032578230299771194, 0.025110403265120228, 0.030985612901868905, 0.030128319146483968, 0.036353429474239404, 0.018399325678882326, 0.04974322293552135, 0.027197881879331812, 0.040676363793211615, 0.04138018843901197, 0.009290565880791442, 0.009480451305710822, 0.02314655974742638, 0.02877127596515351, 0.026903602722614536, 0.013868312757201648, 0.03620823620823621, 0.013094563094563094, 0.04601828815127037, 0.005363984674329502, 0.026552337278484623, 0.011444444444444445, 0.01862745098039216], \"yaxis\": \"y\"}, {\"hoverlabel\": {\"namelength\": 0}, \"hovertemplate\": \"emotion=sadness<br>created_at_date=%{x}<br>average_sentiment=%{y}\", \"legendgroup\": \"emotion=sadness\", \"line\": {\"color\": \"#19d3f3\", \"dash\": \"solid\"}, \"mode\": \"lines\", \"name\": \"emotion=sadness\", \"showlegend\": true, \"type\": \"scatter\", \"x\": [\"2019-09-03T00:00:00\", \"2019-09-04T00:00:00\", \"2019-09-05T00:00:00\", \"2019-09-06T00:00:00\", \"2019-09-07T00:00:00\", \"2019-09-08T00:00:00\", \"2019-09-09T00:00:00\", \"2019-09-10T00:00:00\", \"2019-09-11T00:00:00\", \"2019-09-12T00:00:00\", \"2019-09-13T00:00:00\", \"2019-09-14T00:00:00\", \"2019-09-15T00:00:00\", \"2019-09-16T00:00:00\", \"2019-09-17T00:00:00\", \"2019-09-18T00:00:00\", \"2019-09-19T00:00:00\", \"2019-09-20T00:00:00\", \"2019-09-21T00:00:00\", \"2019-09-22T00:00:00\", \"2019-09-23T00:00:00\", \"2019-09-24T00:00:00\", \"2019-09-25T00:00:00\", \"2019-09-26T00:00:00\", \"2019-09-27T00:00:00\", \"2019-09-28T00:00:00\", \"2019-09-29T00:00:00\", \"2019-09-30T00:00:00\", \"2019-10-01T00:00:00\", \"2019-10-02T00:00:00\", \"2019-10-03T00:00:00\", \"2019-10-04T00:00:00\", \"2019-10-05T00:00:00\"], \"xaxis\": \"x\", \"y\": [0.0, 0.020340470340470342, 0.003404062386020323, 0.011781449987289467, 0.006385934733506128, 0.003703919593211789, 0.007744312923929964, 0.014411485172385876, 0.010686834677826213, 0.016962859946561392, 0.03275878971897905, 0.025051487291103562, 0.02813535015774555, 0.025541225012892046, 0.029514560160697232, 0.01474761078040829, 0.011042499854381042, 0.01187623068903661, 0.03444509144237405, 0.025971414206708322, 0.007627517410126105, 0.02717578259373925, 0.04926375448763509, 0.023393230918741122, 0.03268406763304723, 0.00818181818181818, 0.03257575757575757, 0.005869104398516164, 0.0025577889304024917, 0.0081947261663286, 0.043397979335479335, 0.009213804713804714, 0.05741458976753095], \"yaxis\": \"y\"}, {\"hoverlabel\": {\"namelength\": 0}, \"hovertemplate\": \"emotion=surprise<br>created_at_date=%{x}<br>average_sentiment=%{y}\", \"legendgroup\": \"emotion=surprise\", \"line\": {\"color\": \"#FF6692\", \"dash\": \"solid\"}, \"mode\": \"lines\", \"name\": \"emotion=surprise\", \"showlegend\": true, \"type\": \"scatter\", \"x\": [\"2019-09-03T00:00:00\", \"2019-09-04T00:00:00\", \"2019-09-05T00:00:00\", \"2019-09-06T00:00:00\", \"2019-09-07T00:00:00\", \"2019-09-08T00:00:00\", \"2019-09-09T00:00:00\", \"2019-09-10T00:00:00\", \"2019-09-11T00:00:00\", \"2019-09-12T00:00:00\", \"2019-09-13T00:00:00\", \"2019-09-14T00:00:00\", \"2019-09-15T00:00:00\", \"2019-09-16T00:00:00\", \"2019-09-17T00:00:00\", \"2019-09-18T00:00:00\", \"2019-09-19T00:00:00\", \"2019-09-20T00:00:00\", \"2019-09-21T00:00:00\", \"2019-09-22T00:00:00\", \"2019-09-23T00:00:00\", \"2019-09-24T00:00:00\", \"2019-09-25T00:00:00\", \"2019-09-26T00:00:00\", \"2019-09-27T00:00:00\", \"2019-09-28T00:00:00\", \"2019-09-29T00:00:00\", \"2019-09-30T00:00:00\", \"2019-10-01T00:00:00\", \"2019-10-02T00:00:00\", \"2019-10-03T00:00:00\", \"2019-10-04T00:00:00\", \"2019-10-05T00:00:00\"], \"xaxis\": \"x\", \"y\": [0.0, 0.0028323778323778325, 0.0014687743934962427, 0.003745246688795076, 0.005137145012663686, 0.0018978605935127673, 0.005754655131892984, 0.00805586289888429, 0.006967766862480294, 0.00960297363107978, 0.01561570894612636, 0.011349954510775553, 0.01111661076018257, 0.010084379469969608, 0.011528850266936511, 0.0033288669002954716, 0.007283836081536823, 0.008409792466037019, 0.010496031746031744, 0.003034547152194211, 0.0036255411255411256, 0.01021637916101584, 0.02625378352990293, 0.017929458108029536, 0.014829728095034217, 0.002962962962962963, 0.006250000000000001, 0.006788256788256788, 0.001727675197062952, 0.00782703886152162, 0.015040296358231139, 0.004206349206349206, 0.014102564102564101], \"yaxis\": \"y\"}, {\"hoverlabel\": {\"namelength\": 0}, \"hovertemplate\": \"emotion=trust<br>created_at_date=%{x}<br>average_sentiment=%{y}\", \"legendgroup\": \"emotion=trust\", \"line\": {\"color\": \"#B6E880\", \"dash\": \"solid\"}, \"mode\": \"lines\", \"name\": \"emotion=trust\", \"showlegend\": true, \"type\": \"scatter\", \"x\": [\"2019-09-03T00:00:00\", \"2019-09-04T00:00:00\", \"2019-09-05T00:00:00\", \"2019-09-06T00:00:00\", \"2019-09-07T00:00:00\", \"2019-09-08T00:00:00\", \"2019-09-09T00:00:00\", \"2019-09-10T00:00:00\", \"2019-09-11T00:00:00\", \"2019-09-12T00:00:00\", \"2019-09-13T00:00:00\", \"2019-09-14T00:00:00\", \"2019-09-15T00:00:00\", \"2019-09-16T00:00:00\", \"2019-09-17T00:00:00\", \"2019-09-18T00:00:00\", \"2019-09-19T00:00:00\", \"2019-09-20T00:00:00\", \"2019-09-21T00:00:00\", \"2019-09-22T00:00:00\", \"2019-09-23T00:00:00\", \"2019-09-24T00:00:00\", \"2019-09-25T00:00:00\", \"2019-09-26T00:00:00\", \"2019-09-27T00:00:00\", \"2019-09-28T00:00:00\", \"2019-09-29T00:00:00\", \"2019-09-30T00:00:00\", \"2019-10-01T00:00:00\", \"2019-10-02T00:00:00\", \"2019-10-03T00:00:00\", \"2019-10-04T00:00:00\", \"2019-10-05T00:00:00\"], \"xaxis\": \"x\", \"y\": [0.10416666666666666, 0.047469935860028754, 0.07287043563608739, 0.07075677770559481, 0.04759395804948753, 0.0517329055044572, 0.05191386380686927, 0.03520718261549728, 0.06887737796551957, 0.054953890863785625, 0.053725013761022906, 0.0479715419077053, 0.0558245602845154, 0.04715750180597943, 0.06533928314248678, 0.03361621488345625, 0.055409127305001304, 0.03642370341047991, 0.04630707517120561, 0.0688620972596632, 0.015105322673645654, 0.015329096124943877, 0.051330720616898425, 0.05041121010508765, 0.0494391847430889, 0.04142968142968143, 0.05259809634809636, 0.03523920876862052, 0.06953507637394095, 0.04569784719558979, 0.046116454473320766, 0.02126682250211662, 0.046279537456008046], \"yaxis\": \"y\"}],\n",
       "                        {\"height\": 600, \"legend\": {\"tracegroupgap\": 0}, \"margin\": {\"t\": 60}, \"template\": {\"data\": {\"bar\": [{\"error_x\": {\"color\": \"#2a3f5f\"}, \"error_y\": {\"color\": \"#2a3f5f\"}, \"marker\": {\"line\": {\"color\": \"#E5ECF6\", \"width\": 0.5}}, \"type\": \"bar\"}], \"barpolar\": [{\"marker\": {\"line\": {\"color\": \"#E5ECF6\", \"width\": 0.5}}, \"type\": \"barpolar\"}], \"carpet\": [{\"aaxis\": {\"endlinecolor\": \"#2a3f5f\", \"gridcolor\": \"white\", \"linecolor\": \"white\", \"minorgridcolor\": \"white\", \"startlinecolor\": \"#2a3f5f\"}, \"baxis\": {\"endlinecolor\": \"#2a3f5f\", \"gridcolor\": \"white\", \"linecolor\": \"white\", \"minorgridcolor\": \"white\", \"startlinecolor\": \"#2a3f5f\"}, \"type\": \"carpet\"}], \"choropleth\": [{\"colorbar\": {\"outlinewidth\": 0, \"ticks\": \"\"}, \"type\": \"choropleth\"}], \"contour\": [{\"colorbar\": {\"outlinewidth\": 0, \"ticks\": \"\"}, \"colorscale\": [[0.0, \"#0d0887\"], [0.1111111111111111, \"#46039f\"], [0.2222222222222222, \"#7201a8\"], [0.3333333333333333, \"#9c179e\"], [0.4444444444444444, \"#bd3786\"], [0.5555555555555556, \"#d8576b\"], [0.6666666666666666, \"#ed7953\"], [0.7777777777777778, \"#fb9f3a\"], [0.8888888888888888, \"#fdca26\"], [1.0, \"#f0f921\"]], \"type\": \"contour\"}], \"contourcarpet\": [{\"colorbar\": {\"outlinewidth\": 0, \"ticks\": \"\"}, \"type\": \"contourcarpet\"}], \"heatmap\": [{\"colorbar\": {\"outlinewidth\": 0, \"ticks\": \"\"}, \"colorscale\": [[0.0, \"#0d0887\"], [0.1111111111111111, \"#46039f\"], [0.2222222222222222, \"#7201a8\"], [0.3333333333333333, \"#9c179e\"], [0.4444444444444444, \"#bd3786\"], [0.5555555555555556, \"#d8576b\"], [0.6666666666666666, \"#ed7953\"], [0.7777777777777778, \"#fb9f3a\"], [0.8888888888888888, \"#fdca26\"], [1.0, \"#f0f921\"]], \"type\": \"heatmap\"}], \"heatmapgl\": [{\"colorbar\": {\"outlinewidth\": 0, \"ticks\": \"\"}, \"colorscale\": [[0.0, \"#0d0887\"], [0.1111111111111111, \"#46039f\"], [0.2222222222222222, \"#7201a8\"], [0.3333333333333333, \"#9c179e\"], [0.4444444444444444, \"#bd3786\"], [0.5555555555555556, \"#d8576b\"], [0.6666666666666666, \"#ed7953\"], [0.7777777777777778, \"#fb9f3a\"], [0.8888888888888888, \"#fdca26\"], [1.0, \"#f0f921\"]], \"type\": \"heatmapgl\"}], \"histogram\": [{\"marker\": {\"colorbar\": {\"outlinewidth\": 0, \"ticks\": \"\"}}, \"type\": \"histogram\"}], \"histogram2d\": [{\"colorbar\": {\"outlinewidth\": 0, \"ticks\": \"\"}, \"colorscale\": [[0.0, \"#0d0887\"], [0.1111111111111111, \"#46039f\"], [0.2222222222222222, \"#7201a8\"], [0.3333333333333333, \"#9c179e\"], [0.4444444444444444, \"#bd3786\"], [0.5555555555555556, \"#d8576b\"], [0.6666666666666666, \"#ed7953\"], [0.7777777777777778, \"#fb9f3a\"], [0.8888888888888888, \"#fdca26\"], [1.0, \"#f0f921\"]], \"type\": \"histogram2d\"}], \"histogram2dcontour\": [{\"colorbar\": {\"outlinewidth\": 0, \"ticks\": \"\"}, \"colorscale\": [[0.0, \"#0d0887\"], [0.1111111111111111, \"#46039f\"], [0.2222222222222222, \"#7201a8\"], [0.3333333333333333, \"#9c179e\"], [0.4444444444444444, \"#bd3786\"], [0.5555555555555556, \"#d8576b\"], [0.6666666666666666, \"#ed7953\"], [0.7777777777777778, \"#fb9f3a\"], [0.8888888888888888, \"#fdca26\"], [1.0, \"#f0f921\"]], \"type\": \"histogram2dcontour\"}], \"mesh3d\": [{\"colorbar\": {\"outlinewidth\": 0, \"ticks\": \"\"}, \"type\": \"mesh3d\"}], \"parcoords\": [{\"line\": {\"colorbar\": {\"outlinewidth\": 0, \"ticks\": \"\"}}, \"type\": \"parcoords\"}], \"pie\": [{\"automargin\": true, \"type\": \"pie\"}], \"scatter\": [{\"marker\": {\"colorbar\": {\"outlinewidth\": 0, \"ticks\": \"\"}}, \"type\": \"scatter\"}], \"scatter3d\": [{\"line\": {\"colorbar\": {\"outlinewidth\": 0, \"ticks\": \"\"}}, \"marker\": {\"colorbar\": {\"outlinewidth\": 0, \"ticks\": \"\"}}, \"type\": \"scatter3d\"}], \"scattercarpet\": [{\"marker\": {\"colorbar\": {\"outlinewidth\": 0, \"ticks\": \"\"}}, \"type\": \"scattercarpet\"}], \"scattergeo\": [{\"marker\": {\"colorbar\": {\"outlinewidth\": 0, \"ticks\": \"\"}}, \"type\": \"scattergeo\"}], \"scattergl\": [{\"marker\": {\"colorbar\": {\"outlinewidth\": 0, \"ticks\": \"\"}}, \"type\": \"scattergl\"}], \"scattermapbox\": [{\"marker\": {\"colorbar\": {\"outlinewidth\": 0, \"ticks\": \"\"}}, \"type\": \"scattermapbox\"}], \"scatterpolar\": [{\"marker\": {\"colorbar\": {\"outlinewidth\": 0, \"ticks\": \"\"}}, \"type\": \"scatterpolar\"}], \"scatterpolargl\": [{\"marker\": {\"colorbar\": {\"outlinewidth\": 0, \"ticks\": \"\"}}, \"type\": \"scatterpolargl\"}], \"scatterternary\": [{\"marker\": {\"colorbar\": {\"outlinewidth\": 0, \"ticks\": \"\"}}, \"type\": \"scatterternary\"}], \"surface\": [{\"colorbar\": {\"outlinewidth\": 0, \"ticks\": \"\"}, \"colorscale\": [[0.0, \"#0d0887\"], [0.1111111111111111, \"#46039f\"], [0.2222222222222222, \"#7201a8\"], [0.3333333333333333, \"#9c179e\"], [0.4444444444444444, \"#bd3786\"], [0.5555555555555556, \"#d8576b\"], [0.6666666666666666, \"#ed7953\"], [0.7777777777777778, \"#fb9f3a\"], [0.8888888888888888, \"#fdca26\"], [1.0, \"#f0f921\"]], \"type\": \"surface\"}], \"table\": [{\"cells\": {\"fill\": {\"color\": \"#EBF0F8\"}, \"line\": {\"color\": \"white\"}}, \"header\": {\"fill\": {\"color\": \"#C8D4E3\"}, \"line\": {\"color\": \"white\"}}, \"type\": \"table\"}]}, \"layout\": {\"annotationdefaults\": {\"arrowcolor\": \"#2a3f5f\", \"arrowhead\": 0, \"arrowwidth\": 1}, \"coloraxis\": {\"colorbar\": {\"outlinewidth\": 0, \"ticks\": \"\"}}, \"colorscale\": {\"diverging\": [[0, \"#8e0152\"], [0.1, \"#c51b7d\"], [0.2, \"#de77ae\"], [0.3, \"#f1b6da\"], [0.4, \"#fde0ef\"], [0.5, \"#f7f7f7\"], [0.6, \"#e6f5d0\"], [0.7, \"#b8e186\"], [0.8, \"#7fbc41\"], [0.9, \"#4d9221\"], [1, \"#276419\"]], \"sequential\": [[0.0, \"#0d0887\"], [0.1111111111111111, \"#46039f\"], [0.2222222222222222, \"#7201a8\"], [0.3333333333333333, \"#9c179e\"], [0.4444444444444444, \"#bd3786\"], [0.5555555555555556, \"#d8576b\"], [0.6666666666666666, \"#ed7953\"], [0.7777777777777778, \"#fb9f3a\"], [0.8888888888888888, \"#fdca26\"], [1.0, \"#f0f921\"]], \"sequentialminus\": [[0.0, \"#0d0887\"], [0.1111111111111111, \"#46039f\"], [0.2222222222222222, \"#7201a8\"], [0.3333333333333333, \"#9c179e\"], [0.4444444444444444, \"#bd3786\"], [0.5555555555555556, \"#d8576b\"], [0.6666666666666666, \"#ed7953\"], [0.7777777777777778, \"#fb9f3a\"], [0.8888888888888888, \"#fdca26\"], [1.0, \"#f0f921\"]]}, \"colorway\": [\"#636efa\", \"#EF553B\", \"#00cc96\", \"#ab63fa\", \"#FFA15A\", \"#19d3f3\", \"#FF6692\", \"#B6E880\", \"#FF97FF\", \"#FECB52\"], \"font\": {\"color\": \"#2a3f5f\"}, \"geo\": {\"bgcolor\": \"white\", \"lakecolor\": \"white\", \"landcolor\": \"#E5ECF6\", \"showlakes\": true, \"showland\": true, \"subunitcolor\": \"white\"}, \"hoverlabel\": {\"align\": \"left\"}, \"hovermode\": \"closest\", \"mapbox\": {\"style\": \"light\"}, \"paper_bgcolor\": \"white\", \"plot_bgcolor\": \"#E5ECF6\", \"polar\": {\"angularaxis\": {\"gridcolor\": \"white\", \"linecolor\": \"white\", \"ticks\": \"\"}, \"bgcolor\": \"#E5ECF6\", \"radialaxis\": {\"gridcolor\": \"white\", \"linecolor\": \"white\", \"ticks\": \"\"}}, \"scene\": {\"xaxis\": {\"backgroundcolor\": \"#E5ECF6\", \"gridcolor\": \"white\", \"gridwidth\": 2, \"linecolor\": \"white\", \"showbackground\": true, \"ticks\": \"\", \"zerolinecolor\": \"white\"}, \"yaxis\": {\"backgroundcolor\": \"#E5ECF6\", \"gridcolor\": \"white\", \"gridwidth\": 2, \"linecolor\": \"white\", \"showbackground\": true, \"ticks\": \"\", \"zerolinecolor\": \"white\"}, \"zaxis\": {\"backgroundcolor\": \"#E5ECF6\", \"gridcolor\": \"white\", \"gridwidth\": 2, \"linecolor\": \"white\", \"showbackground\": true, \"ticks\": \"\", \"zerolinecolor\": \"white\"}}, \"shapedefaults\": {\"line\": {\"color\": \"#2a3f5f\"}}, \"ternary\": {\"aaxis\": {\"gridcolor\": \"white\", \"linecolor\": \"white\", \"ticks\": \"\"}, \"baxis\": {\"gridcolor\": \"white\", \"linecolor\": \"white\", \"ticks\": \"\"}, \"bgcolor\": \"#E5ECF6\", \"caxis\": {\"gridcolor\": \"white\", \"linecolor\": \"white\", \"ticks\": \"\"}}, \"title\": {\"x\": 0.05}, \"xaxis\": {\"automargin\": true, \"gridcolor\": \"white\", \"linecolor\": \"white\", \"ticks\": \"\", \"title\": {\"standoff\": 15}, \"zerolinecolor\": \"white\", \"zerolinewidth\": 2}, \"yaxis\": {\"automargin\": true, \"gridcolor\": \"white\", \"linecolor\": \"white\", \"ticks\": \"\", \"title\": {\"standoff\": 15}, \"zerolinecolor\": \"white\", \"zerolinewidth\": 2}}}, \"title\": {\"text\": \"NRC Lexicon: Emotions over Date\"}, \"xaxis\": {\"anchor\": \"y\", \"domain\": [0.0, 1.0], \"range\": [\"2019-09-02\", \"2019-10-06\"], \"title\": {\"text\": \"Date\"}}, \"yaxis\": {\"anchor\": \"x\", \"domain\": [0.0, 1.0], \"range\": [\"2019-09-02\", \"2019-10-06\"], \"title\": {\"text\": \"Average Sentiment\"}}},\n",
       "                        {\"responsive\": true}\n",
       "                    ).then(function(){\n",
       "                            \n",
       "var gd = document.getElementById('3a5d264b-115b-4960-addf-a644b0371d9d');\n",
       "var x = new MutationObserver(function (mutations, observer) {{\n",
       "        var display = window.getComputedStyle(gd).display;\n",
       "        if (!display || display === 'none') {{\n",
       "            console.log([gd, 'removed!']);\n",
       "            Plotly.purge(gd);\n",
       "            observer.disconnect();\n",
       "        }}\n",
       "}});\n",
       "\n",
       "// Listen for the removal of the full notebook cells\n",
       "var notebookContainer = gd.closest('#notebook-container');\n",
       "if (notebookContainer) {{\n",
       "    x.observe(notebookContainer, {childList: true});\n",
       "}}\n",
       "\n",
       "// Listen for the clearing of the current output cell\n",
       "var outputEl = gd.closest('.output');\n",
       "if (outputEl) {{\n",
       "    x.observe(outputEl, {childList: true});\n",
       "}}\n",
       "\n",
       "                        })\n",
       "                };\n",
       "                });\n",
       "            </script>\n",
       "        </div>"
      ]
     },
     "metadata": {},
     "output_type": "display_data"
    }
   ],
   "source": [
    "import plotly.express as px\n",
    "fig = px.line(nrc_date, x=\"created_at_date\", y=\"average_sentiment\", color='emotion')\n",
    "fig.update_xaxes(title_text=\"Date\",range=['2019-09-02','2019-10-06'])\n",
    "fig.update_yaxes(title_text=\"Average Sentiment\",range=['2019-09-02','2019-10-06'])\n",
    "fig.update_layout(title_text=\"NRC Lexicon: Emotions over Date\")\n",
    "fig.show()"
   ]
  },
  {
   "cell_type": "code",
   "execution_count": 65,
   "metadata": {},
   "outputs": [
    {
     "data": {
      "application/vnd.plotly.v1+json": {
       "config": {
        "plotlyServerURL": "https://plot.ly"
       },
       "data": [
        {
         "hoverlabel": {
          "namelength": 0
         },
         "hovertemplate": "emotion=fear<br>created_at_date=%{x}<br>average_sentiment=%{y}",
         "legendgroup": "emotion=fear",
         "line": {
          "color": "#636efa",
          "dash": "solid"
         },
         "mode": "lines",
         "name": "emotion=fear",
         "showlegend": true,
         "type": "scatter",
         "x": [
          "2019-09-03T00:00:00",
          "2019-09-04T00:00:00",
          "2019-09-05T00:00:00",
          "2019-09-06T00:00:00",
          "2019-09-07T00:00:00",
          "2019-09-08T00:00:00",
          "2019-09-09T00:00:00",
          "2019-09-10T00:00:00",
          "2019-09-11T00:00:00",
          "2019-09-12T00:00:00",
          "2019-09-13T00:00:00",
          "2019-09-14T00:00:00",
          "2019-09-15T00:00:00",
          "2019-09-16T00:00:00",
          "2019-09-17T00:00:00",
          "2019-09-18T00:00:00",
          "2019-09-19T00:00:00",
          "2019-09-20T00:00:00",
          "2019-09-21T00:00:00",
          "2019-09-22T00:00:00",
          "2019-09-23T00:00:00",
          "2019-09-24T00:00:00",
          "2019-09-25T00:00:00",
          "2019-09-26T00:00:00",
          "2019-09-27T00:00:00",
          "2019-09-28T00:00:00",
          "2019-09-29T00:00:00",
          "2019-09-30T00:00:00",
          "2019-10-01T00:00:00",
          "2019-10-02T00:00:00",
          "2019-10-03T00:00:00",
          "2019-10-04T00:00:00",
          "2019-10-05T00:00:00"
         ],
         "xaxis": "x",
         "y": [
          0,
          0.022695126371596968,
          0.0027435759652445425,
          0.004646576875338646,
          0.003849816551793608,
          0.0038321352976525384,
          0.02070348976636834,
          0.029687173118044453,
          0.012212839812342818,
          0.020498979304434416,
          0.030104059017396795,
          0.01922553114731061,
          0.03146917754591681,
          0.025542489845535553,
          0.032799093394614495,
          0.01176883823020717,
          0.013121516202471359,
          0.012484188566915098,
          0.023705357142857143,
          0.02657832363714717,
          0.007627517410126105,
          0.030169609321858464,
          0.062048060815095236,
          0.03579987189681067,
          0.022349164441001178,
          0.004814814814814815,
          0.020075757575757577,
          0.003616852146263911,
          0.011171624074849881,
          0.006223799864773495,
          0.03998588217338218,
          0.008835016835016835,
          0.050878642055112645
         ],
         "yaxis": "y"
        },
        {
         "hoverlabel": {
          "namelength": 0
         },
         "hovertemplate": "emotion=sadness<br>created_at_date=%{x}<br>average_sentiment=%{y}",
         "legendgroup": "emotion=sadness",
         "line": {
          "color": "#EF553B",
          "dash": "solid"
         },
         "mode": "lines",
         "name": "emotion=sadness",
         "showlegend": true,
         "type": "scatter",
         "x": [
          "2019-09-03T00:00:00",
          "2019-09-04T00:00:00",
          "2019-09-05T00:00:00",
          "2019-09-06T00:00:00",
          "2019-09-07T00:00:00",
          "2019-09-08T00:00:00",
          "2019-09-09T00:00:00",
          "2019-09-10T00:00:00",
          "2019-09-11T00:00:00",
          "2019-09-12T00:00:00",
          "2019-09-13T00:00:00",
          "2019-09-14T00:00:00",
          "2019-09-15T00:00:00",
          "2019-09-16T00:00:00",
          "2019-09-17T00:00:00",
          "2019-09-18T00:00:00",
          "2019-09-19T00:00:00",
          "2019-09-20T00:00:00",
          "2019-09-21T00:00:00",
          "2019-09-22T00:00:00",
          "2019-09-23T00:00:00",
          "2019-09-24T00:00:00",
          "2019-09-25T00:00:00",
          "2019-09-26T00:00:00",
          "2019-09-27T00:00:00",
          "2019-09-28T00:00:00",
          "2019-09-29T00:00:00",
          "2019-09-30T00:00:00",
          "2019-10-01T00:00:00",
          "2019-10-02T00:00:00",
          "2019-10-03T00:00:00",
          "2019-10-04T00:00:00",
          "2019-10-05T00:00:00"
         ],
         "xaxis": "x",
         "y": [
          0,
          0.020340470340470342,
          0.003404062386020323,
          0.011781449987289467,
          0.006385934733506128,
          0.003703919593211789,
          0.007744312923929964,
          0.014411485172385876,
          0.010686834677826213,
          0.016962859946561392,
          0.03275878971897905,
          0.025051487291103562,
          0.02813535015774555,
          0.025541225012892046,
          0.029514560160697232,
          0.01474761078040829,
          0.011042499854381042,
          0.01187623068903661,
          0.03444509144237405,
          0.025971414206708322,
          0.007627517410126105,
          0.02717578259373925,
          0.04926375448763509,
          0.023393230918741122,
          0.03268406763304723,
          0.00818181818181818,
          0.03257575757575757,
          0.005869104398516164,
          0.0025577889304024917,
          0.0081947261663286,
          0.043397979335479335,
          0.009213804713804714,
          0.05741458976753095
         ],
         "yaxis": "y"
        }
       ],
       "layout": {
        "height": 600,
        "legend": {
         "tracegroupgap": 0
        },
        "margin": {
         "t": 60
        },
        "template": {
         "data": {
          "bar": [
           {
            "error_x": {
             "color": "#2a3f5f"
            },
            "error_y": {
             "color": "#2a3f5f"
            },
            "marker": {
             "line": {
              "color": "#E5ECF6",
              "width": 0.5
             }
            },
            "type": "bar"
           }
          ],
          "barpolar": [
           {
            "marker": {
             "line": {
              "color": "#E5ECF6",
              "width": 0.5
             }
            },
            "type": "barpolar"
           }
          ],
          "carpet": [
           {
            "aaxis": {
             "endlinecolor": "#2a3f5f",
             "gridcolor": "white",
             "linecolor": "white",
             "minorgridcolor": "white",
             "startlinecolor": "#2a3f5f"
            },
            "baxis": {
             "endlinecolor": "#2a3f5f",
             "gridcolor": "white",
             "linecolor": "white",
             "minorgridcolor": "white",
             "startlinecolor": "#2a3f5f"
            },
            "type": "carpet"
           }
          ],
          "choropleth": [
           {
            "colorbar": {
             "outlinewidth": 0,
             "ticks": ""
            },
            "type": "choropleth"
           }
          ],
          "contour": [
           {
            "colorbar": {
             "outlinewidth": 0,
             "ticks": ""
            },
            "colorscale": [
             [
              0,
              "#0d0887"
             ],
             [
              0.1111111111111111,
              "#46039f"
             ],
             [
              0.2222222222222222,
              "#7201a8"
             ],
             [
              0.3333333333333333,
              "#9c179e"
             ],
             [
              0.4444444444444444,
              "#bd3786"
             ],
             [
              0.5555555555555556,
              "#d8576b"
             ],
             [
              0.6666666666666666,
              "#ed7953"
             ],
             [
              0.7777777777777778,
              "#fb9f3a"
             ],
             [
              0.8888888888888888,
              "#fdca26"
             ],
             [
              1,
              "#f0f921"
             ]
            ],
            "type": "contour"
           }
          ],
          "contourcarpet": [
           {
            "colorbar": {
             "outlinewidth": 0,
             "ticks": ""
            },
            "type": "contourcarpet"
           }
          ],
          "heatmap": [
           {
            "colorbar": {
             "outlinewidth": 0,
             "ticks": ""
            },
            "colorscale": [
             [
              0,
              "#0d0887"
             ],
             [
              0.1111111111111111,
              "#46039f"
             ],
             [
              0.2222222222222222,
              "#7201a8"
             ],
             [
              0.3333333333333333,
              "#9c179e"
             ],
             [
              0.4444444444444444,
              "#bd3786"
             ],
             [
              0.5555555555555556,
              "#d8576b"
             ],
             [
              0.6666666666666666,
              "#ed7953"
             ],
             [
              0.7777777777777778,
              "#fb9f3a"
             ],
             [
              0.8888888888888888,
              "#fdca26"
             ],
             [
              1,
              "#f0f921"
             ]
            ],
            "type": "heatmap"
           }
          ],
          "heatmapgl": [
           {
            "colorbar": {
             "outlinewidth": 0,
             "ticks": ""
            },
            "colorscale": [
             [
              0,
              "#0d0887"
             ],
             [
              0.1111111111111111,
              "#46039f"
             ],
             [
              0.2222222222222222,
              "#7201a8"
             ],
             [
              0.3333333333333333,
              "#9c179e"
             ],
             [
              0.4444444444444444,
              "#bd3786"
             ],
             [
              0.5555555555555556,
              "#d8576b"
             ],
             [
              0.6666666666666666,
              "#ed7953"
             ],
             [
              0.7777777777777778,
              "#fb9f3a"
             ],
             [
              0.8888888888888888,
              "#fdca26"
             ],
             [
              1,
              "#f0f921"
             ]
            ],
            "type": "heatmapgl"
           }
          ],
          "histogram": [
           {
            "marker": {
             "colorbar": {
              "outlinewidth": 0,
              "ticks": ""
             }
            },
            "type": "histogram"
           }
          ],
          "histogram2d": [
           {
            "colorbar": {
             "outlinewidth": 0,
             "ticks": ""
            },
            "colorscale": [
             [
              0,
              "#0d0887"
             ],
             [
              0.1111111111111111,
              "#46039f"
             ],
             [
              0.2222222222222222,
              "#7201a8"
             ],
             [
              0.3333333333333333,
              "#9c179e"
             ],
             [
              0.4444444444444444,
              "#bd3786"
             ],
             [
              0.5555555555555556,
              "#d8576b"
             ],
             [
              0.6666666666666666,
              "#ed7953"
             ],
             [
              0.7777777777777778,
              "#fb9f3a"
             ],
             [
              0.8888888888888888,
              "#fdca26"
             ],
             [
              1,
              "#f0f921"
             ]
            ],
            "type": "histogram2d"
           }
          ],
          "histogram2dcontour": [
           {
            "colorbar": {
             "outlinewidth": 0,
             "ticks": ""
            },
            "colorscale": [
             [
              0,
              "#0d0887"
             ],
             [
              0.1111111111111111,
              "#46039f"
             ],
             [
              0.2222222222222222,
              "#7201a8"
             ],
             [
              0.3333333333333333,
              "#9c179e"
             ],
             [
              0.4444444444444444,
              "#bd3786"
             ],
             [
              0.5555555555555556,
              "#d8576b"
             ],
             [
              0.6666666666666666,
              "#ed7953"
             ],
             [
              0.7777777777777778,
              "#fb9f3a"
             ],
             [
              0.8888888888888888,
              "#fdca26"
             ],
             [
              1,
              "#f0f921"
             ]
            ],
            "type": "histogram2dcontour"
           }
          ],
          "mesh3d": [
           {
            "colorbar": {
             "outlinewidth": 0,
             "ticks": ""
            },
            "type": "mesh3d"
           }
          ],
          "parcoords": [
           {
            "line": {
             "colorbar": {
              "outlinewidth": 0,
              "ticks": ""
             }
            },
            "type": "parcoords"
           }
          ],
          "pie": [
           {
            "automargin": true,
            "type": "pie"
           }
          ],
          "scatter": [
           {
            "marker": {
             "colorbar": {
              "outlinewidth": 0,
              "ticks": ""
             }
            },
            "type": "scatter"
           }
          ],
          "scatter3d": [
           {
            "line": {
             "colorbar": {
              "outlinewidth": 0,
              "ticks": ""
             }
            },
            "marker": {
             "colorbar": {
              "outlinewidth": 0,
              "ticks": ""
             }
            },
            "type": "scatter3d"
           }
          ],
          "scattercarpet": [
           {
            "marker": {
             "colorbar": {
              "outlinewidth": 0,
              "ticks": ""
             }
            },
            "type": "scattercarpet"
           }
          ],
          "scattergeo": [
           {
            "marker": {
             "colorbar": {
              "outlinewidth": 0,
              "ticks": ""
             }
            },
            "type": "scattergeo"
           }
          ],
          "scattergl": [
           {
            "marker": {
             "colorbar": {
              "outlinewidth": 0,
              "ticks": ""
             }
            },
            "type": "scattergl"
           }
          ],
          "scattermapbox": [
           {
            "marker": {
             "colorbar": {
              "outlinewidth": 0,
              "ticks": ""
             }
            },
            "type": "scattermapbox"
           }
          ],
          "scatterpolar": [
           {
            "marker": {
             "colorbar": {
              "outlinewidth": 0,
              "ticks": ""
             }
            },
            "type": "scatterpolar"
           }
          ],
          "scatterpolargl": [
           {
            "marker": {
             "colorbar": {
              "outlinewidth": 0,
              "ticks": ""
             }
            },
            "type": "scatterpolargl"
           }
          ],
          "scatterternary": [
           {
            "marker": {
             "colorbar": {
              "outlinewidth": 0,
              "ticks": ""
             }
            },
            "type": "scatterternary"
           }
          ],
          "surface": [
           {
            "colorbar": {
             "outlinewidth": 0,
             "ticks": ""
            },
            "colorscale": [
             [
              0,
              "#0d0887"
             ],
             [
              0.1111111111111111,
              "#46039f"
             ],
             [
              0.2222222222222222,
              "#7201a8"
             ],
             [
              0.3333333333333333,
              "#9c179e"
             ],
             [
              0.4444444444444444,
              "#bd3786"
             ],
             [
              0.5555555555555556,
              "#d8576b"
             ],
             [
              0.6666666666666666,
              "#ed7953"
             ],
             [
              0.7777777777777778,
              "#fb9f3a"
             ],
             [
              0.8888888888888888,
              "#fdca26"
             ],
             [
              1,
              "#f0f921"
             ]
            ],
            "type": "surface"
           }
          ],
          "table": [
           {
            "cells": {
             "fill": {
              "color": "#EBF0F8"
             },
             "line": {
              "color": "white"
             }
            },
            "header": {
             "fill": {
              "color": "#C8D4E3"
             },
             "line": {
              "color": "white"
             }
            },
            "type": "table"
           }
          ]
         },
         "layout": {
          "annotationdefaults": {
           "arrowcolor": "#2a3f5f",
           "arrowhead": 0,
           "arrowwidth": 1
          },
          "coloraxis": {
           "colorbar": {
            "outlinewidth": 0,
            "ticks": ""
           }
          },
          "colorscale": {
           "diverging": [
            [
             0,
             "#8e0152"
            ],
            [
             0.1,
             "#c51b7d"
            ],
            [
             0.2,
             "#de77ae"
            ],
            [
             0.3,
             "#f1b6da"
            ],
            [
             0.4,
             "#fde0ef"
            ],
            [
             0.5,
             "#f7f7f7"
            ],
            [
             0.6,
             "#e6f5d0"
            ],
            [
             0.7,
             "#b8e186"
            ],
            [
             0.8,
             "#7fbc41"
            ],
            [
             0.9,
             "#4d9221"
            ],
            [
             1,
             "#276419"
            ]
           ],
           "sequential": [
            [
             0,
             "#0d0887"
            ],
            [
             0.1111111111111111,
             "#46039f"
            ],
            [
             0.2222222222222222,
             "#7201a8"
            ],
            [
             0.3333333333333333,
             "#9c179e"
            ],
            [
             0.4444444444444444,
             "#bd3786"
            ],
            [
             0.5555555555555556,
             "#d8576b"
            ],
            [
             0.6666666666666666,
             "#ed7953"
            ],
            [
             0.7777777777777778,
             "#fb9f3a"
            ],
            [
             0.8888888888888888,
             "#fdca26"
            ],
            [
             1,
             "#f0f921"
            ]
           ],
           "sequentialminus": [
            [
             0,
             "#0d0887"
            ],
            [
             0.1111111111111111,
             "#46039f"
            ],
            [
             0.2222222222222222,
             "#7201a8"
            ],
            [
             0.3333333333333333,
             "#9c179e"
            ],
            [
             0.4444444444444444,
             "#bd3786"
            ],
            [
             0.5555555555555556,
             "#d8576b"
            ],
            [
             0.6666666666666666,
             "#ed7953"
            ],
            [
             0.7777777777777778,
             "#fb9f3a"
            ],
            [
             0.8888888888888888,
             "#fdca26"
            ],
            [
             1,
             "#f0f921"
            ]
           ]
          },
          "colorway": [
           "#636efa",
           "#EF553B",
           "#00cc96",
           "#ab63fa",
           "#FFA15A",
           "#19d3f3",
           "#FF6692",
           "#B6E880",
           "#FF97FF",
           "#FECB52"
          ],
          "font": {
           "color": "#2a3f5f"
          },
          "geo": {
           "bgcolor": "white",
           "lakecolor": "white",
           "landcolor": "#E5ECF6",
           "showlakes": true,
           "showland": true,
           "subunitcolor": "white"
          },
          "hoverlabel": {
           "align": "left"
          },
          "hovermode": "closest",
          "mapbox": {
           "style": "light"
          },
          "paper_bgcolor": "white",
          "plot_bgcolor": "#E5ECF6",
          "polar": {
           "angularaxis": {
            "gridcolor": "white",
            "linecolor": "white",
            "ticks": ""
           },
           "bgcolor": "#E5ECF6",
           "radialaxis": {
            "gridcolor": "white",
            "linecolor": "white",
            "ticks": ""
           }
          },
          "scene": {
           "xaxis": {
            "backgroundcolor": "#E5ECF6",
            "gridcolor": "white",
            "gridwidth": 2,
            "linecolor": "white",
            "showbackground": true,
            "ticks": "",
            "zerolinecolor": "white"
           },
           "yaxis": {
            "backgroundcolor": "#E5ECF6",
            "gridcolor": "white",
            "gridwidth": 2,
            "linecolor": "white",
            "showbackground": true,
            "ticks": "",
            "zerolinecolor": "white"
           },
           "zaxis": {
            "backgroundcolor": "#E5ECF6",
            "gridcolor": "white",
            "gridwidth": 2,
            "linecolor": "white",
            "showbackground": true,
            "ticks": "",
            "zerolinecolor": "white"
           }
          },
          "shapedefaults": {
           "line": {
            "color": "#2a3f5f"
           }
          },
          "ternary": {
           "aaxis": {
            "gridcolor": "white",
            "linecolor": "white",
            "ticks": ""
           },
           "baxis": {
            "gridcolor": "white",
            "linecolor": "white",
            "ticks": ""
           },
           "bgcolor": "#E5ECF6",
           "caxis": {
            "gridcolor": "white",
            "linecolor": "white",
            "ticks": ""
           }
          },
          "title": {
           "x": 0.05
          },
          "xaxis": {
           "automargin": true,
           "gridcolor": "white",
           "linecolor": "white",
           "ticks": "",
           "title": {
            "standoff": 15
           },
           "zerolinecolor": "white",
           "zerolinewidth": 2
          },
          "yaxis": {
           "automargin": true,
           "gridcolor": "white",
           "linecolor": "white",
           "ticks": "",
           "title": {
            "standoff": 15
           },
           "zerolinecolor": "white",
           "zerolinewidth": 2
          }
         }
        },
        "title": {
         "text": "Sadness and Fear"
        },
        "xaxis": {
         "anchor": "y",
         "domain": [
          0,
          1
         ],
         "range": [
          "2019-09-02",
          "2019-10-06"
         ],
         "title": {
          "text": "Date"
         }
        },
        "yaxis": {
         "anchor": "x",
         "domain": [
          0,
          1
         ],
         "range": [
          "2019-09-02",
          "2019-10-06"
         ],
         "title": {
          "text": "Ratio"
         }
        }
       }
      },
      "text/html": [
       "<div>\n",
       "        \n",
       "        \n",
       "            <div id=\"78dd2ddd-509b-4170-99a0-75c9cf3f38ae\" class=\"plotly-graph-div\" style=\"height:600px; width:100%;\"></div>\n",
       "            <script type=\"text/javascript\">\n",
       "                require([\"plotly\"], function(Plotly) {\n",
       "                    window.PLOTLYENV=window.PLOTLYENV || {};\n",
       "                    \n",
       "                if (document.getElementById(\"78dd2ddd-509b-4170-99a0-75c9cf3f38ae\")) {\n",
       "                    Plotly.newPlot(\n",
       "                        '78dd2ddd-509b-4170-99a0-75c9cf3f38ae',\n",
       "                        [{\"hoverlabel\": {\"namelength\": 0}, \"hovertemplate\": \"emotion=fear<br>created_at_date=%{x}<br>average_sentiment=%{y}\", \"legendgroup\": \"emotion=fear\", \"line\": {\"color\": \"#636efa\", \"dash\": \"solid\"}, \"mode\": \"lines\", \"name\": \"emotion=fear\", \"showlegend\": true, \"type\": \"scatter\", \"x\": [\"2019-09-03T00:00:00\", \"2019-09-04T00:00:00\", \"2019-09-05T00:00:00\", \"2019-09-06T00:00:00\", \"2019-09-07T00:00:00\", \"2019-09-08T00:00:00\", \"2019-09-09T00:00:00\", \"2019-09-10T00:00:00\", \"2019-09-11T00:00:00\", \"2019-09-12T00:00:00\", \"2019-09-13T00:00:00\", \"2019-09-14T00:00:00\", \"2019-09-15T00:00:00\", \"2019-09-16T00:00:00\", \"2019-09-17T00:00:00\", \"2019-09-18T00:00:00\", \"2019-09-19T00:00:00\", \"2019-09-20T00:00:00\", \"2019-09-21T00:00:00\", \"2019-09-22T00:00:00\", \"2019-09-23T00:00:00\", \"2019-09-24T00:00:00\", \"2019-09-25T00:00:00\", \"2019-09-26T00:00:00\", \"2019-09-27T00:00:00\", \"2019-09-28T00:00:00\", \"2019-09-29T00:00:00\", \"2019-09-30T00:00:00\", \"2019-10-01T00:00:00\", \"2019-10-02T00:00:00\", \"2019-10-03T00:00:00\", \"2019-10-04T00:00:00\", \"2019-10-05T00:00:00\"], \"xaxis\": \"x\", \"y\": [0.0, 0.022695126371596968, 0.0027435759652445425, 0.004646576875338646, 0.003849816551793608, 0.0038321352976525384, 0.02070348976636834, 0.029687173118044453, 0.012212839812342818, 0.020498979304434416, 0.030104059017396795, 0.01922553114731061, 0.03146917754591681, 0.025542489845535553, 0.032799093394614495, 0.01176883823020717, 0.013121516202471359, 0.012484188566915098, 0.023705357142857143, 0.02657832363714717, 0.007627517410126105, 0.030169609321858464, 0.062048060815095236, 0.03579987189681067, 0.022349164441001178, 0.004814814814814815, 0.020075757575757577, 0.003616852146263911, 0.011171624074849881, 0.006223799864773495, 0.03998588217338218, 0.008835016835016835, 0.050878642055112645], \"yaxis\": \"y\"}, {\"hoverlabel\": {\"namelength\": 0}, \"hovertemplate\": \"emotion=sadness<br>created_at_date=%{x}<br>average_sentiment=%{y}\", \"legendgroup\": \"emotion=sadness\", \"line\": {\"color\": \"#EF553B\", \"dash\": \"solid\"}, \"mode\": \"lines\", \"name\": \"emotion=sadness\", \"showlegend\": true, \"type\": \"scatter\", \"x\": [\"2019-09-03T00:00:00\", \"2019-09-04T00:00:00\", \"2019-09-05T00:00:00\", \"2019-09-06T00:00:00\", \"2019-09-07T00:00:00\", \"2019-09-08T00:00:00\", \"2019-09-09T00:00:00\", \"2019-09-10T00:00:00\", \"2019-09-11T00:00:00\", \"2019-09-12T00:00:00\", \"2019-09-13T00:00:00\", \"2019-09-14T00:00:00\", \"2019-09-15T00:00:00\", \"2019-09-16T00:00:00\", \"2019-09-17T00:00:00\", \"2019-09-18T00:00:00\", \"2019-09-19T00:00:00\", \"2019-09-20T00:00:00\", \"2019-09-21T00:00:00\", \"2019-09-22T00:00:00\", \"2019-09-23T00:00:00\", \"2019-09-24T00:00:00\", \"2019-09-25T00:00:00\", \"2019-09-26T00:00:00\", \"2019-09-27T00:00:00\", \"2019-09-28T00:00:00\", \"2019-09-29T00:00:00\", \"2019-09-30T00:00:00\", \"2019-10-01T00:00:00\", \"2019-10-02T00:00:00\", \"2019-10-03T00:00:00\", \"2019-10-04T00:00:00\", \"2019-10-05T00:00:00\"], \"xaxis\": \"x\", \"y\": [0.0, 0.020340470340470342, 0.003404062386020323, 0.011781449987289467, 0.006385934733506128, 0.003703919593211789, 0.007744312923929964, 0.014411485172385876, 0.010686834677826213, 0.016962859946561392, 0.03275878971897905, 0.025051487291103562, 0.02813535015774555, 0.025541225012892046, 0.029514560160697232, 0.01474761078040829, 0.011042499854381042, 0.01187623068903661, 0.03444509144237405, 0.025971414206708322, 0.007627517410126105, 0.02717578259373925, 0.04926375448763509, 0.023393230918741122, 0.03268406763304723, 0.00818181818181818, 0.03257575757575757, 0.005869104398516164, 0.0025577889304024917, 0.0081947261663286, 0.043397979335479335, 0.009213804713804714, 0.05741458976753095], \"yaxis\": \"y\"}],\n",
       "                        {\"height\": 600, \"legend\": {\"tracegroupgap\": 0}, \"margin\": {\"t\": 60}, \"template\": {\"data\": {\"bar\": [{\"error_x\": {\"color\": \"#2a3f5f\"}, \"error_y\": {\"color\": \"#2a3f5f\"}, \"marker\": {\"line\": {\"color\": \"#E5ECF6\", \"width\": 0.5}}, \"type\": \"bar\"}], \"barpolar\": [{\"marker\": {\"line\": {\"color\": \"#E5ECF6\", \"width\": 0.5}}, \"type\": \"barpolar\"}], \"carpet\": [{\"aaxis\": {\"endlinecolor\": \"#2a3f5f\", \"gridcolor\": \"white\", \"linecolor\": \"white\", \"minorgridcolor\": \"white\", \"startlinecolor\": \"#2a3f5f\"}, \"baxis\": {\"endlinecolor\": \"#2a3f5f\", \"gridcolor\": \"white\", \"linecolor\": \"white\", \"minorgridcolor\": \"white\", \"startlinecolor\": \"#2a3f5f\"}, \"type\": \"carpet\"}], \"choropleth\": [{\"colorbar\": {\"outlinewidth\": 0, \"ticks\": \"\"}, \"type\": \"choropleth\"}], \"contour\": [{\"colorbar\": {\"outlinewidth\": 0, \"ticks\": \"\"}, \"colorscale\": [[0.0, \"#0d0887\"], [0.1111111111111111, \"#46039f\"], [0.2222222222222222, \"#7201a8\"], [0.3333333333333333, \"#9c179e\"], [0.4444444444444444, \"#bd3786\"], [0.5555555555555556, \"#d8576b\"], [0.6666666666666666, \"#ed7953\"], [0.7777777777777778, \"#fb9f3a\"], [0.8888888888888888, \"#fdca26\"], [1.0, \"#f0f921\"]], \"type\": \"contour\"}], \"contourcarpet\": [{\"colorbar\": {\"outlinewidth\": 0, \"ticks\": \"\"}, \"type\": \"contourcarpet\"}], \"heatmap\": [{\"colorbar\": {\"outlinewidth\": 0, \"ticks\": \"\"}, \"colorscale\": [[0.0, \"#0d0887\"], [0.1111111111111111, \"#46039f\"], [0.2222222222222222, \"#7201a8\"], [0.3333333333333333, \"#9c179e\"], [0.4444444444444444, \"#bd3786\"], [0.5555555555555556, \"#d8576b\"], [0.6666666666666666, \"#ed7953\"], [0.7777777777777778, \"#fb9f3a\"], [0.8888888888888888, \"#fdca26\"], [1.0, \"#f0f921\"]], \"type\": \"heatmap\"}], \"heatmapgl\": [{\"colorbar\": {\"outlinewidth\": 0, \"ticks\": \"\"}, \"colorscale\": [[0.0, \"#0d0887\"], [0.1111111111111111, \"#46039f\"], [0.2222222222222222, \"#7201a8\"], [0.3333333333333333, \"#9c179e\"], [0.4444444444444444, \"#bd3786\"], [0.5555555555555556, \"#d8576b\"], [0.6666666666666666, \"#ed7953\"], [0.7777777777777778, \"#fb9f3a\"], [0.8888888888888888, \"#fdca26\"], [1.0, \"#f0f921\"]], \"type\": \"heatmapgl\"}], \"histogram\": [{\"marker\": {\"colorbar\": {\"outlinewidth\": 0, \"ticks\": \"\"}}, \"type\": \"histogram\"}], \"histogram2d\": [{\"colorbar\": {\"outlinewidth\": 0, \"ticks\": \"\"}, \"colorscale\": [[0.0, \"#0d0887\"], [0.1111111111111111, \"#46039f\"], [0.2222222222222222, \"#7201a8\"], [0.3333333333333333, \"#9c179e\"], [0.4444444444444444, \"#bd3786\"], [0.5555555555555556, \"#d8576b\"], [0.6666666666666666, \"#ed7953\"], [0.7777777777777778, \"#fb9f3a\"], [0.8888888888888888, \"#fdca26\"], [1.0, \"#f0f921\"]], \"type\": \"histogram2d\"}], \"histogram2dcontour\": [{\"colorbar\": {\"outlinewidth\": 0, \"ticks\": \"\"}, \"colorscale\": [[0.0, \"#0d0887\"], [0.1111111111111111, \"#46039f\"], [0.2222222222222222, \"#7201a8\"], [0.3333333333333333, \"#9c179e\"], [0.4444444444444444, \"#bd3786\"], [0.5555555555555556, \"#d8576b\"], [0.6666666666666666, \"#ed7953\"], [0.7777777777777778, \"#fb9f3a\"], [0.8888888888888888, \"#fdca26\"], [1.0, \"#f0f921\"]], \"type\": \"histogram2dcontour\"}], \"mesh3d\": [{\"colorbar\": {\"outlinewidth\": 0, \"ticks\": \"\"}, \"type\": \"mesh3d\"}], \"parcoords\": [{\"line\": {\"colorbar\": {\"outlinewidth\": 0, \"ticks\": \"\"}}, \"type\": \"parcoords\"}], \"pie\": [{\"automargin\": true, \"type\": \"pie\"}], \"scatter\": [{\"marker\": {\"colorbar\": {\"outlinewidth\": 0, \"ticks\": \"\"}}, \"type\": \"scatter\"}], \"scatter3d\": [{\"line\": {\"colorbar\": {\"outlinewidth\": 0, \"ticks\": \"\"}}, \"marker\": {\"colorbar\": {\"outlinewidth\": 0, \"ticks\": \"\"}}, \"type\": \"scatter3d\"}], \"scattercarpet\": [{\"marker\": {\"colorbar\": {\"outlinewidth\": 0, \"ticks\": \"\"}}, \"type\": \"scattercarpet\"}], \"scattergeo\": [{\"marker\": {\"colorbar\": {\"outlinewidth\": 0, \"ticks\": \"\"}}, \"type\": \"scattergeo\"}], \"scattergl\": [{\"marker\": {\"colorbar\": {\"outlinewidth\": 0, \"ticks\": \"\"}}, \"type\": \"scattergl\"}], \"scattermapbox\": [{\"marker\": {\"colorbar\": {\"outlinewidth\": 0, \"ticks\": \"\"}}, \"type\": \"scattermapbox\"}], \"scatterpolar\": [{\"marker\": {\"colorbar\": {\"outlinewidth\": 0, \"ticks\": \"\"}}, \"type\": \"scatterpolar\"}], \"scatterpolargl\": [{\"marker\": {\"colorbar\": {\"outlinewidth\": 0, \"ticks\": \"\"}}, \"type\": \"scatterpolargl\"}], \"scatterternary\": [{\"marker\": {\"colorbar\": {\"outlinewidth\": 0, \"ticks\": \"\"}}, \"type\": \"scatterternary\"}], \"surface\": [{\"colorbar\": {\"outlinewidth\": 0, \"ticks\": \"\"}, \"colorscale\": [[0.0, \"#0d0887\"], [0.1111111111111111, \"#46039f\"], [0.2222222222222222, \"#7201a8\"], [0.3333333333333333, \"#9c179e\"], [0.4444444444444444, \"#bd3786\"], [0.5555555555555556, \"#d8576b\"], [0.6666666666666666, \"#ed7953\"], [0.7777777777777778, \"#fb9f3a\"], [0.8888888888888888, \"#fdca26\"], [1.0, \"#f0f921\"]], \"type\": \"surface\"}], \"table\": [{\"cells\": {\"fill\": {\"color\": \"#EBF0F8\"}, \"line\": {\"color\": \"white\"}}, \"header\": {\"fill\": {\"color\": \"#C8D4E3\"}, \"line\": {\"color\": \"white\"}}, \"type\": \"table\"}]}, \"layout\": {\"annotationdefaults\": {\"arrowcolor\": \"#2a3f5f\", \"arrowhead\": 0, \"arrowwidth\": 1}, \"coloraxis\": {\"colorbar\": {\"outlinewidth\": 0, \"ticks\": \"\"}}, \"colorscale\": {\"diverging\": [[0, \"#8e0152\"], [0.1, \"#c51b7d\"], [0.2, \"#de77ae\"], [0.3, \"#f1b6da\"], [0.4, \"#fde0ef\"], [0.5, \"#f7f7f7\"], [0.6, \"#e6f5d0\"], [0.7, \"#b8e186\"], [0.8, \"#7fbc41\"], [0.9, \"#4d9221\"], [1, \"#276419\"]], \"sequential\": [[0.0, \"#0d0887\"], [0.1111111111111111, \"#46039f\"], [0.2222222222222222, \"#7201a8\"], [0.3333333333333333, \"#9c179e\"], [0.4444444444444444, \"#bd3786\"], [0.5555555555555556, \"#d8576b\"], [0.6666666666666666, \"#ed7953\"], [0.7777777777777778, \"#fb9f3a\"], [0.8888888888888888, \"#fdca26\"], [1.0, \"#f0f921\"]], \"sequentialminus\": [[0.0, \"#0d0887\"], [0.1111111111111111, \"#46039f\"], [0.2222222222222222, \"#7201a8\"], [0.3333333333333333, \"#9c179e\"], [0.4444444444444444, \"#bd3786\"], [0.5555555555555556, \"#d8576b\"], [0.6666666666666666, \"#ed7953\"], [0.7777777777777778, \"#fb9f3a\"], [0.8888888888888888, \"#fdca26\"], [1.0, \"#f0f921\"]]}, \"colorway\": [\"#636efa\", \"#EF553B\", \"#00cc96\", \"#ab63fa\", \"#FFA15A\", \"#19d3f3\", \"#FF6692\", \"#B6E880\", \"#FF97FF\", \"#FECB52\"], \"font\": {\"color\": \"#2a3f5f\"}, \"geo\": {\"bgcolor\": \"white\", \"lakecolor\": \"white\", \"landcolor\": \"#E5ECF6\", \"showlakes\": true, \"showland\": true, \"subunitcolor\": \"white\"}, \"hoverlabel\": {\"align\": \"left\"}, \"hovermode\": \"closest\", \"mapbox\": {\"style\": \"light\"}, \"paper_bgcolor\": \"white\", \"plot_bgcolor\": \"#E5ECF6\", \"polar\": {\"angularaxis\": {\"gridcolor\": \"white\", \"linecolor\": \"white\", \"ticks\": \"\"}, \"bgcolor\": \"#E5ECF6\", \"radialaxis\": {\"gridcolor\": \"white\", \"linecolor\": \"white\", \"ticks\": \"\"}}, \"scene\": {\"xaxis\": {\"backgroundcolor\": \"#E5ECF6\", \"gridcolor\": \"white\", \"gridwidth\": 2, \"linecolor\": \"white\", \"showbackground\": true, \"ticks\": \"\", \"zerolinecolor\": \"white\"}, \"yaxis\": {\"backgroundcolor\": \"#E5ECF6\", \"gridcolor\": \"white\", \"gridwidth\": 2, \"linecolor\": \"white\", \"showbackground\": true, \"ticks\": \"\", \"zerolinecolor\": \"white\"}, \"zaxis\": {\"backgroundcolor\": \"#E5ECF6\", \"gridcolor\": \"white\", \"gridwidth\": 2, \"linecolor\": \"white\", \"showbackground\": true, \"ticks\": \"\", \"zerolinecolor\": \"white\"}}, \"shapedefaults\": {\"line\": {\"color\": \"#2a3f5f\"}}, \"ternary\": {\"aaxis\": {\"gridcolor\": \"white\", \"linecolor\": \"white\", \"ticks\": \"\"}, \"baxis\": {\"gridcolor\": \"white\", \"linecolor\": \"white\", \"ticks\": \"\"}, \"bgcolor\": \"#E5ECF6\", \"caxis\": {\"gridcolor\": \"white\", \"linecolor\": \"white\", \"ticks\": \"\"}}, \"title\": {\"x\": 0.05}, \"xaxis\": {\"automargin\": true, \"gridcolor\": \"white\", \"linecolor\": \"white\", \"ticks\": \"\", \"title\": {\"standoff\": 15}, \"zerolinecolor\": \"white\", \"zerolinewidth\": 2}, \"yaxis\": {\"automargin\": true, \"gridcolor\": \"white\", \"linecolor\": \"white\", \"ticks\": \"\", \"title\": {\"standoff\": 15}, \"zerolinecolor\": \"white\", \"zerolinewidth\": 2}}}, \"title\": {\"text\": \"Sadness and Fear\"}, \"xaxis\": {\"anchor\": \"y\", \"domain\": [0.0, 1.0], \"range\": [\"2019-09-02\", \"2019-10-06\"], \"title\": {\"text\": \"Date\"}}, \"yaxis\": {\"anchor\": \"x\", \"domain\": [0.0, 1.0], \"range\": [\"2019-09-02\", \"2019-10-06\"], \"title\": {\"text\": \"Ratio\"}}},\n",
       "                        {\"responsive\": true}\n",
       "                    ).then(function(){\n",
       "                            \n",
       "var gd = document.getElementById('78dd2ddd-509b-4170-99a0-75c9cf3f38ae');\n",
       "var x = new MutationObserver(function (mutations, observer) {{\n",
       "        var display = window.getComputedStyle(gd).display;\n",
       "        if (!display || display === 'none') {{\n",
       "            console.log([gd, 'removed!']);\n",
       "            Plotly.purge(gd);\n",
       "            observer.disconnect();\n",
       "        }}\n",
       "}});\n",
       "\n",
       "// Listen for the removal of the full notebook cells\n",
       "var notebookContainer = gd.closest('#notebook-container');\n",
       "if (notebookContainer) {{\n",
       "    x.observe(notebookContainer, {childList: true});\n",
       "}}\n",
       "\n",
       "// Listen for the clearing of the current output cell\n",
       "var outputEl = gd.closest('.output');\n",
       "if (outputEl) {{\n",
       "    x.observe(outputEl, {childList: true});\n",
       "}}\n",
       "\n",
       "                        })\n",
       "                };\n",
       "                });\n",
       "            </script>\n",
       "        </div>"
      ]
     },
     "metadata": {},
     "output_type": "display_data"
    }
   ],
   "source": [
    "fig = px.line(nrc_date[nrc_date.emotion.isin (['sadness','fear'])], \n",
    "              x=\"created_at_date\", y=\"average_sentiment\", color='emotion')\n",
    "fig.update_xaxes(title_text=\"Date\",range=['2019-09-02','2019-10-06'])\n",
    "fig.update_yaxes(title_text=\"Ratio\",range=['2019-09-02','2019-10-06'])\n",
    "#fig.update_layout(title_text=\"NRC Lexicon: Sadness and Fear over Date\")\n",
    "fig.update_layout(title_text=\"Sadness and Fear\")\n",
    "fig.show()"
   ]
  },
  {
   "cell_type": "code",
   "execution_count": 66,
   "metadata": {},
   "outputs": [],
   "source": [
    "nrc_anger = nrc_date[nrc_date.emotion=='anger']\n",
    "nrc_anticipation = nrc_date[nrc_date.emotion=='anticipation']\n",
    "nrc_disgust = nrc_date[nrc_date.emotion=='disgust']\n",
    "nrc_fear = nrc_date[nrc_date.emotion=='fear']\n",
    "nrc_joy = nrc_date[nrc_date.emotion=='joy']\n",
    "nrc_sadness= nrc_date[nrc_date.emotion=='sadness']\n",
    "nrc_surprise = nrc_date[nrc_date.emotion=='surprise']\n",
    "nrc_trust = nrc_date[nrc_date.emotion=='trust']"
   ]
  },
  {
   "cell_type": "code",
   "execution_count": 67,
   "metadata": {},
   "outputs": [
    {
     "data": {
      "application/vnd.plotly.v1+json": {
       "config": {
        "plotlyServerURL": "https://plot.ly"
       },
       "data": [
        {
         "mode": "lines",
         "type": "scatter",
         "x": [
          "2019-09-03T00:00:00",
          "2019-09-04T00:00:00",
          "2019-09-05T00:00:00",
          "2019-09-06T00:00:00",
          "2019-09-07T00:00:00",
          "2019-09-08T00:00:00",
          "2019-09-09T00:00:00",
          "2019-09-10T00:00:00",
          "2019-09-11T00:00:00",
          "2019-09-12T00:00:00",
          "2019-09-13T00:00:00",
          "2019-09-14T00:00:00",
          "2019-09-15T00:00:00",
          "2019-09-16T00:00:00",
          "2019-09-17T00:00:00",
          "2019-09-18T00:00:00",
          "2019-09-19T00:00:00",
          "2019-09-20T00:00:00",
          "2019-09-21T00:00:00",
          "2019-09-22T00:00:00",
          "2019-09-23T00:00:00",
          "2019-09-24T00:00:00",
          "2019-09-25T00:00:00",
          "2019-09-26T00:00:00",
          "2019-09-27T00:00:00",
          "2019-09-28T00:00:00",
          "2019-09-29T00:00:00",
          "2019-09-30T00:00:00",
          "2019-10-01T00:00:00",
          "2019-10-02T00:00:00",
          "2019-10-03T00:00:00",
          "2019-10-04T00:00:00",
          "2019-10-05T00:00:00"
         ],
         "xaxis": "x",
         "y": [
          0.041666666666666664,
          0.028017028017028017,
          0.0023531340945134047,
          0.002151539270854037,
          0.003448562123202103,
          0.0023417674279743246,
          0.0049012095874055766,
          0.009026865994101064,
          0.005847253547681164,
          0.012961172076188129,
          0.02021467390341089,
          0.010958190164915869,
          0.020017420441628606,
          0.016035078282700666,
          0.01257739204341146,
          0.008605495694781409,
          0.009857254794645593,
          0.010026541366673011,
          0.008232142857142858,
          0.003057889822595705,
          0.0036255411255411256,
          0.004169993789370953,
          0.02937750060884389,
          0.011564625850340135,
          0.015949969876323026,
          0.002962962962962963,
          0.018371212121212118,
          0.002490726020137785,
          0.0025577889304024917,
          0.0028160919540229884,
          0.026241987179487173,
          0.005602693602693603,
          0.02264957264957265
         ],
         "yaxis": "y"
        },
        {
         "mode": "lines",
         "type": "scatter",
         "x": [
          "2019-09-03T00:00:00",
          "2019-09-04T00:00:00",
          "2019-09-05T00:00:00",
          "2019-09-06T00:00:00",
          "2019-09-07T00:00:00",
          "2019-09-08T00:00:00",
          "2019-09-09T00:00:00",
          "2019-09-10T00:00:00",
          "2019-09-11T00:00:00",
          "2019-09-12T00:00:00",
          "2019-09-13T00:00:00",
          "2019-09-14T00:00:00",
          "2019-09-15T00:00:00",
          "2019-09-16T00:00:00",
          "2019-09-17T00:00:00",
          "2019-09-18T00:00:00",
          "2019-09-19T00:00:00",
          "2019-09-20T00:00:00",
          "2019-09-21T00:00:00",
          "2019-09-22T00:00:00",
          "2019-09-23T00:00:00",
          "2019-09-24T00:00:00",
          "2019-09-25T00:00:00",
          "2019-09-26T00:00:00",
          "2019-09-27T00:00:00",
          "2019-09-28T00:00:00",
          "2019-09-29T00:00:00",
          "2019-09-30T00:00:00",
          "2019-10-01T00:00:00",
          "2019-10-02T00:00:00",
          "2019-10-03T00:00:00",
          "2019-10-04T00:00:00",
          "2019-10-05T00:00:00"
         ],
         "xaxis": "x3",
         "y": [
          0,
          0.010285134356341787,
          0.004231690761754677,
          0.02251648633767398,
          0.016469783631439555,
          0.011032373111645977,
          0.022156211581891933,
          0.02058490831887769,
          0.032483999517306454,
          0.03145192727936445,
          0.03488509852246816,
          0.031084737053539417,
          0.029925456577558282,
          0.03139350721671061,
          0.029660047482503143,
          0.01691901366285603,
          0.0470134921530166,
          0.02508009709212755,
          0.04283910533910533,
          0.03678685149273384,
          0.01893023849856148,
          0.015678989306288527,
          0.04675134219549243,
          0.04010670923936229,
          0.04951385438764601,
          0.018627010849233076,
          0.029166666666666664,
          0.019974169974169974,
          0.08461869721851975,
          0.017530682074292623,
          0.03390088016624321,
          0.026749082593072362,
          0.02989777107424166
         ],
         "yaxis": "y3"
        },
        {
         "mode": "lines",
         "type": "scatter",
         "x": [
          "2019-09-03T00:00:00",
          "2019-09-04T00:00:00",
          "2019-09-05T00:00:00",
          "2019-09-06T00:00:00",
          "2019-09-07T00:00:00",
          "2019-09-08T00:00:00",
          "2019-09-09T00:00:00",
          "2019-09-10T00:00:00",
          "2019-09-11T00:00:00",
          "2019-09-12T00:00:00",
          "2019-09-13T00:00:00",
          "2019-09-14T00:00:00",
          "2019-09-15T00:00:00",
          "2019-09-16T00:00:00",
          "2019-09-17T00:00:00",
          "2019-09-18T00:00:00",
          "2019-09-19T00:00:00",
          "2019-09-20T00:00:00",
          "2019-09-21T00:00:00",
          "2019-09-22T00:00:00",
          "2019-09-23T00:00:00",
          "2019-09-24T00:00:00",
          "2019-09-25T00:00:00",
          "2019-09-26T00:00:00",
          "2019-09-27T00:00:00",
          "2019-09-28T00:00:00",
          "2019-09-29T00:00:00",
          "2019-09-30T00:00:00",
          "2019-10-01T00:00:00",
          "2019-10-02T00:00:00",
          "2019-10-03T00:00:00",
          "2019-10-04T00:00:00",
          "2019-10-05T00:00:00"
         ],
         "xaxis": "x5",
         "y": [
          0.03125,
          0.021713084213084224,
          0.010110994848063814,
          0.017535856054940423,
          0.02120779689488501,
          0.0234003962991032,
          0.0134512606568906,
          0.011654933819333406,
          0.019372861673499525,
          0.011753961616802033,
          0.01624092048564473,
          0.01122766696240625,
          0.013471982810742203,
          0.014592793548638164,
          0.01217928242200087,
          0.007695846481560765,
          0.006586658665866586,
          0.007089854631103594,
          0,
          0.004341736694677871,
          0.0022367642709257615,
          0.0015082956259426848,
          0.02234910611776284,
          0.012244897959183673,
          0.016412092787425527,
          0.0030864197530864196,
          0.003787878787878788,
          0.0022522522522522522,
          0.00163014514561585,
          0.009819595549818674,
          0.03901129243245252,
          0.006909883145177262,
          0.008547008547008548
         ],
         "yaxis": "y5"
        },
        {
         "mode": "lines",
         "type": "scatter",
         "x": [
          "2019-09-03T00:00:00",
          "2019-09-04T00:00:00",
          "2019-09-05T00:00:00",
          "2019-09-06T00:00:00",
          "2019-09-07T00:00:00",
          "2019-09-08T00:00:00",
          "2019-09-09T00:00:00",
          "2019-09-10T00:00:00",
          "2019-09-11T00:00:00",
          "2019-09-12T00:00:00",
          "2019-09-13T00:00:00",
          "2019-09-14T00:00:00",
          "2019-09-15T00:00:00",
          "2019-09-16T00:00:00",
          "2019-09-17T00:00:00",
          "2019-09-18T00:00:00",
          "2019-09-19T00:00:00",
          "2019-09-20T00:00:00",
          "2019-09-21T00:00:00",
          "2019-09-22T00:00:00",
          "2019-09-23T00:00:00",
          "2019-09-24T00:00:00",
          "2019-09-25T00:00:00",
          "2019-09-26T00:00:00",
          "2019-09-27T00:00:00",
          "2019-09-28T00:00:00",
          "2019-09-29T00:00:00",
          "2019-09-30T00:00:00",
          "2019-10-01T00:00:00",
          "2019-10-02T00:00:00",
          "2019-10-03T00:00:00",
          "2019-10-04T00:00:00",
          "2019-10-05T00:00:00"
         ],
         "xaxis": "x7",
         "y": [
          0,
          0.022695126371596968,
          0.0027435759652445425,
          0.004646576875338646,
          0.003849816551793608,
          0.0038321352976525384,
          0.02070348976636834,
          0.029687173118044453,
          0.012212839812342818,
          0.020498979304434416,
          0.030104059017396795,
          0.01922553114731061,
          0.03146917754591681,
          0.025542489845535553,
          0.032799093394614495,
          0.01176883823020717,
          0.013121516202471359,
          0.012484188566915098,
          0.023705357142857143,
          0.02657832363714717,
          0.007627517410126105,
          0.030169609321858464,
          0.062048060815095236,
          0.03579987189681067,
          0.022349164441001178,
          0.004814814814814815,
          0.020075757575757577,
          0.003616852146263911,
          0.011171624074849881,
          0.006223799864773495,
          0.03998588217338218,
          0.008835016835016835,
          0.050878642055112645
         ],
         "yaxis": "y7"
        },
        {
         "mode": "lines",
         "type": "scatter",
         "x": [
          "2019-09-03T00:00:00",
          "2019-09-04T00:00:00",
          "2019-09-05T00:00:00",
          "2019-09-06T00:00:00",
          "2019-09-07T00:00:00",
          "2019-09-08T00:00:00",
          "2019-09-09T00:00:00",
          "2019-09-10T00:00:00",
          "2019-09-11T00:00:00",
          "2019-09-12T00:00:00",
          "2019-09-13T00:00:00",
          "2019-09-14T00:00:00",
          "2019-09-15T00:00:00",
          "2019-09-16T00:00:00",
          "2019-09-17T00:00:00",
          "2019-09-18T00:00:00",
          "2019-09-19T00:00:00",
          "2019-09-20T00:00:00",
          "2019-09-21T00:00:00",
          "2019-09-22T00:00:00",
          "2019-09-23T00:00:00",
          "2019-09-24T00:00:00",
          "2019-09-25T00:00:00",
          "2019-09-26T00:00:00",
          "2019-09-27T00:00:00",
          "2019-09-28T00:00:00",
          "2019-09-29T00:00:00",
          "2019-09-30T00:00:00",
          "2019-10-01T00:00:00",
          "2019-10-02T00:00:00",
          "2019-10-03T00:00:00",
          "2019-10-04T00:00:00",
          "2019-10-05T00:00:00"
         ],
         "xaxis": "x2",
         "y": [
          0,
          0.0281246433723214,
          0.027438352544748346,
          0.01722866390632161,
          0.005090507143547014,
          0.007311298804039276,
          0.014948429839348345,
          0.02080065840632924,
          0.02831939545431085,
          0.030829588798890747,
          0.032578230299771194,
          0.025110403265120228,
          0.030985612901868905,
          0.030128319146483968,
          0.036353429474239404,
          0.018399325678882326,
          0.04974322293552135,
          0.027197881879331812,
          0.040676363793211615,
          0.04138018843901197,
          0.009290565880791442,
          0.009480451305710822,
          0.02314655974742638,
          0.02877127596515351,
          0.026903602722614536,
          0.013868312757201648,
          0.03620823620823621,
          0.013094563094563094,
          0.04601828815127037,
          0.005363984674329502,
          0.026552337278484623,
          0.011444444444444445,
          0.01862745098039216
         ],
         "yaxis": "y2"
        },
        {
         "mode": "lines",
         "type": "scatter",
         "x": [
          "2019-09-03T00:00:00",
          "2019-09-04T00:00:00",
          "2019-09-05T00:00:00",
          "2019-09-06T00:00:00",
          "2019-09-07T00:00:00",
          "2019-09-08T00:00:00",
          "2019-09-09T00:00:00",
          "2019-09-10T00:00:00",
          "2019-09-11T00:00:00",
          "2019-09-12T00:00:00",
          "2019-09-13T00:00:00",
          "2019-09-14T00:00:00",
          "2019-09-15T00:00:00",
          "2019-09-16T00:00:00",
          "2019-09-17T00:00:00",
          "2019-09-18T00:00:00",
          "2019-09-19T00:00:00",
          "2019-09-20T00:00:00",
          "2019-09-21T00:00:00",
          "2019-09-22T00:00:00",
          "2019-09-23T00:00:00",
          "2019-09-24T00:00:00",
          "2019-09-25T00:00:00",
          "2019-09-26T00:00:00",
          "2019-09-27T00:00:00",
          "2019-09-28T00:00:00",
          "2019-09-29T00:00:00",
          "2019-09-30T00:00:00",
          "2019-10-01T00:00:00",
          "2019-10-02T00:00:00",
          "2019-10-03T00:00:00",
          "2019-10-04T00:00:00",
          "2019-10-05T00:00:00"
         ],
         "xaxis": "x4",
         "y": [
          0,
          0.020340470340470342,
          0.003404062386020323,
          0.011781449987289467,
          0.006385934733506128,
          0.003703919593211789,
          0.007744312923929964,
          0.014411485172385876,
          0.010686834677826213,
          0.016962859946561392,
          0.03275878971897905,
          0.025051487291103562,
          0.02813535015774555,
          0.025541225012892046,
          0.029514560160697232,
          0.01474761078040829,
          0.011042499854381042,
          0.01187623068903661,
          0.03444509144237405,
          0.025971414206708322,
          0.007627517410126105,
          0.02717578259373925,
          0.04926375448763509,
          0.023393230918741122,
          0.03268406763304723,
          0.00818181818181818,
          0.03257575757575757,
          0.005869104398516164,
          0.0025577889304024917,
          0.0081947261663286,
          0.043397979335479335,
          0.009213804713804714,
          0.05741458976753095
         ],
         "yaxis": "y4"
        },
        {
         "mode": "lines",
         "type": "scatter",
         "x": [
          "2019-09-03T00:00:00",
          "2019-09-04T00:00:00",
          "2019-09-05T00:00:00",
          "2019-09-06T00:00:00",
          "2019-09-07T00:00:00",
          "2019-09-08T00:00:00",
          "2019-09-09T00:00:00",
          "2019-09-10T00:00:00",
          "2019-09-11T00:00:00",
          "2019-09-12T00:00:00",
          "2019-09-13T00:00:00",
          "2019-09-14T00:00:00",
          "2019-09-15T00:00:00",
          "2019-09-16T00:00:00",
          "2019-09-17T00:00:00",
          "2019-09-18T00:00:00",
          "2019-09-19T00:00:00",
          "2019-09-20T00:00:00",
          "2019-09-21T00:00:00",
          "2019-09-22T00:00:00",
          "2019-09-23T00:00:00",
          "2019-09-24T00:00:00",
          "2019-09-25T00:00:00",
          "2019-09-26T00:00:00",
          "2019-09-27T00:00:00",
          "2019-09-28T00:00:00",
          "2019-09-29T00:00:00",
          "2019-09-30T00:00:00",
          "2019-10-01T00:00:00",
          "2019-10-02T00:00:00",
          "2019-10-03T00:00:00",
          "2019-10-04T00:00:00",
          "2019-10-05T00:00:00"
         ],
         "xaxis": "x6",
         "y": [
          0,
          0.0028323778323778325,
          0.0014687743934962427,
          0.003745246688795076,
          0.005137145012663686,
          0.0018978605935127673,
          0.005754655131892984,
          0.00805586289888429,
          0.006967766862480294,
          0.00960297363107978,
          0.01561570894612636,
          0.011349954510775553,
          0.01111661076018257,
          0.010084379469969608,
          0.011528850266936511,
          0.0033288669002954716,
          0.007283836081536823,
          0.008409792466037019,
          0.010496031746031744,
          0.003034547152194211,
          0.0036255411255411256,
          0.01021637916101584,
          0.02625378352990293,
          0.017929458108029536,
          0.014829728095034217,
          0.002962962962962963,
          0.006250000000000001,
          0.006788256788256788,
          0.001727675197062952,
          0.00782703886152162,
          0.015040296358231139,
          0.004206349206349206,
          0.014102564102564101
         ],
         "yaxis": "y6"
        },
        {
         "mode": "lines",
         "type": "scatter",
         "x": [
          "2019-09-03T00:00:00",
          "2019-09-04T00:00:00",
          "2019-09-05T00:00:00",
          "2019-09-06T00:00:00",
          "2019-09-07T00:00:00",
          "2019-09-08T00:00:00",
          "2019-09-09T00:00:00",
          "2019-09-10T00:00:00",
          "2019-09-11T00:00:00",
          "2019-09-12T00:00:00",
          "2019-09-13T00:00:00",
          "2019-09-14T00:00:00",
          "2019-09-15T00:00:00",
          "2019-09-16T00:00:00",
          "2019-09-17T00:00:00",
          "2019-09-18T00:00:00",
          "2019-09-19T00:00:00",
          "2019-09-20T00:00:00",
          "2019-09-21T00:00:00",
          "2019-09-22T00:00:00",
          "2019-09-23T00:00:00",
          "2019-09-24T00:00:00",
          "2019-09-25T00:00:00",
          "2019-09-26T00:00:00",
          "2019-09-27T00:00:00",
          "2019-09-28T00:00:00",
          "2019-09-29T00:00:00",
          "2019-09-30T00:00:00",
          "2019-10-01T00:00:00",
          "2019-10-02T00:00:00",
          "2019-10-03T00:00:00",
          "2019-10-04T00:00:00",
          "2019-10-05T00:00:00"
         ],
         "xaxis": "x8",
         "y": [
          0.10416666666666666,
          0.047469935860028754,
          0.07287043563608739,
          0.07075677770559481,
          0.04759395804948753,
          0.0517329055044572,
          0.05191386380686927,
          0.03520718261549728,
          0.06887737796551957,
          0.054953890863785625,
          0.053725013761022906,
          0.0479715419077053,
          0.0558245602845154,
          0.04715750180597943,
          0.06533928314248678,
          0.03361621488345625,
          0.055409127305001304,
          0.03642370341047991,
          0.04630707517120561,
          0.0688620972596632,
          0.015105322673645654,
          0.015329096124943877,
          0.051330720616898425,
          0.05041121010508765,
          0.0494391847430889,
          0.04142968142968143,
          0.05259809634809636,
          0.03523920876862052,
          0.06953507637394095,
          0.04569784719558979,
          0.046116454473320766,
          0.02126682250211662,
          0.046279537456008046
         ],
         "yaxis": "y8"
        }
       ],
       "layout": {
        "annotations": [
         {
          "font": {
           "size": 16
          },
          "showarrow": false,
          "text": "Anger",
          "x": 0.225,
          "xanchor": "center",
          "xref": "paper",
          "y": 1,
          "yanchor": "bottom",
          "yref": "paper"
         },
         {
          "font": {
           "size": 16
          },
          "showarrow": false,
          "text": "Joy",
          "x": 0.775,
          "xanchor": "center",
          "xref": "paper",
          "y": 1,
          "yanchor": "bottom",
          "yref": "paper"
         },
         {
          "font": {
           "size": 16
          },
          "showarrow": false,
          "text": "Anticipation",
          "x": 0.225,
          "xanchor": "center",
          "xref": "paper",
          "y": 0.71875,
          "yanchor": "bottom",
          "yref": "paper"
         },
         {
          "font": {
           "size": 16
          },
          "showarrow": false,
          "text": "Sadness",
          "x": 0.775,
          "xanchor": "center",
          "xref": "paper",
          "y": 0.71875,
          "yanchor": "bottom",
          "yref": "paper"
         },
         {
          "font": {
           "size": 16
          },
          "showarrow": false,
          "text": "Disgust",
          "x": 0.225,
          "xanchor": "center",
          "xref": "paper",
          "y": 0.4375,
          "yanchor": "bottom",
          "yref": "paper"
         },
         {
          "font": {
           "size": 16
          },
          "showarrow": false,
          "text": "Surprise",
          "x": 0.775,
          "xanchor": "center",
          "xref": "paper",
          "y": 0.4375,
          "yanchor": "bottom",
          "yref": "paper"
         },
         {
          "font": {
           "size": 16
          },
          "showarrow": false,
          "text": "Fear",
          "x": 0.225,
          "xanchor": "center",
          "xref": "paper",
          "y": 0.15625,
          "yanchor": "bottom",
          "yref": "paper"
         },
         {
          "font": {
           "size": 16
          },
          "showarrow": false,
          "text": "Trust",
          "x": 0.775,
          "xanchor": "center",
          "xref": "paper",
          "y": 0.15625,
          "yanchor": "bottom",
          "yref": "paper"
         }
        ],
        "height": 800,
        "showlegend": false,
        "template": {
         "data": {
          "bar": [
           {
            "error_x": {
             "color": "#2a3f5f"
            },
            "error_y": {
             "color": "#2a3f5f"
            },
            "marker": {
             "line": {
              "color": "#E5ECF6",
              "width": 0.5
             }
            },
            "type": "bar"
           }
          ],
          "barpolar": [
           {
            "marker": {
             "line": {
              "color": "#E5ECF6",
              "width": 0.5
             }
            },
            "type": "barpolar"
           }
          ],
          "carpet": [
           {
            "aaxis": {
             "endlinecolor": "#2a3f5f",
             "gridcolor": "white",
             "linecolor": "white",
             "minorgridcolor": "white",
             "startlinecolor": "#2a3f5f"
            },
            "baxis": {
             "endlinecolor": "#2a3f5f",
             "gridcolor": "white",
             "linecolor": "white",
             "minorgridcolor": "white",
             "startlinecolor": "#2a3f5f"
            },
            "type": "carpet"
           }
          ],
          "choropleth": [
           {
            "colorbar": {
             "outlinewidth": 0,
             "ticks": ""
            },
            "type": "choropleth"
           }
          ],
          "contour": [
           {
            "colorbar": {
             "outlinewidth": 0,
             "ticks": ""
            },
            "colorscale": [
             [
              0,
              "#0d0887"
             ],
             [
              0.1111111111111111,
              "#46039f"
             ],
             [
              0.2222222222222222,
              "#7201a8"
             ],
             [
              0.3333333333333333,
              "#9c179e"
             ],
             [
              0.4444444444444444,
              "#bd3786"
             ],
             [
              0.5555555555555556,
              "#d8576b"
             ],
             [
              0.6666666666666666,
              "#ed7953"
             ],
             [
              0.7777777777777778,
              "#fb9f3a"
             ],
             [
              0.8888888888888888,
              "#fdca26"
             ],
             [
              1,
              "#f0f921"
             ]
            ],
            "type": "contour"
           }
          ],
          "contourcarpet": [
           {
            "colorbar": {
             "outlinewidth": 0,
             "ticks": ""
            },
            "type": "contourcarpet"
           }
          ],
          "heatmap": [
           {
            "colorbar": {
             "outlinewidth": 0,
             "ticks": ""
            },
            "colorscale": [
             [
              0,
              "#0d0887"
             ],
             [
              0.1111111111111111,
              "#46039f"
             ],
             [
              0.2222222222222222,
              "#7201a8"
             ],
             [
              0.3333333333333333,
              "#9c179e"
             ],
             [
              0.4444444444444444,
              "#bd3786"
             ],
             [
              0.5555555555555556,
              "#d8576b"
             ],
             [
              0.6666666666666666,
              "#ed7953"
             ],
             [
              0.7777777777777778,
              "#fb9f3a"
             ],
             [
              0.8888888888888888,
              "#fdca26"
             ],
             [
              1,
              "#f0f921"
             ]
            ],
            "type": "heatmap"
           }
          ],
          "heatmapgl": [
           {
            "colorbar": {
             "outlinewidth": 0,
             "ticks": ""
            },
            "colorscale": [
             [
              0,
              "#0d0887"
             ],
             [
              0.1111111111111111,
              "#46039f"
             ],
             [
              0.2222222222222222,
              "#7201a8"
             ],
             [
              0.3333333333333333,
              "#9c179e"
             ],
             [
              0.4444444444444444,
              "#bd3786"
             ],
             [
              0.5555555555555556,
              "#d8576b"
             ],
             [
              0.6666666666666666,
              "#ed7953"
             ],
             [
              0.7777777777777778,
              "#fb9f3a"
             ],
             [
              0.8888888888888888,
              "#fdca26"
             ],
             [
              1,
              "#f0f921"
             ]
            ],
            "type": "heatmapgl"
           }
          ],
          "histogram": [
           {
            "marker": {
             "colorbar": {
              "outlinewidth": 0,
              "ticks": ""
             }
            },
            "type": "histogram"
           }
          ],
          "histogram2d": [
           {
            "colorbar": {
             "outlinewidth": 0,
             "ticks": ""
            },
            "colorscale": [
             [
              0,
              "#0d0887"
             ],
             [
              0.1111111111111111,
              "#46039f"
             ],
             [
              0.2222222222222222,
              "#7201a8"
             ],
             [
              0.3333333333333333,
              "#9c179e"
             ],
             [
              0.4444444444444444,
              "#bd3786"
             ],
             [
              0.5555555555555556,
              "#d8576b"
             ],
             [
              0.6666666666666666,
              "#ed7953"
             ],
             [
              0.7777777777777778,
              "#fb9f3a"
             ],
             [
              0.8888888888888888,
              "#fdca26"
             ],
             [
              1,
              "#f0f921"
             ]
            ],
            "type": "histogram2d"
           }
          ],
          "histogram2dcontour": [
           {
            "colorbar": {
             "outlinewidth": 0,
             "ticks": ""
            },
            "colorscale": [
             [
              0,
              "#0d0887"
             ],
             [
              0.1111111111111111,
              "#46039f"
             ],
             [
              0.2222222222222222,
              "#7201a8"
             ],
             [
              0.3333333333333333,
              "#9c179e"
             ],
             [
              0.4444444444444444,
              "#bd3786"
             ],
             [
              0.5555555555555556,
              "#d8576b"
             ],
             [
              0.6666666666666666,
              "#ed7953"
             ],
             [
              0.7777777777777778,
              "#fb9f3a"
             ],
             [
              0.8888888888888888,
              "#fdca26"
             ],
             [
              1,
              "#f0f921"
             ]
            ],
            "type": "histogram2dcontour"
           }
          ],
          "mesh3d": [
           {
            "colorbar": {
             "outlinewidth": 0,
             "ticks": ""
            },
            "type": "mesh3d"
           }
          ],
          "parcoords": [
           {
            "line": {
             "colorbar": {
              "outlinewidth": 0,
              "ticks": ""
             }
            },
            "type": "parcoords"
           }
          ],
          "pie": [
           {
            "automargin": true,
            "type": "pie"
           }
          ],
          "scatter": [
           {
            "marker": {
             "colorbar": {
              "outlinewidth": 0,
              "ticks": ""
             }
            },
            "type": "scatter"
           }
          ],
          "scatter3d": [
           {
            "line": {
             "colorbar": {
              "outlinewidth": 0,
              "ticks": ""
             }
            },
            "marker": {
             "colorbar": {
              "outlinewidth": 0,
              "ticks": ""
             }
            },
            "type": "scatter3d"
           }
          ],
          "scattercarpet": [
           {
            "marker": {
             "colorbar": {
              "outlinewidth": 0,
              "ticks": ""
             }
            },
            "type": "scattercarpet"
           }
          ],
          "scattergeo": [
           {
            "marker": {
             "colorbar": {
              "outlinewidth": 0,
              "ticks": ""
             }
            },
            "type": "scattergeo"
           }
          ],
          "scattergl": [
           {
            "marker": {
             "colorbar": {
              "outlinewidth": 0,
              "ticks": ""
             }
            },
            "type": "scattergl"
           }
          ],
          "scattermapbox": [
           {
            "marker": {
             "colorbar": {
              "outlinewidth": 0,
              "ticks": ""
             }
            },
            "type": "scattermapbox"
           }
          ],
          "scatterpolar": [
           {
            "marker": {
             "colorbar": {
              "outlinewidth": 0,
              "ticks": ""
             }
            },
            "type": "scatterpolar"
           }
          ],
          "scatterpolargl": [
           {
            "marker": {
             "colorbar": {
              "outlinewidth": 0,
              "ticks": ""
             }
            },
            "type": "scatterpolargl"
           }
          ],
          "scatterternary": [
           {
            "marker": {
             "colorbar": {
              "outlinewidth": 0,
              "ticks": ""
             }
            },
            "type": "scatterternary"
           }
          ],
          "surface": [
           {
            "colorbar": {
             "outlinewidth": 0,
             "ticks": ""
            },
            "colorscale": [
             [
              0,
              "#0d0887"
             ],
             [
              0.1111111111111111,
              "#46039f"
             ],
             [
              0.2222222222222222,
              "#7201a8"
             ],
             [
              0.3333333333333333,
              "#9c179e"
             ],
             [
              0.4444444444444444,
              "#bd3786"
             ],
             [
              0.5555555555555556,
              "#d8576b"
             ],
             [
              0.6666666666666666,
              "#ed7953"
             ],
             [
              0.7777777777777778,
              "#fb9f3a"
             ],
             [
              0.8888888888888888,
              "#fdca26"
             ],
             [
              1,
              "#f0f921"
             ]
            ],
            "type": "surface"
           }
          ],
          "table": [
           {
            "cells": {
             "fill": {
              "color": "#EBF0F8"
             },
             "line": {
              "color": "white"
             }
            },
            "header": {
             "fill": {
              "color": "#C8D4E3"
             },
             "line": {
              "color": "white"
             }
            },
            "type": "table"
           }
          ]
         },
         "layout": {
          "annotationdefaults": {
           "arrowcolor": "#2a3f5f",
           "arrowhead": 0,
           "arrowwidth": 1
          },
          "coloraxis": {
           "colorbar": {
            "outlinewidth": 0,
            "ticks": ""
           }
          },
          "colorscale": {
           "diverging": [
            [
             0,
             "#8e0152"
            ],
            [
             0.1,
             "#c51b7d"
            ],
            [
             0.2,
             "#de77ae"
            ],
            [
             0.3,
             "#f1b6da"
            ],
            [
             0.4,
             "#fde0ef"
            ],
            [
             0.5,
             "#f7f7f7"
            ],
            [
             0.6,
             "#e6f5d0"
            ],
            [
             0.7,
             "#b8e186"
            ],
            [
             0.8,
             "#7fbc41"
            ],
            [
             0.9,
             "#4d9221"
            ],
            [
             1,
             "#276419"
            ]
           ],
           "sequential": [
            [
             0,
             "#0d0887"
            ],
            [
             0.1111111111111111,
             "#46039f"
            ],
            [
             0.2222222222222222,
             "#7201a8"
            ],
            [
             0.3333333333333333,
             "#9c179e"
            ],
            [
             0.4444444444444444,
             "#bd3786"
            ],
            [
             0.5555555555555556,
             "#d8576b"
            ],
            [
             0.6666666666666666,
             "#ed7953"
            ],
            [
             0.7777777777777778,
             "#fb9f3a"
            ],
            [
             0.8888888888888888,
             "#fdca26"
            ],
            [
             1,
             "#f0f921"
            ]
           ],
           "sequentialminus": [
            [
             0,
             "#0d0887"
            ],
            [
             0.1111111111111111,
             "#46039f"
            ],
            [
             0.2222222222222222,
             "#7201a8"
            ],
            [
             0.3333333333333333,
             "#9c179e"
            ],
            [
             0.4444444444444444,
             "#bd3786"
            ],
            [
             0.5555555555555556,
             "#d8576b"
            ],
            [
             0.6666666666666666,
             "#ed7953"
            ],
            [
             0.7777777777777778,
             "#fb9f3a"
            ],
            [
             0.8888888888888888,
             "#fdca26"
            ],
            [
             1,
             "#f0f921"
            ]
           ]
          },
          "colorway": [
           "#636efa",
           "#EF553B",
           "#00cc96",
           "#ab63fa",
           "#FFA15A",
           "#19d3f3",
           "#FF6692",
           "#B6E880",
           "#FF97FF",
           "#FECB52"
          ],
          "font": {
           "color": "#2a3f5f"
          },
          "geo": {
           "bgcolor": "white",
           "lakecolor": "white",
           "landcolor": "#E5ECF6",
           "showlakes": true,
           "showland": true,
           "subunitcolor": "white"
          },
          "hoverlabel": {
           "align": "left"
          },
          "hovermode": "closest",
          "mapbox": {
           "style": "light"
          },
          "paper_bgcolor": "white",
          "plot_bgcolor": "#E5ECF6",
          "polar": {
           "angularaxis": {
            "gridcolor": "white",
            "linecolor": "white",
            "ticks": ""
           },
           "bgcolor": "#E5ECF6",
           "radialaxis": {
            "gridcolor": "white",
            "linecolor": "white",
            "ticks": ""
           }
          },
          "scene": {
           "xaxis": {
            "backgroundcolor": "#E5ECF6",
            "gridcolor": "white",
            "gridwidth": 2,
            "linecolor": "white",
            "showbackground": true,
            "ticks": "",
            "zerolinecolor": "white"
           },
           "yaxis": {
            "backgroundcolor": "#E5ECF6",
            "gridcolor": "white",
            "gridwidth": 2,
            "linecolor": "white",
            "showbackground": true,
            "ticks": "",
            "zerolinecolor": "white"
           },
           "zaxis": {
            "backgroundcolor": "#E5ECF6",
            "gridcolor": "white",
            "gridwidth": 2,
            "linecolor": "white",
            "showbackground": true,
            "ticks": "",
            "zerolinecolor": "white"
           }
          },
          "shapedefaults": {
           "line": {
            "color": "#2a3f5f"
           }
          },
          "ternary": {
           "aaxis": {
            "gridcolor": "white",
            "linecolor": "white",
            "ticks": ""
           },
           "baxis": {
            "gridcolor": "white",
            "linecolor": "white",
            "ticks": ""
           },
           "bgcolor": "#E5ECF6",
           "caxis": {
            "gridcolor": "white",
            "linecolor": "white",
            "ticks": ""
           }
          },
          "title": {
           "x": 0.05
          },
          "xaxis": {
           "automargin": true,
           "gridcolor": "white",
           "linecolor": "white",
           "ticks": "",
           "title": {
            "standoff": 15
           },
           "zerolinecolor": "white",
           "zerolinewidth": 2
          },
          "yaxis": {
           "automargin": true,
           "gridcolor": "white",
           "linecolor": "white",
           "ticks": "",
           "title": {
            "standoff": 15
           },
           "zerolinecolor": "white",
           "zerolinewidth": 2
          }
         }
        },
        "width": 700,
        "xaxis": {
         "anchor": "y",
         "domain": [
          0,
          0.45
         ]
        },
        "xaxis2": {
         "anchor": "y2",
         "domain": [
          0.55,
          1
         ]
        },
        "xaxis3": {
         "anchor": "y3",
         "domain": [
          0,
          0.45
         ]
        },
        "xaxis4": {
         "anchor": "y4",
         "domain": [
          0.55,
          1
         ]
        },
        "xaxis5": {
         "anchor": "y5",
         "domain": [
          0,
          0.45
         ]
        },
        "xaxis6": {
         "anchor": "y6",
         "domain": [
          0.55,
          1
         ]
        },
        "xaxis7": {
         "anchor": "y7",
         "domain": [
          0,
          0.45
         ]
        },
        "xaxis8": {
         "anchor": "y8",
         "domain": [
          0.55,
          1
         ]
        },
        "yaxis": {
         "anchor": "x",
         "domain": [
          0.84375,
          1
         ],
         "range": [
          0,
          0.1
         ]
        },
        "yaxis2": {
         "anchor": "x2",
         "domain": [
          0.84375,
          1
         ],
         "range": [
          0,
          0.1
         ]
        },
        "yaxis3": {
         "anchor": "x3",
         "domain": [
          0.5625,
          0.71875
         ],
         "range": [
          0,
          0.1
         ]
        },
        "yaxis4": {
         "anchor": "x4",
         "domain": [
          0.5625,
          0.71875
         ],
         "range": [
          0,
          0.1
         ]
        },
        "yaxis5": {
         "anchor": "x5",
         "domain": [
          0.28125,
          0.4375
         ],
         "range": [
          0,
          0.1
         ]
        },
        "yaxis6": {
         "anchor": "x6",
         "domain": [
          0.28125,
          0.4375
         ],
         "range": [
          0,
          0.1
         ]
        },
        "yaxis7": {
         "anchor": "x7",
         "domain": [
          0,
          0.15625
         ],
         "range": [
          0,
          0.1
         ]
        },
        "yaxis8": {
         "anchor": "x8",
         "domain": [
          0,
          0.15625
         ],
         "range": [
          0,
          0.1
         ]
        }
       }
      },
      "text/html": [
       "<div>\n",
       "        \n",
       "        \n",
       "            <div id=\"7f1191c9-dd48-4c08-be8b-cc0e84b606a5\" class=\"plotly-graph-div\" style=\"height:800px; width:700px;\"></div>\n",
       "            <script type=\"text/javascript\">\n",
       "                require([\"plotly\"], function(Plotly) {\n",
       "                    window.PLOTLYENV=window.PLOTLYENV || {};\n",
       "                    \n",
       "                if (document.getElementById(\"7f1191c9-dd48-4c08-be8b-cc0e84b606a5\")) {\n",
       "                    Plotly.newPlot(\n",
       "                        '7f1191c9-dd48-4c08-be8b-cc0e84b606a5',\n",
       "                        [{\"mode\": \"lines\", \"type\": \"scatter\", \"x\": [\"2019-09-03T00:00:00\", \"2019-09-04T00:00:00\", \"2019-09-05T00:00:00\", \"2019-09-06T00:00:00\", \"2019-09-07T00:00:00\", \"2019-09-08T00:00:00\", \"2019-09-09T00:00:00\", \"2019-09-10T00:00:00\", \"2019-09-11T00:00:00\", \"2019-09-12T00:00:00\", \"2019-09-13T00:00:00\", \"2019-09-14T00:00:00\", \"2019-09-15T00:00:00\", \"2019-09-16T00:00:00\", \"2019-09-17T00:00:00\", \"2019-09-18T00:00:00\", \"2019-09-19T00:00:00\", \"2019-09-20T00:00:00\", \"2019-09-21T00:00:00\", \"2019-09-22T00:00:00\", \"2019-09-23T00:00:00\", \"2019-09-24T00:00:00\", \"2019-09-25T00:00:00\", \"2019-09-26T00:00:00\", \"2019-09-27T00:00:00\", \"2019-09-28T00:00:00\", \"2019-09-29T00:00:00\", \"2019-09-30T00:00:00\", \"2019-10-01T00:00:00\", \"2019-10-02T00:00:00\", \"2019-10-03T00:00:00\", \"2019-10-04T00:00:00\", \"2019-10-05T00:00:00\"], \"xaxis\": \"x\", \"y\": [0.041666666666666664, 0.028017028017028017, 0.0023531340945134047, 0.002151539270854037, 0.003448562123202103, 0.0023417674279743246, 0.0049012095874055766, 0.009026865994101064, 0.005847253547681164, 0.012961172076188129, 0.02021467390341089, 0.010958190164915869, 0.020017420441628606, 0.016035078282700666, 0.01257739204341146, 0.008605495694781409, 0.009857254794645593, 0.010026541366673011, 0.008232142857142858, 0.003057889822595705, 0.0036255411255411256, 0.004169993789370953, 0.02937750060884389, 0.011564625850340135, 0.015949969876323026, 0.002962962962962963, 0.018371212121212118, 0.002490726020137785, 0.0025577889304024917, 0.0028160919540229884, 0.026241987179487173, 0.005602693602693603, 0.02264957264957265], \"yaxis\": \"y\"}, {\"mode\": \"lines\", \"type\": \"scatter\", \"x\": [\"2019-09-03T00:00:00\", \"2019-09-04T00:00:00\", \"2019-09-05T00:00:00\", \"2019-09-06T00:00:00\", \"2019-09-07T00:00:00\", \"2019-09-08T00:00:00\", \"2019-09-09T00:00:00\", \"2019-09-10T00:00:00\", \"2019-09-11T00:00:00\", \"2019-09-12T00:00:00\", \"2019-09-13T00:00:00\", \"2019-09-14T00:00:00\", \"2019-09-15T00:00:00\", \"2019-09-16T00:00:00\", \"2019-09-17T00:00:00\", \"2019-09-18T00:00:00\", \"2019-09-19T00:00:00\", \"2019-09-20T00:00:00\", \"2019-09-21T00:00:00\", \"2019-09-22T00:00:00\", \"2019-09-23T00:00:00\", \"2019-09-24T00:00:00\", \"2019-09-25T00:00:00\", \"2019-09-26T00:00:00\", \"2019-09-27T00:00:00\", \"2019-09-28T00:00:00\", \"2019-09-29T00:00:00\", \"2019-09-30T00:00:00\", \"2019-10-01T00:00:00\", \"2019-10-02T00:00:00\", \"2019-10-03T00:00:00\", \"2019-10-04T00:00:00\", \"2019-10-05T00:00:00\"], \"xaxis\": \"x3\", \"y\": [0.0, 0.010285134356341787, 0.004231690761754677, 0.02251648633767398, 0.016469783631439555, 0.011032373111645977, 0.022156211581891933, 0.02058490831887769, 0.032483999517306454, 0.03145192727936445, 0.03488509852246816, 0.031084737053539417, 0.029925456577558282, 0.03139350721671061, 0.029660047482503143, 0.01691901366285603, 0.0470134921530166, 0.02508009709212755, 0.04283910533910533, 0.03678685149273384, 0.01893023849856148, 0.015678989306288527, 0.04675134219549243, 0.04010670923936229, 0.04951385438764601, 0.018627010849233076, 0.029166666666666664, 0.019974169974169974, 0.08461869721851975, 0.017530682074292623, 0.03390088016624321, 0.026749082593072362, 0.02989777107424166], \"yaxis\": \"y3\"}, {\"mode\": \"lines\", \"type\": \"scatter\", \"x\": [\"2019-09-03T00:00:00\", \"2019-09-04T00:00:00\", \"2019-09-05T00:00:00\", \"2019-09-06T00:00:00\", \"2019-09-07T00:00:00\", \"2019-09-08T00:00:00\", \"2019-09-09T00:00:00\", \"2019-09-10T00:00:00\", \"2019-09-11T00:00:00\", \"2019-09-12T00:00:00\", \"2019-09-13T00:00:00\", \"2019-09-14T00:00:00\", \"2019-09-15T00:00:00\", \"2019-09-16T00:00:00\", \"2019-09-17T00:00:00\", \"2019-09-18T00:00:00\", \"2019-09-19T00:00:00\", \"2019-09-20T00:00:00\", \"2019-09-21T00:00:00\", \"2019-09-22T00:00:00\", \"2019-09-23T00:00:00\", \"2019-09-24T00:00:00\", \"2019-09-25T00:00:00\", \"2019-09-26T00:00:00\", \"2019-09-27T00:00:00\", \"2019-09-28T00:00:00\", \"2019-09-29T00:00:00\", \"2019-09-30T00:00:00\", \"2019-10-01T00:00:00\", \"2019-10-02T00:00:00\", \"2019-10-03T00:00:00\", \"2019-10-04T00:00:00\", \"2019-10-05T00:00:00\"], \"xaxis\": \"x5\", \"y\": [0.03125, 0.021713084213084224, 0.010110994848063814, 0.017535856054940423, 0.02120779689488501, 0.0234003962991032, 0.0134512606568906, 0.011654933819333406, 0.019372861673499525, 0.011753961616802033, 0.01624092048564473, 0.01122766696240625, 0.013471982810742203, 0.014592793548638164, 0.01217928242200087, 0.007695846481560765, 0.006586658665866586, 0.007089854631103594, 0.0, 0.004341736694677871, 0.0022367642709257615, 0.0015082956259426848, 0.02234910611776284, 0.012244897959183673, 0.016412092787425527, 0.0030864197530864196, 0.003787878787878788, 0.0022522522522522522, 0.00163014514561585, 0.009819595549818674, 0.03901129243245252, 0.006909883145177262, 0.008547008547008548], \"yaxis\": \"y5\"}, {\"mode\": \"lines\", \"type\": \"scatter\", \"x\": [\"2019-09-03T00:00:00\", \"2019-09-04T00:00:00\", \"2019-09-05T00:00:00\", \"2019-09-06T00:00:00\", \"2019-09-07T00:00:00\", \"2019-09-08T00:00:00\", \"2019-09-09T00:00:00\", \"2019-09-10T00:00:00\", \"2019-09-11T00:00:00\", \"2019-09-12T00:00:00\", \"2019-09-13T00:00:00\", \"2019-09-14T00:00:00\", \"2019-09-15T00:00:00\", \"2019-09-16T00:00:00\", \"2019-09-17T00:00:00\", \"2019-09-18T00:00:00\", \"2019-09-19T00:00:00\", \"2019-09-20T00:00:00\", \"2019-09-21T00:00:00\", \"2019-09-22T00:00:00\", \"2019-09-23T00:00:00\", \"2019-09-24T00:00:00\", \"2019-09-25T00:00:00\", \"2019-09-26T00:00:00\", \"2019-09-27T00:00:00\", \"2019-09-28T00:00:00\", \"2019-09-29T00:00:00\", \"2019-09-30T00:00:00\", \"2019-10-01T00:00:00\", \"2019-10-02T00:00:00\", \"2019-10-03T00:00:00\", \"2019-10-04T00:00:00\", \"2019-10-05T00:00:00\"], \"xaxis\": \"x7\", \"y\": [0.0, 0.022695126371596968, 0.0027435759652445425, 0.004646576875338646, 0.003849816551793608, 0.0038321352976525384, 0.02070348976636834, 0.029687173118044453, 0.012212839812342818, 0.020498979304434416, 0.030104059017396795, 0.01922553114731061, 0.03146917754591681, 0.025542489845535553, 0.032799093394614495, 0.01176883823020717, 0.013121516202471359, 0.012484188566915098, 0.023705357142857143, 0.02657832363714717, 0.007627517410126105, 0.030169609321858464, 0.062048060815095236, 0.03579987189681067, 0.022349164441001178, 0.004814814814814815, 0.020075757575757577, 0.003616852146263911, 0.011171624074849881, 0.006223799864773495, 0.03998588217338218, 0.008835016835016835, 0.050878642055112645], \"yaxis\": \"y7\"}, {\"mode\": \"lines\", \"type\": \"scatter\", \"x\": [\"2019-09-03T00:00:00\", \"2019-09-04T00:00:00\", \"2019-09-05T00:00:00\", \"2019-09-06T00:00:00\", \"2019-09-07T00:00:00\", \"2019-09-08T00:00:00\", \"2019-09-09T00:00:00\", \"2019-09-10T00:00:00\", \"2019-09-11T00:00:00\", \"2019-09-12T00:00:00\", \"2019-09-13T00:00:00\", \"2019-09-14T00:00:00\", \"2019-09-15T00:00:00\", \"2019-09-16T00:00:00\", \"2019-09-17T00:00:00\", \"2019-09-18T00:00:00\", \"2019-09-19T00:00:00\", \"2019-09-20T00:00:00\", \"2019-09-21T00:00:00\", \"2019-09-22T00:00:00\", \"2019-09-23T00:00:00\", \"2019-09-24T00:00:00\", \"2019-09-25T00:00:00\", \"2019-09-26T00:00:00\", \"2019-09-27T00:00:00\", \"2019-09-28T00:00:00\", \"2019-09-29T00:00:00\", \"2019-09-30T00:00:00\", \"2019-10-01T00:00:00\", \"2019-10-02T00:00:00\", \"2019-10-03T00:00:00\", \"2019-10-04T00:00:00\", \"2019-10-05T00:00:00\"], \"xaxis\": \"x2\", \"y\": [0.0, 0.0281246433723214, 0.027438352544748346, 0.01722866390632161, 0.005090507143547014, 0.007311298804039276, 0.014948429839348345, 0.02080065840632924, 0.02831939545431085, 0.030829588798890747, 0.032578230299771194, 0.025110403265120228, 0.030985612901868905, 0.030128319146483968, 0.036353429474239404, 0.018399325678882326, 0.04974322293552135, 0.027197881879331812, 0.040676363793211615, 0.04138018843901197, 0.009290565880791442, 0.009480451305710822, 0.02314655974742638, 0.02877127596515351, 0.026903602722614536, 0.013868312757201648, 0.03620823620823621, 0.013094563094563094, 0.04601828815127037, 0.005363984674329502, 0.026552337278484623, 0.011444444444444445, 0.01862745098039216], \"yaxis\": \"y2\"}, {\"mode\": \"lines\", \"type\": \"scatter\", \"x\": [\"2019-09-03T00:00:00\", \"2019-09-04T00:00:00\", \"2019-09-05T00:00:00\", \"2019-09-06T00:00:00\", \"2019-09-07T00:00:00\", \"2019-09-08T00:00:00\", \"2019-09-09T00:00:00\", \"2019-09-10T00:00:00\", \"2019-09-11T00:00:00\", \"2019-09-12T00:00:00\", \"2019-09-13T00:00:00\", \"2019-09-14T00:00:00\", \"2019-09-15T00:00:00\", \"2019-09-16T00:00:00\", \"2019-09-17T00:00:00\", \"2019-09-18T00:00:00\", \"2019-09-19T00:00:00\", \"2019-09-20T00:00:00\", \"2019-09-21T00:00:00\", \"2019-09-22T00:00:00\", \"2019-09-23T00:00:00\", \"2019-09-24T00:00:00\", \"2019-09-25T00:00:00\", \"2019-09-26T00:00:00\", \"2019-09-27T00:00:00\", \"2019-09-28T00:00:00\", \"2019-09-29T00:00:00\", \"2019-09-30T00:00:00\", \"2019-10-01T00:00:00\", \"2019-10-02T00:00:00\", \"2019-10-03T00:00:00\", \"2019-10-04T00:00:00\", \"2019-10-05T00:00:00\"], \"xaxis\": \"x4\", \"y\": [0.0, 0.020340470340470342, 0.003404062386020323, 0.011781449987289467, 0.006385934733506128, 0.003703919593211789, 0.007744312923929964, 0.014411485172385876, 0.010686834677826213, 0.016962859946561392, 0.03275878971897905, 0.025051487291103562, 0.02813535015774555, 0.025541225012892046, 0.029514560160697232, 0.01474761078040829, 0.011042499854381042, 0.01187623068903661, 0.03444509144237405, 0.025971414206708322, 0.007627517410126105, 0.02717578259373925, 0.04926375448763509, 0.023393230918741122, 0.03268406763304723, 0.00818181818181818, 0.03257575757575757, 0.005869104398516164, 0.0025577889304024917, 0.0081947261663286, 0.043397979335479335, 0.009213804713804714, 0.05741458976753095], \"yaxis\": \"y4\"}, {\"mode\": \"lines\", \"type\": \"scatter\", \"x\": [\"2019-09-03T00:00:00\", \"2019-09-04T00:00:00\", \"2019-09-05T00:00:00\", \"2019-09-06T00:00:00\", \"2019-09-07T00:00:00\", \"2019-09-08T00:00:00\", \"2019-09-09T00:00:00\", \"2019-09-10T00:00:00\", \"2019-09-11T00:00:00\", \"2019-09-12T00:00:00\", \"2019-09-13T00:00:00\", \"2019-09-14T00:00:00\", \"2019-09-15T00:00:00\", \"2019-09-16T00:00:00\", \"2019-09-17T00:00:00\", \"2019-09-18T00:00:00\", \"2019-09-19T00:00:00\", \"2019-09-20T00:00:00\", \"2019-09-21T00:00:00\", \"2019-09-22T00:00:00\", \"2019-09-23T00:00:00\", \"2019-09-24T00:00:00\", \"2019-09-25T00:00:00\", \"2019-09-26T00:00:00\", \"2019-09-27T00:00:00\", \"2019-09-28T00:00:00\", \"2019-09-29T00:00:00\", \"2019-09-30T00:00:00\", \"2019-10-01T00:00:00\", \"2019-10-02T00:00:00\", \"2019-10-03T00:00:00\", \"2019-10-04T00:00:00\", \"2019-10-05T00:00:00\"], \"xaxis\": \"x6\", \"y\": [0.0, 0.0028323778323778325, 0.0014687743934962427, 0.003745246688795076, 0.005137145012663686, 0.0018978605935127673, 0.005754655131892984, 0.00805586289888429, 0.006967766862480294, 0.00960297363107978, 0.01561570894612636, 0.011349954510775553, 0.01111661076018257, 0.010084379469969608, 0.011528850266936511, 0.0033288669002954716, 0.007283836081536823, 0.008409792466037019, 0.010496031746031744, 0.003034547152194211, 0.0036255411255411256, 0.01021637916101584, 0.02625378352990293, 0.017929458108029536, 0.014829728095034217, 0.002962962962962963, 0.006250000000000001, 0.006788256788256788, 0.001727675197062952, 0.00782703886152162, 0.015040296358231139, 0.004206349206349206, 0.014102564102564101], \"yaxis\": \"y6\"}, {\"mode\": \"lines\", \"type\": \"scatter\", \"x\": [\"2019-09-03T00:00:00\", \"2019-09-04T00:00:00\", \"2019-09-05T00:00:00\", \"2019-09-06T00:00:00\", \"2019-09-07T00:00:00\", \"2019-09-08T00:00:00\", \"2019-09-09T00:00:00\", \"2019-09-10T00:00:00\", \"2019-09-11T00:00:00\", \"2019-09-12T00:00:00\", \"2019-09-13T00:00:00\", \"2019-09-14T00:00:00\", \"2019-09-15T00:00:00\", \"2019-09-16T00:00:00\", \"2019-09-17T00:00:00\", \"2019-09-18T00:00:00\", \"2019-09-19T00:00:00\", \"2019-09-20T00:00:00\", \"2019-09-21T00:00:00\", \"2019-09-22T00:00:00\", \"2019-09-23T00:00:00\", \"2019-09-24T00:00:00\", \"2019-09-25T00:00:00\", \"2019-09-26T00:00:00\", \"2019-09-27T00:00:00\", \"2019-09-28T00:00:00\", \"2019-09-29T00:00:00\", \"2019-09-30T00:00:00\", \"2019-10-01T00:00:00\", \"2019-10-02T00:00:00\", \"2019-10-03T00:00:00\", \"2019-10-04T00:00:00\", \"2019-10-05T00:00:00\"], \"xaxis\": \"x8\", \"y\": [0.10416666666666666, 0.047469935860028754, 0.07287043563608739, 0.07075677770559481, 0.04759395804948753, 0.0517329055044572, 0.05191386380686927, 0.03520718261549728, 0.06887737796551957, 0.054953890863785625, 0.053725013761022906, 0.0479715419077053, 0.0558245602845154, 0.04715750180597943, 0.06533928314248678, 0.03361621488345625, 0.055409127305001304, 0.03642370341047991, 0.04630707517120561, 0.0688620972596632, 0.015105322673645654, 0.015329096124943877, 0.051330720616898425, 0.05041121010508765, 0.0494391847430889, 0.04142968142968143, 0.05259809634809636, 0.03523920876862052, 0.06953507637394095, 0.04569784719558979, 0.046116454473320766, 0.02126682250211662, 0.046279537456008046], \"yaxis\": \"y8\"}],\n",
       "                        {\"annotations\": [{\"font\": {\"size\": 16}, \"showarrow\": false, \"text\": \"Anger\", \"x\": 0.225, \"xanchor\": \"center\", \"xref\": \"paper\", \"y\": 1.0, \"yanchor\": \"bottom\", \"yref\": \"paper\"}, {\"font\": {\"size\": 16}, \"showarrow\": false, \"text\": \"Joy\", \"x\": 0.775, \"xanchor\": \"center\", \"xref\": \"paper\", \"y\": 1.0, \"yanchor\": \"bottom\", \"yref\": \"paper\"}, {\"font\": {\"size\": 16}, \"showarrow\": false, \"text\": \"Anticipation\", \"x\": 0.225, \"xanchor\": \"center\", \"xref\": \"paper\", \"y\": 0.71875, \"yanchor\": \"bottom\", \"yref\": \"paper\"}, {\"font\": {\"size\": 16}, \"showarrow\": false, \"text\": \"Sadness\", \"x\": 0.775, \"xanchor\": \"center\", \"xref\": \"paper\", \"y\": 0.71875, \"yanchor\": \"bottom\", \"yref\": \"paper\"}, {\"font\": {\"size\": 16}, \"showarrow\": false, \"text\": \"Disgust\", \"x\": 0.225, \"xanchor\": \"center\", \"xref\": \"paper\", \"y\": 0.4375, \"yanchor\": \"bottom\", \"yref\": \"paper\"}, {\"font\": {\"size\": 16}, \"showarrow\": false, \"text\": \"Surprise\", \"x\": 0.775, \"xanchor\": \"center\", \"xref\": \"paper\", \"y\": 0.4375, \"yanchor\": \"bottom\", \"yref\": \"paper\"}, {\"font\": {\"size\": 16}, \"showarrow\": false, \"text\": \"Fear\", \"x\": 0.225, \"xanchor\": \"center\", \"xref\": \"paper\", \"y\": 0.15625, \"yanchor\": \"bottom\", \"yref\": \"paper\"}, {\"font\": {\"size\": 16}, \"showarrow\": false, \"text\": \"Trust\", \"x\": 0.775, \"xanchor\": \"center\", \"xref\": \"paper\", \"y\": 0.15625, \"yanchor\": \"bottom\", \"yref\": \"paper\"}], \"height\": 800, \"showlegend\": false, \"template\": {\"data\": {\"bar\": [{\"error_x\": {\"color\": \"#2a3f5f\"}, \"error_y\": {\"color\": \"#2a3f5f\"}, \"marker\": {\"line\": {\"color\": \"#E5ECF6\", \"width\": 0.5}}, \"type\": \"bar\"}], \"barpolar\": [{\"marker\": {\"line\": {\"color\": \"#E5ECF6\", \"width\": 0.5}}, \"type\": \"barpolar\"}], \"carpet\": [{\"aaxis\": {\"endlinecolor\": \"#2a3f5f\", \"gridcolor\": \"white\", \"linecolor\": \"white\", \"minorgridcolor\": \"white\", \"startlinecolor\": \"#2a3f5f\"}, \"baxis\": {\"endlinecolor\": \"#2a3f5f\", \"gridcolor\": \"white\", \"linecolor\": \"white\", \"minorgridcolor\": \"white\", \"startlinecolor\": \"#2a3f5f\"}, \"type\": \"carpet\"}], \"choropleth\": [{\"colorbar\": {\"outlinewidth\": 0, \"ticks\": \"\"}, \"type\": \"choropleth\"}], \"contour\": [{\"colorbar\": {\"outlinewidth\": 0, \"ticks\": \"\"}, \"colorscale\": [[0.0, \"#0d0887\"], [0.1111111111111111, \"#46039f\"], [0.2222222222222222, \"#7201a8\"], [0.3333333333333333, \"#9c179e\"], [0.4444444444444444, \"#bd3786\"], [0.5555555555555556, \"#d8576b\"], [0.6666666666666666, \"#ed7953\"], [0.7777777777777778, \"#fb9f3a\"], [0.8888888888888888, \"#fdca26\"], [1.0, \"#f0f921\"]], \"type\": \"contour\"}], \"contourcarpet\": [{\"colorbar\": {\"outlinewidth\": 0, \"ticks\": \"\"}, \"type\": \"contourcarpet\"}], \"heatmap\": [{\"colorbar\": {\"outlinewidth\": 0, \"ticks\": \"\"}, \"colorscale\": [[0.0, \"#0d0887\"], [0.1111111111111111, \"#46039f\"], [0.2222222222222222, \"#7201a8\"], [0.3333333333333333, \"#9c179e\"], [0.4444444444444444, \"#bd3786\"], [0.5555555555555556, \"#d8576b\"], [0.6666666666666666, \"#ed7953\"], [0.7777777777777778, \"#fb9f3a\"], [0.8888888888888888, \"#fdca26\"], [1.0, \"#f0f921\"]], \"type\": \"heatmap\"}], \"heatmapgl\": [{\"colorbar\": {\"outlinewidth\": 0, \"ticks\": \"\"}, \"colorscale\": [[0.0, \"#0d0887\"], [0.1111111111111111, \"#46039f\"], [0.2222222222222222, \"#7201a8\"], [0.3333333333333333, \"#9c179e\"], [0.4444444444444444, \"#bd3786\"], [0.5555555555555556, \"#d8576b\"], [0.6666666666666666, \"#ed7953\"], [0.7777777777777778, \"#fb9f3a\"], [0.8888888888888888, \"#fdca26\"], [1.0, \"#f0f921\"]], \"type\": \"heatmapgl\"}], \"histogram\": [{\"marker\": {\"colorbar\": {\"outlinewidth\": 0, \"ticks\": \"\"}}, \"type\": \"histogram\"}], \"histogram2d\": [{\"colorbar\": {\"outlinewidth\": 0, \"ticks\": \"\"}, \"colorscale\": [[0.0, \"#0d0887\"], [0.1111111111111111, \"#46039f\"], [0.2222222222222222, \"#7201a8\"], [0.3333333333333333, \"#9c179e\"], [0.4444444444444444, \"#bd3786\"], [0.5555555555555556, \"#d8576b\"], [0.6666666666666666, \"#ed7953\"], [0.7777777777777778, \"#fb9f3a\"], [0.8888888888888888, \"#fdca26\"], [1.0, \"#f0f921\"]], \"type\": \"histogram2d\"}], \"histogram2dcontour\": [{\"colorbar\": {\"outlinewidth\": 0, \"ticks\": \"\"}, \"colorscale\": [[0.0, \"#0d0887\"], [0.1111111111111111, \"#46039f\"], [0.2222222222222222, \"#7201a8\"], [0.3333333333333333, \"#9c179e\"], [0.4444444444444444, \"#bd3786\"], [0.5555555555555556, \"#d8576b\"], [0.6666666666666666, \"#ed7953\"], [0.7777777777777778, \"#fb9f3a\"], [0.8888888888888888, \"#fdca26\"], [1.0, \"#f0f921\"]], \"type\": \"histogram2dcontour\"}], \"mesh3d\": [{\"colorbar\": {\"outlinewidth\": 0, \"ticks\": \"\"}, \"type\": \"mesh3d\"}], \"parcoords\": [{\"line\": {\"colorbar\": {\"outlinewidth\": 0, \"ticks\": \"\"}}, \"type\": \"parcoords\"}], \"pie\": [{\"automargin\": true, \"type\": \"pie\"}], \"scatter\": [{\"marker\": {\"colorbar\": {\"outlinewidth\": 0, \"ticks\": \"\"}}, \"type\": \"scatter\"}], \"scatter3d\": [{\"line\": {\"colorbar\": {\"outlinewidth\": 0, \"ticks\": \"\"}}, \"marker\": {\"colorbar\": {\"outlinewidth\": 0, \"ticks\": \"\"}}, \"type\": \"scatter3d\"}], \"scattercarpet\": [{\"marker\": {\"colorbar\": {\"outlinewidth\": 0, \"ticks\": \"\"}}, \"type\": \"scattercarpet\"}], \"scattergeo\": [{\"marker\": {\"colorbar\": {\"outlinewidth\": 0, \"ticks\": \"\"}}, \"type\": \"scattergeo\"}], \"scattergl\": [{\"marker\": {\"colorbar\": {\"outlinewidth\": 0, \"ticks\": \"\"}}, \"type\": \"scattergl\"}], \"scattermapbox\": [{\"marker\": {\"colorbar\": {\"outlinewidth\": 0, \"ticks\": \"\"}}, \"type\": \"scattermapbox\"}], \"scatterpolar\": [{\"marker\": {\"colorbar\": {\"outlinewidth\": 0, \"ticks\": \"\"}}, \"type\": \"scatterpolar\"}], \"scatterpolargl\": [{\"marker\": {\"colorbar\": {\"outlinewidth\": 0, \"ticks\": \"\"}}, \"type\": \"scatterpolargl\"}], \"scatterternary\": [{\"marker\": {\"colorbar\": {\"outlinewidth\": 0, \"ticks\": \"\"}}, \"type\": \"scatterternary\"}], \"surface\": [{\"colorbar\": {\"outlinewidth\": 0, \"ticks\": \"\"}, \"colorscale\": [[0.0, \"#0d0887\"], [0.1111111111111111, \"#46039f\"], [0.2222222222222222, \"#7201a8\"], [0.3333333333333333, \"#9c179e\"], [0.4444444444444444, \"#bd3786\"], [0.5555555555555556, \"#d8576b\"], [0.6666666666666666, \"#ed7953\"], [0.7777777777777778, \"#fb9f3a\"], [0.8888888888888888, \"#fdca26\"], [1.0, \"#f0f921\"]], \"type\": \"surface\"}], \"table\": [{\"cells\": {\"fill\": {\"color\": \"#EBF0F8\"}, \"line\": {\"color\": \"white\"}}, \"header\": {\"fill\": {\"color\": \"#C8D4E3\"}, \"line\": {\"color\": \"white\"}}, \"type\": \"table\"}]}, \"layout\": {\"annotationdefaults\": {\"arrowcolor\": \"#2a3f5f\", \"arrowhead\": 0, \"arrowwidth\": 1}, \"coloraxis\": {\"colorbar\": {\"outlinewidth\": 0, \"ticks\": \"\"}}, \"colorscale\": {\"diverging\": [[0, \"#8e0152\"], [0.1, \"#c51b7d\"], [0.2, \"#de77ae\"], [0.3, \"#f1b6da\"], [0.4, \"#fde0ef\"], [0.5, \"#f7f7f7\"], [0.6, \"#e6f5d0\"], [0.7, \"#b8e186\"], [0.8, \"#7fbc41\"], [0.9, \"#4d9221\"], [1, \"#276419\"]], \"sequential\": [[0.0, \"#0d0887\"], [0.1111111111111111, \"#46039f\"], [0.2222222222222222, \"#7201a8\"], [0.3333333333333333, \"#9c179e\"], [0.4444444444444444, \"#bd3786\"], [0.5555555555555556, \"#d8576b\"], [0.6666666666666666, \"#ed7953\"], [0.7777777777777778, \"#fb9f3a\"], [0.8888888888888888, \"#fdca26\"], [1.0, \"#f0f921\"]], \"sequentialminus\": [[0.0, \"#0d0887\"], [0.1111111111111111, \"#46039f\"], [0.2222222222222222, \"#7201a8\"], [0.3333333333333333, \"#9c179e\"], [0.4444444444444444, \"#bd3786\"], [0.5555555555555556, \"#d8576b\"], [0.6666666666666666, \"#ed7953\"], [0.7777777777777778, \"#fb9f3a\"], [0.8888888888888888, \"#fdca26\"], [1.0, \"#f0f921\"]]}, \"colorway\": [\"#636efa\", \"#EF553B\", \"#00cc96\", \"#ab63fa\", \"#FFA15A\", \"#19d3f3\", \"#FF6692\", \"#B6E880\", \"#FF97FF\", \"#FECB52\"], \"font\": {\"color\": \"#2a3f5f\"}, \"geo\": {\"bgcolor\": \"white\", \"lakecolor\": \"white\", \"landcolor\": \"#E5ECF6\", \"showlakes\": true, \"showland\": true, \"subunitcolor\": \"white\"}, \"hoverlabel\": {\"align\": \"left\"}, \"hovermode\": \"closest\", \"mapbox\": {\"style\": \"light\"}, \"paper_bgcolor\": \"white\", \"plot_bgcolor\": \"#E5ECF6\", \"polar\": {\"angularaxis\": {\"gridcolor\": \"white\", \"linecolor\": \"white\", \"ticks\": \"\"}, \"bgcolor\": \"#E5ECF6\", \"radialaxis\": {\"gridcolor\": \"white\", \"linecolor\": \"white\", \"ticks\": \"\"}}, \"scene\": {\"xaxis\": {\"backgroundcolor\": \"#E5ECF6\", \"gridcolor\": \"white\", \"gridwidth\": 2, \"linecolor\": \"white\", \"showbackground\": true, \"ticks\": \"\", \"zerolinecolor\": \"white\"}, \"yaxis\": {\"backgroundcolor\": \"#E5ECF6\", \"gridcolor\": \"white\", \"gridwidth\": 2, \"linecolor\": \"white\", \"showbackground\": true, \"ticks\": \"\", \"zerolinecolor\": \"white\"}, \"zaxis\": {\"backgroundcolor\": \"#E5ECF6\", \"gridcolor\": \"white\", \"gridwidth\": 2, \"linecolor\": \"white\", \"showbackground\": true, \"ticks\": \"\", \"zerolinecolor\": \"white\"}}, \"shapedefaults\": {\"line\": {\"color\": \"#2a3f5f\"}}, \"ternary\": {\"aaxis\": {\"gridcolor\": \"white\", \"linecolor\": \"white\", \"ticks\": \"\"}, \"baxis\": {\"gridcolor\": \"white\", \"linecolor\": \"white\", \"ticks\": \"\"}, \"bgcolor\": \"#E5ECF6\", \"caxis\": {\"gridcolor\": \"white\", \"linecolor\": \"white\", \"ticks\": \"\"}}, \"title\": {\"x\": 0.05}, \"xaxis\": {\"automargin\": true, \"gridcolor\": \"white\", \"linecolor\": \"white\", \"ticks\": \"\", \"title\": {\"standoff\": 15}, \"zerolinecolor\": \"white\", \"zerolinewidth\": 2}, \"yaxis\": {\"automargin\": true, \"gridcolor\": \"white\", \"linecolor\": \"white\", \"ticks\": \"\", \"title\": {\"standoff\": 15}, \"zerolinecolor\": \"white\", \"zerolinewidth\": 2}}}, \"width\": 700, \"xaxis\": {\"anchor\": \"y\", \"domain\": [0.0, 0.45]}, \"xaxis2\": {\"anchor\": \"y2\", \"domain\": [0.55, 1.0]}, \"xaxis3\": {\"anchor\": \"y3\", \"domain\": [0.0, 0.45]}, \"xaxis4\": {\"anchor\": \"y4\", \"domain\": [0.55, 1.0]}, \"xaxis5\": {\"anchor\": \"y5\", \"domain\": [0.0, 0.45]}, \"xaxis6\": {\"anchor\": \"y6\", \"domain\": [0.55, 1.0]}, \"xaxis7\": {\"anchor\": \"y7\", \"domain\": [0.0, 0.45]}, \"xaxis8\": {\"anchor\": \"y8\", \"domain\": [0.55, 1.0]}, \"yaxis\": {\"anchor\": \"x\", \"domain\": [0.84375, 1.0], \"range\": [0, 0.1]}, \"yaxis2\": {\"anchor\": \"x2\", \"domain\": [0.84375, 1.0], \"range\": [0, 0.1]}, \"yaxis3\": {\"anchor\": \"x3\", \"domain\": [0.5625, 0.71875], \"range\": [0, 0.1]}, \"yaxis4\": {\"anchor\": \"x4\", \"domain\": [0.5625, 0.71875], \"range\": [0, 0.1]}, \"yaxis5\": {\"anchor\": \"x5\", \"domain\": [0.28125, 0.4375], \"range\": [0, 0.1]}, \"yaxis6\": {\"anchor\": \"x6\", \"domain\": [0.28125, 0.4375], \"range\": [0, 0.1]}, \"yaxis7\": {\"anchor\": \"x7\", \"domain\": [0.0, 0.15625], \"range\": [0, 0.1]}, \"yaxis8\": {\"anchor\": \"x8\", \"domain\": [0.0, 0.15625], \"range\": [0, 0.1]}},\n",
       "                        {\"responsive\": true}\n",
       "                    ).then(function(){\n",
       "                            \n",
       "var gd = document.getElementById('7f1191c9-dd48-4c08-be8b-cc0e84b606a5');\n",
       "var x = new MutationObserver(function (mutations, observer) {{\n",
       "        var display = window.getComputedStyle(gd).display;\n",
       "        if (!display || display === 'none') {{\n",
       "            console.log([gd, 'removed!']);\n",
       "            Plotly.purge(gd);\n",
       "            observer.disconnect();\n",
       "        }}\n",
       "}});\n",
       "\n",
       "// Listen for the removal of the full notebook cells\n",
       "var notebookContainer = gd.closest('#notebook-container');\n",
       "if (notebookContainer) {{\n",
       "    x.observe(notebookContainer, {childList: true});\n",
       "}}\n",
       "\n",
       "// Listen for the clearing of the current output cell\n",
       "var outputEl = gd.closest('.output');\n",
       "if (outputEl) {{\n",
       "    x.observe(outputEl, {childList: true});\n",
       "}}\n",
       "\n",
       "                        })\n",
       "                };\n",
       "                });\n",
       "            </script>\n",
       "        </div>"
      ]
     },
     "metadata": {},
     "output_type": "display_data"
    }
   ],
   "source": [
    "#multi-facted line charts\n",
    "fig = make_subplots(rows=4, cols=2, subplot_titles=(\"Anger\", \"Joy\", \"Anticipation\", \n",
    "                                                    \"Sadness\",\"Disgust\",\"Surprise\",\n",
    "                                                   \"Fear\",\"Trust\"))\n",
    "\n",
    "fig.append_trace(go.Scatter(\n",
    "    x = nrc_anger.created_at_date,\n",
    "    y = nrc_anger.average_sentiment,\n",
    "    mode = \"lines\"), row=1, col=1)\n",
    "\n",
    "fig.append_trace(go.Scatter(\n",
    "    x = nrc_anticipation.created_at_date,\n",
    "    y = nrc_anticipation.average_sentiment,\n",
    "    mode = \"lines\"), row=2, col=1)\n",
    "\n",
    "fig.append_trace(go.Scatter(\n",
    "    x = nrc_disgust.created_at_date,\n",
    "    y = nrc_disgust.average_sentiment,\n",
    "    mode = \"lines\"), row=3, col=1)\n",
    "\n",
    "fig.append_trace(go.Scatter(\n",
    "    x = nrc_fear.created_at_date,\n",
    "    y = nrc_fear.average_sentiment,\n",
    "    mode = \"lines\"), row=4, col=1)\n",
    "\n",
    "fig.append_trace(go.Scatter(\n",
    "    x = nrc_joy.created_at_date,\n",
    "    y = nrc_joy.average_sentiment,\n",
    "    mode = \"lines\"), row=1, col=2)\n",
    "\n",
    "fig.append_trace(go.Scatter(\n",
    "    x = nrc_sadness.created_at_date,\n",
    "    y = nrc_sadness.average_sentiment,\n",
    "    mode = \"lines\"), row=2, col=2)\n",
    "\n",
    "fig.append_trace(go.Scatter(\n",
    "    x = nrc_surprise.created_at_date,\n",
    "    y = nrc_surprise.average_sentiment,\n",
    "    mode = \"lines\"), row=3, col=2)\n",
    "\n",
    "fig.append_trace(go.Scatter(\n",
    "    x = nrc_trust.created_at_date,\n",
    "    y = nrc_trust.average_sentiment,\n",
    "    mode = \"lines\"), row=4, col=2)\n",
    "\n",
    "fig.update_yaxes(range=[0,.1],row=1, col=1)\n",
    "fig.update_yaxes(range=[0,.1],row=2, col=1)\n",
    "fig.update_yaxes(range=[0,.1],row=3, col=1)\n",
    "fig.update_yaxes(range=[0,.1],row=4, col=1)\n",
    "fig.update_yaxes(range=[0,.1],row=1, col=2)\n",
    "fig.update_yaxes(range=[0,.1],row=2, col=2)\n",
    "fig.update_yaxes(range=[0,.1],row=3, col=2)\n",
    "fig.update_yaxes(range=[0,.1],row=4, col=2)\n",
    "\n",
    "fig.update_layout(height=800, width=700,showlegend=False)\n",
    "#fig.update_layout(height=800, width=700, title_text=\"NRC Lexicon: Emotions over Date\",showlegend=False)\n",
    "fig.show()"
   ]
  },
  {
   "cell_type": "code",
   "execution_count": 68,
   "metadata": {},
   "outputs": [],
   "source": [
    "nrc_city = nrc.merge(geo, how='inner', left_on='place_full_name', right_on='name')\n",
    "#nrc_date = pd.melt(nrc_date,id_vars='created_at_date',var_name='emotion',value_name='average_sentiment')"
   ]
  },
  {
   "cell_type": "code",
   "execution_count": 69,
   "metadata": {},
   "outputs": [
    {
     "data": {
      "text/plain": [
       "Sydney       124\n",
       "Melbourne    111\n",
       "Brisbane      61\n",
       "Perth         37\n",
       "Canberra      22\n",
       "Adelaide      11\n",
       "Name: place_name, dtype: int64"
      ]
     },
     "execution_count": 69,
     "metadata": {},
     "output_type": "execute_result"
    }
   ],
   "source": [
    "nrc_city=nrc_city[['place_name','anger', 'anticipation', 'disgust', 'fear', 'joy','sadness', 'surprise', 'trust']]\n",
    "#keep only the major cities for further visualisations\n",
    "cities = ['Sydney', 'Melbourne','Brisbane','Canberra','Adelaide','Perth (WA)','Perth']\n",
    "nrc_city= nrc_city[nrc_city.place_name.isin(cities)]\n",
    "nrc_city['place_name'].replace('Perth (WA)','Perth',inplace=True)\n",
    "nrc_city['place_name'].value_counts()"
   ]
  },
  {
   "cell_type": "code",
   "execution_count": 70,
   "metadata": {},
   "outputs": [],
   "source": [
    "nrc_city= pd.melt(nrc_city,id_vars='place_name',var_name='emotion',value_name='average_sentiment')\n",
    "nrc_city = nrc_city.groupby(['place_name', 'emotion']).agg({'average_sentiment': 'mean'}).reset_index()"
   ]
  },
  {
   "cell_type": "code",
   "execution_count": 71,
   "metadata": {},
   "outputs": [],
   "source": [
    "nrc_anger = nrc_city[nrc_city.emotion=='anger']\n",
    "nrc_anticipation = nrc_city[nrc_city.emotion=='anticipation']\n",
    "nrc_disgust = nrc_city[nrc_city.emotion=='disgust']\n",
    "nrc_fear = nrc_city[nrc_city.emotion=='fear']\n",
    "nrc_joy = nrc_city[nrc_city.emotion=='joy']\n",
    "nrc_sadness = nrc_city[nrc_city.emotion=='sadness']\n",
    "nrc_surprise = nrc_city[nrc_city.emotion=='surprise']\n",
    "nrc_trust = nrc_city[nrc_city.emotion=='trust']"
   ]
  },
  {
   "cell_type": "code",
   "execution_count": 72,
   "metadata": {},
   "outputs": [
    {
     "data": {
      "application/vnd.plotly.v1+json": {
       "config": {
        "plotlyServerURL": "https://plot.ly"
       },
       "data": [
        {
         "name": "Anger",
         "type": "bar",
         "x": [
          "Adelaide",
          "Brisbane",
          "Canberra",
          "Melbourne",
          "Perth",
          "Sydney"
         ],
         "y": [
          0.012954545454545456,
          0.01548571277723095,
          0.0037878787878787876,
          0.009735810549962297,
          0.0054600054600054595,
          0.006354822382356153
         ]
        },
        {
         "name": "Anticipation",
         "type": "bar",
         "x": [
          "Adelaide",
          "Brisbane",
          "Canberra",
          "Melbourne",
          "Perth",
          "Sydney"
         ],
         "y": [
          0.04164600982990831,
          0.04597533668839209,
          0.05089684963696821,
          0.03202053887633311,
          0.035919176163489,
          0.03462573090118966
         ]
        },
        {
         "name": "Disgust",
         "type": "bar",
         "x": [
          "Adelaide",
          "Brisbane",
          "Canberra",
          "Melbourne",
          "Perth",
          "Sydney"
         ],
         "y": [
          0.011775184275184276,
          0.011768497994442401,
          0.004166666666666667,
          0.009803344131988632,
          0.004692192192192192,
          0.006586665982888394
         ]
        },
        {
         "name": "Fear",
         "type": "bar",
         "x": [
          "Adelaide",
          "Brisbane",
          "Canberra",
          "Melbourne",
          "Perth",
          "Sydney"
         ],
         "y": [
          0.025351239669421488,
          0.022879013028535063,
          0.007747933884297522,
          0.01750861703165737,
          0.01744902661917065,
          0.013841411321619116
         ]
        },
        {
         "name": "Joy",
         "type": "bar",
         "x": [
          "Adelaide",
          "Brisbane",
          "Canberra",
          "Melbourne",
          "Perth",
          "Sydney"
         ],
         "y": [
          0.031884641085285985,
          0.04222251959965733,
          0.04091615455251819,
          0.033412045553624314,
          0.018354900127345943,
          0.032928638209449794
         ]
        },
        {
         "name": "Sadness",
         "type": "bar",
         "x": [
          "Adelaide",
          "Brisbane",
          "Canberra",
          "Melbourne",
          "Perth",
          "Sydney"
         ],
         "y": [
          0.021714876033057853,
          0.026405676822670813,
          0.005853994490358127,
          0.014190551499633029,
          0.008557470513992253,
          0.009860662287306563
         ]
        },
        {
         "name": "Surprise",
         "type": "bar",
         "x": [
          "Adelaide",
          "Brisbane",
          "Canberra",
          "Melbourne",
          "Perth",
          "Sydney"
         ],
         "y": [
          0.0036363636363636364,
          0.013025583564729975,
          0.019541695678059315,
          0.006605304610419699,
          0.01088832338832339,
          0.008391965739533467
         ]
        },
        {
         "name": "Trust",
         "type": "bar",
         "x": [
          "Adelaide",
          "Brisbane",
          "Canberra",
          "Melbourne",
          "Perth",
          "Sydney"
         ],
         "y": [
          0.05219878639943129,
          0.05596172661508849,
          0.07279910745819838,
          0.03560153616214844,
          0.05062580468590699,
          0.045660628409107
         ]
        }
       ],
       "layout": {
        "barmode": "stack",
        "template": {
         "data": {
          "bar": [
           {
            "error_x": {
             "color": "#2a3f5f"
            },
            "error_y": {
             "color": "#2a3f5f"
            },
            "marker": {
             "line": {
              "color": "#E5ECF6",
              "width": 0.5
             }
            },
            "type": "bar"
           }
          ],
          "barpolar": [
           {
            "marker": {
             "line": {
              "color": "#E5ECF6",
              "width": 0.5
             }
            },
            "type": "barpolar"
           }
          ],
          "carpet": [
           {
            "aaxis": {
             "endlinecolor": "#2a3f5f",
             "gridcolor": "white",
             "linecolor": "white",
             "minorgridcolor": "white",
             "startlinecolor": "#2a3f5f"
            },
            "baxis": {
             "endlinecolor": "#2a3f5f",
             "gridcolor": "white",
             "linecolor": "white",
             "minorgridcolor": "white",
             "startlinecolor": "#2a3f5f"
            },
            "type": "carpet"
           }
          ],
          "choropleth": [
           {
            "colorbar": {
             "outlinewidth": 0,
             "ticks": ""
            },
            "type": "choropleth"
           }
          ],
          "contour": [
           {
            "colorbar": {
             "outlinewidth": 0,
             "ticks": ""
            },
            "colorscale": [
             [
              0,
              "#0d0887"
             ],
             [
              0.1111111111111111,
              "#46039f"
             ],
             [
              0.2222222222222222,
              "#7201a8"
             ],
             [
              0.3333333333333333,
              "#9c179e"
             ],
             [
              0.4444444444444444,
              "#bd3786"
             ],
             [
              0.5555555555555556,
              "#d8576b"
             ],
             [
              0.6666666666666666,
              "#ed7953"
             ],
             [
              0.7777777777777778,
              "#fb9f3a"
             ],
             [
              0.8888888888888888,
              "#fdca26"
             ],
             [
              1,
              "#f0f921"
             ]
            ],
            "type": "contour"
           }
          ],
          "contourcarpet": [
           {
            "colorbar": {
             "outlinewidth": 0,
             "ticks": ""
            },
            "type": "contourcarpet"
           }
          ],
          "heatmap": [
           {
            "colorbar": {
             "outlinewidth": 0,
             "ticks": ""
            },
            "colorscale": [
             [
              0,
              "#0d0887"
             ],
             [
              0.1111111111111111,
              "#46039f"
             ],
             [
              0.2222222222222222,
              "#7201a8"
             ],
             [
              0.3333333333333333,
              "#9c179e"
             ],
             [
              0.4444444444444444,
              "#bd3786"
             ],
             [
              0.5555555555555556,
              "#d8576b"
             ],
             [
              0.6666666666666666,
              "#ed7953"
             ],
             [
              0.7777777777777778,
              "#fb9f3a"
             ],
             [
              0.8888888888888888,
              "#fdca26"
             ],
             [
              1,
              "#f0f921"
             ]
            ],
            "type": "heatmap"
           }
          ],
          "heatmapgl": [
           {
            "colorbar": {
             "outlinewidth": 0,
             "ticks": ""
            },
            "colorscale": [
             [
              0,
              "#0d0887"
             ],
             [
              0.1111111111111111,
              "#46039f"
             ],
             [
              0.2222222222222222,
              "#7201a8"
             ],
             [
              0.3333333333333333,
              "#9c179e"
             ],
             [
              0.4444444444444444,
              "#bd3786"
             ],
             [
              0.5555555555555556,
              "#d8576b"
             ],
             [
              0.6666666666666666,
              "#ed7953"
             ],
             [
              0.7777777777777778,
              "#fb9f3a"
             ],
             [
              0.8888888888888888,
              "#fdca26"
             ],
             [
              1,
              "#f0f921"
             ]
            ],
            "type": "heatmapgl"
           }
          ],
          "histogram": [
           {
            "marker": {
             "colorbar": {
              "outlinewidth": 0,
              "ticks": ""
             }
            },
            "type": "histogram"
           }
          ],
          "histogram2d": [
           {
            "colorbar": {
             "outlinewidth": 0,
             "ticks": ""
            },
            "colorscale": [
             [
              0,
              "#0d0887"
             ],
             [
              0.1111111111111111,
              "#46039f"
             ],
             [
              0.2222222222222222,
              "#7201a8"
             ],
             [
              0.3333333333333333,
              "#9c179e"
             ],
             [
              0.4444444444444444,
              "#bd3786"
             ],
             [
              0.5555555555555556,
              "#d8576b"
             ],
             [
              0.6666666666666666,
              "#ed7953"
             ],
             [
              0.7777777777777778,
              "#fb9f3a"
             ],
             [
              0.8888888888888888,
              "#fdca26"
             ],
             [
              1,
              "#f0f921"
             ]
            ],
            "type": "histogram2d"
           }
          ],
          "histogram2dcontour": [
           {
            "colorbar": {
             "outlinewidth": 0,
             "ticks": ""
            },
            "colorscale": [
             [
              0,
              "#0d0887"
             ],
             [
              0.1111111111111111,
              "#46039f"
             ],
             [
              0.2222222222222222,
              "#7201a8"
             ],
             [
              0.3333333333333333,
              "#9c179e"
             ],
             [
              0.4444444444444444,
              "#bd3786"
             ],
             [
              0.5555555555555556,
              "#d8576b"
             ],
             [
              0.6666666666666666,
              "#ed7953"
             ],
             [
              0.7777777777777778,
              "#fb9f3a"
             ],
             [
              0.8888888888888888,
              "#fdca26"
             ],
             [
              1,
              "#f0f921"
             ]
            ],
            "type": "histogram2dcontour"
           }
          ],
          "mesh3d": [
           {
            "colorbar": {
             "outlinewidth": 0,
             "ticks": ""
            },
            "type": "mesh3d"
           }
          ],
          "parcoords": [
           {
            "line": {
             "colorbar": {
              "outlinewidth": 0,
              "ticks": ""
             }
            },
            "type": "parcoords"
           }
          ],
          "pie": [
           {
            "automargin": true,
            "type": "pie"
           }
          ],
          "scatter": [
           {
            "marker": {
             "colorbar": {
              "outlinewidth": 0,
              "ticks": ""
             }
            },
            "type": "scatter"
           }
          ],
          "scatter3d": [
           {
            "line": {
             "colorbar": {
              "outlinewidth": 0,
              "ticks": ""
             }
            },
            "marker": {
             "colorbar": {
              "outlinewidth": 0,
              "ticks": ""
             }
            },
            "type": "scatter3d"
           }
          ],
          "scattercarpet": [
           {
            "marker": {
             "colorbar": {
              "outlinewidth": 0,
              "ticks": ""
             }
            },
            "type": "scattercarpet"
           }
          ],
          "scattergeo": [
           {
            "marker": {
             "colorbar": {
              "outlinewidth": 0,
              "ticks": ""
             }
            },
            "type": "scattergeo"
           }
          ],
          "scattergl": [
           {
            "marker": {
             "colorbar": {
              "outlinewidth": 0,
              "ticks": ""
             }
            },
            "type": "scattergl"
           }
          ],
          "scattermapbox": [
           {
            "marker": {
             "colorbar": {
              "outlinewidth": 0,
              "ticks": ""
             }
            },
            "type": "scattermapbox"
           }
          ],
          "scatterpolar": [
           {
            "marker": {
             "colorbar": {
              "outlinewidth": 0,
              "ticks": ""
             }
            },
            "type": "scatterpolar"
           }
          ],
          "scatterpolargl": [
           {
            "marker": {
             "colorbar": {
              "outlinewidth": 0,
              "ticks": ""
             }
            },
            "type": "scatterpolargl"
           }
          ],
          "scatterternary": [
           {
            "marker": {
             "colorbar": {
              "outlinewidth": 0,
              "ticks": ""
             }
            },
            "type": "scatterternary"
           }
          ],
          "surface": [
           {
            "colorbar": {
             "outlinewidth": 0,
             "ticks": ""
            },
            "colorscale": [
             [
              0,
              "#0d0887"
             ],
             [
              0.1111111111111111,
              "#46039f"
             ],
             [
              0.2222222222222222,
              "#7201a8"
             ],
             [
              0.3333333333333333,
              "#9c179e"
             ],
             [
              0.4444444444444444,
              "#bd3786"
             ],
             [
              0.5555555555555556,
              "#d8576b"
             ],
             [
              0.6666666666666666,
              "#ed7953"
             ],
             [
              0.7777777777777778,
              "#fb9f3a"
             ],
             [
              0.8888888888888888,
              "#fdca26"
             ],
             [
              1,
              "#f0f921"
             ]
            ],
            "type": "surface"
           }
          ],
          "table": [
           {
            "cells": {
             "fill": {
              "color": "#EBF0F8"
             },
             "line": {
              "color": "white"
             }
            },
            "header": {
             "fill": {
              "color": "#C8D4E3"
             },
             "line": {
              "color": "white"
             }
            },
            "type": "table"
           }
          ]
         },
         "layout": {
          "annotationdefaults": {
           "arrowcolor": "#2a3f5f",
           "arrowhead": 0,
           "arrowwidth": 1
          },
          "coloraxis": {
           "colorbar": {
            "outlinewidth": 0,
            "ticks": ""
           }
          },
          "colorscale": {
           "diverging": [
            [
             0,
             "#8e0152"
            ],
            [
             0.1,
             "#c51b7d"
            ],
            [
             0.2,
             "#de77ae"
            ],
            [
             0.3,
             "#f1b6da"
            ],
            [
             0.4,
             "#fde0ef"
            ],
            [
             0.5,
             "#f7f7f7"
            ],
            [
             0.6,
             "#e6f5d0"
            ],
            [
             0.7,
             "#b8e186"
            ],
            [
             0.8,
             "#7fbc41"
            ],
            [
             0.9,
             "#4d9221"
            ],
            [
             1,
             "#276419"
            ]
           ],
           "sequential": [
            [
             0,
             "#0d0887"
            ],
            [
             0.1111111111111111,
             "#46039f"
            ],
            [
             0.2222222222222222,
             "#7201a8"
            ],
            [
             0.3333333333333333,
             "#9c179e"
            ],
            [
             0.4444444444444444,
             "#bd3786"
            ],
            [
             0.5555555555555556,
             "#d8576b"
            ],
            [
             0.6666666666666666,
             "#ed7953"
            ],
            [
             0.7777777777777778,
             "#fb9f3a"
            ],
            [
             0.8888888888888888,
             "#fdca26"
            ],
            [
             1,
             "#f0f921"
            ]
           ],
           "sequentialminus": [
            [
             0,
             "#0d0887"
            ],
            [
             0.1111111111111111,
             "#46039f"
            ],
            [
             0.2222222222222222,
             "#7201a8"
            ],
            [
             0.3333333333333333,
             "#9c179e"
            ],
            [
             0.4444444444444444,
             "#bd3786"
            ],
            [
             0.5555555555555556,
             "#d8576b"
            ],
            [
             0.6666666666666666,
             "#ed7953"
            ],
            [
             0.7777777777777778,
             "#fb9f3a"
            ],
            [
             0.8888888888888888,
             "#fdca26"
            ],
            [
             1,
             "#f0f921"
            ]
           ]
          },
          "colorway": [
           "#636efa",
           "#EF553B",
           "#00cc96",
           "#ab63fa",
           "#FFA15A",
           "#19d3f3",
           "#FF6692",
           "#B6E880",
           "#FF97FF",
           "#FECB52"
          ],
          "font": {
           "color": "#2a3f5f"
          },
          "geo": {
           "bgcolor": "white",
           "lakecolor": "white",
           "landcolor": "#E5ECF6",
           "showlakes": true,
           "showland": true,
           "subunitcolor": "white"
          },
          "hoverlabel": {
           "align": "left"
          },
          "hovermode": "closest",
          "mapbox": {
           "style": "light"
          },
          "paper_bgcolor": "white",
          "plot_bgcolor": "#E5ECF6",
          "polar": {
           "angularaxis": {
            "gridcolor": "white",
            "linecolor": "white",
            "ticks": ""
           },
           "bgcolor": "#E5ECF6",
           "radialaxis": {
            "gridcolor": "white",
            "linecolor": "white",
            "ticks": ""
           }
          },
          "scene": {
           "xaxis": {
            "backgroundcolor": "#E5ECF6",
            "gridcolor": "white",
            "gridwidth": 2,
            "linecolor": "white",
            "showbackground": true,
            "ticks": "",
            "zerolinecolor": "white"
           },
           "yaxis": {
            "backgroundcolor": "#E5ECF6",
            "gridcolor": "white",
            "gridwidth": 2,
            "linecolor": "white",
            "showbackground": true,
            "ticks": "",
            "zerolinecolor": "white"
           },
           "zaxis": {
            "backgroundcolor": "#E5ECF6",
            "gridcolor": "white",
            "gridwidth": 2,
            "linecolor": "white",
            "showbackground": true,
            "ticks": "",
            "zerolinecolor": "white"
           }
          },
          "shapedefaults": {
           "line": {
            "color": "#2a3f5f"
           }
          },
          "ternary": {
           "aaxis": {
            "gridcolor": "white",
            "linecolor": "white",
            "ticks": ""
           },
           "baxis": {
            "gridcolor": "white",
            "linecolor": "white",
            "ticks": ""
           },
           "bgcolor": "#E5ECF6",
           "caxis": {
            "gridcolor": "white",
            "linecolor": "white",
            "ticks": ""
           }
          },
          "title": {
           "x": 0.05
          },
          "xaxis": {
           "automargin": true,
           "gridcolor": "white",
           "linecolor": "white",
           "ticks": "",
           "title": {
            "standoff": 15
           },
           "zerolinecolor": "white",
           "zerolinewidth": 2
          },
          "yaxis": {
           "automargin": true,
           "gridcolor": "white",
           "linecolor": "white",
           "ticks": "",
           "title": {
            "standoff": 15
           },
           "zerolinecolor": "white",
           "zerolinewidth": 2
          }
         }
        },
        "title": {
         "text": "NRC Lexicon: Emotions by City"
        },
        "xaxis": {
         "categoryorder": "category ascending"
        },
        "yaxis": {
         "title": {
          "text": "Ratio"
         }
        }
       }
      },
      "text/html": [
       "<div>\n",
       "        \n",
       "        \n",
       "            <div id=\"d9631c45-83c8-4b20-af37-e7bf0449005f\" class=\"plotly-graph-div\" style=\"height:525px; width:100%;\"></div>\n",
       "            <script type=\"text/javascript\">\n",
       "                require([\"plotly\"], function(Plotly) {\n",
       "                    window.PLOTLYENV=window.PLOTLYENV || {};\n",
       "                    \n",
       "                if (document.getElementById(\"d9631c45-83c8-4b20-af37-e7bf0449005f\")) {\n",
       "                    Plotly.newPlot(\n",
       "                        'd9631c45-83c8-4b20-af37-e7bf0449005f',\n",
       "                        [{\"name\": \"Anger\", \"type\": \"bar\", \"x\": [\"Adelaide\", \"Brisbane\", \"Canberra\", \"Melbourne\", \"Perth\", \"Sydney\"], \"y\": [0.012954545454545456, 0.01548571277723095, 0.0037878787878787876, 0.009735810549962297, 0.0054600054600054595, 0.006354822382356153]}, {\"name\": \"Anticipation\", \"type\": \"bar\", \"x\": [\"Adelaide\", \"Brisbane\", \"Canberra\", \"Melbourne\", \"Perth\", \"Sydney\"], \"y\": [0.04164600982990831, 0.04597533668839209, 0.05089684963696821, 0.03202053887633311, 0.035919176163489, 0.03462573090118966]}, {\"name\": \"Disgust\", \"type\": \"bar\", \"x\": [\"Adelaide\", \"Brisbane\", \"Canberra\", \"Melbourne\", \"Perth\", \"Sydney\"], \"y\": [0.011775184275184276, 0.011768497994442401, 0.004166666666666667, 0.009803344131988632, 0.004692192192192192, 0.006586665982888394]}, {\"name\": \"Fear\", \"type\": \"bar\", \"x\": [\"Adelaide\", \"Brisbane\", \"Canberra\", \"Melbourne\", \"Perth\", \"Sydney\"], \"y\": [0.025351239669421488, 0.022879013028535063, 0.007747933884297522, 0.01750861703165737, 0.01744902661917065, 0.013841411321619116]}, {\"name\": \"Joy\", \"type\": \"bar\", \"x\": [\"Adelaide\", \"Brisbane\", \"Canberra\", \"Melbourne\", \"Perth\", \"Sydney\"], \"y\": [0.031884641085285985, 0.04222251959965733, 0.04091615455251819, 0.033412045553624314, 0.018354900127345943, 0.032928638209449794]}, {\"name\": \"Sadness\", \"type\": \"bar\", \"x\": [\"Adelaide\", \"Brisbane\", \"Canberra\", \"Melbourne\", \"Perth\", \"Sydney\"], \"y\": [0.021714876033057853, 0.026405676822670813, 0.005853994490358127, 0.014190551499633029, 0.008557470513992253, 0.009860662287306563]}, {\"name\": \"Surprise\", \"type\": \"bar\", \"x\": [\"Adelaide\", \"Brisbane\", \"Canberra\", \"Melbourne\", \"Perth\", \"Sydney\"], \"y\": [0.0036363636363636364, 0.013025583564729975, 0.019541695678059315, 0.006605304610419699, 0.01088832338832339, 0.008391965739533467]}, {\"name\": \"Trust\", \"type\": \"bar\", \"x\": [\"Adelaide\", \"Brisbane\", \"Canberra\", \"Melbourne\", \"Perth\", \"Sydney\"], \"y\": [0.05219878639943129, 0.05596172661508849, 0.07279910745819838, 0.03560153616214844, 0.05062580468590699, 0.045660628409107]}],\n",
       "                        {\"barmode\": \"stack\", \"template\": {\"data\": {\"bar\": [{\"error_x\": {\"color\": \"#2a3f5f\"}, \"error_y\": {\"color\": \"#2a3f5f\"}, \"marker\": {\"line\": {\"color\": \"#E5ECF6\", \"width\": 0.5}}, \"type\": \"bar\"}], \"barpolar\": [{\"marker\": {\"line\": {\"color\": \"#E5ECF6\", \"width\": 0.5}}, \"type\": \"barpolar\"}], \"carpet\": [{\"aaxis\": {\"endlinecolor\": \"#2a3f5f\", \"gridcolor\": \"white\", \"linecolor\": \"white\", \"minorgridcolor\": \"white\", \"startlinecolor\": \"#2a3f5f\"}, \"baxis\": {\"endlinecolor\": \"#2a3f5f\", \"gridcolor\": \"white\", \"linecolor\": \"white\", \"minorgridcolor\": \"white\", \"startlinecolor\": \"#2a3f5f\"}, \"type\": \"carpet\"}], \"choropleth\": [{\"colorbar\": {\"outlinewidth\": 0, \"ticks\": \"\"}, \"type\": \"choropleth\"}], \"contour\": [{\"colorbar\": {\"outlinewidth\": 0, \"ticks\": \"\"}, \"colorscale\": [[0.0, \"#0d0887\"], [0.1111111111111111, \"#46039f\"], [0.2222222222222222, \"#7201a8\"], [0.3333333333333333, \"#9c179e\"], [0.4444444444444444, \"#bd3786\"], [0.5555555555555556, \"#d8576b\"], [0.6666666666666666, \"#ed7953\"], [0.7777777777777778, \"#fb9f3a\"], [0.8888888888888888, \"#fdca26\"], [1.0, \"#f0f921\"]], \"type\": \"contour\"}], \"contourcarpet\": [{\"colorbar\": {\"outlinewidth\": 0, \"ticks\": \"\"}, \"type\": \"contourcarpet\"}], \"heatmap\": [{\"colorbar\": {\"outlinewidth\": 0, \"ticks\": \"\"}, \"colorscale\": [[0.0, \"#0d0887\"], [0.1111111111111111, \"#46039f\"], [0.2222222222222222, \"#7201a8\"], [0.3333333333333333, \"#9c179e\"], [0.4444444444444444, \"#bd3786\"], [0.5555555555555556, \"#d8576b\"], [0.6666666666666666, \"#ed7953\"], [0.7777777777777778, \"#fb9f3a\"], [0.8888888888888888, \"#fdca26\"], [1.0, \"#f0f921\"]], \"type\": \"heatmap\"}], \"heatmapgl\": [{\"colorbar\": {\"outlinewidth\": 0, \"ticks\": \"\"}, \"colorscale\": [[0.0, \"#0d0887\"], [0.1111111111111111, \"#46039f\"], [0.2222222222222222, \"#7201a8\"], [0.3333333333333333, \"#9c179e\"], [0.4444444444444444, \"#bd3786\"], [0.5555555555555556, \"#d8576b\"], [0.6666666666666666, \"#ed7953\"], [0.7777777777777778, \"#fb9f3a\"], [0.8888888888888888, \"#fdca26\"], [1.0, \"#f0f921\"]], \"type\": \"heatmapgl\"}], \"histogram\": [{\"marker\": {\"colorbar\": {\"outlinewidth\": 0, \"ticks\": \"\"}}, \"type\": \"histogram\"}], \"histogram2d\": [{\"colorbar\": {\"outlinewidth\": 0, \"ticks\": \"\"}, \"colorscale\": [[0.0, \"#0d0887\"], [0.1111111111111111, \"#46039f\"], [0.2222222222222222, \"#7201a8\"], [0.3333333333333333, \"#9c179e\"], [0.4444444444444444, \"#bd3786\"], [0.5555555555555556, \"#d8576b\"], [0.6666666666666666, \"#ed7953\"], [0.7777777777777778, \"#fb9f3a\"], [0.8888888888888888, \"#fdca26\"], [1.0, \"#f0f921\"]], \"type\": \"histogram2d\"}], \"histogram2dcontour\": [{\"colorbar\": {\"outlinewidth\": 0, \"ticks\": \"\"}, \"colorscale\": [[0.0, \"#0d0887\"], [0.1111111111111111, \"#46039f\"], [0.2222222222222222, \"#7201a8\"], [0.3333333333333333, \"#9c179e\"], [0.4444444444444444, \"#bd3786\"], [0.5555555555555556, \"#d8576b\"], [0.6666666666666666, \"#ed7953\"], [0.7777777777777778, \"#fb9f3a\"], [0.8888888888888888, \"#fdca26\"], [1.0, \"#f0f921\"]], \"type\": \"histogram2dcontour\"}], \"mesh3d\": [{\"colorbar\": {\"outlinewidth\": 0, \"ticks\": \"\"}, \"type\": \"mesh3d\"}], \"parcoords\": [{\"line\": {\"colorbar\": {\"outlinewidth\": 0, \"ticks\": \"\"}}, \"type\": \"parcoords\"}], \"pie\": [{\"automargin\": true, \"type\": \"pie\"}], \"scatter\": [{\"marker\": {\"colorbar\": {\"outlinewidth\": 0, \"ticks\": \"\"}}, \"type\": \"scatter\"}], \"scatter3d\": [{\"line\": {\"colorbar\": {\"outlinewidth\": 0, \"ticks\": \"\"}}, \"marker\": {\"colorbar\": {\"outlinewidth\": 0, \"ticks\": \"\"}}, \"type\": \"scatter3d\"}], \"scattercarpet\": [{\"marker\": {\"colorbar\": {\"outlinewidth\": 0, \"ticks\": \"\"}}, \"type\": \"scattercarpet\"}], \"scattergeo\": [{\"marker\": {\"colorbar\": {\"outlinewidth\": 0, \"ticks\": \"\"}}, \"type\": \"scattergeo\"}], \"scattergl\": [{\"marker\": {\"colorbar\": {\"outlinewidth\": 0, \"ticks\": \"\"}}, \"type\": \"scattergl\"}], \"scattermapbox\": [{\"marker\": {\"colorbar\": {\"outlinewidth\": 0, \"ticks\": \"\"}}, \"type\": \"scattermapbox\"}], \"scatterpolar\": [{\"marker\": {\"colorbar\": {\"outlinewidth\": 0, \"ticks\": \"\"}}, \"type\": \"scatterpolar\"}], \"scatterpolargl\": [{\"marker\": {\"colorbar\": {\"outlinewidth\": 0, \"ticks\": \"\"}}, \"type\": \"scatterpolargl\"}], \"scatterternary\": [{\"marker\": {\"colorbar\": {\"outlinewidth\": 0, \"ticks\": \"\"}}, \"type\": \"scatterternary\"}], \"surface\": [{\"colorbar\": {\"outlinewidth\": 0, \"ticks\": \"\"}, \"colorscale\": [[0.0, \"#0d0887\"], [0.1111111111111111, \"#46039f\"], [0.2222222222222222, \"#7201a8\"], [0.3333333333333333, \"#9c179e\"], [0.4444444444444444, \"#bd3786\"], [0.5555555555555556, \"#d8576b\"], [0.6666666666666666, \"#ed7953\"], [0.7777777777777778, \"#fb9f3a\"], [0.8888888888888888, \"#fdca26\"], [1.0, \"#f0f921\"]], \"type\": \"surface\"}], \"table\": [{\"cells\": {\"fill\": {\"color\": \"#EBF0F8\"}, \"line\": {\"color\": \"white\"}}, \"header\": {\"fill\": {\"color\": \"#C8D4E3\"}, \"line\": {\"color\": \"white\"}}, \"type\": \"table\"}]}, \"layout\": {\"annotationdefaults\": {\"arrowcolor\": \"#2a3f5f\", \"arrowhead\": 0, \"arrowwidth\": 1}, \"coloraxis\": {\"colorbar\": {\"outlinewidth\": 0, \"ticks\": \"\"}}, \"colorscale\": {\"diverging\": [[0, \"#8e0152\"], [0.1, \"#c51b7d\"], [0.2, \"#de77ae\"], [0.3, \"#f1b6da\"], [0.4, \"#fde0ef\"], [0.5, \"#f7f7f7\"], [0.6, \"#e6f5d0\"], [0.7, \"#b8e186\"], [0.8, \"#7fbc41\"], [0.9, \"#4d9221\"], [1, \"#276419\"]], \"sequential\": [[0.0, \"#0d0887\"], [0.1111111111111111, \"#46039f\"], [0.2222222222222222, \"#7201a8\"], [0.3333333333333333, \"#9c179e\"], [0.4444444444444444, \"#bd3786\"], [0.5555555555555556, \"#d8576b\"], [0.6666666666666666, \"#ed7953\"], [0.7777777777777778, \"#fb9f3a\"], [0.8888888888888888, \"#fdca26\"], [1.0, \"#f0f921\"]], \"sequentialminus\": [[0.0, \"#0d0887\"], [0.1111111111111111, \"#46039f\"], [0.2222222222222222, \"#7201a8\"], [0.3333333333333333, \"#9c179e\"], [0.4444444444444444, \"#bd3786\"], [0.5555555555555556, \"#d8576b\"], [0.6666666666666666, \"#ed7953\"], [0.7777777777777778, \"#fb9f3a\"], [0.8888888888888888, \"#fdca26\"], [1.0, \"#f0f921\"]]}, \"colorway\": [\"#636efa\", \"#EF553B\", \"#00cc96\", \"#ab63fa\", \"#FFA15A\", \"#19d3f3\", \"#FF6692\", \"#B6E880\", \"#FF97FF\", \"#FECB52\"], \"font\": {\"color\": \"#2a3f5f\"}, \"geo\": {\"bgcolor\": \"white\", \"lakecolor\": \"white\", \"landcolor\": \"#E5ECF6\", \"showlakes\": true, \"showland\": true, \"subunitcolor\": \"white\"}, \"hoverlabel\": {\"align\": \"left\"}, \"hovermode\": \"closest\", \"mapbox\": {\"style\": \"light\"}, \"paper_bgcolor\": \"white\", \"plot_bgcolor\": \"#E5ECF6\", \"polar\": {\"angularaxis\": {\"gridcolor\": \"white\", \"linecolor\": \"white\", \"ticks\": \"\"}, \"bgcolor\": \"#E5ECF6\", \"radialaxis\": {\"gridcolor\": \"white\", \"linecolor\": \"white\", \"ticks\": \"\"}}, \"scene\": {\"xaxis\": {\"backgroundcolor\": \"#E5ECF6\", \"gridcolor\": \"white\", \"gridwidth\": 2, \"linecolor\": \"white\", \"showbackground\": true, \"ticks\": \"\", \"zerolinecolor\": \"white\"}, \"yaxis\": {\"backgroundcolor\": \"#E5ECF6\", \"gridcolor\": \"white\", \"gridwidth\": 2, \"linecolor\": \"white\", \"showbackground\": true, \"ticks\": \"\", \"zerolinecolor\": \"white\"}, \"zaxis\": {\"backgroundcolor\": \"#E5ECF6\", \"gridcolor\": \"white\", \"gridwidth\": 2, \"linecolor\": \"white\", \"showbackground\": true, \"ticks\": \"\", \"zerolinecolor\": \"white\"}}, \"shapedefaults\": {\"line\": {\"color\": \"#2a3f5f\"}}, \"ternary\": {\"aaxis\": {\"gridcolor\": \"white\", \"linecolor\": \"white\", \"ticks\": \"\"}, \"baxis\": {\"gridcolor\": \"white\", \"linecolor\": \"white\", \"ticks\": \"\"}, \"bgcolor\": \"#E5ECF6\", \"caxis\": {\"gridcolor\": \"white\", \"linecolor\": \"white\", \"ticks\": \"\"}}, \"title\": {\"x\": 0.05}, \"xaxis\": {\"automargin\": true, \"gridcolor\": \"white\", \"linecolor\": \"white\", \"ticks\": \"\", \"title\": {\"standoff\": 15}, \"zerolinecolor\": \"white\", \"zerolinewidth\": 2}, \"yaxis\": {\"automargin\": true, \"gridcolor\": \"white\", \"linecolor\": \"white\", \"ticks\": \"\", \"title\": {\"standoff\": 15}, \"zerolinecolor\": \"white\", \"zerolinewidth\": 2}}}, \"title\": {\"text\": \"NRC Lexicon: Emotions by City\"}, \"xaxis\": {\"categoryorder\": \"category ascending\"}, \"yaxis\": {\"title\": {\"text\": \"Ratio\"}}},\n",
       "                        {\"responsive\": true}\n",
       "                    ).then(function(){\n",
       "                            \n",
       "var gd = document.getElementById('d9631c45-83c8-4b20-af37-e7bf0449005f');\n",
       "var x = new MutationObserver(function (mutations, observer) {{\n",
       "        var display = window.getComputedStyle(gd).display;\n",
       "        if (!display || display === 'none') {{\n",
       "            console.log([gd, 'removed!']);\n",
       "            Plotly.purge(gd);\n",
       "            observer.disconnect();\n",
       "        }}\n",
       "}});\n",
       "\n",
       "// Listen for the removal of the full notebook cells\n",
       "var notebookContainer = gd.closest('#notebook-container');\n",
       "if (notebookContainer) {{\n",
       "    x.observe(notebookContainer, {childList: true});\n",
       "}}\n",
       "\n",
       "// Listen for the clearing of the current output cell\n",
       "var outputEl = gd.closest('.output');\n",
       "if (outputEl) {{\n",
       "    x.observe(outputEl, {childList: true});\n",
       "}}\n",
       "\n",
       "                        })\n",
       "                };\n",
       "                });\n",
       "            </script>\n",
       "        </div>"
      ]
     },
     "metadata": {},
     "output_type": "display_data"
    }
   ],
   "source": [
    "x=['Adelaide','Brisbane','Canberra','Melbourne','Perth','Sydney']\n",
    "fig = go.Figure(go.Bar(x =x, y=nrc_anger.average_sentiment, name='Anger'))\n",
    "fig.add_trace(go.Bar(x =x, y=nrc_anticipation.average_sentiment, name='Anticipation'))\n",
    "fig.add_trace(go.Bar(x =x, y=nrc_disgust.average_sentiment, name='Disgust'))\n",
    "fig.add_trace(go.Bar(x =x, y=nrc_fear.average_sentiment, name='Fear'))\n",
    "fig.add_trace(go.Bar(x =x, y=nrc_joy.average_sentiment, name='Joy'))\n",
    "fig.add_trace(go.Bar(x =x, y=nrc_sadness.average_sentiment, name='Sadness'))\n",
    "fig.add_trace(go.Bar(x =x, y=nrc_surprise.average_sentiment, name='Surprise'))\n",
    "fig.add_trace(go.Bar(x =x, y=nrc_trust.average_sentiment, name='Trust'))\n",
    "\n",
    "fig.update_yaxes(title='Ratio')\n",
    "\n",
    "fig.update_layout(barmode='stack', xaxis={'categoryorder':'category ascending'},\n",
    "                 title_text='NRC Lexicon: Emotions by City')\n",
    "fig.show()"
   ]
  },
  {
   "cell_type": "code",
   "execution_count": 73,
   "metadata": {},
   "outputs": [
    {
     "data": {
      "text/html": [
       "<div>\n",
       "<style scoped>\n",
       "    .dataframe tbody tr th:only-of-type {\n",
       "        vertical-align: middle;\n",
       "    }\n",
       "\n",
       "    .dataframe tbody tr th {\n",
       "        vertical-align: top;\n",
       "    }\n",
       "\n",
       "    .dataframe thead th {\n",
       "        text-align: right;\n",
       "    }\n",
       "</style>\n",
       "<table border=\"1\" class=\"dataframe\">\n",
       "  <thead>\n",
       "    <tr style=\"text-align: right;\">\n",
       "      <th></th>\n",
       "      <th>place_full_name</th>\n",
       "      <th>emotion</th>\n",
       "      <th>average_sentiment</th>\n",
       "    </tr>\n",
       "  </thead>\n",
       "  <tbody>\n",
       "    <tr>\n",
       "      <th>5160</th>\n",
       "      <td>Cronulla, Sydney</td>\n",
       "      <td>sadness</td>\n",
       "      <td>0.0</td>\n",
       "    </tr>\n",
       "    <tr>\n",
       "      <th>5161</th>\n",
       "      <td>Sydney, New South Wales</td>\n",
       "      <td>sadness</td>\n",
       "      <td>0.0</td>\n",
       "    </tr>\n",
       "    <tr>\n",
       "      <th>5162</th>\n",
       "      <td>Sydney, New South Wales</td>\n",
       "      <td>sadness</td>\n",
       "      <td>0.0</td>\n",
       "    </tr>\n",
       "  </tbody>\n",
       "</table>\n",
       "</div>"
      ],
      "text/plain": [
       "              place_full_name  emotion  average_sentiment\n",
       "5160         Cronulla, Sydney  sadness                0.0\n",
       "5161  Sydney, New South Wales  sadness                0.0\n",
       "5162  Sydney, New South Wales  sadness                0.0"
      ]
     },
     "execution_count": 73,
     "metadata": {},
     "output_type": "execute_result"
    }
   ],
   "source": [
    "# Sadness Map\n",
    "sad_map = nrc.merge(geo, how='inner', left_on='place_full_name', right_on='name')\n",
    "sad_map= pd.melt(sad_map,id_vars='place_full_name',var_name='emotion',value_name='average_sentiment')\n",
    "sad_map = sad_map[sad_map.emotion=='sadness']\n",
    "sad_map['average_sentiment']=pd.to_numeric(sad_map['average_sentiment'])\n",
    "sad_map.head(3)"
   ]
  },
  {
   "cell_type": "code",
   "execution_count": 74,
   "metadata": {},
   "outputs": [],
   "source": [
    "sad_map = sad_map.groupby(['place_full_name']).agg({'average_sentiment': 'mean'}).reset_index()"
   ]
  },
  {
   "cell_type": "code",
   "execution_count": 75,
   "metadata": {},
   "outputs": [
    {
     "data": {
      "text/plain": [
       "(81, 5)"
      ]
     },
     "execution_count": 75,
     "metadata": {},
     "output_type": "execute_result"
    }
   ],
   "source": [
    "sad_map = sad_map.merge(geo, how='inner', left_on='place_full_name', right_on='name')\n",
    "sad_map.shape"
   ]
  },
  {
   "cell_type": "code",
   "execution_count": 76,
   "metadata": {},
   "outputs": [],
   "source": [
    "sad_map=sad_map[sad_map.average_sentiment!=0]"
   ]
  },
  {
   "cell_type": "code",
   "execution_count": 77,
   "metadata": {},
   "outputs": [
    {
     "data": {
      "text/html": [
       "<div style=\"width:100%;\"><div style=\"position:relative;width:100%;height:0;padding-bottom:60%;\"><iframe src=\"data:text/html;charset=utf-8;base64,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\" style=\"position:absolute;width:100%;height:100%;left:0;top:0;border:none !important;\" allowfullscreen webkitallowfullscreen mozallowfullscreen></iframe></div></div>"
      ],
      "text/plain": [
       "<folium.folium.Map at 0x277d326df08>"
      ]
     },
     "execution_count": 77,
     "metadata": {},
     "output_type": "execute_result"
    }
   ],
   "source": [
    "latitude = -25.734968\n",
    "longitude = 134.489563\n",
    "sentiment_map_sad = folium.Map(location=[latitude, longitude], zoom_start=3)\n",
    "for lat, lon,sentiment,place in zip(sad_map['lat'], sad_map['long'], \n",
    "                                         sad_map['average_sentiment'],sad_map['place_full_name']):\n",
    "    folium.CircleMarker(\n",
    "        [lat, lon],\n",
    "        radius=sentiment*50,\n",
    "        popup = (str(place)+\":\"+str(sentiment)),\n",
    "        color='b',\n",
    "        fill_color='red',\n",
    "        fill=True,\n",
    "        fill_opacity=0.7\n",
    "        ).add_to(sentiment_map_sad)\n",
    "#click on the circle marker to see the location name and the average proportion of sadness words in the tweets\n",
    "sentiment_map_sad"
   ]
  },
  {
   "cell_type": "code",
   "execution_count": null,
   "metadata": {},
   "outputs": [],
   "source": []
  },
  {
   "cell_type": "code",
   "execution_count": null,
   "metadata": {},
   "outputs": [],
   "source": []
  }
 ],
 "metadata": {
  "kernelspec": {
   "display_name": "Python 3",
   "language": "python",
   "name": "python3"
  },
  "language_info": {
   "codemirror_mode": {
    "name": "ipython",
    "version": 3
   },
   "file_extension": ".py",
   "mimetype": "text/x-python",
   "name": "python",
   "nbconvert_exporter": "python",
   "pygments_lexer": "ipython3",
   "version": "3.7.4"
  }
 },
 "nbformat": 4,
 "nbformat_minor": 2
}
